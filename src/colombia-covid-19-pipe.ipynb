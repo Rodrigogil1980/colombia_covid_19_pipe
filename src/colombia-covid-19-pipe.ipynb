{
 "cells": [
  {
   "cell_type": "code",
   "execution_count": 1,
   "metadata": {
    "_cell_guid": "fb2287d4-b57a-4e5f-9153-6e21f089f875",
    "_uuid": "d9b89f5f-10e3-49e8-b558-d3db7c96ddd2"
   },
   "outputs": [],
   "source": [
    "# This Python 3 environment comes with many helpful analytics libraries installed\n",
    "# It is defined by the kaggle/python docker image: https://github.com/kaggle/docker-python\n",
    "# For example, here's several helpful packages to load in \n",
    "\n",
    "import numpy as np # linear algebra\n",
    "import pandas as pd # data processing, CSV file I/O (e.g. pd.read_csv)\n",
    "#import geopandas as gpd # geodata processing\n",
    "# Get geolocation using geocoder\n",
    "from geopy.geocoders import Nominatim\n",
    "geolocator = Nominatim(user_agent='colombia_covid_19_pipe', timeout=None)\n",
    "# Https requests\n",
    "import requests\n",
    "import unidecode\n",
    "# Dates\n",
    "from datetime import date\n",
    "from calendar import day_name, month_name\n",
    "\n",
    "import subprocess\n",
    "import sys\n",
    "\n",
    "def install(package):\n",
    "    subprocess.check_call([sys.executable, \"-m\", \"pip\", \"install\", package])\n",
    "# Short ID\n",
    "#try:\n",
    "#    from shortid import ShortId\n",
    "#except Exception:\n",
    "#    install('shortid')\n",
    "#    from shortid import ShortId\n",
    "# PDFMiner pdfminer.six\n",
    "try:\n",
    "    from pdfminer.high_level import extract_text\n",
    "except Exception:\n",
    "    install('pdfminer.six')\n",
    "    from pdfminer.high_level import extract_text\n",
    "\n",
    "import tempfile\n",
    "import os\n",
    "\n",
    "# Input data files are available in the \"../input/\" directory.\n",
    "# For example, running this (by clicking run or pressing Shift+Enter) will list all files under the input directory\n",
    "\n",
    "#for dirname, _, filenames in os.walk('/kaggle/input'):\n",
    "#    for filename in filenames:\n",
    "#        print(os.path.join(dirname, filename))\n",
    "\n",
    "# Any results you write to the current directory are saved as output."
   ]
  },
  {
   "cell_type": "markdown",
   "metadata": {
    "_cell_guid": "acfa7152-fd28-4de5-a935-a809ca304638",
    "_uuid": "0a727ba5-b0eb-44e8-bf66-92332df8a19b"
   },
   "source": [
    "# Colombia Covid 19 Pipeline\n",
    "Dataset is obtained from [Instituto Nacional de Salud](https://www.ins.gov.co/Noticias/Paginas/Coronavirus.aspx) daily report Coronavirus 2019 from Colombia.\n",
    "\n",
    "You can get the official dataset here: \n",
    "[INS - Official Report](https://e.infogram.com/api/live/flex/bc384047-e71c-47d9-b606-1eb6a29962e3/664bc407-2569-4ab8-b7fb-9deb668ddb7a)\n",
    "\n",
    "The number of new cases are increasing day by day around the world.\n",
    "This dataset has information about reported cases from 32 Colombia departments.\n",
    "\n",
    "You can view and collaborate to the analysis here:\n",
    "[colombia_covid_19_analysis](https://www.kaggle.com/sebaxtian/colombia-covid-19-analysis) Kaggle Notebook Kernel."
   ]
  },
  {
   "cell_type": "markdown",
   "metadata": {
    "_cell_guid": "992808de-ec0f-463a-b2ab-9a2cb50c1de1",
    "_uuid": "bc33aa68-06fa-42ab-989e-7a864010bbae"
   },
   "source": [
    "---"
   ]
  },
  {
   "cell_type": "code",
   "execution_count": 2,
   "metadata": {
    "_cell_guid": "72e90606-4a21-441b-9165-bbd73732edac",
    "_uuid": "723f860f-90f9-4420-a864-a82b0679bcae"
   },
   "outputs": [],
   "source": [
    "# Any results you write to the current directory are saved as output.\n",
    "OUTPUT_DIR = './'\n",
    "if os.path.split(os.path.abspath('.'))[-1] == 'src':\n",
    "    OUTPUT_DIR = '../output'\n",
    "# URL original dataset\n",
    "URL_DATASET = 'https://e.infogram.com/api/live/flex/bc384047-e71c-47d9-b606-1eb6a29962e3/664bc407-2569-4ab8-b7fb-9deb668ddb7a'"
   ]
  },
  {
   "cell_type": "code",
   "execution_count": 3,
   "metadata": {
    "_cell_guid": "e7f34b84-4064-4509-804f-7b84f161716f",
    "_uuid": "8fde5d08-681d-4e32-93af-ceb57dafbaab"
   },
   "outputs": [
    {
     "output_type": "execute_result",
     "data": {
      "text/plain": "(2709, 9)"
     },
     "metadata": {},
     "execution_count": 3
    }
   ],
   "source": [
    "# Reading the json as a dict\n",
    "with requests.get(URL_DATASET) as original_dataset:\n",
    "    data = original_dataset.json()\n",
    "#print(data)\n",
    "\n",
    "# Get attributes and data\n",
    "attrs = data['data'][0][0]\n",
    "del data['data'][0][0]\n",
    "data = data['data'][0]\n",
    "\n",
    "# Build dataframe\n",
    "covid_df = pd.DataFrame(data=data, columns=attrs)\n",
    "\n",
    "# Size dataframe\n",
    "covid_df.shape"
   ]
  },
  {
   "cell_type": "code",
   "execution_count": 4,
   "metadata": {
    "_cell_guid": "bad46e5e-a4fd-4cf0-9143-aa93c2429542",
    "_uuid": "0c303a3d-cc99-4d0a-8f72-0eef46319dd0"
   },
   "outputs": [
    {
     "output_type": "execute_result",
     "data": {
      "text/plain": "     ID de caso Fecha de diagnóstico Ciudad de ubicación  \\\n2704       2705           11/04/2020                Sopó   \n2705       2706           11/04/2020               Pacho   \n2706       2707           11/04/2020               Pacho   \n2707       2708           11/04/2020            Monteria   \n2708       2709           11/04/2020            Medellín   \n\n     Departamento o Distrito Atención** Edad Sexo       Tipo*  \\\n2704            Cundinamarca       Casa   68    F   Importado   \n2705            Cundinamarca       Casa   54    M  En estudio   \n2706            Cundinamarca   Hospital   49    F  En estudio   \n2707                 Córdoba       Casa   26    F  En estudio   \n2708               Antioquia       Casa   72    M  En estudio   \n\n     País de procedencia  \n2704              España  \n2705            Colombia  \n2706            Colombia  \n2707            Colombia  \n2708            Colombia  ",
      "text/html": "<div>\n<style scoped>\n    .dataframe tbody tr th:only-of-type {\n        vertical-align: middle;\n    }\n\n    .dataframe tbody tr th {\n        vertical-align: top;\n    }\n\n    .dataframe thead th {\n        text-align: right;\n    }\n</style>\n<table border=\"1\" class=\"dataframe\">\n  <thead>\n    <tr style=\"text-align: right;\">\n      <th></th>\n      <th>ID de caso</th>\n      <th>Fecha de diagnóstico</th>\n      <th>Ciudad de ubicación</th>\n      <th>Departamento o Distrito</th>\n      <th>Atención**</th>\n      <th>Edad</th>\n      <th>Sexo</th>\n      <th>Tipo*</th>\n      <th>País de procedencia</th>\n    </tr>\n  </thead>\n  <tbody>\n    <tr>\n      <th>2704</th>\n      <td>2705</td>\n      <td>11/04/2020</td>\n      <td>Sopó</td>\n      <td>Cundinamarca</td>\n      <td>Casa</td>\n      <td>68</td>\n      <td>F</td>\n      <td>Importado</td>\n      <td>España</td>\n    </tr>\n    <tr>\n      <th>2705</th>\n      <td>2706</td>\n      <td>11/04/2020</td>\n      <td>Pacho</td>\n      <td>Cundinamarca</td>\n      <td>Casa</td>\n      <td>54</td>\n      <td>M</td>\n      <td>En estudio</td>\n      <td>Colombia</td>\n    </tr>\n    <tr>\n      <th>2706</th>\n      <td>2707</td>\n      <td>11/04/2020</td>\n      <td>Pacho</td>\n      <td>Cundinamarca</td>\n      <td>Hospital</td>\n      <td>49</td>\n      <td>F</td>\n      <td>En estudio</td>\n      <td>Colombia</td>\n    </tr>\n    <tr>\n      <th>2707</th>\n      <td>2708</td>\n      <td>11/04/2020</td>\n      <td>Monteria</td>\n      <td>Córdoba</td>\n      <td>Casa</td>\n      <td>26</td>\n      <td>F</td>\n      <td>En estudio</td>\n      <td>Colombia</td>\n    </tr>\n    <tr>\n      <th>2708</th>\n      <td>2709</td>\n      <td>11/04/2020</td>\n      <td>Medellín</td>\n      <td>Antioquia</td>\n      <td>Casa</td>\n      <td>72</td>\n      <td>M</td>\n      <td>En estudio</td>\n      <td>Colombia</td>\n    </tr>\n  </tbody>\n</table>\n</div>"
     },
     "metadata": {},
     "execution_count": 4
    }
   ],
   "source": [
    "# Show dataframe\n",
    "covid_df.tail()"
   ]
  },
  {
   "cell_type": "code",
   "execution_count": 5,
   "metadata": {
    "_cell_guid": "f5a2f319-13e0-4af6-ad91-4215e4247b74",
    "_uuid": "c61f52ec-fd25-40bd-9b9b-1c4e1346aafe"
   },
   "outputs": [
    {
     "output_type": "execute_result",
     "data": {
      "text/plain": "  id_case        date      city        dept_dist        care age sex  \\\n0       1  06/03/2020    Bogotá      Bogotá D.C.  Recuperado  19   F   \n1       2  09/03/2020      Buga  Valle del Cauca  Recuperado  34   M   \n2       3  09/03/2020  Medellín        Antioquia  Recuperado  50   F   \n3       4  11/03/2020  Medellín        Antioquia  Recuperado  55   M   \n4       5  11/03/2020  Medellín        Antioquia  Recuperado  25   M   \n\n          kind country_origin  \n0    Importado         Italia  \n1    Importado         España  \n2    Importado         España  \n3  Relacionado       Colombia  \n4  Relacionado       Colombia  ",
      "text/html": "<div>\n<style scoped>\n    .dataframe tbody tr th:only-of-type {\n        vertical-align: middle;\n    }\n\n    .dataframe tbody tr th {\n        vertical-align: top;\n    }\n\n    .dataframe thead th {\n        text-align: right;\n    }\n</style>\n<table border=\"1\" class=\"dataframe\">\n  <thead>\n    <tr style=\"text-align: right;\">\n      <th></th>\n      <th>id_case</th>\n      <th>date</th>\n      <th>city</th>\n      <th>dept_dist</th>\n      <th>care</th>\n      <th>age</th>\n      <th>sex</th>\n      <th>kind</th>\n      <th>country_origin</th>\n    </tr>\n  </thead>\n  <tbody>\n    <tr>\n      <th>0</th>\n      <td>1</td>\n      <td>06/03/2020</td>\n      <td>Bogotá</td>\n      <td>Bogotá D.C.</td>\n      <td>Recuperado</td>\n      <td>19</td>\n      <td>F</td>\n      <td>Importado</td>\n      <td>Italia</td>\n    </tr>\n    <tr>\n      <th>1</th>\n      <td>2</td>\n      <td>09/03/2020</td>\n      <td>Buga</td>\n      <td>Valle del Cauca</td>\n      <td>Recuperado</td>\n      <td>34</td>\n      <td>M</td>\n      <td>Importado</td>\n      <td>España</td>\n    </tr>\n    <tr>\n      <th>2</th>\n      <td>3</td>\n      <td>09/03/2020</td>\n      <td>Medellín</td>\n      <td>Antioquia</td>\n      <td>Recuperado</td>\n      <td>50</td>\n      <td>F</td>\n      <td>Importado</td>\n      <td>España</td>\n    </tr>\n    <tr>\n      <th>3</th>\n      <td>4</td>\n      <td>11/03/2020</td>\n      <td>Medellín</td>\n      <td>Antioquia</td>\n      <td>Recuperado</td>\n      <td>55</td>\n      <td>M</td>\n      <td>Relacionado</td>\n      <td>Colombia</td>\n    </tr>\n    <tr>\n      <th>4</th>\n      <td>5</td>\n      <td>11/03/2020</td>\n      <td>Medellín</td>\n      <td>Antioquia</td>\n      <td>Recuperado</td>\n      <td>25</td>\n      <td>M</td>\n      <td>Relacionado</td>\n      <td>Colombia</td>\n    </tr>\n  </tbody>\n</table>\n</div>"
     },
     "metadata": {},
     "execution_count": 5
    }
   ],
   "source": [
    "# Rename columns\n",
    "covid_df.rename(columns={\n",
    "    \"ID de caso\": \"id_case\",\n",
    "    \"Fecha de diagnóstico\": \"date\",\n",
    "    \"Ciudad de ubicación\": \"city\",\n",
    "    \"Departamento o Distrito\": \"dept_dist\",\n",
    "    \"Atención**\": \"care\",\n",
    "    \"Edad\": \"age\",\n",
    "    \"Sexo\": \"sex\",\n",
    "    \"Tipo*\": \"kind\",\n",
    "    \"País de procedencia\": \"country_origin\"}, inplace=True)\n",
    "# Show dataframe\n",
    "covid_df.head()"
   ]
  },
  {
   "cell_type": "code",
   "execution_count": 6,
   "metadata": {
    "_cell_guid": "3ede418c-26f8-40ee-9b87-2491b9628529",
    "_uuid": "64773614-bc2d-4c8e-aa8c-0a27c4af8d25"
   },
   "outputs": [
    {
     "output_type": "execute_result",
     "data": {
      "text/plain": "     id_case        date      city     dept_dist      care age sex  \\\n2704    2705  11/04/2020      Sopó  Cundinamarca      Casa  68   F   \n2705    2706  11/04/2020     Pacho  Cundinamarca      Casa  54   M   \n2706    2707  11/04/2020     Pacho  Cundinamarca  Hospital  49   F   \n2707    2708  11/04/2020  Monteria       Córdoba      Casa  26   F   \n2708    2709  11/04/2020  Medellín     Antioquia      Casa  72   M   \n\n            kind country_origin  \n2704   Importado         España  \n2705  En estudio       Colombia  \n2706  En estudio       Colombia  \n2707  En estudio       Colombia  \n2708  En estudio       Colombia  ",
      "text/html": "<div>\n<style scoped>\n    .dataframe tbody tr th:only-of-type {\n        vertical-align: middle;\n    }\n\n    .dataframe tbody tr th {\n        vertical-align: top;\n    }\n\n    .dataframe thead th {\n        text-align: right;\n    }\n</style>\n<table border=\"1\" class=\"dataframe\">\n  <thead>\n    <tr style=\"text-align: right;\">\n      <th></th>\n      <th>id_case</th>\n      <th>date</th>\n      <th>city</th>\n      <th>dept_dist</th>\n      <th>care</th>\n      <th>age</th>\n      <th>sex</th>\n      <th>kind</th>\n      <th>country_origin</th>\n    </tr>\n  </thead>\n  <tbody>\n    <tr>\n      <th>2704</th>\n      <td>2705</td>\n      <td>11/04/2020</td>\n      <td>Sopó</td>\n      <td>Cundinamarca</td>\n      <td>Casa</td>\n      <td>68</td>\n      <td>F</td>\n      <td>Importado</td>\n      <td>España</td>\n    </tr>\n    <tr>\n      <th>2705</th>\n      <td>2706</td>\n      <td>11/04/2020</td>\n      <td>Pacho</td>\n      <td>Cundinamarca</td>\n      <td>Casa</td>\n      <td>54</td>\n      <td>M</td>\n      <td>En estudio</td>\n      <td>Colombia</td>\n    </tr>\n    <tr>\n      <th>2706</th>\n      <td>2707</td>\n      <td>11/04/2020</td>\n      <td>Pacho</td>\n      <td>Cundinamarca</td>\n      <td>Hospital</td>\n      <td>49</td>\n      <td>F</td>\n      <td>En estudio</td>\n      <td>Colombia</td>\n    </tr>\n    <tr>\n      <th>2707</th>\n      <td>2708</td>\n      <td>11/04/2020</td>\n      <td>Monteria</td>\n      <td>Córdoba</td>\n      <td>Casa</td>\n      <td>26</td>\n      <td>F</td>\n      <td>En estudio</td>\n      <td>Colombia</td>\n    </tr>\n    <tr>\n      <th>2708</th>\n      <td>2709</td>\n      <td>11/04/2020</td>\n      <td>Medellín</td>\n      <td>Antioquia</td>\n      <td>Casa</td>\n      <td>72</td>\n      <td>M</td>\n      <td>En estudio</td>\n      <td>Colombia</td>\n    </tr>\n  </tbody>\n</table>\n</div>"
     },
     "metadata": {},
     "execution_count": 6
    }
   ],
   "source": [
    "# Clean empty rows\n",
    "covid_df = covid_df[(covid_df['id_case'] != '') | (covid_df['date'] != '')]\n",
    "# Show dataframe\n",
    "covid_df.tail()"
   ]
  },
  {
   "cell_type": "code",
   "execution_count": 7,
   "metadata": {
    "_cell_guid": "2c1443aa-930a-458e-8ef9-f83d6bd9bb32",
    "_uuid": "cf2fb1e5-4a8a-4d2e-83ef-f47d821e8808"
   },
   "outputs": [
    {
     "output_type": "execute_result",
     "data": {
      "text/plain": "  id_case        date      city        dept_dist        care age sex  \\\n0       1  06/03/2020    Bogota      Bogota D.C.  Recuperado  19   F   \n1       2  09/03/2020      Buga  Valle del Cauca  Recuperado  34   M   \n2       3  09/03/2020  Medellin        Antioquia  Recuperado  50   F   \n3       4  11/03/2020  Medellin        Antioquia  Recuperado  55   M   \n4       5  11/03/2020  Medellin        Antioquia  Recuperado  25   M   \n\n          kind country_origin  \n0    Importado         Italia  \n1    Importado         España  \n2    Importado         España  \n3  Relacionado       Colombia  \n4  Relacionado       Colombia  ",
      "text/html": "<div>\n<style scoped>\n    .dataframe tbody tr th:only-of-type {\n        vertical-align: middle;\n    }\n\n    .dataframe tbody tr th {\n        vertical-align: top;\n    }\n\n    .dataframe thead th {\n        text-align: right;\n    }\n</style>\n<table border=\"1\" class=\"dataframe\">\n  <thead>\n    <tr style=\"text-align: right;\">\n      <th></th>\n      <th>id_case</th>\n      <th>date</th>\n      <th>city</th>\n      <th>dept_dist</th>\n      <th>care</th>\n      <th>age</th>\n      <th>sex</th>\n      <th>kind</th>\n      <th>country_origin</th>\n    </tr>\n  </thead>\n  <tbody>\n    <tr>\n      <th>0</th>\n      <td>1</td>\n      <td>06/03/2020</td>\n      <td>Bogota</td>\n      <td>Bogota D.C.</td>\n      <td>Recuperado</td>\n      <td>19</td>\n      <td>F</td>\n      <td>Importado</td>\n      <td>Italia</td>\n    </tr>\n    <tr>\n      <th>1</th>\n      <td>2</td>\n      <td>09/03/2020</td>\n      <td>Buga</td>\n      <td>Valle del Cauca</td>\n      <td>Recuperado</td>\n      <td>34</td>\n      <td>M</td>\n      <td>Importado</td>\n      <td>España</td>\n    </tr>\n    <tr>\n      <th>2</th>\n      <td>3</td>\n      <td>09/03/2020</td>\n      <td>Medellin</td>\n      <td>Antioquia</td>\n      <td>Recuperado</td>\n      <td>50</td>\n      <td>F</td>\n      <td>Importado</td>\n      <td>España</td>\n    </tr>\n    <tr>\n      <th>3</th>\n      <td>4</td>\n      <td>11/03/2020</td>\n      <td>Medellin</td>\n      <td>Antioquia</td>\n      <td>Recuperado</td>\n      <td>55</td>\n      <td>M</td>\n      <td>Relacionado</td>\n      <td>Colombia</td>\n    </tr>\n    <tr>\n      <th>4</th>\n      <td>5</td>\n      <td>11/03/2020</td>\n      <td>Medellin</td>\n      <td>Antioquia</td>\n      <td>Recuperado</td>\n      <td>25</td>\n      <td>M</td>\n      <td>Relacionado</td>\n      <td>Colombia</td>\n    </tr>\n  </tbody>\n</table>\n</div>"
     },
     "metadata": {},
     "execution_count": 7
    }
   ],
   "source": [
    "# Remove accents\n",
    "covid_df['city'] = covid_df['city'].transform(lambda value: unidecode.unidecode(value))\n",
    "covid_df['dept_dist'] = covid_df['dept_dist'].transform(lambda value: unidecode.unidecode(value))\n",
    "# Show dataframe\n",
    "covid_df.head()"
   ]
  },
  {
   "cell_type": "code",
   "execution_count": 8,
   "metadata": {},
   "outputs": [
    {
     "output_type": "execute_result",
     "data": {
      "text/plain": "  id_case        date      city        dept_dist        care age sex  \\\n0       1  06/03/2020    Bogota      Bogota D.C.  Recuperado  19   F   \n1       2  09/03/2020      Buga  Valle del Cauca  Recuperado  34   M   \n2       3  09/03/2020  Medellin        Antioquia  Recuperado  50   F   \n3       4  11/03/2020  Medellin        Antioquia  Recuperado  55   M   \n4       5  11/03/2020  Medellin        Antioquia  Recuperado  25   M   \n\n          kind country_origin  \n0    Importado         Italia  \n1    Importado         España  \n2    Importado         España  \n3  Relacionado       Colombia  \n4  Relacionado       Colombia  ",
      "text/html": "<div>\n<style scoped>\n    .dataframe tbody tr th:only-of-type {\n        vertical-align: middle;\n    }\n\n    .dataframe tbody tr th {\n        vertical-align: top;\n    }\n\n    .dataframe thead th {\n        text-align: right;\n    }\n</style>\n<table border=\"1\" class=\"dataframe\">\n  <thead>\n    <tr style=\"text-align: right;\">\n      <th></th>\n      <th>id_case</th>\n      <th>date</th>\n      <th>city</th>\n      <th>dept_dist</th>\n      <th>care</th>\n      <th>age</th>\n      <th>sex</th>\n      <th>kind</th>\n      <th>country_origin</th>\n    </tr>\n  </thead>\n  <tbody>\n    <tr>\n      <th>0</th>\n      <td>1</td>\n      <td>06/03/2020</td>\n      <td>Bogota</td>\n      <td>Bogota D.C.</td>\n      <td>Recuperado</td>\n      <td>19</td>\n      <td>F</td>\n      <td>Importado</td>\n      <td>Italia</td>\n    </tr>\n    <tr>\n      <th>1</th>\n      <td>2</td>\n      <td>09/03/2020</td>\n      <td>Buga</td>\n      <td>Valle del Cauca</td>\n      <td>Recuperado</td>\n      <td>34</td>\n      <td>M</td>\n      <td>Importado</td>\n      <td>España</td>\n    </tr>\n    <tr>\n      <th>2</th>\n      <td>3</td>\n      <td>09/03/2020</td>\n      <td>Medellin</td>\n      <td>Antioquia</td>\n      <td>Recuperado</td>\n      <td>50</td>\n      <td>F</td>\n      <td>Importado</td>\n      <td>España</td>\n    </tr>\n    <tr>\n      <th>3</th>\n      <td>4</td>\n      <td>11/03/2020</td>\n      <td>Medellin</td>\n      <td>Antioquia</td>\n      <td>Recuperado</td>\n      <td>55</td>\n      <td>M</td>\n      <td>Relacionado</td>\n      <td>Colombia</td>\n    </tr>\n    <tr>\n      <th>4</th>\n      <td>5</td>\n      <td>11/03/2020</td>\n      <td>Medellin</td>\n      <td>Antioquia</td>\n      <td>Recuperado</td>\n      <td>25</td>\n      <td>M</td>\n      <td>Relacionado</td>\n      <td>Colombia</td>\n    </tr>\n  </tbody>\n</table>\n</div>"
     },
     "metadata": {},
     "execution_count": 8
    }
   ],
   "source": [
    "# Setup date format\n",
    "covid_df['date'] = [value.strftime('%d/%m/%Y') for value in pd.to_datetime(covid_df['date'], format='%d/%m/%Y')]\n",
    "covid_df.head()"
   ]
  },
  {
   "cell_type": "code",
   "execution_count": 9,
   "metadata": {
    "_cell_guid": "e1945629-d8bd-4014-89c2-d9668545c24f",
    "_uuid": "c18ff492-430f-4e32-a462-88513c8f1c92"
   },
   "outputs": [
    {
     "output_type": "execute_result",
     "data": {
      "text/plain": "  id_case        date      city        dept_dist        care age sex  \\\n0       1  06/03/2020    Bogota      Bogota D.C.  Recuperado  19   F   \n1       2  09/03/2020      Buga  Valle del Cauca  Recuperado  34   M   \n2       3  09/03/2020  Medellin        Antioquia  Recuperado  50   F   \n3       4  11/03/2020  Medellin        Antioquia  Recuperado  55   M   \n4       5  11/03/2020  Medellin        Antioquia  Recuperado  25   M   \n\n          kind country_origin day month  year month_name   day_name  \n0    Importado         Italia  06    03  2020      Marzo    Viernes  \n1    Importado         España  09    03  2020      Marzo      Lunes  \n2    Importado         España  09    03  2020      Marzo      Lunes  \n3  Relacionado       Colombia  11    03  2020      Marzo  Miercoles  \n4  Relacionado       Colombia  11    03  2020      Marzo  Miercoles  ",
      "text/html": "<div>\n<style scoped>\n    .dataframe tbody tr th:only-of-type {\n        vertical-align: middle;\n    }\n\n    .dataframe tbody tr th {\n        vertical-align: top;\n    }\n\n    .dataframe thead th {\n        text-align: right;\n    }\n</style>\n<table border=\"1\" class=\"dataframe\">\n  <thead>\n    <tr style=\"text-align: right;\">\n      <th></th>\n      <th>id_case</th>\n      <th>date</th>\n      <th>city</th>\n      <th>dept_dist</th>\n      <th>care</th>\n      <th>age</th>\n      <th>sex</th>\n      <th>kind</th>\n      <th>country_origin</th>\n      <th>day</th>\n      <th>month</th>\n      <th>year</th>\n      <th>month_name</th>\n      <th>day_name</th>\n    </tr>\n  </thead>\n  <tbody>\n    <tr>\n      <th>0</th>\n      <td>1</td>\n      <td>06/03/2020</td>\n      <td>Bogota</td>\n      <td>Bogota D.C.</td>\n      <td>Recuperado</td>\n      <td>19</td>\n      <td>F</td>\n      <td>Importado</td>\n      <td>Italia</td>\n      <td>06</td>\n      <td>03</td>\n      <td>2020</td>\n      <td>Marzo</td>\n      <td>Viernes</td>\n    </tr>\n    <tr>\n      <th>1</th>\n      <td>2</td>\n      <td>09/03/2020</td>\n      <td>Buga</td>\n      <td>Valle del Cauca</td>\n      <td>Recuperado</td>\n      <td>34</td>\n      <td>M</td>\n      <td>Importado</td>\n      <td>España</td>\n      <td>09</td>\n      <td>03</td>\n      <td>2020</td>\n      <td>Marzo</td>\n      <td>Lunes</td>\n    </tr>\n    <tr>\n      <th>2</th>\n      <td>3</td>\n      <td>09/03/2020</td>\n      <td>Medellin</td>\n      <td>Antioquia</td>\n      <td>Recuperado</td>\n      <td>50</td>\n      <td>F</td>\n      <td>Importado</td>\n      <td>España</td>\n      <td>09</td>\n      <td>03</td>\n      <td>2020</td>\n      <td>Marzo</td>\n      <td>Lunes</td>\n    </tr>\n    <tr>\n      <th>3</th>\n      <td>4</td>\n      <td>11/03/2020</td>\n      <td>Medellin</td>\n      <td>Antioquia</td>\n      <td>Recuperado</td>\n      <td>55</td>\n      <td>M</td>\n      <td>Relacionado</td>\n      <td>Colombia</td>\n      <td>11</td>\n      <td>03</td>\n      <td>2020</td>\n      <td>Marzo</td>\n      <td>Miercoles</td>\n    </tr>\n    <tr>\n      <th>4</th>\n      <td>5</td>\n      <td>11/03/2020</td>\n      <td>Medellin</td>\n      <td>Antioquia</td>\n      <td>Recuperado</td>\n      <td>25</td>\n      <td>M</td>\n      <td>Relacionado</td>\n      <td>Colombia</td>\n      <td>11</td>\n      <td>03</td>\n      <td>2020</td>\n      <td>Marzo</td>\n      <td>Miercoles</td>\n    </tr>\n  </tbody>\n</table>\n</div>"
     },
     "metadata": {},
     "execution_count": 9
    }
   ],
   "source": [
    "# Add Day, Month, Year, Month Name and Day Name\n",
    "covid_df['day'] = covid_df['date'].transform(lambda value: value.split('/')[0])\n",
    "covid_df['month'] = covid_df['date'].transform(lambda value: value.split('/')[1])\n",
    "covid_df['year'] = covid_df['date'].transform(lambda value: value.split('/')[2])\n",
    "# English\n",
    "#covid_df['month_name'] = covid_df['month'].transform(lambda value: month_name[int(value)])\n",
    "#covid_df['day_name'] = covid_df['date'].transform(lambda value: day_name[date(int(value.split('/')[2]), int(value.split('/')[1]), int(value.split('/')[0])).weekday()])\n",
    "# Spanish\n",
    "nombre_mes = ['Enero', 'Febrero', 'Marzo', 'Abril', 'Mayo', 'Junio', 'Julio', 'Agosto', 'Septiembre', 'Octubre', 'Noviembre', 'Diciembre']\n",
    "nombre_dia = ['Lunes', 'Martes', 'Miercoles', 'Jueves', 'Viernes', 'Sabado', 'Domingo']\n",
    "covid_df['month_name'] = covid_df['month'].transform(lambda value: nombre_mes[int(value) - 1])\n",
    "covid_df['day_name'] = covid_df['date'].transform(lambda value: nombre_dia[date(int(value.split('/')[2]), int(value.split('/')[1]), int(value.split('/')[0])).weekday()])\n",
    "# Show dataframe\n",
    "covid_df.head()"
   ]
  },
  {
   "cell_type": "code",
   "execution_count": 10,
   "metadata": {
    "_cell_guid": "21f8afe3-2919-43b4-8eb2-e5c104bfa2bc",
    "_uuid": "c39b8df3-e4b5-4c15-bfa4-2363f79ba0a7"
   },
   "outputs": [
    {
     "output_type": "execute_result",
     "data": {
      "text/plain": "      id_case        date      city     dept_dist      care age sex  \\\n2704     2704  11/04/2020      Sopo  Cundinamarca      Casa  68   F   \n2705     2705  11/04/2020     Pacho  Cundinamarca      Casa  54   M   \n2706     2706  11/04/2020     Pacho  Cundinamarca  Hospital  49   F   \n2707     2707  11/04/2020  Monteria       Cordoba      Casa  26   F   \n2708     2708  11/04/2020  Medellin     Antioquia      Casa  72   M   \n\n            kind country_origin day month  year month_name day_name  \n2704   Importado         España  11    04  2020      Abril   Sabado  \n2705  En estudio       Colombia  11    04  2020      Abril   Sabado  \n2706  En estudio       Colombia  11    04  2020      Abril   Sabado  \n2707  En estudio       Colombia  11    04  2020      Abril   Sabado  \n2708  En estudio       Colombia  11    04  2020      Abril   Sabado  ",
      "text/html": "<div>\n<style scoped>\n    .dataframe tbody tr th:only-of-type {\n        vertical-align: middle;\n    }\n\n    .dataframe tbody tr th {\n        vertical-align: top;\n    }\n\n    .dataframe thead th {\n        text-align: right;\n    }\n</style>\n<table border=\"1\" class=\"dataframe\">\n  <thead>\n    <tr style=\"text-align: right;\">\n      <th></th>\n      <th>id_case</th>\n      <th>date</th>\n      <th>city</th>\n      <th>dept_dist</th>\n      <th>care</th>\n      <th>age</th>\n      <th>sex</th>\n      <th>kind</th>\n      <th>country_origin</th>\n      <th>day</th>\n      <th>month</th>\n      <th>year</th>\n      <th>month_name</th>\n      <th>day_name</th>\n    </tr>\n  </thead>\n  <tbody>\n    <tr>\n      <th>2704</th>\n      <td>2704</td>\n      <td>11/04/2020</td>\n      <td>Sopo</td>\n      <td>Cundinamarca</td>\n      <td>Casa</td>\n      <td>68</td>\n      <td>F</td>\n      <td>Importado</td>\n      <td>España</td>\n      <td>11</td>\n      <td>04</td>\n      <td>2020</td>\n      <td>Abril</td>\n      <td>Sabado</td>\n    </tr>\n    <tr>\n      <th>2705</th>\n      <td>2705</td>\n      <td>11/04/2020</td>\n      <td>Pacho</td>\n      <td>Cundinamarca</td>\n      <td>Casa</td>\n      <td>54</td>\n      <td>M</td>\n      <td>En estudio</td>\n      <td>Colombia</td>\n      <td>11</td>\n      <td>04</td>\n      <td>2020</td>\n      <td>Abril</td>\n      <td>Sabado</td>\n    </tr>\n    <tr>\n      <th>2706</th>\n      <td>2706</td>\n      <td>11/04/2020</td>\n      <td>Pacho</td>\n      <td>Cundinamarca</td>\n      <td>Hospital</td>\n      <td>49</td>\n      <td>F</td>\n      <td>En estudio</td>\n      <td>Colombia</td>\n      <td>11</td>\n      <td>04</td>\n      <td>2020</td>\n      <td>Abril</td>\n      <td>Sabado</td>\n    </tr>\n    <tr>\n      <th>2707</th>\n      <td>2707</td>\n      <td>11/04/2020</td>\n      <td>Monteria</td>\n      <td>Cordoba</td>\n      <td>Casa</td>\n      <td>26</td>\n      <td>F</td>\n      <td>En estudio</td>\n      <td>Colombia</td>\n      <td>11</td>\n      <td>04</td>\n      <td>2020</td>\n      <td>Abril</td>\n      <td>Sabado</td>\n    </tr>\n    <tr>\n      <th>2708</th>\n      <td>2708</td>\n      <td>11/04/2020</td>\n      <td>Medellin</td>\n      <td>Antioquia</td>\n      <td>Casa</td>\n      <td>72</td>\n      <td>M</td>\n      <td>En estudio</td>\n      <td>Colombia</td>\n      <td>11</td>\n      <td>04</td>\n      <td>2020</td>\n      <td>Abril</td>\n      <td>Sabado</td>\n    </tr>\n  </tbody>\n</table>\n</div>"
     },
     "metadata": {},
     "execution_count": 10
    }
   ],
   "source": [
    "# Update Case ID\n",
    "#covid_df['id_case'] = covid_df['id_case'].transform(lambda value: ShortId().generate())\n",
    "#covid_df['id_case'] = covid_df['sex'] + covid_df['id_case'] + covid_df['age']\n",
    "#covid_df.head()\n",
    "covid_df['id_case'] = covid_df.index\n",
    "covid_df.tail()"
   ]
  },
  {
   "cell_type": "code",
   "execution_count": 11,
   "metadata": {
    "_cell_guid": "e0688ba2-225c-48fc-9a9c-b6716c14bd76",
    "_uuid": "1fa3607b-f471-4760-8710-cce65e3f9828"
   },
   "outputs": [
    {
     "output_type": "execute_result",
     "data": {
      "text/plain": "   id_case        date day month  year month_name   day_name      city  \\\n0        0  06/03/2020  06    03  2020      Marzo    Viernes    Bogota   \n1        1  09/03/2020  09    03  2020      Marzo      Lunes      Buga   \n2        2  09/03/2020  09    03  2020      Marzo      Lunes  Medellin   \n3        3  11/03/2020  11    03  2020      Marzo  Miercoles  Medellin   \n4        4  11/03/2020  11    03  2020      Marzo  Miercoles  Medellin   \n\n         dept_dist age sex         kind country_origin        care  \n0      Bogota D.C.  19   F    Importado         Italia  Recuperado  \n1  Valle del Cauca  34   M    Importado         España  Recuperado  \n2        Antioquia  50   F    Importado         España  Recuperado  \n3        Antioquia  55   M  Relacionado       Colombia  Recuperado  \n4        Antioquia  25   M  Relacionado       Colombia  Recuperado  ",
      "text/html": "<div>\n<style scoped>\n    .dataframe tbody tr th:only-of-type {\n        vertical-align: middle;\n    }\n\n    .dataframe tbody tr th {\n        vertical-align: top;\n    }\n\n    .dataframe thead th {\n        text-align: right;\n    }\n</style>\n<table border=\"1\" class=\"dataframe\">\n  <thead>\n    <tr style=\"text-align: right;\">\n      <th></th>\n      <th>id_case</th>\n      <th>date</th>\n      <th>day</th>\n      <th>month</th>\n      <th>year</th>\n      <th>month_name</th>\n      <th>day_name</th>\n      <th>city</th>\n      <th>dept_dist</th>\n      <th>age</th>\n      <th>sex</th>\n      <th>kind</th>\n      <th>country_origin</th>\n      <th>care</th>\n    </tr>\n  </thead>\n  <tbody>\n    <tr>\n      <th>0</th>\n      <td>0</td>\n      <td>06/03/2020</td>\n      <td>06</td>\n      <td>03</td>\n      <td>2020</td>\n      <td>Marzo</td>\n      <td>Viernes</td>\n      <td>Bogota</td>\n      <td>Bogota D.C.</td>\n      <td>19</td>\n      <td>F</td>\n      <td>Importado</td>\n      <td>Italia</td>\n      <td>Recuperado</td>\n    </tr>\n    <tr>\n      <th>1</th>\n      <td>1</td>\n      <td>09/03/2020</td>\n      <td>09</td>\n      <td>03</td>\n      <td>2020</td>\n      <td>Marzo</td>\n      <td>Lunes</td>\n      <td>Buga</td>\n      <td>Valle del Cauca</td>\n      <td>34</td>\n      <td>M</td>\n      <td>Importado</td>\n      <td>España</td>\n      <td>Recuperado</td>\n    </tr>\n    <tr>\n      <th>2</th>\n      <td>2</td>\n      <td>09/03/2020</td>\n      <td>09</td>\n      <td>03</td>\n      <td>2020</td>\n      <td>Marzo</td>\n      <td>Lunes</td>\n      <td>Medellin</td>\n      <td>Antioquia</td>\n      <td>50</td>\n      <td>F</td>\n      <td>Importado</td>\n      <td>España</td>\n      <td>Recuperado</td>\n    </tr>\n    <tr>\n      <th>3</th>\n      <td>3</td>\n      <td>11/03/2020</td>\n      <td>11</td>\n      <td>03</td>\n      <td>2020</td>\n      <td>Marzo</td>\n      <td>Miercoles</td>\n      <td>Medellin</td>\n      <td>Antioquia</td>\n      <td>55</td>\n      <td>M</td>\n      <td>Relacionado</td>\n      <td>Colombia</td>\n      <td>Recuperado</td>\n    </tr>\n    <tr>\n      <th>4</th>\n      <td>4</td>\n      <td>11/03/2020</td>\n      <td>11</td>\n      <td>03</td>\n      <td>2020</td>\n      <td>Marzo</td>\n      <td>Miercoles</td>\n      <td>Medellin</td>\n      <td>Antioquia</td>\n      <td>25</td>\n      <td>M</td>\n      <td>Relacionado</td>\n      <td>Colombia</td>\n      <td>Recuperado</td>\n    </tr>\n  </tbody>\n</table>\n</div>"
     },
     "metadata": {},
     "execution_count": 11
    }
   ],
   "source": [
    "# Sort columns\n",
    "covid_df = covid_df[['id_case', 'date', 'day', 'month', 'year', 'month_name', 'day_name', 'city', 'dept_dist', 'age', 'sex', 'kind', 'country_origin', 'care']]\n",
    "covid_df.head()"
   ]
  },
  {
   "cell_type": "markdown",
   "metadata": {
    "_cell_guid": "269203fa-ab2b-4401-a59e-967b5f9d6ed5",
    "_uuid": "ae127951-b7c2-48a2-968a-2710fa19c613"
   },
   "source": [
    "## Covid 19 Dataset\n",
    "> ***Output file***: covid19.csv"
   ]
  },
  {
   "cell_type": "code",
   "execution_count": 12,
   "metadata": {
    "_cell_guid": "9183ee8f-bf72-43e1-845a-8451e06a74ff",
    "_uuid": "be5dc64e-736f-4b6c-8230-9006991ef25e"
   },
   "outputs": [],
   "source": [
    "# Save dataframe\n",
    "covid_df.to_csv(os.path.join(OUTPUT_DIR, 'covid19.csv'), index=False)"
   ]
  },
  {
   "cell_type": "markdown",
   "metadata": {
    "_cell_guid": "85ac3a15-a702-40a0-a36e-9eb6569eed6c",
    "_uuid": "70f301df-0172-4216-a483-9afe0befd83f"
   },
   "source": [
    "---"
   ]
  },
  {
   "cell_type": "code",
   "execution_count": 13,
   "metadata": {
    "_cell_guid": "8ebd7963-aa0a-44ee-848d-cd253b43719f",
    "_uuid": "90df064a-fe33-4275-b75f-3c33f53f345a"
   },
   "outputs": [
    {
     "output_type": "execute_result",
     "data": {
      "text/plain": "          date  total  cumsum\n29  07/04/2020    201    1780\n30  08/04/2020    274    2054\n31  09/04/2020    169    2223\n32  10/04/2020    250    2473\n33  11/04/2020    236    2709",
      "text/html": "<div>\n<style scoped>\n    .dataframe tbody tr th:only-of-type {\n        vertical-align: middle;\n    }\n\n    .dataframe tbody tr th {\n        vertical-align: top;\n    }\n\n    .dataframe thead th {\n        text-align: right;\n    }\n</style>\n<table border=\"1\" class=\"dataframe\">\n  <thead>\n    <tr style=\"text-align: right;\">\n      <th></th>\n      <th>date</th>\n      <th>total</th>\n      <th>cumsum</th>\n    </tr>\n  </thead>\n  <tbody>\n    <tr>\n      <th>29</th>\n      <td>07/04/2020</td>\n      <td>201</td>\n      <td>1780</td>\n    </tr>\n    <tr>\n      <th>30</th>\n      <td>08/04/2020</td>\n      <td>274</td>\n      <td>2054</td>\n    </tr>\n    <tr>\n      <th>31</th>\n      <td>09/04/2020</td>\n      <td>169</td>\n      <td>2223</td>\n    </tr>\n    <tr>\n      <th>32</th>\n      <td>10/04/2020</td>\n      <td>250</td>\n      <td>2473</td>\n    </tr>\n    <tr>\n      <th>33</th>\n      <td>11/04/2020</td>\n      <td>236</td>\n      <td>2709</td>\n    </tr>\n  </tbody>\n</table>\n</div>"
     },
     "metadata": {},
     "execution_count": 13
    }
   ],
   "source": [
    "# Cases by Date\n",
    "covid_df_by_date = covid_df.groupby('date')['date'].count()\n",
    "covid_df_by_date = pd.DataFrame(data={'date': covid_df_by_date.index, 'total': covid_df_by_date.values}, columns=['date', 'total'])\n",
    "covid_df_by_date['date_iso'] = pd.to_datetime(covid_df_by_date['date'], format='%d/%m/%Y')\n",
    "covid_df_by_date = covid_df_by_date.sort_values(by=['date_iso'], ascending=True)\n",
    "covid_df_by_date['cumsum'] = covid_df_by_date['total'].cumsum()\n",
    "covid_df_by_date = covid_df_by_date.drop(columns=['date_iso'])\n",
    "covid_df_by_date.reset_index(inplace=True, drop=True)\n",
    "# Show dataframe\n",
    "covid_df_by_date.tail()"
   ]
  },
  {
   "cell_type": "markdown",
   "metadata": {
    "_cell_guid": "72fa3721-184a-4b5a-bf7a-687497795b30",
    "_uuid": "1ecaca51-9fd3-4074-9f28-4251f9992b75"
   },
   "source": [
    "## Cases by Date\n",
    "> ***Output file***: covid19_by_date.csv"
   ]
  },
  {
   "cell_type": "code",
   "execution_count": 14,
   "metadata": {
    "_cell_guid": "6461eb04-9fe7-4596-a7be-2079f2ccf592",
    "_uuid": "39696c78-2995-439e-b7fe-568aa1ee54fa"
   },
   "outputs": [],
   "source": [
    "# Save dataframe\n",
    "covid_df_by_date.to_csv(os.path.join(OUTPUT_DIR, 'covid19_by_date.csv'), index=False)"
   ]
  },
  {
   "cell_type": "markdown",
   "metadata": {
    "_cell_guid": "f12adbe6-c14a-4baf-82dc-03bd0da0940a",
    "_uuid": "000d9eb5-933c-4223-9541-007635cfae8f"
   },
   "source": [
    "---"
   ]
  },
  {
   "cell_type": "code",
   "execution_count": 15,
   "metadata": {
    "_cell_guid": "1a3ed503-b582-4b3e-b252-21398605ebde",
    "_uuid": "648e9500-b5be-49c5-aab1-04a88b0d10d5"
   },
   "outputs": [
    {
     "output_type": "execute_result",
     "data": {
      "text/plain": "           care  total\n0          Casa   1972\n1      Hospital    331\n2    Recuperado    207\n3     Fallecido    100\n4  Hospital UCI     92",
      "text/html": "<div>\n<style scoped>\n    .dataframe tbody tr th:only-of-type {\n        vertical-align: middle;\n    }\n\n    .dataframe tbody tr th {\n        vertical-align: top;\n    }\n\n    .dataframe thead th {\n        text-align: right;\n    }\n</style>\n<table border=\"1\" class=\"dataframe\">\n  <thead>\n    <tr style=\"text-align: right;\">\n      <th></th>\n      <th>care</th>\n      <th>total</th>\n    </tr>\n  </thead>\n  <tbody>\n    <tr>\n      <th>0</th>\n      <td>Casa</td>\n      <td>1972</td>\n    </tr>\n    <tr>\n      <th>1</th>\n      <td>Hospital</td>\n      <td>331</td>\n    </tr>\n    <tr>\n      <th>2</th>\n      <td>Recuperado</td>\n      <td>207</td>\n    </tr>\n    <tr>\n      <th>3</th>\n      <td>Fallecido</td>\n      <td>100</td>\n    </tr>\n    <tr>\n      <th>4</th>\n      <td>Hospital UCI</td>\n      <td>92</td>\n    </tr>\n  </tbody>\n</table>\n</div>"
     },
     "metadata": {},
     "execution_count": 15
    }
   ],
   "source": [
    "# Cases by Care\n",
    "covid_df_by_care = covid_df.groupby('care')['care'].count().sort_values(ascending=False)\n",
    "covid_df_by_care = pd.DataFrame(data={'care': covid_df_by_care.index, 'total': covid_df_by_care.values}, columns=['care', 'total'])\n",
    "# Show dataframe\n",
    "covid_df_by_care.head()"
   ]
  },
  {
   "cell_type": "markdown",
   "metadata": {
    "_cell_guid": "9beb93da-94cc-40b1-ab2c-4ad336f2a46a",
    "_uuid": "61e8c619-4b0c-4b2b-a5ed-f6bff7806fe6"
   },
   "source": [
    "## Cases by Care\n",
    "> ***Output file***: covid19_by_care.csv"
   ]
  },
  {
   "cell_type": "code",
   "execution_count": 16,
   "metadata": {
    "_cell_guid": "6ca8cd77-e856-4376-89cb-0d7c90a77e25",
    "_uuid": "6442a7e1-35fe-4a78-81d3-07fab50fa42f"
   },
   "outputs": [],
   "source": [
    "# Save dataframe\n",
    "covid_df_by_care.to_csv(os.path.join(OUTPUT_DIR, 'covid19_by_care.csv'), index=False)"
   ]
  },
  {
   "cell_type": "markdown",
   "metadata": {
    "_cell_guid": "4b9b9d6b-7e46-43eb-89cb-47485a346f24",
    "_uuid": "be4f6228-8841-4896-a8e8-6b01b14d1edf"
   },
   "source": [
    "---"
   ]
  },
  {
   "cell_type": "code",
   "execution_count": 17,
   "metadata": {
    "_cell_guid": "93704235-8c9d-449b-8977-5947c6f8032f",
    "_uuid": "119b100c-a4cb-4cd1-896b-4d1cfb28a2fa"
   },
   "outputs": [
    {
     "output_type": "execute_result",
     "data": {
      "text/plain": "  sex  total\n0   M   1365\n1   F   1344",
      "text/html": "<div>\n<style scoped>\n    .dataframe tbody tr th:only-of-type {\n        vertical-align: middle;\n    }\n\n    .dataframe tbody tr th {\n        vertical-align: top;\n    }\n\n    .dataframe thead th {\n        text-align: right;\n    }\n</style>\n<table border=\"1\" class=\"dataframe\">\n  <thead>\n    <tr style=\"text-align: right;\">\n      <th></th>\n      <th>sex</th>\n      <th>total</th>\n    </tr>\n  </thead>\n  <tbody>\n    <tr>\n      <th>0</th>\n      <td>M</td>\n      <td>1365</td>\n    </tr>\n    <tr>\n      <th>1</th>\n      <td>F</td>\n      <td>1344</td>\n    </tr>\n  </tbody>\n</table>\n</div>"
     },
     "metadata": {},
     "execution_count": 17
    }
   ],
   "source": [
    "# Cases by Sex\n",
    "covid_df_by_sex = covid_df.groupby('sex')['sex'].count().sort_values(ascending=False)\n",
    "covid_df_by_sex = pd.DataFrame(data={'sex': covid_df_by_sex.index, 'total': covid_df_by_sex.values}, columns=['sex', 'total'])\n",
    "# Show dataframe\n",
    "covid_df_by_sex.head()"
   ]
  },
  {
   "cell_type": "markdown",
   "metadata": {
    "_cell_guid": "c5b9ee90-ec29-4a9a-a738-f0f8636ec361",
    "_uuid": "733038c7-32f8-429a-aed2-c5f237664fca"
   },
   "source": [
    "## Cases by Sex\n",
    "> ***Output file***: covid19_by_sex.csv"
   ]
  },
  {
   "cell_type": "code",
   "execution_count": 18,
   "metadata": {
    "_cell_guid": "a71d82f8-6d66-4393-a275-362c706d4a63",
    "_uuid": "0d45739c-061f-4e58-a59e-1869417254eb"
   },
   "outputs": [],
   "source": [
    "# Save dataframe\n",
    "covid_df_by_sex.to_csv(os.path.join(OUTPUT_DIR, 'covid19_by_sex.csv'), index=False)"
   ]
  },
  {
   "cell_type": "markdown",
   "metadata": {
    "_cell_guid": "24eea2f3-f424-41cc-81bf-572c87fa415e",
    "_uuid": "f110e4af-d8a5-47b8-ad37-d0e250011808"
   },
   "source": [
    "---"
   ]
  },
  {
   "cell_type": "code",
   "execution_count": 19,
   "metadata": {
    "_cell_guid": "3e642967-e203-4d5b-8fad-1252039b733a",
    "_uuid": "2b859d6b-6dfd-4535-8c8e-51e241b031c3"
   },
   "outputs": [
    {
     "output_type": "execute_result",
     "data": {
      "text/plain": "  age  total\n0  32     77\n1  29     73\n2  30     70\n3  28     69\n4  26     68",
      "text/html": "<div>\n<style scoped>\n    .dataframe tbody tr th:only-of-type {\n        vertical-align: middle;\n    }\n\n    .dataframe tbody tr th {\n        vertical-align: top;\n    }\n\n    .dataframe thead th {\n        text-align: right;\n    }\n</style>\n<table border=\"1\" class=\"dataframe\">\n  <thead>\n    <tr style=\"text-align: right;\">\n      <th></th>\n      <th>age</th>\n      <th>total</th>\n    </tr>\n  </thead>\n  <tbody>\n    <tr>\n      <th>0</th>\n      <td>32</td>\n      <td>77</td>\n    </tr>\n    <tr>\n      <th>1</th>\n      <td>29</td>\n      <td>73</td>\n    </tr>\n    <tr>\n      <th>2</th>\n      <td>30</td>\n      <td>70</td>\n    </tr>\n    <tr>\n      <th>3</th>\n      <td>28</td>\n      <td>69</td>\n    </tr>\n    <tr>\n      <th>4</th>\n      <td>26</td>\n      <td>68</td>\n    </tr>\n  </tbody>\n</table>\n</div>"
     },
     "metadata": {},
     "execution_count": 19
    }
   ],
   "source": [
    "# Cases by Age\n",
    "covid_df_by_age = covid_df.groupby('age')['age'].count().sort_values(ascending=False)\n",
    "covid_df_by_age = pd.DataFrame(data={'age': covid_df_by_age.index, 'total': covid_df_by_age.values}, columns=['age', 'total'])\n",
    "# Show dataframe\n",
    "covid_df_by_age.head()"
   ]
  },
  {
   "cell_type": "markdown",
   "metadata": {
    "_cell_guid": "a85e37b7-8156-430f-acd5-3d26381e8aeb",
    "_uuid": "35352764-fef4-448b-a82f-df6a9694716c"
   },
   "source": [
    "## Cases by Age\n",
    "> ***Output file***: covid19_by_age.csv"
   ]
  },
  {
   "cell_type": "code",
   "execution_count": 20,
   "metadata": {
    "_cell_guid": "7afbb197-e5c7-4890-a9b1-ebc99b28a350",
    "_uuid": "ba0bc5c4-3802-49cc-a0df-52ecc0dfaac5"
   },
   "outputs": [],
   "source": [
    "# Save dataframe\n",
    "covid_df_by_age.to_csv(os.path.join(OUTPUT_DIR, 'covid19_by_age.csv'), index=False)"
   ]
  },
  {
   "cell_type": "markdown",
   "metadata": {
    "_cell_guid": "034c933e-f87e-4db4-b105-01495bdd5664",
    "_uuid": "c7c332f9-d956-41eb-9d40-680fa2608bfe"
   },
   "source": [
    "---"
   ]
  },
  {
   "cell_type": "code",
   "execution_count": 21,
   "metadata": {
    "_cell_guid": "054f3132-30e9-4e51-a40e-037e6771b776",
    "_uuid": "ffe65dc8-548a-4f12-b35f-404068e1eed9"
   },
   "outputs": [
    {
     "output_type": "execute_result",
     "data": {
      "text/plain": "  age sex  total\n0  30   F     41\n1  32   M     41\n2  28   M     38\n3  26   F     38\n4  29   M     37",
      "text/html": "<div>\n<style scoped>\n    .dataframe tbody tr th:only-of-type {\n        vertical-align: middle;\n    }\n\n    .dataframe tbody tr th {\n        vertical-align: top;\n    }\n\n    .dataframe thead th {\n        text-align: right;\n    }\n</style>\n<table border=\"1\" class=\"dataframe\">\n  <thead>\n    <tr style=\"text-align: right;\">\n      <th></th>\n      <th>age</th>\n      <th>sex</th>\n      <th>total</th>\n    </tr>\n  </thead>\n  <tbody>\n    <tr>\n      <th>0</th>\n      <td>30</td>\n      <td>F</td>\n      <td>41</td>\n    </tr>\n    <tr>\n      <th>1</th>\n      <td>32</td>\n      <td>M</td>\n      <td>41</td>\n    </tr>\n    <tr>\n      <th>2</th>\n      <td>28</td>\n      <td>M</td>\n      <td>38</td>\n    </tr>\n    <tr>\n      <th>3</th>\n      <td>26</td>\n      <td>F</td>\n      <td>38</td>\n    </tr>\n    <tr>\n      <th>4</th>\n      <td>29</td>\n      <td>M</td>\n      <td>37</td>\n    </tr>\n  </tbody>\n</table>\n</div>"
     },
     "metadata": {},
     "execution_count": 21
    }
   ],
   "source": [
    "# Cases by Age and Sex\n",
    "covid_df_by_age_sex = covid_df.groupby(['age', 'sex'])['id_case'].count().sort_values(ascending=False)\n",
    "covid_df_by_age_sex = pd.DataFrame(data={'age': covid_df_by_age_sex.index.get_level_values('age'), 'sex': covid_df_by_age_sex.index.get_level_values('sex'), 'total': covid_df_by_age_sex.values}, columns=['age', 'sex', 'total'])\n",
    "# Show dataframe\n",
    "covid_df_by_age_sex.head()"
   ]
  },
  {
   "cell_type": "markdown",
   "metadata": {
    "_cell_guid": "23298527-bd63-4466-b5c9-fe2f49e6ac1f",
    "_uuid": "be9c1e38-c3d5-49ca-9d51-8a8dff44bbe6"
   },
   "source": [
    "## Cases by Age and Sex\n",
    "> ***Output file***: covid19_by_age_sex.csv"
   ]
  },
  {
   "cell_type": "code",
   "execution_count": 22,
   "metadata": {
    "_cell_guid": "7f186c45-c98a-4d02-ae53-ec3496f694b0",
    "_uuid": "46e640f1-78b1-4149-8148-abb2f3fafa94"
   },
   "outputs": [],
   "source": [
    "# Save dataframe\n",
    "covid_df_by_age_sex.to_csv(os.path.join(OUTPUT_DIR, 'covid19_by_age_sex.csv'), index=False)"
   ]
  },
  {
   "cell_type": "markdown",
   "metadata": {
    "_cell_guid": "1e3c0372-200f-4d61-80f2-c2f764046922",
    "_uuid": "ee0843fb-82fc-4564-8641-a6b4ff380705"
   },
   "source": [
    "---"
   ]
  },
  {
   "cell_type": "code",
   "execution_count": 23,
   "metadata": {
    "_cell_guid": "dee9627f-ce1d-47ba-be8c-d852cf7df318",
    "_uuid": "29953bdb-0571-42b1-9b2b-eab7d5886362"
   },
   "outputs": [
    {
     "output_type": "execute_result",
     "data": {
      "text/plain": "      age sex  total\n6   30-39   F    302\n7   30-39   M    299\n4   20-29   F    259\n10  50-59   M    255\n8   40-49   F    237",
      "text/html": "<div>\n<style scoped>\n    .dataframe tbody tr th:only-of-type {\n        vertical-align: middle;\n    }\n\n    .dataframe tbody tr th {\n        vertical-align: top;\n    }\n\n    .dataframe thead th {\n        text-align: right;\n    }\n</style>\n<table border=\"1\" class=\"dataframe\">\n  <thead>\n    <tr style=\"text-align: right;\">\n      <th></th>\n      <th>age</th>\n      <th>sex</th>\n      <th>total</th>\n    </tr>\n  </thead>\n  <tbody>\n    <tr>\n      <th>6</th>\n      <td>30-39</td>\n      <td>F</td>\n      <td>302</td>\n    </tr>\n    <tr>\n      <th>7</th>\n      <td>30-39</td>\n      <td>M</td>\n      <td>299</td>\n    </tr>\n    <tr>\n      <th>4</th>\n      <td>20-29</td>\n      <td>F</td>\n      <td>259</td>\n    </tr>\n    <tr>\n      <th>10</th>\n      <td>50-59</td>\n      <td>M</td>\n      <td>255</td>\n    </tr>\n    <tr>\n      <th>8</th>\n      <td>40-49</td>\n      <td>F</td>\n      <td>237</td>\n    </tr>\n  </tbody>\n</table>\n</div>"
     },
     "metadata": {},
     "execution_count": 23
    }
   ],
   "source": [
    "# Build dataframe by Age and Sex using intervals\n",
    "def age_sex_intervals(dataframe):\n",
    "    intervals = []\n",
    "    i = 0\n",
    "    while i < 100:\n",
    "        interval_i = dataframe[(dataframe['age'] >= i) & (dataframe['age'] < i+10)]\n",
    "        interval_i = interval_i.groupby('sex')['total'].sum().sort_values(ascending=False)\n",
    "        if len(interval_i.values) > 0:\n",
    "            interval_i = pd.DataFrame(data={'age': [ str(i) + '-' + str(i+9), str(i) + '-' + str(i+9)], 'sex': interval_i.index, 'total': interval_i.values}, columns=['age', 'sex', 'total'])\n",
    "            intervals.append(interval_i)\n",
    "        i = i + 10\n",
    "    return pd.concat(intervals).reset_index(drop=True)\n",
    "# Cases by Age and Sex using intervals\n",
    "covid_df_by_age_sex_interval = covid_df_by_age_sex\n",
    "covid_df_by_age_sex_interval['age'] = pd.to_numeric(covid_df_by_age_sex_interval['age'])\n",
    "covid_df_by_age_sex_interval = age_sex_intervals(covid_df_by_age_sex_interval)\n",
    "covid_df_by_age_sex_interval.sort_values(ascending=False, inplace=True, by=['total'])\n",
    "# Show dataframe\n",
    "covid_df_by_age_sex_interval.head()"
   ]
  },
  {
   "cell_type": "markdown",
   "metadata": {
    "_cell_guid": "ed6bd4a1-2a4b-4609-b405-f0fd02f70363",
    "_uuid": "67ea25e5-e294-4892-98b7-50a5fd6230cf"
   },
   "source": [
    "## Cases by Age and Sex Interval\n",
    "> ***Output file***: covid19_by_age_sex_interval.csv"
   ]
  },
  {
   "cell_type": "code",
   "execution_count": 24,
   "metadata": {
    "_cell_guid": "032c5966-a55f-4c4b-a4fc-18a16faa5847",
    "_uuid": "e5b241cb-c6e2-4817-8a82-16b1082c5425"
   },
   "outputs": [],
   "source": [
    "# Save dataframe\n",
    "covid_df_by_age_sex_interval.to_csv(os.path.join(OUTPUT_DIR, 'covid19_by_age_sex_interval.csv'), index=False)"
   ]
  },
  {
   "cell_type": "markdown",
   "metadata": {
    "_cell_guid": "a54f289b-334e-4717-9ed9-8badf7ccf2e7",
    "_uuid": "d7bf0618-4791-403d-b151-974c790c7d7e"
   },
   "source": [
    "---"
   ]
  },
  {
   "cell_type": "code",
   "execution_count": 25,
   "metadata": {
    "_cell_guid": "79dfb62d-653d-4841-abee-bb9b553d1c09",
    "_uuid": "25c19be9-1dec-4b80-a3e6-d1d4db18f86a"
   },
   "outputs": [
    {
     "output_type": "execute_result",
     "data": {
      "text/plain": "           city  total\n0        Bogota   1164\n1          Cali    379\n2      Medellin    155\n3     Cartagena    108\n4  Barranquilla     65",
      "text/html": "<div>\n<style scoped>\n    .dataframe tbody tr th:only-of-type {\n        vertical-align: middle;\n    }\n\n    .dataframe tbody tr th {\n        vertical-align: top;\n    }\n\n    .dataframe thead th {\n        text-align: right;\n    }\n</style>\n<table border=\"1\" class=\"dataframe\">\n  <thead>\n    <tr style=\"text-align: right;\">\n      <th></th>\n      <th>city</th>\n      <th>total</th>\n    </tr>\n  </thead>\n  <tbody>\n    <tr>\n      <th>0</th>\n      <td>Bogota</td>\n      <td>1164</td>\n    </tr>\n    <tr>\n      <th>1</th>\n      <td>Cali</td>\n      <td>379</td>\n    </tr>\n    <tr>\n      <th>2</th>\n      <td>Medellin</td>\n      <td>155</td>\n    </tr>\n    <tr>\n      <th>3</th>\n      <td>Cartagena</td>\n      <td>108</td>\n    </tr>\n    <tr>\n      <th>4</th>\n      <td>Barranquilla</td>\n      <td>65</td>\n    </tr>\n  </tbody>\n</table>\n</div>"
     },
     "metadata": {},
     "execution_count": 25
    }
   ],
   "source": [
    "# Cases by City\n",
    "covid_df_by_city = covid_df.groupby('city')['city'].count().sort_values(ascending=False)\n",
    "covid_df_by_city = pd.DataFrame(data={'city': covid_df_by_city.index, 'total': covid_df_by_city.values}, columns=['city', 'total'])\n",
    "# Show dataframe\n",
    "covid_df_by_city.head()"
   ]
  },
  {
   "cell_type": "code",
   "execution_count": 26,
   "metadata": {
    "_cell_guid": "cc83f992-9825-4594-945a-f76f793056ec",
    "_uuid": "30f2d954-d483-4cf3-9460-3b11038690ea"
   },
   "outputs": [],
   "source": [
    "# Find city geolocation\n",
    "def findgeopoint(city):\n",
    "    geo = geolocator.geocode(city + ', Colombia')\n",
    "    if geo:\n",
    "        return geo.point\n",
    "    else:\n",
    "        return geolocator.geocode('Colombia').point"
   ]
  },
  {
   "cell_type": "code",
   "execution_count": 27,
   "metadata": {
    "_cell_guid": "c92b96e0-b156-4e66-887a-898afd453f66",
    "_uuid": "2f6077b0-ed5c-404e-8e6f-0b2f2ee26db2"
   },
   "outputs": [
    {
     "output_type": "execute_result",
     "data": {
      "text/plain": "           city  total        lat        lng\n0        Bogota   1164   4.598080 -74.076044\n1          Cali    379   3.451792 -76.532494\n2      Medellin    155   6.244338 -75.573553\n3     Cartagena    108  10.419584 -75.527122\n4  Barranquilla     65  10.979967 -74.801309",
      "text/html": "<div>\n<style scoped>\n    .dataframe tbody tr th:only-of-type {\n        vertical-align: middle;\n    }\n\n    .dataframe tbody tr th {\n        vertical-align: top;\n    }\n\n    .dataframe thead th {\n        text-align: right;\n    }\n</style>\n<table border=\"1\" class=\"dataframe\">\n  <thead>\n    <tr style=\"text-align: right;\">\n      <th></th>\n      <th>city</th>\n      <th>total</th>\n      <th>lat</th>\n      <th>lng</th>\n    </tr>\n  </thead>\n  <tbody>\n    <tr>\n      <th>0</th>\n      <td>Bogota</td>\n      <td>1164</td>\n      <td>4.598080</td>\n      <td>-74.076044</td>\n    </tr>\n    <tr>\n      <th>1</th>\n      <td>Cali</td>\n      <td>379</td>\n      <td>3.451792</td>\n      <td>-76.532494</td>\n    </tr>\n    <tr>\n      <th>2</th>\n      <td>Medellin</td>\n      <td>155</td>\n      <td>6.244338</td>\n      <td>-75.573553</td>\n    </tr>\n    <tr>\n      <th>3</th>\n      <td>Cartagena</td>\n      <td>108</td>\n      <td>10.419584</td>\n      <td>-75.527122</td>\n    </tr>\n    <tr>\n      <th>4</th>\n      <td>Barranquilla</td>\n      <td>65</td>\n      <td>10.979967</td>\n      <td>-74.801309</td>\n    </tr>\n  </tbody>\n</table>\n</div>"
     },
     "metadata": {},
     "execution_count": 27
    }
   ],
   "source": [
    "# Add city geolocation\n",
    "covid_df_by_city['geo'] = covid_df_by_city['city'].transform(lambda value: findgeopoint(value))\n",
    "# Add city latitude and longitude\n",
    "covid_df_by_city['lat'] = covid_df_by_city['geo'].transform(lambda value: value.latitude)\n",
    "covid_df_by_city['lng'] = covid_df_by_city['geo'].transform(lambda value: value.longitude)\n",
    "covid_df_by_city = covid_df_by_city.drop(columns=['geo'])\n",
    "# Show dataframe\n",
    "covid_df_by_city.head()"
   ]
  },
  {
   "cell_type": "markdown",
   "metadata": {
    "_cell_guid": "cea3e6b7-094e-4af9-b393-769beac4ae10",
    "_uuid": "42fd8752-0da4-4eff-ab39-1621f4416e98"
   },
   "source": [
    "## Cases by City\n",
    "> ***Output file***: covid19_by_city.csv"
   ]
  },
  {
   "cell_type": "code",
   "execution_count": 28,
   "metadata": {
    "_cell_guid": "b4d33f99-b023-4926-98e5-740ece487873",
    "_uuid": "16cc7e10-967e-4935-8cfc-c820ba835f49"
   },
   "outputs": [],
   "source": [
    "# Save dataframe\n",
    "covid_df_by_city.to_csv(os.path.join(OUTPUT_DIR, 'covid19_by_city.csv'), index=False)"
   ]
  },
  {
   "cell_type": "markdown",
   "metadata": {
    "_cell_guid": "eb01b5fd-d8bd-4379-ab51-c9b259ebe3ea",
    "_uuid": "fc66559e-7a21-4720-9913-b23f976183d9"
   },
   "source": [
    "---"
   ]
  },
  {
   "cell_type": "code",
   "execution_count": 29,
   "metadata": {
    "_cell_guid": "7b577cdd-70bb-48cf-90ff-cd546e2d3ab3",
    "_uuid": "3c6d547b-735d-4552-8119-22a714dc684b"
   },
   "outputs": [
    {
     "output_type": "execute_result",
     "data": {
      "text/plain": "            dept_dist  total\n0         Bogota D.C.   1164\n1     Valle del Cauca    473\n2           Antioquia    253\n3  Cartagena D.T. y C    108\n4        Cundinamarca    105",
      "text/html": "<div>\n<style scoped>\n    .dataframe tbody tr th:only-of-type {\n        vertical-align: middle;\n    }\n\n    .dataframe tbody tr th {\n        vertical-align: top;\n    }\n\n    .dataframe thead th {\n        text-align: right;\n    }\n</style>\n<table border=\"1\" class=\"dataframe\">\n  <thead>\n    <tr style=\"text-align: right;\">\n      <th></th>\n      <th>dept_dist</th>\n      <th>total</th>\n    </tr>\n  </thead>\n  <tbody>\n    <tr>\n      <th>0</th>\n      <td>Bogota D.C.</td>\n      <td>1164</td>\n    </tr>\n    <tr>\n      <th>1</th>\n      <td>Valle del Cauca</td>\n      <td>473</td>\n    </tr>\n    <tr>\n      <th>2</th>\n      <td>Antioquia</td>\n      <td>253</td>\n    </tr>\n    <tr>\n      <th>3</th>\n      <td>Cartagena D.T. y C</td>\n      <td>108</td>\n    </tr>\n    <tr>\n      <th>4</th>\n      <td>Cundinamarca</td>\n      <td>105</td>\n    </tr>\n  </tbody>\n</table>\n</div>"
     },
     "metadata": {},
     "execution_count": 29
    }
   ],
   "source": [
    "# Cases by Department or District\n",
    "covid_df_by_dept_dist = covid_df.groupby('dept_dist')['dept_dist'].count().sort_values(ascending=False)\n",
    "covid_df_by_dept_dist = pd.DataFrame(data={'dept_dist': covid_df_by_dept_dist.index, 'total': covid_df_by_dept_dist.values}, columns=['dept_dist', 'total'])\n",
    "# Show dataframe\n",
    "covid_df_by_dept_dist.head()"
   ]
  },
  {
   "cell_type": "code",
   "execution_count": 30,
   "metadata": {
    "_cell_guid": "dc441978-07f8-45ff-a51d-b67b26dcf470",
    "_uuid": "7b5e5a1f-6fff-4146-bac2-aeceb41bf8af"
   },
   "outputs": [
    {
     "output_type": "execute_result",
     "data": {
      "text/plain": "            dept_dist  total       lat        lng\n0         Bogota D.C.   1164  4.598080 -74.076044\n1     Valle del Cauca    473  4.063957 -76.123377\n2           Antioquia    253  7.153843 -75.444040\n3  Cartagena D.T. y C    108  2.889443 -73.783892\n4        Cundinamarca    105  5.000009 -74.166676",
      "text/html": "<div>\n<style scoped>\n    .dataframe tbody tr th:only-of-type {\n        vertical-align: middle;\n    }\n\n    .dataframe tbody tr th {\n        vertical-align: top;\n    }\n\n    .dataframe thead th {\n        text-align: right;\n    }\n</style>\n<table border=\"1\" class=\"dataframe\">\n  <thead>\n    <tr style=\"text-align: right;\">\n      <th></th>\n      <th>dept_dist</th>\n      <th>total</th>\n      <th>lat</th>\n      <th>lng</th>\n    </tr>\n  </thead>\n  <tbody>\n    <tr>\n      <th>0</th>\n      <td>Bogota D.C.</td>\n      <td>1164</td>\n      <td>4.598080</td>\n      <td>-74.076044</td>\n    </tr>\n    <tr>\n      <th>1</th>\n      <td>Valle del Cauca</td>\n      <td>473</td>\n      <td>4.063957</td>\n      <td>-76.123377</td>\n    </tr>\n    <tr>\n      <th>2</th>\n      <td>Antioquia</td>\n      <td>253</td>\n      <td>7.153843</td>\n      <td>-75.444040</td>\n    </tr>\n    <tr>\n      <th>3</th>\n      <td>Cartagena D.T. y C</td>\n      <td>108</td>\n      <td>2.889443</td>\n      <td>-73.783892</td>\n    </tr>\n    <tr>\n      <th>4</th>\n      <td>Cundinamarca</td>\n      <td>105</td>\n      <td>5.000009</td>\n      <td>-74.166676</td>\n    </tr>\n  </tbody>\n</table>\n</div>"
     },
     "metadata": {},
     "execution_count": 30
    }
   ],
   "source": [
    "# Add dept_dist geolocation\n",
    "covid_df_by_dept_dist['geo'] = covid_df_by_dept_dist['dept_dist'].transform(lambda value: findgeopoint(value))\n",
    "# Add city latitude and longitude\n",
    "covid_df_by_dept_dist['lat'] = covid_df_by_dept_dist['geo'].transform(lambda value: value.latitude)\n",
    "covid_df_by_dept_dist['lng'] = covid_df_by_dept_dist['geo'].transform(lambda value: value.longitude)\n",
    "covid_df_by_dept_dist = covid_df_by_dept_dist.drop(columns=['geo'])\n",
    "# Show dataframe\n",
    "covid_df_by_dept_dist.head()"
   ]
  },
  {
   "cell_type": "markdown",
   "metadata": {
    "_cell_guid": "c63fd33f-37b7-4227-9b75-c4cf63e483f1",
    "_uuid": "19bdb66b-163c-4c22-9fff-77b2b83c8d37"
   },
   "source": [
    "## Cases by Department or District\n",
    "> ***Output file***: covid19_by_dept_dist.csv"
   ]
  },
  {
   "cell_type": "code",
   "execution_count": 31,
   "metadata": {
    "_cell_guid": "aba583b5-1a76-42c9-b184-a5df6562a707",
    "_uuid": "9d8c28f8-1ea1-48c1-aa85-afb76dc5e38b"
   },
   "outputs": [],
   "source": [
    "# Save dataframe\n",
    "covid_df_by_dept_dist.to_csv(os.path.join(OUTPUT_DIR, 'covid19_by_dept_dist.csv'), index=False)"
   ]
  },
  {
   "cell_type": "markdown",
   "metadata": {
    "_cell_guid": "b7bfd36d-ec5d-4988-8f5c-0a714f1f904f",
    "_uuid": "3196a10c-c5d6-40e0-a915-5facbb8412f5"
   },
   "source": [
    "---"
   ]
  },
  {
   "cell_type": "code",
   "execution_count": 32,
   "metadata": {
    "_cell_guid": "8f6613ae-df8a-46c7-840b-b3a2a78a237e",
    "_uuid": "6e92a84f-5984-47fa-81f2-ffa9d71d6acc"
   },
   "outputs": [],
   "source": [
    "# Cases by Care by Date\n",
    "#list_care = list(set(covid_df['care'].values))\n",
    "list_care = ['Hospital', 'Hospital UCI', 'Casa', 'Fallecido', 'Recuperado']\n",
    "#print('list_care', list_care)\n",
    "cases_by_care_by_date = []\n",
    "# Each Care\n",
    "for care in list_care:\n",
    "    covid_df_care_by_date = covid_df[covid_df['care'] == care]\n",
    "    covid_df_care_by_date = covid_df_care_by_date.groupby('date')['date'].count()\n",
    "    covid_df_care_by_date = pd.DataFrame(data={'date': covid_df_care_by_date.index, 'care': ([care] * len(covid_df_care_by_date.index)), 'total': covid_df_care_by_date.values}, columns=['date', 'care', 'total'])\n",
    "    covid_df_care_by_date['date_iso'] = pd.to_datetime(covid_df_care_by_date['date'], format='%d/%m/%Y')\n",
    "    covid_df_care_by_date = covid_df_care_by_date.sort_values(by=['date_iso'], ascending=True)\n",
    "    covid_df_care_by_date['cumsum'] = covid_df_care_by_date['total'].cumsum()\n",
    "    covid_df_care_by_date = covid_df_care_by_date.drop(columns=['date_iso'])\n",
    "    covid_df_care_by_date.reset_index(inplace=True, drop=True)\n",
    "    cases_by_care_by_date.append(covid_df_care_by_date)\n",
    "# Show dataframe\n",
    "#for i, care in enumerate(list_care):\n",
    "#    print(care, '\\n', cases_by_care_by_date[i].tail())"
   ]
  },
  {
   "cell_type": "markdown",
   "metadata": {
    "_cell_guid": "7a1bf898-5a2b-4ce8-a7a1-08e9bd4bfafe",
    "_uuid": "10f935b2-5f6d-49e2-9a02-fed89c56deba"
   },
   "source": [
    "## Cases by Care by Date\n",
    "> ***Output files***: covid19_cases_by_care_by_date_(int).csv"
   ]
  },
  {
   "cell_type": "code",
   "execution_count": 33,
   "metadata": {
    "_cell_guid": "4d1f9c85-2985-4262-aeea-c3034995a0b6",
    "_uuid": "8eb9b371-8dea-48f7-a29b-bad82b555de9"
   },
   "outputs": [],
   "source": [
    "# Save dataframe\n",
    "list_care_file = ['hospital', 'uci', 'casa', 'fallecido', 'recuperado']\n",
    "for i, care in enumerate(list_care):\n",
    "    cases_by_care_by_date[i].to_csv(os.path.join(OUTPUT_DIR, 'covid19_cases_by_' + list_care_file[i] + '_by_date.csv'), index=False)"
   ]
  },
  {
   "cell_type": "markdown",
   "metadata": {
    "_cell_guid": "4fb88531-29d4-41ec-af58-00086e83e189",
    "_uuid": "a4688652-20bb-47a4-ad62-09c1f533b051"
   },
   "source": [
    "---"
   ]
  },
  {
   "cell_type": "code",
   "execution_count": 34,
   "metadata": {
    "_cell_guid": "3f4b5640-2775-495c-b276-015ab10e1c9f",
    "_uuid": "ea6d94e7-7c8b-41aa-a28d-18afdbf0ccac"
   },
   "outputs": [
    {
     "output_type": "execute_result",
     "data": {
      "text/plain": "              country_origin  total\n0                   Colombia   1960\n1                     España    246\n2  Estados Unidos De América    182\n3                    Ecuador     45\n4                     Mexico     41",
      "text/html": "<div>\n<style scoped>\n    .dataframe tbody tr th:only-of-type {\n        vertical-align: middle;\n    }\n\n    .dataframe tbody tr th {\n        vertical-align: top;\n    }\n\n    .dataframe thead th {\n        text-align: right;\n    }\n</style>\n<table border=\"1\" class=\"dataframe\">\n  <thead>\n    <tr style=\"text-align: right;\">\n      <th></th>\n      <th>country_origin</th>\n      <th>total</th>\n    </tr>\n  </thead>\n  <tbody>\n    <tr>\n      <th>0</th>\n      <td>Colombia</td>\n      <td>1960</td>\n    </tr>\n    <tr>\n      <th>1</th>\n      <td>España</td>\n      <td>246</td>\n    </tr>\n    <tr>\n      <th>2</th>\n      <td>Estados Unidos De América</td>\n      <td>182</td>\n    </tr>\n    <tr>\n      <th>3</th>\n      <td>Ecuador</td>\n      <td>45</td>\n    </tr>\n    <tr>\n      <th>4</th>\n      <td>Mexico</td>\n      <td>41</td>\n    </tr>\n  </tbody>\n</table>\n</div>"
     },
     "metadata": {},
     "execution_count": 34
    }
   ],
   "source": [
    "# Cases by Country Origin\n",
    "covid_df_by_country_origin = covid_df.groupby('country_origin')['country_origin'].count().sort_values(ascending=False)\n",
    "covid_df_by_country_origin = pd.DataFrame(data={'country_origin': covid_df_by_country_origin.index, 'total': covid_df_by_country_origin.values}, columns=['country_origin', 'total'])\n",
    "# Show dataframe\n",
    "covid_df_by_country_origin.head()"
   ]
  },
  {
   "cell_type": "markdown",
   "metadata": {
    "_cell_guid": "9cbaf002-569c-456e-9f27-fde18ada5e64",
    "_uuid": "089e0516-fc59-4a0c-9ba1-a9e8d1f9f067"
   },
   "source": [
    "## Cases by Country Origin\n",
    "> ***Output file***: covid19_by_country_origin.csv"
   ]
  },
  {
   "cell_type": "code",
   "execution_count": 35,
   "metadata": {
    "_cell_guid": "55ff63f7-6b73-427e-9587-bd16a7ba216a",
    "_uuid": "bd47e595-920f-489e-9474-294d233fb4b7"
   },
   "outputs": [],
   "source": [
    "# Save dataframe\n",
    "covid_df_by_country_origin.to_csv(os.path.join(OUTPUT_DIR, 'covid19_by_country_origin.csv'), index=False)"
   ]
  },
  {
   "cell_type": "markdown",
   "metadata": {
    "_cell_guid": "b69a7435-3934-4d73-8c6f-9f08f4b33ea9",
    "_uuid": "1aca28a3-3526-4766-9b0d-063da9827930"
   },
   "source": [
    "---"
   ]
  },
  {
   "cell_type": "code",
   "execution_count": 36,
   "metadata": {
    "_cell_guid": "1905945d-3a11-437c-bb97-505f6efa20a2",
    "_uuid": "1b32ce6c-6451-4ab4-bf1c-72e834f5b480"
   },
   "outputs": [
    {
     "output_type": "execute_result",
     "data": {
      "text/plain": "          kind  total\n0   En estudio   1126\n1  Relacionado    828\n2    Importado    755",
      "text/html": "<div>\n<style scoped>\n    .dataframe tbody tr th:only-of-type {\n        vertical-align: middle;\n    }\n\n    .dataframe tbody tr th {\n        vertical-align: top;\n    }\n\n    .dataframe thead th {\n        text-align: right;\n    }\n</style>\n<table border=\"1\" class=\"dataframe\">\n  <thead>\n    <tr style=\"text-align: right;\">\n      <th></th>\n      <th>kind</th>\n      <th>total</th>\n    </tr>\n  </thead>\n  <tbody>\n    <tr>\n      <th>0</th>\n      <td>En estudio</td>\n      <td>1126</td>\n    </tr>\n    <tr>\n      <th>1</th>\n      <td>Relacionado</td>\n      <td>828</td>\n    </tr>\n    <tr>\n      <th>2</th>\n      <td>Importado</td>\n      <td>755</td>\n    </tr>\n  </tbody>\n</table>\n</div>"
     },
     "metadata": {},
     "execution_count": 36
    }
   ],
   "source": [
    "# Cases by Kind\n",
    "covid_df_by_kind = covid_df.groupby('kind')['kind'].count().sort_values(ascending=False)\n",
    "covid_df_by_kind = pd.DataFrame(data={'kind': covid_df_by_kind.index, 'total': covid_df_by_kind.values}, columns=['kind', 'total'])\n",
    "# Show dataframe\n",
    "covid_df_by_kind.head()"
   ]
  },
  {
   "cell_type": "markdown",
   "metadata": {
    "_cell_guid": "2c94c24e-8d65-4818-8b11-f54ed015cbd5",
    "_uuid": "d88ad8ef-63ed-4698-b9d6-ae3829cc6e20"
   },
   "source": [
    "## Cases by Kind\n",
    "> ***Output file***: covid19_by_kind.csv"
   ]
  },
  {
   "cell_type": "code",
   "execution_count": 37,
   "metadata": {
    "_cell_guid": "6eb32cf9-8ef5-4577-b34b-148c8ff74655",
    "_uuid": "cfb10b30-238c-4ee4-a1f4-55dd2656000c"
   },
   "outputs": [],
   "source": [
    "# Save dataframe\n",
    "covid_df_by_kind.to_csv(os.path.join(OUTPUT_DIR, 'covid19_by_kind.csv'), index=False)"
   ]
  },
  {
   "cell_type": "markdown",
   "metadata": {
    "_cell_guid": "d2165df5-322c-41ba-933d-1cac9f4e2c9c",
    "_uuid": "39770bb6-f240-4d55-bbf3-154035a47a93"
   },
   "source": [
    "---"
   ]
  },
  {
   "cell_type": "code",
   "execution_count": 38,
   "metadata": {
    "_cell_guid": "10eea89f-bee1-4b84-a7f7-74b7293ce360",
    "_uuid": "866ccf36-6ec0-4423-8dd7-614d4252b0f8"
   },
   "outputs": [],
   "source": [
    "# Descarted Cases\n",
    "# Reading the json as a dict\n",
    "with requests.get('https://infogram.com/api/live/flex/5eb73bf0-6714-4bac-87cc-9ef0613bf697/c9a25571-e7c5-43c6-a7ac-d834a3b5e872?') as original_dataset:\n",
    "    data = original_dataset.json()\n",
    "#print(data['data'][0][4][0])\n",
    "\n",
    "# Get attributes and data\n",
    "attrs = data['data'][0][4][0]\n",
    "del data\n",
    "#print(attrs)\n",
    "descarted_cases = attrs.split('<b>')[1].split('</b>')[0].replace('.', '')\n",
    "#print('Descarted Cases:', descarted_cases)"
   ]
  },
  {
   "cell_type": "markdown",
   "metadata": {
    "_cell_guid": "b24380c6-6714-447d-87c8-47faf36ae9b8",
    "_uuid": "895de4c8-8387-4c8d-a61e-92bc1de8d94a"
   },
   "source": [
    "---"
   ]
  },
  {
   "cell_type": "code",
   "execution_count": 39,
   "metadata": {
    "_cell_guid": "44e90380-9f1e-4910-9383-2ed2e97d4102",
    "_uuid": "45a1ea0f-0f3d-480e-8553-ccdf765eaa2a"
   },
   "outputs": [
    {
     "output_type": "execute_result",
     "data": {
      "text/plain": "             Periodo Muestras procesadas Acumulado procesadas\n1  02/03/20-08/03/20                 160                  759\n2  09/03/20-15/03/20                1584                 2343\n3  16/03/20-22/03/20                4818                 7161\n4  23/03/20-29/03/20                8903                16064\n5  30/03/20-05/04/20               11621                27685",
      "text/html": "<div>\n<style scoped>\n    .dataframe tbody tr th:only-of-type {\n        vertical-align: middle;\n    }\n\n    .dataframe tbody tr th {\n        vertical-align: top;\n    }\n\n    .dataframe thead th {\n        text-align: right;\n    }\n</style>\n<table border=\"1\" class=\"dataframe\">\n  <thead>\n    <tr style=\"text-align: right;\">\n      <th></th>\n      <th>Periodo</th>\n      <th>Muestras procesadas</th>\n      <th>Acumulado procesadas</th>\n    </tr>\n  </thead>\n  <tbody>\n    <tr>\n      <th>1</th>\n      <td>02/03/20-08/03/20</td>\n      <td>160</td>\n      <td>759</td>\n    </tr>\n    <tr>\n      <th>2</th>\n      <td>09/03/20-15/03/20</td>\n      <td>1584</td>\n      <td>2343</td>\n    </tr>\n    <tr>\n      <th>3</th>\n      <td>16/03/20-22/03/20</td>\n      <td>4818</td>\n      <td>7161</td>\n    </tr>\n    <tr>\n      <th>4</th>\n      <td>23/03/20-29/03/20</td>\n      <td>8903</td>\n      <td>16064</td>\n    </tr>\n    <tr>\n      <th>5</th>\n      <td>30/03/20-05/04/20</td>\n      <td>11621</td>\n      <td>27685</td>\n    </tr>\n  </tbody>\n</table>\n</div>"
     },
     "metadata": {},
     "execution_count": 39
    }
   ],
   "source": [
    "# Samples Processed\n",
    "# Reading the json as a dict\n",
    "with requests.get('https://infogram.com/api/live/flex/bc384047-e71c-47d9-b606-1eb6a29962e3/523ca417-2781-47f0-87e8-1ccc2d5c2839?') as original_dataset:\n",
    "    data = original_dataset.json()\n",
    "#print(data['data'])\n",
    "#print(data['data'][2])\n",
    "\n",
    "# Get attributes and data\n",
    "attrs = data['data'][2][0]\n",
    "attrs[0] = 'Periodo'\n",
    "del data['data'][2][0]\n",
    "#print(attrs)\n",
    "data = data['data'][2]\n",
    "#print(data)\n",
    "\n",
    "# Build dataframe\n",
    "covid_df_samples_processed = pd.DataFrame(data=data, columns=attrs)\n",
    "\n",
    "# Size dataframe\n",
    "covid_df_samples_processed.tail()"
   ]
  },
  {
   "cell_type": "code",
   "execution_count": 40,
   "metadata": {
    "_cell_guid": "72060361-103b-43ea-8034-7ccb48a96c38",
    "_uuid": "78bcee32-764f-47d2-b9e9-f7501cfefa9e"
   },
   "outputs": [
    {
     "output_type": "execute_result",
     "data": {
      "text/plain": "              period total_samples accum_samples\n1  02/03/20-08/03/20           160           759\n2  09/03/20-15/03/20          1584          2343\n3  16/03/20-22/03/20          4818          7161\n4  23/03/20-29/03/20          8903         16064\n5  30/03/20-05/04/20         11621         27685",
      "text/html": "<div>\n<style scoped>\n    .dataframe tbody tr th:only-of-type {\n        vertical-align: middle;\n    }\n\n    .dataframe tbody tr th {\n        vertical-align: top;\n    }\n\n    .dataframe thead th {\n        text-align: right;\n    }\n</style>\n<table border=\"1\" class=\"dataframe\">\n  <thead>\n    <tr style=\"text-align: right;\">\n      <th></th>\n      <th>period</th>\n      <th>total_samples</th>\n      <th>accum_samples</th>\n    </tr>\n  </thead>\n  <tbody>\n    <tr>\n      <th>1</th>\n      <td>02/03/20-08/03/20</td>\n      <td>160</td>\n      <td>759</td>\n    </tr>\n    <tr>\n      <th>2</th>\n      <td>09/03/20-15/03/20</td>\n      <td>1584</td>\n      <td>2343</td>\n    </tr>\n    <tr>\n      <th>3</th>\n      <td>16/03/20-22/03/20</td>\n      <td>4818</td>\n      <td>7161</td>\n    </tr>\n    <tr>\n      <th>4</th>\n      <td>23/03/20-29/03/20</td>\n      <td>8903</td>\n      <td>16064</td>\n    </tr>\n    <tr>\n      <th>5</th>\n      <td>30/03/20-05/04/20</td>\n      <td>11621</td>\n      <td>27685</td>\n    </tr>\n  </tbody>\n</table>\n</div>"
     },
     "metadata": {},
     "execution_count": 40
    }
   ],
   "source": [
    "# Rename columns\n",
    "covid_df_samples_processed.rename(columns={\n",
    "    \"Periodo\": \"period\",\n",
    "    \"Muestras procesadas\": \"total_samples\",\n",
    "    \"Acumulado procesadas\": \"accum_samples\"}, inplace=True)\n",
    "# Show dataframe\n",
    "covid_df_samples_processed.tail()"
   ]
  },
  {
   "cell_type": "code",
   "execution_count": 41,
   "metadata": {
    "_cell_guid": "89020e21-0c8c-4146-b0ca-23d031774eea",
    "_uuid": "6cd729b8-cf42-4f8a-9e5a-9373690bb8ea"
   },
   "outputs": [
    {
     "output_type": "execute_result",
     "data": {
      "text/plain": "                  period total_samples accum_samples\n1  02/03/2020-08/03/2020           160           759\n2  09/03/2020-15/03/2020          1584          2343\n3  16/03/2020-22/03/2020          4818          7161\n4  23/03/2020-29/03/2020          8903         16064\n5  30/03/2020-05/04/2020         11621         27685",
      "text/html": "<div>\n<style scoped>\n    .dataframe tbody tr th:only-of-type {\n        vertical-align: middle;\n    }\n\n    .dataframe tbody tr th {\n        vertical-align: top;\n    }\n\n    .dataframe thead th {\n        text-align: right;\n    }\n</style>\n<table border=\"1\" class=\"dataframe\">\n  <thead>\n    <tr style=\"text-align: right;\">\n      <th></th>\n      <th>period</th>\n      <th>total_samples</th>\n      <th>accum_samples</th>\n    </tr>\n  </thead>\n  <tbody>\n    <tr>\n      <th>1</th>\n      <td>02/03/2020-08/03/2020</td>\n      <td>160</td>\n      <td>759</td>\n    </tr>\n    <tr>\n      <th>2</th>\n      <td>09/03/2020-15/03/2020</td>\n      <td>1584</td>\n      <td>2343</td>\n    </tr>\n    <tr>\n      <th>3</th>\n      <td>16/03/2020-22/03/2020</td>\n      <td>4818</td>\n      <td>7161</td>\n    </tr>\n    <tr>\n      <th>4</th>\n      <td>23/03/2020-29/03/2020</td>\n      <td>8903</td>\n      <td>16064</td>\n    </tr>\n    <tr>\n      <th>5</th>\n      <td>30/03/2020-05/04/2020</td>\n      <td>11621</td>\n      <td>27685</td>\n    </tr>\n  </tbody>\n</table>\n</div>"
     },
     "metadata": {},
     "execution_count": 41
    }
   ],
   "source": [
    "# Update date format\n",
    "def update_date_format(period):\n",
    "    date1 = period.split('-')[0]\n",
    "    date2 = period.split('-')[1]\n",
    "    if date1.split('/')[-1] == '20':\n",
    "        date1 = '/'.join(date1.split('/')[0:-1]) + '/2020'\n",
    "    if date2.split('/')[-1] == '20':\n",
    "        date2 = '/'.join(date2.split('/')[0:-1]) + '/2020'\n",
    "    return date1 + '-' + date2\n",
    "# Example\n",
    "#update_date_format('02/03/20-08/03/20')\n",
    "# Update date format\n",
    "covid_df_samples_processed['period'] = covid_df_samples_processed['period'].transform(lambda value: update_date_format(value))\n",
    "# Show dataframe\n",
    "covid_df_samples_processed.tail()"
   ]
  },
  {
   "cell_type": "markdown",
   "metadata": {
    "_cell_guid": "b6fbb6b8-3255-484a-a593-3600cc36ede1",
    "_uuid": "96762b78-3c1f-4add-bf11-7bf6da182699"
   },
   "source": [
    "## Samples Processed\n",
    "> ***Output file***: covid19_samples_processed.csv"
   ]
  },
  {
   "cell_type": "code",
   "execution_count": 42,
   "metadata": {
    "_cell_guid": "6d887b62-295e-4612-a169-acce3329dd18",
    "_uuid": "e846c28a-3ee9-486f-acdd-dadf278b1eb3"
   },
   "outputs": [],
   "source": [
    "# Save dataframe\n",
    "covid_df_samples_processed.to_csv(os.path.join(OUTPUT_DIR, 'covid19_samples_processed.csv'), index=False)"
   ]
  },
  {
   "cell_type": "markdown",
   "metadata": {
    "_cell_guid": "70bef354-4cef-46b5-9997-1da422fe6dd0",
    "_uuid": "ec6f7c30-8d79-40a1-a950-5ddd017b3771"
   },
   "source": [
    "---"
   ]
  },
  {
   "cell_type": "code",
   "execution_count": 43,
   "metadata": {
    "_cell_guid": "b2225326-62de-4f23-a5f3-7050982fd45c",
    "_uuid": "f0a79761-629b-48d7-a0c2-3073bd8cae80"
   },
   "outputs": [
    {
     "output_type": "execute_result",
     "data": {
      "text/plain": "                 title  total\n0          Confirmados   2709\n1          Recuperados    207\n2              Muertes    100\n3    Casos descartados  37894\n4            Importado    755\n5          Relacionado    828\n6           En estudio   1126\n7  Muestras procesadas  27685",
      "text/html": "<div>\n<style scoped>\n    .dataframe tbody tr th:only-of-type {\n        vertical-align: middle;\n    }\n\n    .dataframe tbody tr th {\n        vertical-align: top;\n    }\n\n    .dataframe thead th {\n        text-align: right;\n    }\n</style>\n<table border=\"1\" class=\"dataframe\">\n  <thead>\n    <tr style=\"text-align: right;\">\n      <th></th>\n      <th>title</th>\n      <th>total</th>\n    </tr>\n  </thead>\n  <tbody>\n    <tr>\n      <th>0</th>\n      <td>Confirmados</td>\n      <td>2709</td>\n    </tr>\n    <tr>\n      <th>1</th>\n      <td>Recuperados</td>\n      <td>207</td>\n    </tr>\n    <tr>\n      <th>2</th>\n      <td>Muertes</td>\n      <td>100</td>\n    </tr>\n    <tr>\n      <th>3</th>\n      <td>Casos descartados</td>\n      <td>37894</td>\n    </tr>\n    <tr>\n      <th>4</th>\n      <td>Importado</td>\n      <td>755</td>\n    </tr>\n    <tr>\n      <th>5</th>\n      <td>Relacionado</td>\n      <td>828</td>\n    </tr>\n    <tr>\n      <th>6</th>\n      <td>En estudio</td>\n      <td>1126</td>\n    </tr>\n    <tr>\n      <th>7</th>\n      <td>Muestras procesadas</td>\n      <td>27685</td>\n    </tr>\n  </tbody>\n</table>\n</div>"
     },
     "metadata": {},
     "execution_count": 43
    }
   ],
   "source": [
    "# Resume\n",
    "data = []\n",
    "# cases_by_care_by_date[N] = ['Hospital', 'Hospital UCI', 'Casa', 'Fallecido', 'Recuperado']\n",
    "# Resume Attributes\n",
    "data.append(['Confirmados', covid_df_by_date.values[-1][-1]])\n",
    "data.append(['Recuperados', cases_by_care_by_date[4].values[-1][-1]])\n",
    "data.append(['Muertes', cases_by_care_by_date[3].values[-1][-1]])\n",
    "data.append(['Casos descartados', descarted_cases])\n",
    "data.append(['Importado', covid_df_by_kind[covid_df_by_kind['kind'] == 'Importado'].values[0][-1]])\n",
    "data.append(['Relacionado', covid_df_by_kind[covid_df_by_kind['kind'] == 'Relacionado'].values[0][-1]])\n",
    "data.append(['En estudio', covid_df_by_kind[covid_df_by_kind['kind'] == 'En estudio'].values[0][-1]])\n",
    "data.append(['Muestras procesadas', covid_df_samples_processed.values[-1][-1]])\n",
    "\n",
    "# Resume Dataframe\n",
    "covid_df_resume = pd.DataFrame(data=data, columns=['title', 'total'])\n",
    "# Show dataframe\n",
    "covid_df_resume.head(10)"
   ]
  },
  {
   "cell_type": "markdown",
   "metadata": {
    "_cell_guid": "fe57799a-5f59-4dd6-b476-a7442ed735a0",
    "_uuid": "975170ba-59bb-4048-9d8d-8257edbacaa6"
   },
   "source": [
    "## Resume\n",
    "> ***Output file***: covid19_resume.csv"
   ]
  },
  {
   "cell_type": "code",
   "execution_count": 44,
   "metadata": {
    "_cell_guid": "fba57e78-b98e-44c7-a1c5-c9b6572670e4",
    "_uuid": "78717226-faba-4603-888f-0abddc890e42"
   },
   "outputs": [
    {
     "output_type": "stream",
     "name": "stdout",
     "text": "\nColombia Covid 19 Resumen:\n                 title  total\n0          Confirmados   2709\n1          Recuperados    207\n2              Muertes    100\n3    Casos descartados  37894\n4            Importado    755\n5          Relacionado    828\n6           En estudio   1126\n7  Muestras procesadas  27685\n"
    }
   ],
   "source": [
    "# Save dataframe\n",
    "covid_df_resume.to_csv(os.path.join(OUTPUT_DIR, 'covid19_resume.csv'), index=False)\n",
    "print('\\nColombia Covid 19 Resumen:')\n",
    "print(covid_df_resume)"
   ]
  },
  {
   "cell_type": "markdown",
   "metadata": {
    "_cell_guid": "b322dae8-882f-4284-acf6-4ffc8c2f6c61",
    "_uuid": "0b49909a-b212-4040-b279-56e8c5df643a"
   },
   "source": [
    "---"
   ]
  },
  {
   "cell_type": "code",
   "execution_count": 45,
   "metadata": {},
   "outputs": [
    {
     "output_type": "execute_result",
     "data": {
      "text/plain": "          date  cases  accum_cases  recovered  accum_recovered  deaths  \\\n37  07/04/2020    201         1780          1              207       5   \n38  08/04/2020    274         2054          0                0      11   \n39  09/04/2020    169         2223          0                0      10   \n40  10/04/2020    250         2473          0                0       5   \n41  11/04/2020    236         2709          0                0       6   \n\n    accum_deaths  \n37            68  \n38            79  \n39            89  \n40            94  \n41           100  ",
      "text/html": "<div>\n<style scoped>\n    .dataframe tbody tr th:only-of-type {\n        vertical-align: middle;\n    }\n\n    .dataframe tbody tr th {\n        vertical-align: top;\n    }\n\n    .dataframe thead th {\n        text-align: right;\n    }\n</style>\n<table border=\"1\" class=\"dataframe\">\n  <thead>\n    <tr style=\"text-align: right;\">\n      <th></th>\n      <th>date</th>\n      <th>cases</th>\n      <th>accum_cases</th>\n      <th>recovered</th>\n      <th>accum_recovered</th>\n      <th>deaths</th>\n      <th>accum_deaths</th>\n    </tr>\n  </thead>\n  <tbody>\n    <tr>\n      <th>37</th>\n      <td>07/04/2020</td>\n      <td>201</td>\n      <td>1780</td>\n      <td>1</td>\n      <td>207</td>\n      <td>5</td>\n      <td>68</td>\n    </tr>\n    <tr>\n      <th>38</th>\n      <td>08/04/2020</td>\n      <td>274</td>\n      <td>2054</td>\n      <td>0</td>\n      <td>0</td>\n      <td>11</td>\n      <td>79</td>\n    </tr>\n    <tr>\n      <th>39</th>\n      <td>09/04/2020</td>\n      <td>169</td>\n      <td>2223</td>\n      <td>0</td>\n      <td>0</td>\n      <td>10</td>\n      <td>89</td>\n    </tr>\n    <tr>\n      <th>40</th>\n      <td>10/04/2020</td>\n      <td>250</td>\n      <td>2473</td>\n      <td>0</td>\n      <td>0</td>\n      <td>5</td>\n      <td>94</td>\n    </tr>\n    <tr>\n      <th>41</th>\n      <td>11/04/2020</td>\n      <td>236</td>\n      <td>2709</td>\n      <td>0</td>\n      <td>0</td>\n      <td>6</td>\n      <td>100</td>\n    </tr>\n  </tbody>\n</table>\n</div>"
     },
     "metadata": {},
     "execution_count": 45
    }
   ],
   "source": [
    "# Get time line by care [cases, recovered, deaths]\n",
    "def get_time_line_by_care(care):\n",
    "    # covid_df_report\n",
    "    covid_df_report = pd.DataFrame()\n",
    "    # Check care\n",
    "    if care == '*':\n",
    "        covid_df_report = covid_df.groupby('date')['date'].count()\n",
    "    else:\n",
    "        covid_df_report = covid_df[covid_df['care'] == care].groupby('date')['date'].count()\n",
    "    # Create dateset\n",
    "    covid_df_report = pd.DataFrame(data={'date': covid_df_report.index, 'total': covid_df_report.values}, columns=['date', 'total'])\n",
    "    covid_df_report['date_iso'] = pd.to_datetime(covid_df_report['date'], format='%d/%m/%Y')\n",
    "    covid_df_report = covid_df_report.sort_values(by=['date_iso'], ascending=True)\n",
    "    covid_df_report['accum'] = covid_df_report['total'].cumsum()\n",
    "    covid_df_report = covid_df_report.drop(columns=['date_iso'])\n",
    "    covid_df_report.reset_index(inplace=True, drop=True)\n",
    "    # Return\n",
    "    return covid_df_report\n",
    "\n",
    "# Time line by cases\n",
    "covid_df_cases = get_time_line_by_care('*')\n",
    "#print('covid_df_cases', '\\n', covid_df_cases)\n",
    "\n",
    "# Time line by recovered\n",
    "covid_df_recovered = get_time_line_by_care('Recuperado')\n",
    "#print('covid_df_recovered', '\\n', covid_df_recovered.head())\n",
    "\n",
    "# Time line by deaths\n",
    "covid_df_deaths = get_time_line_by_care('Fallecido')\n",
    "#print('covid_df_deaths', '\\n', covid_df_deaths.head())\n",
    "\n",
    "# Get total\n",
    "def get_total(df_target, value):\n",
    "    num = [i for i in range(len(df_target['date'].values)) if df_target['date'].values[i] == value]\n",
    "    if num:\n",
    "        return df_target['total'].values[num[0]]\n",
    "    return 0\n",
    "\n",
    "# Get accumulator\n",
    "def get_accum(df_target, value):\n",
    "    num = [i for i in range(len(df_target['date'].values)) if df_target['date'].values[i] == value]\n",
    "    if num:\n",
    "        return df_target['accum'].values[num[0]]\n",
    "    return 0\n",
    "\n",
    "# Time line by care [cases, recovered, deaths]\n",
    "covid_19_time_line_by_care = pd.DataFrame(columns=['date', 'cases', 'accum_cases', 'recovered', 'accum_recovered', 'deaths', 'accum_deaths'])\n",
    "covid_19_time_line_by_care['date'] = [dti.strftime('%d/%m/%Y') for dti in pd.date_range(start='2020-03-01', end=date.today().isoformat(), freq='D')]\n",
    "\n",
    "# Cases\n",
    "covid_19_time_line_by_care['cases'] = covid_19_time_line_by_care['date'].transform(lambda value: get_total(covid_df_cases, value))\n",
    "covid_19_time_line_by_care['accum_cases'] = covid_19_time_line_by_care['date'].transform(lambda value: get_accum(covid_df_cases, value))\n",
    "# Recovered\n",
    "covid_19_time_line_by_care['recovered'] = covid_19_time_line_by_care['date'].transform(lambda value: get_total(covid_df_recovered, value))\n",
    "covid_19_time_line_by_care['accum_recovered'] = covid_19_time_line_by_care['date'].transform(lambda value: get_accum(covid_df_recovered, value))\n",
    "# Deaths\n",
    "covid_19_time_line_by_care['deaths'] = covid_19_time_line_by_care['date'].transform(lambda value: get_total(covid_df_deaths, value))\n",
    "covid_19_time_line_by_care['accum_deaths'] = covid_19_time_line_by_care['date'].transform(lambda value: get_accum(covid_df_deaths, value))\n",
    "\n",
    "# Show dataframe\n",
    "covid_19_time_line_by_care.tail()"
   ]
  },
  {
   "cell_type": "markdown",
   "metadata": {},
   "source": [
    "## Time Line by Care\n",
    "> ***Output file***: covid19_time_line_by_care.csv"
   ]
  },
  {
   "cell_type": "code",
   "execution_count": 46,
   "metadata": {},
   "outputs": [],
   "source": [
    "# Save dataframe\n",
    "covid_19_time_line_by_care.to_csv(os.path.join(OUTPUT_DIR, 'covid19_time_line_by_care.csv'), index=False)"
   ]
  },
  {
   "cell_type": "markdown",
   "metadata": {},
   "source": [
    "---"
   ]
  },
  {
   "cell_type": "code",
   "execution_count": 47,
   "metadata": {},
   "outputs": [
    {
     "output_type": "execute_result",
     "data": {
      "text/plain": "         date   country                                  file  \\\n0  2020-03-29  Colombia  2020-03-29_CO_Mobility_Report_en.pdf   \n1  2020-04-05  Colombia  2020-04-05_CO_Mobility_Report_en.pdf   \n\n                                                 url  \n0  https://www.gstatic.com/covid19/mobility/2020-...  \n1  https://www.gstatic.com/covid19/mobility/2020-...  ",
      "text/html": "<div>\n<style scoped>\n    .dataframe tbody tr th:only-of-type {\n        vertical-align: middle;\n    }\n\n    .dataframe tbody tr th {\n        vertical-align: top;\n    }\n\n    .dataframe thead th {\n        text-align: right;\n    }\n</style>\n<table border=\"1\" class=\"dataframe\">\n  <thead>\n    <tr style=\"text-align: right;\">\n      <th></th>\n      <th>date</th>\n      <th>country</th>\n      <th>file</th>\n      <th>url</th>\n    </tr>\n  </thead>\n  <tbody>\n    <tr>\n      <th>0</th>\n      <td>2020-03-29</td>\n      <td>Colombia</td>\n      <td>2020-03-29_CO_Mobility_Report_en.pdf</td>\n      <td>https://www.gstatic.com/covid19/mobility/2020-...</td>\n    </tr>\n    <tr>\n      <th>1</th>\n      <td>2020-04-05</td>\n      <td>Colombia</td>\n      <td>2020-04-05_CO_Mobility_Report_en.pdf</td>\n      <td>https://www.gstatic.com/covid19/mobility/2020-...</td>\n    </tr>\n  </tbody>\n</table>\n</div>"
     },
     "metadata": {},
     "execution_count": 47
    }
   ],
   "source": [
    "# Time line Google Community Mobility Reports - Colombia\n",
    "google_community_mobility_reports = pd.DataFrame(columns=['date', 'country', 'file', 'url'])\n",
    "google_community_mobility_reports['date'] = [dti.strftime('%Y-%m-%d') for dti in pd.date_range(start='2020-03-29', end=date.today().isoformat(), freq='D')]\n",
    "google_community_mobility_reports['country'] = ['Colombia' for country in range(len(google_community_mobility_reports['date'].values))]\n",
    "google_community_mobility_reports['file'] = [ date + '_CO_Mobility_Report_en.pdf' for date in google_community_mobility_reports['date'].values]\n",
    "# Get URL report\n",
    "def get_report_url(file):\n",
    "    with requests.get('https://www.gstatic.com/covid19/mobility/' + file) as community_mobility_report:\n",
    "        #print(community_mobility_report.status_code)\n",
    "        if community_mobility_report.status_code == 200:\n",
    "            #print('status_code: ', 200)\n",
    "            #print('url', community_mobility_report.url)\n",
    "            return community_mobility_report.url\n",
    "        else:\n",
    "            return np.nan\n",
    "# Get URL report\n",
    "google_community_mobility_reports['url'] = google_community_mobility_reports['file'].transform(lambda value: get_report_url(value))\n",
    "# Drop any report without URL\n",
    "google_community_mobility_reports.dropna(inplace=True)\n",
    "# Reset index\n",
    "google_community_mobility_reports.reset_index(inplace=True, drop=True)\n",
    "# Show dataframe\n",
    "google_community_mobility_reports.head()\n",
    "#print('community_mobility_report.content', community_mobility_report.content)\n",
    "            #with open(os.path.join(OUTPUT_DIR, '2020-04-05_CO_Mobility_Report_en.pdf'), 'wb') as f:\n",
    "            #    f.write(community_mobility_report.content)"
   ]
  },
  {
   "cell_type": "code",
   "execution_count": 48,
   "metadata": {},
   "outputs": [
    {
     "output_type": "execute_result",
     "data": {
      "text/plain": "         date   country Retail & recreation Grocery & pharmacy Parks  \\\n0  29/03/2020  Colombia                -86%               -68%  -80%   \n1  05/04/2020  Colombia                -85%               -66%  -79%   \n\n  Transit stations Workplaces Residential  \\\n0             -82%       -58%        +26%   \n1             -81%       -57%        +26%   \n\n                                   file  \\\n0  2020-03-29_CO_Mobility_Report_en.pdf   \n1  2020-04-05_CO_Mobility_Report_en.pdf   \n\n                                                 url  \n0  https://www.gstatic.com/covid19/mobility/2020-...  \n1  https://www.gstatic.com/covid19/mobility/2020-...  ",
      "text/html": "<div>\n<style scoped>\n    .dataframe tbody tr th:only-of-type {\n        vertical-align: middle;\n    }\n\n    .dataframe tbody tr th {\n        vertical-align: top;\n    }\n\n    .dataframe thead th {\n        text-align: right;\n    }\n</style>\n<table border=\"1\" class=\"dataframe\">\n  <thead>\n    <tr style=\"text-align: right;\">\n      <th></th>\n      <th>date</th>\n      <th>country</th>\n      <th>Retail &amp; recreation</th>\n      <th>Grocery &amp; pharmacy</th>\n      <th>Parks</th>\n      <th>Transit stations</th>\n      <th>Workplaces</th>\n      <th>Residential</th>\n      <th>file</th>\n      <th>url</th>\n    </tr>\n  </thead>\n  <tbody>\n    <tr>\n      <th>0</th>\n      <td>29/03/2020</td>\n      <td>Colombia</td>\n      <td>-86%</td>\n      <td>-68%</td>\n      <td>-80%</td>\n      <td>-82%</td>\n      <td>-58%</td>\n      <td>+26%</td>\n      <td>2020-03-29_CO_Mobility_Report_en.pdf</td>\n      <td>https://www.gstatic.com/covid19/mobility/2020-...</td>\n    </tr>\n    <tr>\n      <th>1</th>\n      <td>05/04/2020</td>\n      <td>Colombia</td>\n      <td>-85%</td>\n      <td>-66%</td>\n      <td>-79%</td>\n      <td>-81%</td>\n      <td>-57%</td>\n      <td>+26%</td>\n      <td>2020-04-05_CO_Mobility_Report_en.pdf</td>\n      <td>https://www.gstatic.com/covid19/mobility/2020-...</td>\n    </tr>\n  </tbody>\n</table>\n</div>"
     },
     "metadata": {},
     "execution_count": 48
    }
   ],
   "source": [
    "# Add Mobility Changes\n",
    "#from pdfminer.high_level import extract_pages\n",
    "# Get mobility changes\n",
    "def get_mobility_changes(URL):\n",
    "    # Target changes\n",
    "    targets = ['Retail & recreation', 'Grocery & pharmacy', 'Parks', 'Transit stations', 'Workplaces', 'Residential']\n",
    "    # Mobility Changes\n",
    "    mobility_changes = []\n",
    "    # Get Mobility Report\n",
    "    with requests.get(URL) as mobility_report:\n",
    "        #print(mobility_report.status_code)\n",
    "        if mobility_report.status_code == 200:\n",
    "            temp = tempfile.NamedTemporaryFile()\n",
    "            temp.write(mobility_report.content)\n",
    "            #print('temp.name:', temp.name)\n",
    "            with open(temp.name, 'rb') as file:\n",
    "                # By pages\n",
    "                pdf_text = []\n",
    "                page = 0\n",
    "                while page != -1:\n",
    "                    text = extract_text(file, maxpages=1, page_numbers=[page])\n",
    "                    if text:\n",
    "                        #print('text', text)\n",
    "                        pdf_text.append(text.split('\\n'))\n",
    "                        page += 1\n",
    "                    else:\n",
    "                        page = -1\n",
    "                # Pages\n",
    "                #print('Pages:', len(pdf_text))\n",
    "                # Page 1\n",
    "                page1 = pdf_text[0]\n",
    "                page1 = filter(lambda value: value != '', page1)\n",
    "                page1 = filter(lambda value: value in targets or value[-1] == '%', list(page1))\n",
    "                page1 = list(page1)[:6]\n",
    "                # Page 2\n",
    "                page2 = pdf_text[1]\n",
    "                page2 = filter(lambda value: value != '', page2)\n",
    "                page2 = filter(lambda value: value in targets or value[-1] == '%', list(page2))\n",
    "                page2 = list(page2)[:6]\n",
    "                # Merge\n",
    "                mobility_changes = page1 + page2\n",
    "    return mobility_changes\n",
    "# Add Mobility Changes\n",
    "google_community_mobility_reports['mobility_changes'] = google_community_mobility_reports['url'].transform(lambda value: get_mobility_changes(value))\n",
    "# By case\n",
    "google_community_mobility_reports['Retail & recreation'] = google_community_mobility_reports['mobility_changes'].transform(lambda value: value[1])\n",
    "google_community_mobility_reports['Grocery & pharmacy'] = google_community_mobility_reports['mobility_changes'].transform(lambda value: value[3])\n",
    "google_community_mobility_reports['Parks'] = google_community_mobility_reports['mobility_changes'].transform(lambda value: value[5])\n",
    "google_community_mobility_reports['Transit stations'] = google_community_mobility_reports['mobility_changes'].transform(lambda value: value[7])\n",
    "google_community_mobility_reports['Workplaces'] = google_community_mobility_reports['mobility_changes'].transform(lambda value: value[9])\n",
    "google_community_mobility_reports['Residential'] = google_community_mobility_reports['mobility_changes'].transform(lambda value: value[11])\n",
    "# Drop column\n",
    "google_community_mobility_reports.drop(columns=['mobility_changes'], inplace=True)\n",
    "# Sort columns\n",
    "google_community_mobility_reports = google_community_mobility_reports[['date', 'country', 'Retail & recreation', 'Grocery & pharmacy', 'Parks', 'Transit stations', 'Workplaces', 'Residential', 'file', 'url']]\n",
    "# Setup date format\n",
    "google_community_mobility_reports['date'] = [value.strftime('%d/%m/%Y') for value in pd.to_datetime(google_community_mobility_reports['date'], format='%Y-%m-%d')]\n",
    "# Show dataframe\n",
    "google_community_mobility_reports.head()"
   ]
  },
  {
   "cell_type": "markdown",
   "metadata": {},
   "source": [
    "## Google COVID-19 Community Mobility Reports - Colombia\n",
    "> ***Output file***: google_community_mobility_reports.csv"
   ]
  },
  {
   "cell_type": "code",
   "execution_count": 49,
   "metadata": {},
   "outputs": [],
   "source": [
    "# Save dataframe\n",
    "google_community_mobility_reports.to_csv(os.path.join(OUTPUT_DIR, 'google_community_mobility_reports.csv'), index=False)"
   ]
  },
  {
   "cell_type": "markdown",
   "metadata": {},
   "source": [
    "---"
   ]
  },
  {
   "cell_type": "code",
   "execution_count": null,
   "metadata": {},
   "outputs": [],
   "source": []
  }
 ],
 "metadata": {
  "kernelspec": {
   "display_name": "Python 3",
   "language": "python",
   "name": "python3"
  },
  "language_info": {
   "codemirror_mode": {
    "name": "ipython",
    "version": 3
   },
   "file_extension": ".py",
   "mimetype": "text/x-python",
   "name": "python",
   "nbconvert_exporter": "python",
   "pygments_lexer": "ipython3",
   "version": "3.6.9-final"
  }
 },
 "nbformat": 4,
 "nbformat_minor": 4
}