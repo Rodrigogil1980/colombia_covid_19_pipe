{
 "cells": [
  {
   "cell_type": "code",
   "execution_count": 2,
   "metadata": {},
   "outputs": [],
   "source": [
    "# This Python 3 environment comes with many helpful analytics libraries installed\n",
    "# It is defined by the kaggle/python docker image: https://github.com/kaggle/docker-python\n",
    "# For example, here's several helpful packages to load in \n",
    "\n",
    "# linear algebra\n",
    "import numpy as np\n",
    "# data processing, CSV file I/O (e.g. pd.read_csv)\n",
    "import pandas as pd\n",
    "\n",
    "import requests\n",
    "import unidecode\n",
    "import datetime\n",
    "import dateutil\n",
    "import subprocess\n",
    "import sys\n",
    "import json\n",
    "import tempfile\n",
    "import os\n",
    "\n",
    "# Install missing dependencies\n",
    "def install(package):\n",
    "    subprocess.check_call([sys.executable, \"-m\", \"pip\", \"install\", package])\n",
    "# PDFMiner pdfminer.six\n",
    "try:\n",
    "    from pdfminer.high_level import extract_text\n",
    "except Exception:\n",
    "    install('pdfminer.six')\n",
    "    from pdfminer.high_level import extract_text\n",
    "\n",
    "# Input data files are available in the \"../input/\" directory.\n",
    "# For example, running this (by clicking run or pressing Shift+Enter) will list all files under the input directory\n",
    "\n",
    "#for dirname, _, filenames in os.walk('/kaggle/input'):\n",
    "#    for filename in filenames:\n",
    "#        print(os.path.join(dirname, filename))\n",
    "\n",
    "# Any results you write to the current directory are saved as output."
   ]
  },
  {
   "cell_type": "markdown",
   "metadata": {},
   "source": [
    "---"
   ]
  },
  {
   "cell_type": "markdown",
   "metadata": {},
   "source": [
    "# Colombia Covid19 Pipeline\n",
    "Dataset is obtained from [Instituto Nacional de Salud](https://www.ins.gov.co/Noticias/Paginas/Coronavirus.aspx) daily report Coronavirus 2019 from Colombia.\n",
    "\n",
    "You can get the official dataset here: \n",
    "[INS - Official Report](https://www.datos.gov.co/Salud-y-Protecci-n-Social/Casos-positivos-de-COVID-19-en-Colombia/gt2j-8ykr)\n",
    "\n",
    "The number of new cases are increasing day by day around the world.\n",
    "This dataset has information about reported cases from 32 Colombia departments.\n",
    "\n",
    "You can get the Google COVID-19 Community Mobility Reports - Colombia.\n",
    "\n",
    "You can view and collaborate to the analysis here:\n",
    "[colombia_covid_19_analysis](https://www.kaggle.com/sebaxtian/colombia-covid-19-analysis) Kaggle Notebook Kernel."
   ]
  },
  {
   "cell_type": "markdown",
   "metadata": {},
   "source": [
    "---"
   ]
  },
  {
   "cell_type": "markdown",
   "metadata": {},
   "source": [
    "## Data Sources"
   ]
  },
  {
   "cell_type": "code",
   "execution_count": 3,
   "metadata": {},
   "outputs": [],
   "source": [
    "# Input data files are available in the \"../input/\" directory.\n",
    "INPUT_DIR = './'\n",
    "if os.path.split(os.path.abspath('.'))[-1] == 'src':\n",
    "    INPUT_DIR = '../input'\n",
    "# Any results you write to the current directory are saved as output.\n",
    "OUTPUT_DIR = './'\n",
    "if os.path.split(os.path.abspath('.'))[-1] == 'src':\n",
    "    OUTPUT_DIR = '../output'\n",
    "# Official Daily Report Until Now\n",
    "#URL_DATASET = 'https://www.datos.gov.co/resource/gt2j-8ykr.csv'\n",
    "URL_DATASET = 'https://www.datos.gov.co/api/views/gt2j-8ykr/rows.csv?accessType=DOWNLOAD'\n",
    "# Official Daily Samples Processed\n",
    "URL_SAMPLES_PROCESSED = 'https://infogram.com/api/live/flex/4524241a-91a7-4bbd-a58e-63c12fb2952f/96848e74-6055-4aa8-9944-502bf69ef6fc?'"
   ]
  },
  {
   "cell_type": "markdown",
   "metadata": {},
   "source": [
    "---"
   ]
  },
  {
   "cell_type": "markdown",
   "metadata": {},
   "source": [
    "## Get Official Covid19 Colombia Daily Report"
   ]
  },
  {
   "cell_type": "code",
   "execution_count": 4,
   "metadata": {},
   "outputs": [
    {
     "output_type": "execute_result",
     "data": {
      "text/plain": "(4149, 16)"
     },
     "metadata": {},
     "execution_count": 4
    }
   ],
   "source": [
    "# Official Daily Report Until Now\n",
    "# Reading the json as a dict\n",
    "with requests.get(URL_DATASET) as official_dataset:\n",
    "    open(os.path.join(INPUT_DIR, 'covid19co_official.csv'), 'wb').write(official_dataset.content)\n",
    "#print(data)\n",
    "covid19co = pd.read_csv(os.path.join(INPUT_DIR, 'covid19co_official.csv'))\n",
    "#covid19co = pd.read_csv('https://www.datos.gov.co/resource/gt2j-8ykr.csv')\n",
    "# Total Daily Report\n",
    "covid19co.shape"
   ]
  },
  {
   "cell_type": "code",
   "execution_count": 5,
   "metadata": {},
   "outputs": [
    {
     "output_type": "execute_result",
     "data": {
      "text/plain": "      ID de caso    Fecha de notificación  Codigo DIVIPOLA  \\\n4144        4145  2020-04-13T00:00:00.000            11001   \n4145        4146  2020-04-15T00:00:00.000            11001   \n4146        4147  2020-04-15T00:00:00.000            11001   \n4147        4148  2020-04-06T00:00:00.000            11001   \n4148        4149  2020-04-14T00:00:00.000            73001   \n\n     Ciudad de ubicación Departamento o Distrito  atención  Edad Sexo  \\\n4144         Bogotá D.C.              Bogotá D.C.     Casa    47    F   \n4145         Bogotá D.C.              Bogotá D.C.     Casa    55    F   \n4146         Bogotá D.C.              Bogotá D.C.     Casa    24    F   \n4147         Bogotá D.C.              Bogotá D.C.     Casa     5    F   \n4148              Ibagué                   Tolima     Casa    46    M   \n\n             Tipo Estado País de procedencia                      FIS  \\\n4144   En estudio   Leve            COLOMBIA  2020-04-05T00:00:00.000   \n4145   En estudio   Leve            COLOMBIA  2020-04-10T00:00:00.000   \n4146   En estudio   Leve            COLOMBIA  2020-04-13T00:00:00.000   \n4147   En estudio   Leve            COLOMBIA  2020-04-06T00:00:00.000   \n4148  Relacionado   Leve            COLOMBIA  2020-03-29T00:00:00.000   \n\n     Fecha de muerte        Fecha diagnostico Fecha recuperado  \\\n4144           -   -  2020-04-21T00:00:00.000            -   -   \n4145           -   -  2020-04-21T00:00:00.000            -   -   \n4146           -   -  2020-04-21T00:00:00.000            -   -   \n4147           -   -  2020-04-21T00:00:00.000            -   -   \n4148           -   -  2020-04-21T00:00:00.000            -   -   \n\n            fecha reporte web  \n4144  2020-04-21T00:00:00.000  \n4145  2020-04-21T00:00:00.000  \n4146  2020-04-21T00:00:00.000  \n4147  2020-04-21T00:00:00.000  \n4148  2020-04-21T00:00:00.000  ",
      "text/html": "<div>\n<style scoped>\n    .dataframe tbody tr th:only-of-type {\n        vertical-align: middle;\n    }\n\n    .dataframe tbody tr th {\n        vertical-align: top;\n    }\n\n    .dataframe thead th {\n        text-align: right;\n    }\n</style>\n<table border=\"1\" class=\"dataframe\">\n  <thead>\n    <tr style=\"text-align: right;\">\n      <th></th>\n      <th>ID de caso</th>\n      <th>Fecha de notificación</th>\n      <th>Codigo DIVIPOLA</th>\n      <th>Ciudad de ubicación</th>\n      <th>Departamento o Distrito</th>\n      <th>atención</th>\n      <th>Edad</th>\n      <th>Sexo</th>\n      <th>Tipo</th>\n      <th>Estado</th>\n      <th>País de procedencia</th>\n      <th>FIS</th>\n      <th>Fecha de muerte</th>\n      <th>Fecha diagnostico</th>\n      <th>Fecha recuperado</th>\n      <th>fecha reporte web</th>\n    </tr>\n  </thead>\n  <tbody>\n    <tr>\n      <th>4144</th>\n      <td>4145</td>\n      <td>2020-04-13T00:00:00.000</td>\n      <td>11001</td>\n      <td>Bogotá D.C.</td>\n      <td>Bogotá D.C.</td>\n      <td>Casa</td>\n      <td>47</td>\n      <td>F</td>\n      <td>En estudio</td>\n      <td>Leve</td>\n      <td>COLOMBIA</td>\n      <td>2020-04-05T00:00:00.000</td>\n      <td>-   -</td>\n      <td>2020-04-21T00:00:00.000</td>\n      <td>-   -</td>\n      <td>2020-04-21T00:00:00.000</td>\n    </tr>\n    <tr>\n      <th>4145</th>\n      <td>4146</td>\n      <td>2020-04-15T00:00:00.000</td>\n      <td>11001</td>\n      <td>Bogotá D.C.</td>\n      <td>Bogotá D.C.</td>\n      <td>Casa</td>\n      <td>55</td>\n      <td>F</td>\n      <td>En estudio</td>\n      <td>Leve</td>\n      <td>COLOMBIA</td>\n      <td>2020-04-10T00:00:00.000</td>\n      <td>-   -</td>\n      <td>2020-04-21T00:00:00.000</td>\n      <td>-   -</td>\n      <td>2020-04-21T00:00:00.000</td>\n    </tr>\n    <tr>\n      <th>4146</th>\n      <td>4147</td>\n      <td>2020-04-15T00:00:00.000</td>\n      <td>11001</td>\n      <td>Bogotá D.C.</td>\n      <td>Bogotá D.C.</td>\n      <td>Casa</td>\n      <td>24</td>\n      <td>F</td>\n      <td>En estudio</td>\n      <td>Leve</td>\n      <td>COLOMBIA</td>\n      <td>2020-04-13T00:00:00.000</td>\n      <td>-   -</td>\n      <td>2020-04-21T00:00:00.000</td>\n      <td>-   -</td>\n      <td>2020-04-21T00:00:00.000</td>\n    </tr>\n    <tr>\n      <th>4147</th>\n      <td>4148</td>\n      <td>2020-04-06T00:00:00.000</td>\n      <td>11001</td>\n      <td>Bogotá D.C.</td>\n      <td>Bogotá D.C.</td>\n      <td>Casa</td>\n      <td>5</td>\n      <td>F</td>\n      <td>En estudio</td>\n      <td>Leve</td>\n      <td>COLOMBIA</td>\n      <td>2020-04-06T00:00:00.000</td>\n      <td>-   -</td>\n      <td>2020-04-21T00:00:00.000</td>\n      <td>-   -</td>\n      <td>2020-04-21T00:00:00.000</td>\n    </tr>\n    <tr>\n      <th>4148</th>\n      <td>4149</td>\n      <td>2020-04-14T00:00:00.000</td>\n      <td>73001</td>\n      <td>Ibagué</td>\n      <td>Tolima</td>\n      <td>Casa</td>\n      <td>46</td>\n      <td>M</td>\n      <td>Relacionado</td>\n      <td>Leve</td>\n      <td>COLOMBIA</td>\n      <td>2020-03-29T00:00:00.000</td>\n      <td>-   -</td>\n      <td>2020-04-21T00:00:00.000</td>\n      <td>-   -</td>\n      <td>2020-04-21T00:00:00.000</td>\n    </tr>\n  </tbody>\n</table>\n</div>"
     },
     "metadata": {},
     "execution_count": 5
    }
   ],
   "source": [
    "# Show dataframe\n",
    "covid19co.tail()"
   ]
  },
  {
   "cell_type": "code",
   "execution_count": 6,
   "metadata": {},
   "outputs": [],
   "source": [
    "# Show original columns\n",
    "#print(covid19co.columns.values)"
   ]
  },
  {
   "cell_type": "code",
   "execution_count": 7,
   "metadata": {},
   "outputs": [
    {
     "output_type": "execute_result",
     "data": {
      "text/plain": "   ID DE CASO    FECHA DE NOTIFICACION  CODIGO DIVIPOLA  CIUDAD DE UBICACION  \\\n0           1  2020-03-02T00:00:00.000            11001          Bogotá D.C.   \n1           2  2020-03-06T00:00:00.000            76111  Guadalajara de Buga   \n2           3  2020-03-07T00:00:00.000             5001             Medellín   \n3           4  2020-03-09T00:00:00.000             5001             Medellín   \n4           5  2020-03-09T00:00:00.000             5001             Medellín   \n\n  DEPARTAMENTO O DISTRITO     ATENCION  EDAD SEXO         TIPO ESTADO  \\\n0              Bogotá D.C.  Recuperado    19    F    Importado   Leve   \n1          Valle del Cauca  Recuperado    34    M    Importado   Leve   \n2                Antioquia  Recuperado    50    F    Importado   Leve   \n3                Antioquia  Recuperado    55    M  Relacionado   Leve   \n4                Antioquia  Recuperado    25    M  Relacionado   Leve   \n\n  PAIS DE PROCEDENCIA                      FIS FECHA DE MUERTE  \\\n0              ITALIA  2020-02-27T00:00:00.000           -   -   \n1              ESPAÑA  2020-03-04T00:00:00.000           -   -   \n2              ESPAÑA  2020-02-29T00:00:00.000           -   -   \n3            COLOMBIA  2020-03-06T00:00:00.000           -   -   \n4            COLOMBIA  2020-03-08T00:00:00.000           -   -   \n\n         FECHA DIAGNOSTICO         FECHA RECUPERADO        FECHA REPORTE WEB  \n0  2020-03-06T00:00:00.000  2020-03-13T00:00:00.000  2020-03-06T00:00:00.000  \n1  2020-03-09T00:00:00.000  2020-03-19T00:00:00.000  2020-03-09T00:00:00.000  \n2  2020-03-09T00:00:00.000  2020-03-15T00:00:00.000  2020-03-09T00:00:00.000  \n3  2020-03-11T00:00:00.000  2020-03-26T00:00:00.000  2020-03-11T00:00:00.000  \n4  2020-03-11T00:00:00.000  2020-03-23T00:00:00.000  2020-03-11T00:00:00.000  ",
      "text/html": "<div>\n<style scoped>\n    .dataframe tbody tr th:only-of-type {\n        vertical-align: middle;\n    }\n\n    .dataframe tbody tr th {\n        vertical-align: top;\n    }\n\n    .dataframe thead th {\n        text-align: right;\n    }\n</style>\n<table border=\"1\" class=\"dataframe\">\n  <thead>\n    <tr style=\"text-align: right;\">\n      <th></th>\n      <th>ID DE CASO</th>\n      <th>FECHA DE NOTIFICACION</th>\n      <th>CODIGO DIVIPOLA</th>\n      <th>CIUDAD DE UBICACION</th>\n      <th>DEPARTAMENTO O DISTRITO</th>\n      <th>ATENCION</th>\n      <th>EDAD</th>\n      <th>SEXO</th>\n      <th>TIPO</th>\n      <th>ESTADO</th>\n      <th>PAIS DE PROCEDENCIA</th>\n      <th>FIS</th>\n      <th>FECHA DE MUERTE</th>\n      <th>FECHA DIAGNOSTICO</th>\n      <th>FECHA RECUPERADO</th>\n      <th>FECHA REPORTE WEB</th>\n    </tr>\n  </thead>\n  <tbody>\n    <tr>\n      <th>0</th>\n      <td>1</td>\n      <td>2020-03-02T00:00:00.000</td>\n      <td>11001</td>\n      <td>Bogotá D.C.</td>\n      <td>Bogotá D.C.</td>\n      <td>Recuperado</td>\n      <td>19</td>\n      <td>F</td>\n      <td>Importado</td>\n      <td>Leve</td>\n      <td>ITALIA</td>\n      <td>2020-02-27T00:00:00.000</td>\n      <td>-   -</td>\n      <td>2020-03-06T00:00:00.000</td>\n      <td>2020-03-13T00:00:00.000</td>\n      <td>2020-03-06T00:00:00.000</td>\n    </tr>\n    <tr>\n      <th>1</th>\n      <td>2</td>\n      <td>2020-03-06T00:00:00.000</td>\n      <td>76111</td>\n      <td>Guadalajara de Buga</td>\n      <td>Valle del Cauca</td>\n      <td>Recuperado</td>\n      <td>34</td>\n      <td>M</td>\n      <td>Importado</td>\n      <td>Leve</td>\n      <td>ESPAÑA</td>\n      <td>2020-03-04T00:00:00.000</td>\n      <td>-   -</td>\n      <td>2020-03-09T00:00:00.000</td>\n      <td>2020-03-19T00:00:00.000</td>\n      <td>2020-03-09T00:00:00.000</td>\n    </tr>\n    <tr>\n      <th>2</th>\n      <td>3</td>\n      <td>2020-03-07T00:00:00.000</td>\n      <td>5001</td>\n      <td>Medellín</td>\n      <td>Antioquia</td>\n      <td>Recuperado</td>\n      <td>50</td>\n      <td>F</td>\n      <td>Importado</td>\n      <td>Leve</td>\n      <td>ESPAÑA</td>\n      <td>2020-02-29T00:00:00.000</td>\n      <td>-   -</td>\n      <td>2020-03-09T00:00:00.000</td>\n      <td>2020-03-15T00:00:00.000</td>\n      <td>2020-03-09T00:00:00.000</td>\n    </tr>\n    <tr>\n      <th>3</th>\n      <td>4</td>\n      <td>2020-03-09T00:00:00.000</td>\n      <td>5001</td>\n      <td>Medellín</td>\n      <td>Antioquia</td>\n      <td>Recuperado</td>\n      <td>55</td>\n      <td>M</td>\n      <td>Relacionado</td>\n      <td>Leve</td>\n      <td>COLOMBIA</td>\n      <td>2020-03-06T00:00:00.000</td>\n      <td>-   -</td>\n      <td>2020-03-11T00:00:00.000</td>\n      <td>2020-03-26T00:00:00.000</td>\n      <td>2020-03-11T00:00:00.000</td>\n    </tr>\n    <tr>\n      <th>4</th>\n      <td>5</td>\n      <td>2020-03-09T00:00:00.000</td>\n      <td>5001</td>\n      <td>Medellín</td>\n      <td>Antioquia</td>\n      <td>Recuperado</td>\n      <td>25</td>\n      <td>M</td>\n      <td>Relacionado</td>\n      <td>Leve</td>\n      <td>COLOMBIA</td>\n      <td>2020-03-08T00:00:00.000</td>\n      <td>-   -</td>\n      <td>2020-03-11T00:00:00.000</td>\n      <td>2020-03-23T00:00:00.000</td>\n      <td>2020-03-11T00:00:00.000</td>\n    </tr>\n  </tbody>\n</table>\n</div>"
     },
     "metadata": {},
     "execution_count": 7
    }
   ],
   "source": [
    "# Update Name Columns\n",
    "# Remove Accents and Uppercase\n",
    "covid19co.columns = [unidecode.unidecode(value).upper() for value in covid19co.columns]\n",
    "# Show dataframe\n",
    "covid19co.head()"
   ]
  },
  {
   "cell_type": "code",
   "execution_count": 8,
   "metadata": {},
   "outputs": [
    {
     "output_type": "execute_result",
     "data": {
      "text/plain": "      ID DE CASO    FECHA DE NOTIFICACION  CODIGO DIVIPOLA  \\\n4144        4145  2020-04-13T00:00:00.000            11001   \n4145        4146  2020-04-15T00:00:00.000            11001   \n4146        4147  2020-04-15T00:00:00.000            11001   \n4147        4148  2020-04-06T00:00:00.000            11001   \n4148        4149  2020-04-14T00:00:00.000            73001   \n\n     CIUDAD DE UBICACION DEPARTAMENTO O DISTRITO  ATENCION  EDAD SEXO  \\\n4144         Bogotá D.C.              Bogotá D.C.     Casa    47    F   \n4145         Bogotá D.C.              Bogotá D.C.     Casa    55    F   \n4146         Bogotá D.C.              Bogotá D.C.     Casa    24    F   \n4147         Bogotá D.C.              Bogotá D.C.     Casa     5    F   \n4148              Ibagué                   Tolima     Casa    46    M   \n\n             TIPO ESTADO PAIS DE PROCEDENCIA                      FIS  \\\n4144   En estudio   Leve            COLOMBIA  2020-04-05T00:00:00.000   \n4145   En estudio   Leve            COLOMBIA  2020-04-10T00:00:00.000   \n4146   En estudio   Leve            COLOMBIA  2020-04-13T00:00:00.000   \n4147   En estudio   Leve            COLOMBIA  2020-04-06T00:00:00.000   \n4148  Relacionado   Leve            COLOMBIA  2020-03-29T00:00:00.000   \n\n     FECHA DE MUERTE        FECHA DIAGNOSTICO FECHA RECUPERADO  \\\n4144           -   -  2020-04-21T00:00:00.000            -   -   \n4145           -   -  2020-04-21T00:00:00.000            -   -   \n4146           -   -  2020-04-21T00:00:00.000            -   -   \n4147           -   -  2020-04-21T00:00:00.000            -   -   \n4148           -   -  2020-04-21T00:00:00.000            -   -   \n\n            FECHA REPORTE WEB  \n4144  2020-04-21T00:00:00.000  \n4145  2020-04-21T00:00:00.000  \n4146  2020-04-21T00:00:00.000  \n4147  2020-04-21T00:00:00.000  \n4148  2020-04-21T00:00:00.000  ",
      "text/html": "<div>\n<style scoped>\n    .dataframe tbody tr th:only-of-type {\n        vertical-align: middle;\n    }\n\n    .dataframe tbody tr th {\n        vertical-align: top;\n    }\n\n    .dataframe thead th {\n        text-align: right;\n    }\n</style>\n<table border=\"1\" class=\"dataframe\">\n  <thead>\n    <tr style=\"text-align: right;\">\n      <th></th>\n      <th>ID DE CASO</th>\n      <th>FECHA DE NOTIFICACION</th>\n      <th>CODIGO DIVIPOLA</th>\n      <th>CIUDAD DE UBICACION</th>\n      <th>DEPARTAMENTO O DISTRITO</th>\n      <th>ATENCION</th>\n      <th>EDAD</th>\n      <th>SEXO</th>\n      <th>TIPO</th>\n      <th>ESTADO</th>\n      <th>PAIS DE PROCEDENCIA</th>\n      <th>FIS</th>\n      <th>FECHA DE MUERTE</th>\n      <th>FECHA DIAGNOSTICO</th>\n      <th>FECHA RECUPERADO</th>\n      <th>FECHA REPORTE WEB</th>\n    </tr>\n  </thead>\n  <tbody>\n    <tr>\n      <th>4144</th>\n      <td>4145</td>\n      <td>2020-04-13T00:00:00.000</td>\n      <td>11001</td>\n      <td>Bogotá D.C.</td>\n      <td>Bogotá D.C.</td>\n      <td>Casa</td>\n      <td>47</td>\n      <td>F</td>\n      <td>En estudio</td>\n      <td>Leve</td>\n      <td>COLOMBIA</td>\n      <td>2020-04-05T00:00:00.000</td>\n      <td>-   -</td>\n      <td>2020-04-21T00:00:00.000</td>\n      <td>-   -</td>\n      <td>2020-04-21T00:00:00.000</td>\n    </tr>\n    <tr>\n      <th>4145</th>\n      <td>4146</td>\n      <td>2020-04-15T00:00:00.000</td>\n      <td>11001</td>\n      <td>Bogotá D.C.</td>\n      <td>Bogotá D.C.</td>\n      <td>Casa</td>\n      <td>55</td>\n      <td>F</td>\n      <td>En estudio</td>\n      <td>Leve</td>\n      <td>COLOMBIA</td>\n      <td>2020-04-10T00:00:00.000</td>\n      <td>-   -</td>\n      <td>2020-04-21T00:00:00.000</td>\n      <td>-   -</td>\n      <td>2020-04-21T00:00:00.000</td>\n    </tr>\n    <tr>\n      <th>4146</th>\n      <td>4147</td>\n      <td>2020-04-15T00:00:00.000</td>\n      <td>11001</td>\n      <td>Bogotá D.C.</td>\n      <td>Bogotá D.C.</td>\n      <td>Casa</td>\n      <td>24</td>\n      <td>F</td>\n      <td>En estudio</td>\n      <td>Leve</td>\n      <td>COLOMBIA</td>\n      <td>2020-04-13T00:00:00.000</td>\n      <td>-   -</td>\n      <td>2020-04-21T00:00:00.000</td>\n      <td>-   -</td>\n      <td>2020-04-21T00:00:00.000</td>\n    </tr>\n    <tr>\n      <th>4147</th>\n      <td>4148</td>\n      <td>2020-04-06T00:00:00.000</td>\n      <td>11001</td>\n      <td>Bogotá D.C.</td>\n      <td>Bogotá D.C.</td>\n      <td>Casa</td>\n      <td>5</td>\n      <td>F</td>\n      <td>En estudio</td>\n      <td>Leve</td>\n      <td>COLOMBIA</td>\n      <td>2020-04-06T00:00:00.000</td>\n      <td>-   -</td>\n      <td>2020-04-21T00:00:00.000</td>\n      <td>-   -</td>\n      <td>2020-04-21T00:00:00.000</td>\n    </tr>\n    <tr>\n      <th>4148</th>\n      <td>4149</td>\n      <td>2020-04-14T00:00:00.000</td>\n      <td>73001</td>\n      <td>Ibagué</td>\n      <td>Tolima</td>\n      <td>Casa</td>\n      <td>46</td>\n      <td>M</td>\n      <td>Relacionado</td>\n      <td>Leve</td>\n      <td>COLOMBIA</td>\n      <td>2020-03-29T00:00:00.000</td>\n      <td>-   -</td>\n      <td>2020-04-21T00:00:00.000</td>\n      <td>-   -</td>\n      <td>2020-04-21T00:00:00.000</td>\n    </tr>\n  </tbody>\n</table>\n</div>"
     },
     "metadata": {},
     "execution_count": 8
    }
   ],
   "source": [
    "# Fill NaN Values\n",
    "if covid19co.isna().sum().sum() > 0:\n",
    "    covid19co.fillna(value='-', inplace=True)\n",
    "# Show dataframe\n",
    "covid19co.tail()"
   ]
  },
  {
   "cell_type": "code",
   "execution_count": 9,
   "metadata": {},
   "outputs": [],
   "source": [
    "# Dtypes\n",
    "#covid19co.dtypes"
   ]
  },
  {
   "cell_type": "markdown",
   "metadata": {},
   "source": [
    "## Covid19 Colombia Official Dataset\n",
    "> ***Output file***: covid19co_official.csv"
   ]
  },
  {
   "cell_type": "code",
   "execution_count": 10,
   "metadata": {},
   "outputs": [],
   "source": [
    "# Save dataframe\n",
    "covid19co.to_csv(os.path.join(OUTPUT_DIR, 'covid19co.csv'), index=False)"
   ]
  },
  {
   "cell_type": "markdown",
   "metadata": {},
   "source": [
    "---"
   ]
  },
  {
   "cell_type": "markdown",
   "metadata": {},
   "source": [
    "## Covid19 Daily Report Dataset Updated"
   ]
  },
  {
   "cell_type": "code",
   "execution_count": 11,
   "metadata": {},
   "outputs": [
    {
     "output_type": "execute_result",
     "data": {
      "text/plain": "      ID DE CASO    FECHA DE NOTIFICACION  CODIGO DIVIPOLA  \\\n4144        4145  2020-04-13T00:00:00.000            11001   \n4145        4146  2020-04-15T00:00:00.000            11001   \n4146        4147  2020-04-15T00:00:00.000            11001   \n4147        4148  2020-04-06T00:00:00.000            11001   \n4148        4149  2020-04-14T00:00:00.000            73001   \n\n     CIUDAD DE UBICACION DEPARTAMENTO O DISTRITO  ATENCION  EDAD SEXO  \\\n4144         Bogotá D.C.              Bogotá D.C.     Casa    47    F   \n4145         Bogotá D.C.              Bogotá D.C.     Casa    55    F   \n4146         Bogotá D.C.              Bogotá D.C.     Casa    24    F   \n4147         Bogotá D.C.              Bogotá D.C.     Casa     5    F   \n4148              Ibagué                   Tolima     Casa    46    M   \n\n             TIPO ESTADO PAIS DE PROCEDENCIA                      FIS  \\\n4144   En estudio   Leve            COLOMBIA  2020-04-05T00:00:00.000   \n4145   En estudio   Leve            COLOMBIA  2020-04-10T00:00:00.000   \n4146   En estudio   Leve            COLOMBIA  2020-04-13T00:00:00.000   \n4147   En estudio   Leve            COLOMBIA  2020-04-06T00:00:00.000   \n4148  Relacionado   Leve            COLOMBIA  2020-03-29T00:00:00.000   \n\n     FECHA DE MUERTE        FECHA DIAGNOSTICO FECHA RECUPERADO  \\\n4144           -   -  2020-04-21T00:00:00.000            -   -   \n4145           -   -  2020-04-21T00:00:00.000            -   -   \n4146           -   -  2020-04-21T00:00:00.000            -   -   \n4147           -   -  2020-04-21T00:00:00.000            -   -   \n4148           -   -  2020-04-21T00:00:00.000            -   -   \n\n            FECHA REPORTE WEB  \n4144  2020-04-21T00:00:00.000  \n4145  2020-04-21T00:00:00.000  \n4146  2020-04-21T00:00:00.000  \n4147  2020-04-21T00:00:00.000  \n4148  2020-04-21T00:00:00.000  ",
      "text/html": "<div>\n<style scoped>\n    .dataframe tbody tr th:only-of-type {\n        vertical-align: middle;\n    }\n\n    .dataframe tbody tr th {\n        vertical-align: top;\n    }\n\n    .dataframe thead th {\n        text-align: right;\n    }\n</style>\n<table border=\"1\" class=\"dataframe\">\n  <thead>\n    <tr style=\"text-align: right;\">\n      <th></th>\n      <th>ID DE CASO</th>\n      <th>FECHA DE NOTIFICACION</th>\n      <th>CODIGO DIVIPOLA</th>\n      <th>CIUDAD DE UBICACION</th>\n      <th>DEPARTAMENTO O DISTRITO</th>\n      <th>ATENCION</th>\n      <th>EDAD</th>\n      <th>SEXO</th>\n      <th>TIPO</th>\n      <th>ESTADO</th>\n      <th>PAIS DE PROCEDENCIA</th>\n      <th>FIS</th>\n      <th>FECHA DE MUERTE</th>\n      <th>FECHA DIAGNOSTICO</th>\n      <th>FECHA RECUPERADO</th>\n      <th>FECHA REPORTE WEB</th>\n    </tr>\n  </thead>\n  <tbody>\n    <tr>\n      <th>4144</th>\n      <td>4145</td>\n      <td>2020-04-13T00:00:00.000</td>\n      <td>11001</td>\n      <td>Bogotá D.C.</td>\n      <td>Bogotá D.C.</td>\n      <td>Casa</td>\n      <td>47</td>\n      <td>F</td>\n      <td>En estudio</td>\n      <td>Leve</td>\n      <td>COLOMBIA</td>\n      <td>2020-04-05T00:00:00.000</td>\n      <td>-   -</td>\n      <td>2020-04-21T00:00:00.000</td>\n      <td>-   -</td>\n      <td>2020-04-21T00:00:00.000</td>\n    </tr>\n    <tr>\n      <th>4145</th>\n      <td>4146</td>\n      <td>2020-04-15T00:00:00.000</td>\n      <td>11001</td>\n      <td>Bogotá D.C.</td>\n      <td>Bogotá D.C.</td>\n      <td>Casa</td>\n      <td>55</td>\n      <td>F</td>\n      <td>En estudio</td>\n      <td>Leve</td>\n      <td>COLOMBIA</td>\n      <td>2020-04-10T00:00:00.000</td>\n      <td>-   -</td>\n      <td>2020-04-21T00:00:00.000</td>\n      <td>-   -</td>\n      <td>2020-04-21T00:00:00.000</td>\n    </tr>\n    <tr>\n      <th>4146</th>\n      <td>4147</td>\n      <td>2020-04-15T00:00:00.000</td>\n      <td>11001</td>\n      <td>Bogotá D.C.</td>\n      <td>Bogotá D.C.</td>\n      <td>Casa</td>\n      <td>24</td>\n      <td>F</td>\n      <td>En estudio</td>\n      <td>Leve</td>\n      <td>COLOMBIA</td>\n      <td>2020-04-13T00:00:00.000</td>\n      <td>-   -</td>\n      <td>2020-04-21T00:00:00.000</td>\n      <td>-   -</td>\n      <td>2020-04-21T00:00:00.000</td>\n    </tr>\n    <tr>\n      <th>4147</th>\n      <td>4148</td>\n      <td>2020-04-06T00:00:00.000</td>\n      <td>11001</td>\n      <td>Bogotá D.C.</td>\n      <td>Bogotá D.C.</td>\n      <td>Casa</td>\n      <td>5</td>\n      <td>F</td>\n      <td>En estudio</td>\n      <td>Leve</td>\n      <td>COLOMBIA</td>\n      <td>2020-04-06T00:00:00.000</td>\n      <td>-   -</td>\n      <td>2020-04-21T00:00:00.000</td>\n      <td>-   -</td>\n      <td>2020-04-21T00:00:00.000</td>\n    </tr>\n    <tr>\n      <th>4148</th>\n      <td>4149</td>\n      <td>2020-04-14T00:00:00.000</td>\n      <td>73001</td>\n      <td>Ibagué</td>\n      <td>Tolima</td>\n      <td>Casa</td>\n      <td>46</td>\n      <td>M</td>\n      <td>Relacionado</td>\n      <td>Leve</td>\n      <td>COLOMBIA</td>\n      <td>2020-03-29T00:00:00.000</td>\n      <td>-   -</td>\n      <td>2020-04-21T00:00:00.000</td>\n      <td>-   -</td>\n      <td>2020-04-21T00:00:00.000</td>\n    </tr>\n  </tbody>\n</table>\n</div>"
     },
     "metadata": {},
     "execution_count": 11
    }
   ],
   "source": [
    "# Show dataframe\n",
    "covid19co.tail()"
   ]
  },
  {
   "cell_type": "code",
   "execution_count": 12,
   "metadata": {},
   "outputs": [
    {
     "output_type": "execute_result",
     "data": {
      "text/plain": "      ID DE CASO FECHA DE NOTIFICACION  CODIGO DIVIPOLA CIUDAD DE UBICACION  \\\n4144        4145            13/04/2020            11001         Bogotá D.C.   \n4145        4146            15/04/2020            11001         Bogotá D.C.   \n4146        4147            15/04/2020            11001         Bogotá D.C.   \n4147        4148            06/04/2020            11001         Bogotá D.C.   \n4148        4149            14/04/2020            73001              Ibagué   \n\n     DEPARTAMENTO O DISTRITO  ATENCION  EDAD SEXO         TIPO ESTADO  \\\n4144              Bogotá D.C.     Casa    47    F   En estudio   Leve   \n4145              Bogotá D.C.     Casa    55    F   En estudio   Leve   \n4146              Bogotá D.C.     Casa    24    F   En estudio   Leve   \n4147              Bogotá D.C.     Casa     5    F   En estudio   Leve   \n4148                   Tolima     Casa    46    M  Relacionado   Leve   \n\n     PAIS DE PROCEDENCIA         FIS FECHA DE MUERTE FECHA DIAGNOSTICO  \\\n4144            COLOMBIA  05/04/2020               -        21/04/2020   \n4145            COLOMBIA  10/04/2020               -        21/04/2020   \n4146            COLOMBIA  13/04/2020               -        21/04/2020   \n4147            COLOMBIA  06/04/2020               -        21/04/2020   \n4148            COLOMBIA  29/03/2020               -        21/04/2020   \n\n     FECHA RECUPERADO FECHA REPORTE WEB  \n4144                -        21/04/2020  \n4145                -        21/04/2020  \n4146                -        21/04/2020  \n4147                -        21/04/2020  \n4148                -        21/04/2020  ",
      "text/html": "<div>\n<style scoped>\n    .dataframe tbody tr th:only-of-type {\n        vertical-align: middle;\n    }\n\n    .dataframe tbody tr th {\n        vertical-align: top;\n    }\n\n    .dataframe thead th {\n        text-align: right;\n    }\n</style>\n<table border=\"1\" class=\"dataframe\">\n  <thead>\n    <tr style=\"text-align: right;\">\n      <th></th>\n      <th>ID DE CASO</th>\n      <th>FECHA DE NOTIFICACION</th>\n      <th>CODIGO DIVIPOLA</th>\n      <th>CIUDAD DE UBICACION</th>\n      <th>DEPARTAMENTO O DISTRITO</th>\n      <th>ATENCION</th>\n      <th>EDAD</th>\n      <th>SEXO</th>\n      <th>TIPO</th>\n      <th>ESTADO</th>\n      <th>PAIS DE PROCEDENCIA</th>\n      <th>FIS</th>\n      <th>FECHA DE MUERTE</th>\n      <th>FECHA DIAGNOSTICO</th>\n      <th>FECHA RECUPERADO</th>\n      <th>FECHA REPORTE WEB</th>\n    </tr>\n  </thead>\n  <tbody>\n    <tr>\n      <th>4144</th>\n      <td>4145</td>\n      <td>13/04/2020</td>\n      <td>11001</td>\n      <td>Bogotá D.C.</td>\n      <td>Bogotá D.C.</td>\n      <td>Casa</td>\n      <td>47</td>\n      <td>F</td>\n      <td>En estudio</td>\n      <td>Leve</td>\n      <td>COLOMBIA</td>\n      <td>05/04/2020</td>\n      <td>-</td>\n      <td>21/04/2020</td>\n      <td>-</td>\n      <td>21/04/2020</td>\n    </tr>\n    <tr>\n      <th>4145</th>\n      <td>4146</td>\n      <td>15/04/2020</td>\n      <td>11001</td>\n      <td>Bogotá D.C.</td>\n      <td>Bogotá D.C.</td>\n      <td>Casa</td>\n      <td>55</td>\n      <td>F</td>\n      <td>En estudio</td>\n      <td>Leve</td>\n      <td>COLOMBIA</td>\n      <td>10/04/2020</td>\n      <td>-</td>\n      <td>21/04/2020</td>\n      <td>-</td>\n      <td>21/04/2020</td>\n    </tr>\n    <tr>\n      <th>4146</th>\n      <td>4147</td>\n      <td>15/04/2020</td>\n      <td>11001</td>\n      <td>Bogotá D.C.</td>\n      <td>Bogotá D.C.</td>\n      <td>Casa</td>\n      <td>24</td>\n      <td>F</td>\n      <td>En estudio</td>\n      <td>Leve</td>\n      <td>COLOMBIA</td>\n      <td>13/04/2020</td>\n      <td>-</td>\n      <td>21/04/2020</td>\n      <td>-</td>\n      <td>21/04/2020</td>\n    </tr>\n    <tr>\n      <th>4147</th>\n      <td>4148</td>\n      <td>06/04/2020</td>\n      <td>11001</td>\n      <td>Bogotá D.C.</td>\n      <td>Bogotá D.C.</td>\n      <td>Casa</td>\n      <td>5</td>\n      <td>F</td>\n      <td>En estudio</td>\n      <td>Leve</td>\n      <td>COLOMBIA</td>\n      <td>06/04/2020</td>\n      <td>-</td>\n      <td>21/04/2020</td>\n      <td>-</td>\n      <td>21/04/2020</td>\n    </tr>\n    <tr>\n      <th>4148</th>\n      <td>4149</td>\n      <td>14/04/2020</td>\n      <td>73001</td>\n      <td>Ibagué</td>\n      <td>Tolima</td>\n      <td>Casa</td>\n      <td>46</td>\n      <td>M</td>\n      <td>Relacionado</td>\n      <td>Leve</td>\n      <td>COLOMBIA</td>\n      <td>29/03/2020</td>\n      <td>-</td>\n      <td>21/04/2020</td>\n      <td>-</td>\n      <td>21/04/2020</td>\n    </tr>\n  </tbody>\n</table>\n</div>"
     },
     "metadata": {},
     "execution_count": 12
    }
   ],
   "source": [
    "# Setup Date Format\n",
    "date_columns = list(filter(lambda value: value.find('FECHA') != -1 or value.find('FIS') != -1, covid19co.columns))\n",
    "#print(date_columns)\n",
    "def setup_date(value):\n",
    "    #print('date:', value)\n",
    "    try:\n",
    "        value = value.split('T')[0].split('-')\n",
    "        if len(value) == 3:\n",
    "            value = value[2] + '/' + value[1] + '/' + value[0]\n",
    "        else:\n",
    "            value = '-'\n",
    "    except IndexError:\n",
    "        value = '-'\n",
    "    if len(value) != 10 and len(value) != 1:\n",
    "        value = '-'\n",
    "    return value\n",
    "# For each date column\n",
    "for date_column in date_columns:\n",
    "    covid19co[date_column] = covid19co[date_column].transform(lambda value: setup_date(value))\n",
    "# Show dataframe\n",
    "covid19co.tail()"
   ]
  },
  {
   "cell_type": "code",
   "execution_count": 13,
   "metadata": {},
   "outputs": [
    {
     "output_type": "execute_result",
     "data": {
      "text/plain": "      ID DE CASO FECHA DE NOTIFICACION  CODIGO DIVIPOLA CIUDAD DE UBICACION  \\\n4144        4145            13/04/2020            11001         Bogotá D.C.   \n4145        4146            15/04/2020            11001         Bogotá D.C.   \n4146        4147            15/04/2020            11001         Bogotá D.C.   \n4147        4148            06/04/2020            11001         Bogotá D.C.   \n4148        4149            14/04/2020            73001              Ibagué   \n\n     DEPARTAMENTO O DISTRITO  ATENCION  EDAD SEXO         TIPO ESTADO  ...  \\\n4144              Bogotá D.C.     Casa    47    F   En estudio   Leve  ...   \n4145              Bogotá D.C.     Casa    55    F   En estudio   Leve  ...   \n4146              Bogotá D.C.     Casa    24    F   En estudio   Leve  ...   \n4147              Bogotá D.C.     Casa     5    F   En estudio   Leve  ...   \n4148                   Tolima     Casa    46    M  Relacionado   Leve  ...   \n\n     FECHA RECUPERADO DIA FECHA RECUPERADO MES FECHA RECUPERADO ANIO  \\\n4144                    -                    -                     -   \n4145                    -                    -                     -   \n4146                    -                    -                     -   \n4147                    -                    -                     -   \n4148                    -                    -                     -   \n\n     FECHA RECUPERADO NOMBRE MES FECHA RECUPERADO DIA SEMANA  \\\n4144                           -                           -   \n4145                           -                           -   \n4146                           -                           -   \n4147                           -                           -   \n4148                           -                           -   \n\n     FECHA REPORTE WEB DIA FECHA REPORTE WEB MES FECHA REPORTE WEB ANIO  \\\n4144                    21                    04                   2020   \n4145                    21                    04                   2020   \n4146                    21                    04                   2020   \n4147                    21                    04                   2020   \n4148                    21                    04                   2020   \n\n     FECHA REPORTE WEB NOMBRE MES FECHA REPORTE WEB DIA SEMANA  \n4144                        Abril                       Martes  \n4145                        Abril                       Martes  \n4146                        Abril                       Martes  \n4147                        Abril                       Martes  \n4148                        Abril                       Martes  \n\n[5 rows x 46 columns]",
      "text/html": "<div>\n<style scoped>\n    .dataframe tbody tr th:only-of-type {\n        vertical-align: middle;\n    }\n\n    .dataframe tbody tr th {\n        vertical-align: top;\n    }\n\n    .dataframe thead th {\n        text-align: right;\n    }\n</style>\n<table border=\"1\" class=\"dataframe\">\n  <thead>\n    <tr style=\"text-align: right;\">\n      <th></th>\n      <th>ID DE CASO</th>\n      <th>FECHA DE NOTIFICACION</th>\n      <th>CODIGO DIVIPOLA</th>\n      <th>CIUDAD DE UBICACION</th>\n      <th>DEPARTAMENTO O DISTRITO</th>\n      <th>ATENCION</th>\n      <th>EDAD</th>\n      <th>SEXO</th>\n      <th>TIPO</th>\n      <th>ESTADO</th>\n      <th>...</th>\n      <th>FECHA RECUPERADO DIA</th>\n      <th>FECHA RECUPERADO MES</th>\n      <th>FECHA RECUPERADO ANIO</th>\n      <th>FECHA RECUPERADO NOMBRE MES</th>\n      <th>FECHA RECUPERADO DIA SEMANA</th>\n      <th>FECHA REPORTE WEB DIA</th>\n      <th>FECHA REPORTE WEB MES</th>\n      <th>FECHA REPORTE WEB ANIO</th>\n      <th>FECHA REPORTE WEB NOMBRE MES</th>\n      <th>FECHA REPORTE WEB DIA SEMANA</th>\n    </tr>\n  </thead>\n  <tbody>\n    <tr>\n      <th>4144</th>\n      <td>4145</td>\n      <td>13/04/2020</td>\n      <td>11001</td>\n      <td>Bogotá D.C.</td>\n      <td>Bogotá D.C.</td>\n      <td>Casa</td>\n      <td>47</td>\n      <td>F</td>\n      <td>En estudio</td>\n      <td>Leve</td>\n      <td>...</td>\n      <td>-</td>\n      <td>-</td>\n      <td>-</td>\n      <td>-</td>\n      <td>-</td>\n      <td>21</td>\n      <td>04</td>\n      <td>2020</td>\n      <td>Abril</td>\n      <td>Martes</td>\n    </tr>\n    <tr>\n      <th>4145</th>\n      <td>4146</td>\n      <td>15/04/2020</td>\n      <td>11001</td>\n      <td>Bogotá D.C.</td>\n      <td>Bogotá D.C.</td>\n      <td>Casa</td>\n      <td>55</td>\n      <td>F</td>\n      <td>En estudio</td>\n      <td>Leve</td>\n      <td>...</td>\n      <td>-</td>\n      <td>-</td>\n      <td>-</td>\n      <td>-</td>\n      <td>-</td>\n      <td>21</td>\n      <td>04</td>\n      <td>2020</td>\n      <td>Abril</td>\n      <td>Martes</td>\n    </tr>\n    <tr>\n      <th>4146</th>\n      <td>4147</td>\n      <td>15/04/2020</td>\n      <td>11001</td>\n      <td>Bogotá D.C.</td>\n      <td>Bogotá D.C.</td>\n      <td>Casa</td>\n      <td>24</td>\n      <td>F</td>\n      <td>En estudio</td>\n      <td>Leve</td>\n      <td>...</td>\n      <td>-</td>\n      <td>-</td>\n      <td>-</td>\n      <td>-</td>\n      <td>-</td>\n      <td>21</td>\n      <td>04</td>\n      <td>2020</td>\n      <td>Abril</td>\n      <td>Martes</td>\n    </tr>\n    <tr>\n      <th>4147</th>\n      <td>4148</td>\n      <td>06/04/2020</td>\n      <td>11001</td>\n      <td>Bogotá D.C.</td>\n      <td>Bogotá D.C.</td>\n      <td>Casa</td>\n      <td>5</td>\n      <td>F</td>\n      <td>En estudio</td>\n      <td>Leve</td>\n      <td>...</td>\n      <td>-</td>\n      <td>-</td>\n      <td>-</td>\n      <td>-</td>\n      <td>-</td>\n      <td>21</td>\n      <td>04</td>\n      <td>2020</td>\n      <td>Abril</td>\n      <td>Martes</td>\n    </tr>\n    <tr>\n      <th>4148</th>\n      <td>4149</td>\n      <td>14/04/2020</td>\n      <td>73001</td>\n      <td>Ibagué</td>\n      <td>Tolima</td>\n      <td>Casa</td>\n      <td>46</td>\n      <td>M</td>\n      <td>Relacionado</td>\n      <td>Leve</td>\n      <td>...</td>\n      <td>-</td>\n      <td>-</td>\n      <td>-</td>\n      <td>-</td>\n      <td>-</td>\n      <td>21</td>\n      <td>04</td>\n      <td>2020</td>\n      <td>Abril</td>\n      <td>Martes</td>\n    </tr>\n  </tbody>\n</table>\n<p>5 rows × 46 columns</p>\n</div>"
     },
     "metadata": {},
     "execution_count": 13
    }
   ],
   "source": [
    "# Add Day, Month, Year, Month Name and Day Name for each Date\n",
    "\n",
    "# Spanish\n",
    "nombre_mes = ['Enero', 'Febrero', 'Marzo', 'Abril', 'Mayo', 'Junio', 'Julio', 'Agosto', 'Septiembre', 'Octubre', 'Noviembre', 'Diciembre']\n",
    "nombre_dia = ['Lunes', 'Martes', 'Miércoles', 'Jueves', 'Viernes', 'Sábado', 'Domingo']\n",
    "\n",
    "# Get day\n",
    "def get_day(value):\n",
    "    if value not in '-':\n",
    "        return value.split('/')[0]\n",
    "    return value\n",
    "# Get month\n",
    "def get_month(value):\n",
    "    if value not in '-':\n",
    "        return value.split('/')[1]\n",
    "    return value\n",
    "# Get year\n",
    "def get_year(value):\n",
    "    if value not in '-':\n",
    "        return value.split('/')[2]\n",
    "    return value\n",
    "# Get month name\n",
    "def get_month_name(value):\n",
    "    if value not in '-':\n",
    "        return nombre_mes[int(value.split('/')[1]) - 1]\n",
    "    return value\n",
    "# Get weekday\n",
    "def get_weekday(value):\n",
    "    if value not in '-':\n",
    "        return nombre_dia[datetime.date(int(value.split('/')[2]), int(value.split('/')[1]), int(value.split('/')[0])).weekday()]\n",
    "    return value\n",
    "\n",
    "# For each date column\n",
    "for date_column in date_columns:\n",
    "    covid19co[date_column + ' DIA'] = covid19co[date_column].transform(lambda value: get_day(value))\n",
    "    covid19co[date_column + ' MES'] = covid19co[date_column].transform(lambda value: get_month(value))\n",
    "    covid19co[date_column + ' ANIO'] = covid19co[date_column].transform(lambda value: get_year(value))\n",
    "    covid19co[date_column + ' NOMBRE MES'] = covid19co[date_column].transform(lambda value: get_month_name(value))\n",
    "    covid19co[date_column + ' DIA SEMANA'] = covid19co[date_column].transform(lambda value: get_weekday(value))\n",
    "# Show dataframe\n",
    "covid19co.tail()"
   ]
  },
  {
   "cell_type": "markdown",
   "metadata": {},
   "source": [
    "## Covid19 Colombia Dataset\n",
    "> ***Output file***: covid19co.csv"
   ]
  },
  {
   "cell_type": "code",
   "execution_count": 14,
   "metadata": {},
   "outputs": [],
   "source": [
    "# Save dataframe\n",
    "covid19co.to_csv(os.path.join(OUTPUT_DIR, 'covid19co.csv'), index=False)"
   ]
  },
  {
   "cell_type": "markdown",
   "metadata": {},
   "source": [
    "---"
   ]
  },
  {
   "cell_type": "markdown",
   "metadata": {},
   "source": [
    "## Covid19 Colombia Daily Report Dataset Updated"
   ]
  },
  {
   "cell_type": "code",
   "execution_count": 15,
   "metadata": {},
   "outputs": [
    {
     "output_type": "execute_result",
     "data": {
      "text/plain": "   ID DE CASO FECHA DE NOTIFICACION  CODIGO DIVIPOLA  CIUDAD DE UBICACION  \\\n0           1            02/03/2020            11001          Bogotá D.C.   \n1           2            06/03/2020            76111  Guadalajara de Buga   \n2           3            07/03/2020             5001             Medellín   \n3           4            09/03/2020             5001             Medellín   \n4           5            09/03/2020             5001             Medellín   \n\n  DEPARTAMENTO O DISTRITO     ATENCION  EDAD SEXO         TIPO ESTADO  ...  \\\n0              Bogotá D.C.  Recuperado    19    F    Importado   Leve  ...   \n1          Valle del Cauca  Recuperado    34    M    Importado   Leve  ...   \n2                Antioquia  Recuperado    50    F    Importado   Leve  ...   \n3                Antioquia  Recuperado    55    M  Relacionado   Leve  ...   \n4                Antioquia  Recuperado    25    M  Relacionado   Leve  ...   \n\n  FECHA RECUPERADO DIA FECHA RECUPERADO MES FECHA RECUPERADO ANIO  \\\n0                   13                   03                  2020   \n1                   19                   03                  2020   \n2                   15                   03                  2020   \n3                   26                   03                  2020   \n4                   23                   03                  2020   \n\n  FECHA RECUPERADO NOMBRE MES FECHA RECUPERADO DIA SEMANA  \\\n0                       Marzo                     Viernes   \n1                       Marzo                      Jueves   \n2                       Marzo                     Domingo   \n3                       Marzo                      Jueves   \n4                       Marzo                       Lunes   \n\n  FECHA REPORTE WEB DIA FECHA REPORTE WEB MES FECHA REPORTE WEB ANIO  \\\n0                    06                    03                   2020   \n1                    09                    03                   2020   \n2                    09                    03                   2020   \n3                    11                    03                   2020   \n4                    11                    03                   2020   \n\n  FECHA REPORTE WEB NOMBRE MES FECHA REPORTE WEB DIA SEMANA  \n0                        Marzo                      Viernes  \n1                        Marzo                        Lunes  \n2                        Marzo                        Lunes  \n3                        Marzo                    Miércoles  \n4                        Marzo                    Miércoles  \n\n[5 rows x 46 columns]",
      "text/html": "<div>\n<style scoped>\n    .dataframe tbody tr th:only-of-type {\n        vertical-align: middle;\n    }\n\n    .dataframe tbody tr th {\n        vertical-align: top;\n    }\n\n    .dataframe thead th {\n        text-align: right;\n    }\n</style>\n<table border=\"1\" class=\"dataframe\">\n  <thead>\n    <tr style=\"text-align: right;\">\n      <th></th>\n      <th>ID DE CASO</th>\n      <th>FECHA DE NOTIFICACION</th>\n      <th>CODIGO DIVIPOLA</th>\n      <th>CIUDAD DE UBICACION</th>\n      <th>DEPARTAMENTO O DISTRITO</th>\n      <th>ATENCION</th>\n      <th>EDAD</th>\n      <th>SEXO</th>\n      <th>TIPO</th>\n      <th>ESTADO</th>\n      <th>...</th>\n      <th>FECHA RECUPERADO DIA</th>\n      <th>FECHA RECUPERADO MES</th>\n      <th>FECHA RECUPERADO ANIO</th>\n      <th>FECHA RECUPERADO NOMBRE MES</th>\n      <th>FECHA RECUPERADO DIA SEMANA</th>\n      <th>FECHA REPORTE WEB DIA</th>\n      <th>FECHA REPORTE WEB MES</th>\n      <th>FECHA REPORTE WEB ANIO</th>\n      <th>FECHA REPORTE WEB NOMBRE MES</th>\n      <th>FECHA REPORTE WEB DIA SEMANA</th>\n    </tr>\n  </thead>\n  <tbody>\n    <tr>\n      <th>0</th>\n      <td>1</td>\n      <td>02/03/2020</td>\n      <td>11001</td>\n      <td>Bogotá D.C.</td>\n      <td>Bogotá D.C.</td>\n      <td>Recuperado</td>\n      <td>19</td>\n      <td>F</td>\n      <td>Importado</td>\n      <td>Leve</td>\n      <td>...</td>\n      <td>13</td>\n      <td>03</td>\n      <td>2020</td>\n      <td>Marzo</td>\n      <td>Viernes</td>\n      <td>06</td>\n      <td>03</td>\n      <td>2020</td>\n      <td>Marzo</td>\n      <td>Viernes</td>\n    </tr>\n    <tr>\n      <th>1</th>\n      <td>2</td>\n      <td>06/03/2020</td>\n      <td>76111</td>\n      <td>Guadalajara de Buga</td>\n      <td>Valle del Cauca</td>\n      <td>Recuperado</td>\n      <td>34</td>\n      <td>M</td>\n      <td>Importado</td>\n      <td>Leve</td>\n      <td>...</td>\n      <td>19</td>\n      <td>03</td>\n      <td>2020</td>\n      <td>Marzo</td>\n      <td>Jueves</td>\n      <td>09</td>\n      <td>03</td>\n      <td>2020</td>\n      <td>Marzo</td>\n      <td>Lunes</td>\n    </tr>\n    <tr>\n      <th>2</th>\n      <td>3</td>\n      <td>07/03/2020</td>\n      <td>5001</td>\n      <td>Medellín</td>\n      <td>Antioquia</td>\n      <td>Recuperado</td>\n      <td>50</td>\n      <td>F</td>\n      <td>Importado</td>\n      <td>Leve</td>\n      <td>...</td>\n      <td>15</td>\n      <td>03</td>\n      <td>2020</td>\n      <td>Marzo</td>\n      <td>Domingo</td>\n      <td>09</td>\n      <td>03</td>\n      <td>2020</td>\n      <td>Marzo</td>\n      <td>Lunes</td>\n    </tr>\n    <tr>\n      <th>3</th>\n      <td>4</td>\n      <td>09/03/2020</td>\n      <td>5001</td>\n      <td>Medellín</td>\n      <td>Antioquia</td>\n      <td>Recuperado</td>\n      <td>55</td>\n      <td>M</td>\n      <td>Relacionado</td>\n      <td>Leve</td>\n      <td>...</td>\n      <td>26</td>\n      <td>03</td>\n      <td>2020</td>\n      <td>Marzo</td>\n      <td>Jueves</td>\n      <td>11</td>\n      <td>03</td>\n      <td>2020</td>\n      <td>Marzo</td>\n      <td>Miércoles</td>\n    </tr>\n    <tr>\n      <th>4</th>\n      <td>5</td>\n      <td>09/03/2020</td>\n      <td>5001</td>\n      <td>Medellín</td>\n      <td>Antioquia</td>\n      <td>Recuperado</td>\n      <td>25</td>\n      <td>M</td>\n      <td>Relacionado</td>\n      <td>Leve</td>\n      <td>...</td>\n      <td>23</td>\n      <td>03</td>\n      <td>2020</td>\n      <td>Marzo</td>\n      <td>Lunes</td>\n      <td>11</td>\n      <td>03</td>\n      <td>2020</td>\n      <td>Marzo</td>\n      <td>Miércoles</td>\n    </tr>\n  </tbody>\n</table>\n<p>5 rows × 46 columns</p>\n</div>"
     },
     "metadata": {},
     "execution_count": 15
    }
   ],
   "source": [
    "# Show dataframe\n",
    "covid19co.head()"
   ]
  },
  {
   "cell_type": "code",
   "execution_count": 16,
   "metadata": {},
   "outputs": [
    {
     "output_type": "execute_result",
     "data": {
      "text/plain": "      ID DE CASO FECHA DE NOTIFICACION  CODIGO DIVIPOLA CIUDAD DE UBICACION  \\\n4144        4145            13/04/2020            11001         Bogotá D.C.   \n4145        4146            15/04/2020            11001         Bogotá D.C.   \n4146        4147            15/04/2020            11001         Bogotá D.C.   \n4147        4148            06/04/2020            11001         Bogotá D.C.   \n4148        4149            14/04/2020            73001              Ibagué   \n\n     DEPARTAMENTO O DISTRITO  ATENCION  EDAD SEXO         TIPO ESTADO  ...  \\\n4144              Bogotá D.C.     Casa    47    F   En estudio   Leve  ...   \n4145              Bogotá D.C.     Casa    55    F   En estudio   Leve  ...   \n4146              Bogotá D.C.     Casa    24    F   En estudio   Leve  ...   \n4147              Bogotá D.C.     Casa     5    F   En estudio   Leve  ...   \n4148                   Tolima     Casa    46    M  Relacionado   Leve  ...   \n\n     FECHA RECUPERADO DIA FECHA RECUPERADO MES FECHA RECUPERADO ANIO  \\\n4144                    -                    -                     -   \n4145                    -                    -                     -   \n4146                    -                    -                     -   \n4147                    -                    -                     -   \n4148                    -                    -                     -   \n\n     FECHA RECUPERADO NOMBRE MES FECHA RECUPERADO DIA SEMANA  \\\n4144                           -                           -   \n4145                           -                           -   \n4146                           -                           -   \n4147                           -                           -   \n4148                           -                           -   \n\n     FECHA REPORTE WEB DIA FECHA REPORTE WEB MES FECHA REPORTE WEB ANIO  \\\n4144                    21                    04                   2020   \n4145                    21                    04                   2020   \n4146                    21                    04                   2020   \n4147                    21                    04                   2020   \n4148                    21                    04                   2020   \n\n     FECHA REPORTE WEB NOMBRE MES FECHA REPORTE WEB DIA SEMANA  \n4144                        Abril                       Martes  \n4145                        Abril                       Martes  \n4146                        Abril                       Martes  \n4147                        Abril                       Martes  \n4148                        Abril                       Martes  \n\n[5 rows x 46 columns]",
      "text/html": "<div>\n<style scoped>\n    .dataframe tbody tr th:only-of-type {\n        vertical-align: middle;\n    }\n\n    .dataframe tbody tr th {\n        vertical-align: top;\n    }\n\n    .dataframe thead th {\n        text-align: right;\n    }\n</style>\n<table border=\"1\" class=\"dataframe\">\n  <thead>\n    <tr style=\"text-align: right;\">\n      <th></th>\n      <th>ID DE CASO</th>\n      <th>FECHA DE NOTIFICACION</th>\n      <th>CODIGO DIVIPOLA</th>\n      <th>CIUDAD DE UBICACION</th>\n      <th>DEPARTAMENTO O DISTRITO</th>\n      <th>ATENCION</th>\n      <th>EDAD</th>\n      <th>SEXO</th>\n      <th>TIPO</th>\n      <th>ESTADO</th>\n      <th>...</th>\n      <th>FECHA RECUPERADO DIA</th>\n      <th>FECHA RECUPERADO MES</th>\n      <th>FECHA RECUPERADO ANIO</th>\n      <th>FECHA RECUPERADO NOMBRE MES</th>\n      <th>FECHA RECUPERADO DIA SEMANA</th>\n      <th>FECHA REPORTE WEB DIA</th>\n      <th>FECHA REPORTE WEB MES</th>\n      <th>FECHA REPORTE WEB ANIO</th>\n      <th>FECHA REPORTE WEB NOMBRE MES</th>\n      <th>FECHA REPORTE WEB DIA SEMANA</th>\n    </tr>\n  </thead>\n  <tbody>\n    <tr>\n      <th>4144</th>\n      <td>4145</td>\n      <td>13/04/2020</td>\n      <td>11001</td>\n      <td>Bogotá D.C.</td>\n      <td>Bogotá D.C.</td>\n      <td>Casa</td>\n      <td>47</td>\n      <td>F</td>\n      <td>En estudio</td>\n      <td>Leve</td>\n      <td>...</td>\n      <td>-</td>\n      <td>-</td>\n      <td>-</td>\n      <td>-</td>\n      <td>-</td>\n      <td>21</td>\n      <td>04</td>\n      <td>2020</td>\n      <td>Abril</td>\n      <td>Martes</td>\n    </tr>\n    <tr>\n      <th>4145</th>\n      <td>4146</td>\n      <td>15/04/2020</td>\n      <td>11001</td>\n      <td>Bogotá D.C.</td>\n      <td>Bogotá D.C.</td>\n      <td>Casa</td>\n      <td>55</td>\n      <td>F</td>\n      <td>En estudio</td>\n      <td>Leve</td>\n      <td>...</td>\n      <td>-</td>\n      <td>-</td>\n      <td>-</td>\n      <td>-</td>\n      <td>-</td>\n      <td>21</td>\n      <td>04</td>\n      <td>2020</td>\n      <td>Abril</td>\n      <td>Martes</td>\n    </tr>\n    <tr>\n      <th>4146</th>\n      <td>4147</td>\n      <td>15/04/2020</td>\n      <td>11001</td>\n      <td>Bogotá D.C.</td>\n      <td>Bogotá D.C.</td>\n      <td>Casa</td>\n      <td>24</td>\n      <td>F</td>\n      <td>En estudio</td>\n      <td>Leve</td>\n      <td>...</td>\n      <td>-</td>\n      <td>-</td>\n      <td>-</td>\n      <td>-</td>\n      <td>-</td>\n      <td>21</td>\n      <td>04</td>\n      <td>2020</td>\n      <td>Abril</td>\n      <td>Martes</td>\n    </tr>\n    <tr>\n      <th>4147</th>\n      <td>4148</td>\n      <td>06/04/2020</td>\n      <td>11001</td>\n      <td>Bogotá D.C.</td>\n      <td>Bogotá D.C.</td>\n      <td>Casa</td>\n      <td>5</td>\n      <td>F</td>\n      <td>En estudio</td>\n      <td>Leve</td>\n      <td>...</td>\n      <td>-</td>\n      <td>-</td>\n      <td>-</td>\n      <td>-</td>\n      <td>-</td>\n      <td>21</td>\n      <td>04</td>\n      <td>2020</td>\n      <td>Abril</td>\n      <td>Martes</td>\n    </tr>\n    <tr>\n      <th>4148</th>\n      <td>4149</td>\n      <td>14/04/2020</td>\n      <td>73001</td>\n      <td>Ibagué</td>\n      <td>Tolima</td>\n      <td>Casa</td>\n      <td>46</td>\n      <td>M</td>\n      <td>Relacionado</td>\n      <td>Leve</td>\n      <td>...</td>\n      <td>-</td>\n      <td>-</td>\n      <td>-</td>\n      <td>-</td>\n      <td>-</td>\n      <td>21</td>\n      <td>04</td>\n      <td>2020</td>\n      <td>Abril</td>\n      <td>Martes</td>\n    </tr>\n  </tbody>\n</table>\n<p>5 rows × 46 columns</p>\n</div>"
     },
     "metadata": {},
     "execution_count": 16
    }
   ],
   "source": [
    "# Show dataframe\n",
    "covid19co.tail()"
   ]
  },
  {
   "cell_type": "markdown",
   "metadata": {},
   "source": [
    "---"
   ]
  },
  {
   "cell_type": "markdown",
   "metadata": {},
   "source": [
    "## Official Covid19 Colombia Samples Processed"
   ]
  },
  {
   "cell_type": "code",
   "execution_count": 17,
   "metadata": {},
   "outputs": [
    {
     "output_type": "execute_result",
     "data": {
      "text/plain": "      Fecha Muestras procesadas según fecha de resultado acumuladas\n45  4/17/20                                              58175     \n46  4/18/20                                              60505     \n47  4/19/20                                              64421     \n48  4/20/20                                              66763     \n49  4/21/20                                              68392     ",
      "text/html": "<div>\n<style scoped>\n    .dataframe tbody tr th:only-of-type {\n        vertical-align: middle;\n    }\n\n    .dataframe tbody tr th {\n        vertical-align: top;\n    }\n\n    .dataframe thead th {\n        text-align: right;\n    }\n</style>\n<table border=\"1\" class=\"dataframe\">\n  <thead>\n    <tr style=\"text-align: right;\">\n      <th></th>\n      <th>Fecha</th>\n      <th>Muestras procesadas según fecha de resultado acumuladas</th>\n    </tr>\n  </thead>\n  <tbody>\n    <tr>\n      <th>45</th>\n      <td>4/17/20</td>\n      <td>58175</td>\n    </tr>\n    <tr>\n      <th>46</th>\n      <td>4/18/20</td>\n      <td>60505</td>\n    </tr>\n    <tr>\n      <th>47</th>\n      <td>4/19/20</td>\n      <td>64421</td>\n    </tr>\n    <tr>\n      <th>48</th>\n      <td>4/20/20</td>\n      <td>66763</td>\n    </tr>\n    <tr>\n      <th>49</th>\n      <td>4/21/20</td>\n      <td>68392</td>\n    </tr>\n  </tbody>\n</table>\n</div>"
     },
     "metadata": {},
     "execution_count": 17
    }
   ],
   "source": [
    "# Official Samples Processed\n",
    "# Reading the json as a dict\n",
    "with requests.get(URL_SAMPLES_PROCESSED) as official_dataset:\n",
    "    with open(os.path.join(INPUT_DIR, 'covid19co_samples_processed_official.json'), 'w') as json_file:\n",
    "        json_data = official_dataset.json()\n",
    "        del json_data['refreshed']\n",
    "        json.dump(json_data, json_file)\n",
    "\n",
    "#print(official_dataset.json()['data'][0])\n",
    "\n",
    "# Get attributes and data\n",
    "attrs = official_dataset.json()['data'][0][0]\n",
    "#print(attrs)\n",
    "data = official_dataset.json()['data'][0][1:]\n",
    "#print(data)\n",
    "\n",
    "# Official Samples Processed\n",
    "covid19co_samples_processed = pd.DataFrame(columns=attrs, data=data)\n",
    "\n",
    "# Show dataframe\n",
    "covid19co_samples_processed.tail()"
   ]
  },
  {
   "cell_type": "code",
   "execution_count": 18,
   "metadata": {},
   "outputs": [
    {
     "output_type": "execute_result",
     "data": {
      "text/plain": "       FECHA MUESTRAS PROCESADAS SEGUN FECHA DE RESULTADO ACUMULADAS\n0  Sin fecha                                                 36     \n1     3/4/20                                                 26     \n2     3/5/20                                                 27     \n3     3/6/20                                                 72     \n4     3/7/20                                                140     ",
      "text/html": "<div>\n<style scoped>\n    .dataframe tbody tr th:only-of-type {\n        vertical-align: middle;\n    }\n\n    .dataframe tbody tr th {\n        vertical-align: top;\n    }\n\n    .dataframe thead th {\n        text-align: right;\n    }\n</style>\n<table border=\"1\" class=\"dataframe\">\n  <thead>\n    <tr style=\"text-align: right;\">\n      <th></th>\n      <th>FECHA</th>\n      <th>MUESTRAS PROCESADAS SEGUN FECHA DE RESULTADO ACUMULADAS</th>\n    </tr>\n  </thead>\n  <tbody>\n    <tr>\n      <th>0</th>\n      <td>Sin fecha</td>\n      <td>36</td>\n    </tr>\n    <tr>\n      <th>1</th>\n      <td>3/4/20</td>\n      <td>26</td>\n    </tr>\n    <tr>\n      <th>2</th>\n      <td>3/5/20</td>\n      <td>27</td>\n    </tr>\n    <tr>\n      <th>3</th>\n      <td>3/6/20</td>\n      <td>72</td>\n    </tr>\n    <tr>\n      <th>4</th>\n      <td>3/7/20</td>\n      <td>140</td>\n    </tr>\n  </tbody>\n</table>\n</div>"
     },
     "metadata": {},
     "execution_count": 18
    }
   ],
   "source": [
    "# Update Name Columns\n",
    "# Remove Accents and Uppercase\n",
    "covid19co_samples_processed.columns = [unidecode.unidecode(value).upper() for value in covid19co_samples_processed.columns]\n",
    "# Show dataframe\n",
    "covid19co_samples_processed.head()"
   ]
  },
  {
   "cell_type": "code",
   "execution_count": 19,
   "metadata": {},
   "outputs": [
    {
     "output_type": "execute_result",
     "data": {
      "text/plain": "        FECHA MUESTRAS PROCESADAS SEGUN FECHA DE RESULTADO ACUMULADAS\n0           -                                                 36     \n1  04/03/2020                                                 26     \n2  05/03/2020                                                 27     \n3  06/03/2020                                                 72     \n4  07/03/2020                                                140     ",
      "text/html": "<div>\n<style scoped>\n    .dataframe tbody tr th:only-of-type {\n        vertical-align: middle;\n    }\n\n    .dataframe tbody tr th {\n        vertical-align: top;\n    }\n\n    .dataframe thead th {\n        text-align: right;\n    }\n</style>\n<table border=\"1\" class=\"dataframe\">\n  <thead>\n    <tr style=\"text-align: right;\">\n      <th></th>\n      <th>FECHA</th>\n      <th>MUESTRAS PROCESADAS SEGUN FECHA DE RESULTADO ACUMULADAS</th>\n    </tr>\n  </thead>\n  <tbody>\n    <tr>\n      <th>0</th>\n      <td>-</td>\n      <td>36</td>\n    </tr>\n    <tr>\n      <th>1</th>\n      <td>04/03/2020</td>\n      <td>26</td>\n    </tr>\n    <tr>\n      <th>2</th>\n      <td>05/03/2020</td>\n      <td>27</td>\n    </tr>\n    <tr>\n      <th>3</th>\n      <td>06/03/2020</td>\n      <td>72</td>\n    </tr>\n    <tr>\n      <th>4</th>\n      <td>07/03/2020</td>\n      <td>140</td>\n    </tr>\n  </tbody>\n</table>\n</div>"
     },
     "metadata": {},
     "execution_count": 19
    }
   ],
   "source": [
    "# Setup Date Format\n",
    "def setup_date_samples(value):\n",
    "    #print('date:', value)\n",
    "    try:\n",
    "        value = value.split('/')\n",
    "        #print(len(value))\n",
    "        if len(value) == 3:\n",
    "            # Month\n",
    "            if len(value[0]) == 1:\n",
    "                value[0] = '0' + value[0]\n",
    "            # Day\n",
    "            if len(value[1]) == 1:\n",
    "                value[1] = '0' + value[1]\n",
    "            # Year\n",
    "            if len(value[2]) == 2:\n",
    "                value[2] = value[2] + '20'\n",
    "            # Date\n",
    "            value = value[1] + '/' + value[0] + '/' + value[2]\n",
    "        else:\n",
    "            value = '-'\n",
    "    except IndexError:\n",
    "        value = '-'\n",
    "    #print('VALUE:', value)\n",
    "    if len(value) != 10 and len(value) != 1:\n",
    "        value = '-'\n",
    "    return value\n",
    "# Setup Date Format\n",
    "covid19co_samples_processed['FECHA'] = covid19co_samples_processed['FECHA'].transform(lambda value: setup_date_samples(value))\n",
    "# Show dataframe\n",
    "covid19co_samples_processed.head()"
   ]
  },
  {
   "cell_type": "markdown",
   "metadata": {},
   "source": [
    "## Covid19 Colombia Samples Processed\n",
    "> ***Output file***: covid19co_samples_processed.csv"
   ]
  },
  {
   "cell_type": "code",
   "execution_count": 20,
   "metadata": {},
   "outputs": [],
   "source": [
    "# Save dataframe\n",
    "covid19co_samples_processed.to_csv(os.path.join(OUTPUT_DIR, 'covid19co_samples_processed.csv'), index=False)"
   ]
  },
  {
   "cell_type": "markdown",
   "metadata": {},
   "source": [
    "---"
   ]
  },
  {
   "cell_type": "markdown",
   "metadata": {},
   "source": [
    "## Google Community Mobility Reports - Colombia"
   ]
  },
  {
   "cell_type": "code",
   "execution_count": 21,
   "metadata": {},
   "outputs": [
    {
     "output_type": "execute_result",
     "data": {
      "text/plain": "         date   country                                  file  \\\n0  2020-03-29  Colombia  2020-03-29_CO_Mobility_Report_en.pdf   \n1  2020-04-05  Colombia  2020-04-05_CO_Mobility_Report_en.pdf   \n2  2020-04-11  Colombia  2020-04-11_CO_Mobility_Report_en.pdf   \n\n                                                 url  \n0  https://www.gstatic.com/covid19/mobility/2020-...  \n1  https://www.gstatic.com/covid19/mobility/2020-...  \n2  https://www.gstatic.com/covid19/mobility/2020-...  ",
      "text/html": "<div>\n<style scoped>\n    .dataframe tbody tr th:only-of-type {\n        vertical-align: middle;\n    }\n\n    .dataframe tbody tr th {\n        vertical-align: top;\n    }\n\n    .dataframe thead th {\n        text-align: right;\n    }\n</style>\n<table border=\"1\" class=\"dataframe\">\n  <thead>\n    <tr style=\"text-align: right;\">\n      <th></th>\n      <th>date</th>\n      <th>country</th>\n      <th>file</th>\n      <th>url</th>\n    </tr>\n  </thead>\n  <tbody>\n    <tr>\n      <th>0</th>\n      <td>2020-03-29</td>\n      <td>Colombia</td>\n      <td>2020-03-29_CO_Mobility_Report_en.pdf</td>\n      <td>https://www.gstatic.com/covid19/mobility/2020-...</td>\n    </tr>\n    <tr>\n      <th>1</th>\n      <td>2020-04-05</td>\n      <td>Colombia</td>\n      <td>2020-04-05_CO_Mobility_Report_en.pdf</td>\n      <td>https://www.gstatic.com/covid19/mobility/2020-...</td>\n    </tr>\n    <tr>\n      <th>2</th>\n      <td>2020-04-11</td>\n      <td>Colombia</td>\n      <td>2020-04-11_CO_Mobility_Report_en.pdf</td>\n      <td>https://www.gstatic.com/covid19/mobility/2020-...</td>\n    </tr>\n  </tbody>\n</table>\n</div>"
     },
     "metadata": {},
     "execution_count": 21
    }
   ],
   "source": [
    "# Google Community Mobility Reports - Colombia\n",
    "google_community_mobility_reports = pd.DataFrame(columns=['date', 'country', 'file', 'url'])\n",
    "google_community_mobility_reports['date'] = [dti.strftime('%Y-%m-%d') for dti in pd.date_range(start='2020-03-29', end=datetime.date.today().isoformat(), freq='D')]\n",
    "google_community_mobility_reports['country'] = ['Colombia' for country in range(len(google_community_mobility_reports['date'].values))]\n",
    "google_community_mobility_reports['file'] = [ date + '_CO_Mobility_Report_en.pdf' for date in google_community_mobility_reports['date'].values]\n",
    "# Get URL report\n",
    "def get_report_url(file):\n",
    "    with requests.get('https://www.gstatic.com/covid19/mobility/' + file) as community_mobility_report:\n",
    "        #print(community_mobility_report.status_code)\n",
    "        if community_mobility_report.status_code == 200:\n",
    "            #print('status_code: ', 200)\n",
    "            #print('url', community_mobility_report.url)\n",
    "            return community_mobility_report.url\n",
    "        else:\n",
    "            return np.nan\n",
    "# Get URL report\n",
    "google_community_mobility_reports['url'] = google_community_mobility_reports['file'].transform(lambda value: get_report_url(value))\n",
    "# Drop any report without URL\n",
    "google_community_mobility_reports.dropna(inplace=True)\n",
    "# Reset index\n",
    "google_community_mobility_reports.reset_index(inplace=True, drop=True)\n",
    "# Show dataframe\n",
    "google_community_mobility_reports.head()\n",
    "#print('community_mobility_report.content', community_mobility_report.content)\n",
    "            #with open(os.path.join(OUTPUT_DIR, '2020-04-05_CO_Mobility_Report_en.pdf'), 'wb') as f:\n",
    "            #    f.write(community_mobility_report.content)"
   ]
  },
  {
   "cell_type": "code",
   "execution_count": 22,
   "metadata": {},
   "outputs": [
    {
     "output_type": "execute_result",
     "data": {
      "text/plain": "         date   country Retail & recreation Grocery & pharmacy Parks  \\\n0  29/03/2020  Colombia                -86%               -68%  -80%   \n1  05/04/2020  Colombia                -85%               -66%  -79%   \n2  11/04/2020  Colombia                -84%               -65%  -77%   \n\n  Transit stations Workplaces Residential  \\\n0             -82%       -58%        +26%   \n1             -81%       -57%        +26%   \n2             -81%       -69%        +32%   \n\n                                   file  \\\n0  2020-03-29_CO_Mobility_Report_en.pdf   \n1  2020-04-05_CO_Mobility_Report_en.pdf   \n2  2020-04-11_CO_Mobility_Report_en.pdf   \n\n                                                 url  \n0  https://www.gstatic.com/covid19/mobility/2020-...  \n1  https://www.gstatic.com/covid19/mobility/2020-...  \n2  https://www.gstatic.com/covid19/mobility/2020-...  ",
      "text/html": "<div>\n<style scoped>\n    .dataframe tbody tr th:only-of-type {\n        vertical-align: middle;\n    }\n\n    .dataframe tbody tr th {\n        vertical-align: top;\n    }\n\n    .dataframe thead th {\n        text-align: right;\n    }\n</style>\n<table border=\"1\" class=\"dataframe\">\n  <thead>\n    <tr style=\"text-align: right;\">\n      <th></th>\n      <th>date</th>\n      <th>country</th>\n      <th>Retail &amp; recreation</th>\n      <th>Grocery &amp; pharmacy</th>\n      <th>Parks</th>\n      <th>Transit stations</th>\n      <th>Workplaces</th>\n      <th>Residential</th>\n      <th>file</th>\n      <th>url</th>\n    </tr>\n  </thead>\n  <tbody>\n    <tr>\n      <th>0</th>\n      <td>29/03/2020</td>\n      <td>Colombia</td>\n      <td>-86%</td>\n      <td>-68%</td>\n      <td>-80%</td>\n      <td>-82%</td>\n      <td>-58%</td>\n      <td>+26%</td>\n      <td>2020-03-29_CO_Mobility_Report_en.pdf</td>\n      <td>https://www.gstatic.com/covid19/mobility/2020-...</td>\n    </tr>\n    <tr>\n      <th>1</th>\n      <td>05/04/2020</td>\n      <td>Colombia</td>\n      <td>-85%</td>\n      <td>-66%</td>\n      <td>-79%</td>\n      <td>-81%</td>\n      <td>-57%</td>\n      <td>+26%</td>\n      <td>2020-04-05_CO_Mobility_Report_en.pdf</td>\n      <td>https://www.gstatic.com/covid19/mobility/2020-...</td>\n    </tr>\n    <tr>\n      <th>2</th>\n      <td>11/04/2020</td>\n      <td>Colombia</td>\n      <td>-84%</td>\n      <td>-65%</td>\n      <td>-77%</td>\n      <td>-81%</td>\n      <td>-69%</td>\n      <td>+32%</td>\n      <td>2020-04-11_CO_Mobility_Report_en.pdf</td>\n      <td>https://www.gstatic.com/covid19/mobility/2020-...</td>\n    </tr>\n  </tbody>\n</table>\n</div>"
     },
     "metadata": {},
     "execution_count": 22
    }
   ],
   "source": [
    "# Add Mobility Changes\n",
    "#from pdfminer.high_level import extract_pages\n",
    "# Get mobility changes\n",
    "def get_mobility_changes(URL):\n",
    "    # Target changes\n",
    "    targets = ['Retail & recreation', 'Grocery & pharmacy', 'Parks', 'Transit stations', 'Workplaces', 'Residential']\n",
    "    # Mobility Changes\n",
    "    mobility_changes = []\n",
    "    # Get Mobility Report\n",
    "    with requests.get(URL) as mobility_report:\n",
    "        #print(mobility_report.status_code)\n",
    "        if mobility_report.status_code == 200:\n",
    "            temp = tempfile.NamedTemporaryFile()\n",
    "            temp.write(mobility_report.content)\n",
    "            #print('temp.name:', temp.name)\n",
    "            with open(temp.name, 'rb') as file:\n",
    "                # By pages\n",
    "                pdf_text = []\n",
    "                page = 0\n",
    "                while page != -1:\n",
    "                    text = extract_text(file, maxpages=1, page_numbers=[page])\n",
    "                    if text:\n",
    "                        #print('text', text)\n",
    "                        pdf_text.append(text.split('\\n'))\n",
    "                        page += 1\n",
    "                    else:\n",
    "                        page = -1\n",
    "                # Pages\n",
    "                #print('Pages:', len(pdf_text))\n",
    "                # Page 1\n",
    "                page1 = pdf_text[0]\n",
    "                page1 = filter(lambda value: value != '', page1)\n",
    "                page1 = filter(lambda value: value in targets or value[-1] == '%', list(page1))\n",
    "                page1 = list(page1)[:6]\n",
    "                # Page 2\n",
    "                page2 = pdf_text[1]\n",
    "                page2 = filter(lambda value: value != '', page2)\n",
    "                page2 = filter(lambda value: value in targets or value[-1] == '%', list(page2))\n",
    "                page2 = list(page2)[:6]\n",
    "                # Merge\n",
    "                mobility_changes = page1 + page2\n",
    "    return mobility_changes\n",
    "# Add Mobility Changes\n",
    "google_community_mobility_reports['mobility_changes'] = google_community_mobility_reports['url'].transform(lambda value: get_mobility_changes(value))\n",
    "# By case\n",
    "google_community_mobility_reports['Retail & recreation'] = google_community_mobility_reports['mobility_changes'].transform(lambda value: value[1])\n",
    "google_community_mobility_reports['Grocery & pharmacy'] = google_community_mobility_reports['mobility_changes'].transform(lambda value: value[3])\n",
    "google_community_mobility_reports['Parks'] = google_community_mobility_reports['mobility_changes'].transform(lambda value: value[5])\n",
    "google_community_mobility_reports['Transit stations'] = google_community_mobility_reports['mobility_changes'].transform(lambda value: value[7])\n",
    "google_community_mobility_reports['Workplaces'] = google_community_mobility_reports['mobility_changes'].transform(lambda value: value[9])\n",
    "google_community_mobility_reports['Residential'] = google_community_mobility_reports['mobility_changes'].transform(lambda value: value[11])\n",
    "# Drop column\n",
    "google_community_mobility_reports.drop(columns=['mobility_changes'], inplace=True)\n",
    "# Sort columns\n",
    "google_community_mobility_reports = google_community_mobility_reports[['date', 'country', 'Retail & recreation', 'Grocery & pharmacy', 'Parks', 'Transit stations', 'Workplaces', 'Residential', 'file', 'url']]\n",
    "# Setup date format\n",
    "google_community_mobility_reports['date'] = [value.strftime('%d/%m/%Y') for value in pd.to_datetime(google_community_mobility_reports['date'], format='%Y-%m-%d')]\n",
    "# Show dataframe\n",
    "google_community_mobility_reports.head()"
   ]
  },
  {
   "cell_type": "markdown",
   "metadata": {},
   "source": [
    "## Google COVID-19 Community Mobility Reports - Colombia\n",
    "> ***Output file***: google_community_mobility_reports.csv"
   ]
  },
  {
   "cell_type": "code",
   "execution_count": 23,
   "metadata": {},
   "outputs": [],
   "source": [
    "# Save dataframe\n",
    "google_community_mobility_reports.to_csv(os.path.join(OUTPUT_DIR, 'google_community_mobility_reports.csv'), index=False)"
   ]
  },
  {
   "cell_type": "markdown",
   "metadata": {},
   "source": [
    "---"
   ]
  },
  {
   "cell_type": "markdown",
   "metadata": {},
   "source": [
    "## Time Line Cases Reported"
   ]
  },
  {
   "cell_type": "code",
   "execution_count": 24,
   "metadata": {},
   "outputs": [
    {
     "output_type": "execute_result",
     "data": {
      "text/plain": "(4149, 46)"
     },
     "metadata": {},
     "execution_count": 24
    }
   ],
   "source": [
    "# Total Cases Reported\n",
    "covid19co.shape"
   ]
  },
  {
   "cell_type": "code",
   "execution_count": 25,
   "metadata": {},
   "outputs": [
    {
     "output_type": "execute_result",
     "data": {
      "text/plain": "   ID DE CASO FECHA DE NOTIFICACION  CODIGO DIVIPOLA  CIUDAD DE UBICACION  \\\n0           1            02/03/2020            11001          Bogotá D.C.   \n1           2            06/03/2020            76111  Guadalajara de Buga   \n2           3            07/03/2020             5001             Medellín   \n3           4            09/03/2020             5001             Medellín   \n4           5            09/03/2020             5001             Medellín   \n\n  DEPARTAMENTO O DISTRITO     ATENCION  EDAD SEXO         TIPO ESTADO  ...  \\\n0              Bogotá D.C.  Recuperado    19    F    Importado   Leve  ...   \n1          Valle del Cauca  Recuperado    34    M    Importado   Leve  ...   \n2                Antioquia  Recuperado    50    F    Importado   Leve  ...   \n3                Antioquia  Recuperado    55    M  Relacionado   Leve  ...   \n4                Antioquia  Recuperado    25    M  Relacionado   Leve  ...   \n\n  FECHA RECUPERADO DIA FECHA RECUPERADO MES FECHA RECUPERADO ANIO  \\\n0                   13                   03                  2020   \n1                   19                   03                  2020   \n2                   15                   03                  2020   \n3                   26                   03                  2020   \n4                   23                   03                  2020   \n\n  FECHA RECUPERADO NOMBRE MES FECHA RECUPERADO DIA SEMANA  \\\n0                       Marzo                     Viernes   \n1                       Marzo                      Jueves   \n2                       Marzo                     Domingo   \n3                       Marzo                      Jueves   \n4                       Marzo                       Lunes   \n\n  FECHA REPORTE WEB DIA FECHA REPORTE WEB MES FECHA REPORTE WEB ANIO  \\\n0                    06                    03                   2020   \n1                    09                    03                   2020   \n2                    09                    03                   2020   \n3                    11                    03                   2020   \n4                    11                    03                   2020   \n\n  FECHA REPORTE WEB NOMBRE MES FECHA REPORTE WEB DIA SEMANA  \n0                        Marzo                      Viernes  \n1                        Marzo                        Lunes  \n2                        Marzo                        Lunes  \n3                        Marzo                    Miércoles  \n4                        Marzo                    Miércoles  \n\n[5 rows x 46 columns]",
      "text/html": "<div>\n<style scoped>\n    .dataframe tbody tr th:only-of-type {\n        vertical-align: middle;\n    }\n\n    .dataframe tbody tr th {\n        vertical-align: top;\n    }\n\n    .dataframe thead th {\n        text-align: right;\n    }\n</style>\n<table border=\"1\" class=\"dataframe\">\n  <thead>\n    <tr style=\"text-align: right;\">\n      <th></th>\n      <th>ID DE CASO</th>\n      <th>FECHA DE NOTIFICACION</th>\n      <th>CODIGO DIVIPOLA</th>\n      <th>CIUDAD DE UBICACION</th>\n      <th>DEPARTAMENTO O DISTRITO</th>\n      <th>ATENCION</th>\n      <th>EDAD</th>\n      <th>SEXO</th>\n      <th>TIPO</th>\n      <th>ESTADO</th>\n      <th>...</th>\n      <th>FECHA RECUPERADO DIA</th>\n      <th>FECHA RECUPERADO MES</th>\n      <th>FECHA RECUPERADO ANIO</th>\n      <th>FECHA RECUPERADO NOMBRE MES</th>\n      <th>FECHA RECUPERADO DIA SEMANA</th>\n      <th>FECHA REPORTE WEB DIA</th>\n      <th>FECHA REPORTE WEB MES</th>\n      <th>FECHA REPORTE WEB ANIO</th>\n      <th>FECHA REPORTE WEB NOMBRE MES</th>\n      <th>FECHA REPORTE WEB DIA SEMANA</th>\n    </tr>\n  </thead>\n  <tbody>\n    <tr>\n      <th>0</th>\n      <td>1</td>\n      <td>02/03/2020</td>\n      <td>11001</td>\n      <td>Bogotá D.C.</td>\n      <td>Bogotá D.C.</td>\n      <td>Recuperado</td>\n      <td>19</td>\n      <td>F</td>\n      <td>Importado</td>\n      <td>Leve</td>\n      <td>...</td>\n      <td>13</td>\n      <td>03</td>\n      <td>2020</td>\n      <td>Marzo</td>\n      <td>Viernes</td>\n      <td>06</td>\n      <td>03</td>\n      <td>2020</td>\n      <td>Marzo</td>\n      <td>Viernes</td>\n    </tr>\n    <tr>\n      <th>1</th>\n      <td>2</td>\n      <td>06/03/2020</td>\n      <td>76111</td>\n      <td>Guadalajara de Buga</td>\n      <td>Valle del Cauca</td>\n      <td>Recuperado</td>\n      <td>34</td>\n      <td>M</td>\n      <td>Importado</td>\n      <td>Leve</td>\n      <td>...</td>\n      <td>19</td>\n      <td>03</td>\n      <td>2020</td>\n      <td>Marzo</td>\n      <td>Jueves</td>\n      <td>09</td>\n      <td>03</td>\n      <td>2020</td>\n      <td>Marzo</td>\n      <td>Lunes</td>\n    </tr>\n    <tr>\n      <th>2</th>\n      <td>3</td>\n      <td>07/03/2020</td>\n      <td>5001</td>\n      <td>Medellín</td>\n      <td>Antioquia</td>\n      <td>Recuperado</td>\n      <td>50</td>\n      <td>F</td>\n      <td>Importado</td>\n      <td>Leve</td>\n      <td>...</td>\n      <td>15</td>\n      <td>03</td>\n      <td>2020</td>\n      <td>Marzo</td>\n      <td>Domingo</td>\n      <td>09</td>\n      <td>03</td>\n      <td>2020</td>\n      <td>Marzo</td>\n      <td>Lunes</td>\n    </tr>\n    <tr>\n      <th>3</th>\n      <td>4</td>\n      <td>09/03/2020</td>\n      <td>5001</td>\n      <td>Medellín</td>\n      <td>Antioquia</td>\n      <td>Recuperado</td>\n      <td>55</td>\n      <td>M</td>\n      <td>Relacionado</td>\n      <td>Leve</td>\n      <td>...</td>\n      <td>26</td>\n      <td>03</td>\n      <td>2020</td>\n      <td>Marzo</td>\n      <td>Jueves</td>\n      <td>11</td>\n      <td>03</td>\n      <td>2020</td>\n      <td>Marzo</td>\n      <td>Miércoles</td>\n    </tr>\n    <tr>\n      <th>4</th>\n      <td>5</td>\n      <td>09/03/2020</td>\n      <td>5001</td>\n      <td>Medellín</td>\n      <td>Antioquia</td>\n      <td>Recuperado</td>\n      <td>25</td>\n      <td>M</td>\n      <td>Relacionado</td>\n      <td>Leve</td>\n      <td>...</td>\n      <td>23</td>\n      <td>03</td>\n      <td>2020</td>\n      <td>Marzo</td>\n      <td>Lunes</td>\n      <td>11</td>\n      <td>03</td>\n      <td>2020</td>\n      <td>Marzo</td>\n      <td>Miércoles</td>\n    </tr>\n  </tbody>\n</table>\n<p>5 rows × 46 columns</p>\n</div>"
     },
     "metadata": {},
     "execution_count": 25
    }
   ],
   "source": [
    "# Show dataframe\n",
    "covid19co.head()"
   ]
  },
  {
   "cell_type": "code",
   "execution_count": 26,
   "metadata": {},
   "outputs": [
    {
     "output_type": "execute_result",
     "data": {
      "text/plain": "         date cases accum_cases\n0  01/03/2020   NaN         NaN\n1  02/03/2020   NaN         NaN\n2  03/03/2020   NaN         NaN\n3  04/03/2020   NaN         NaN\n4  05/03/2020   NaN         NaN",
      "text/html": "<div>\n<style scoped>\n    .dataframe tbody tr th:only-of-type {\n        vertical-align: middle;\n    }\n\n    .dataframe tbody tr th {\n        vertical-align: top;\n    }\n\n    .dataframe thead th {\n        text-align: right;\n    }\n</style>\n<table border=\"1\" class=\"dataframe\">\n  <thead>\n    <tr style=\"text-align: right;\">\n      <th></th>\n      <th>date</th>\n      <th>cases</th>\n      <th>accum_cases</th>\n    </tr>\n  </thead>\n  <tbody>\n    <tr>\n      <th>0</th>\n      <td>01/03/2020</td>\n      <td>NaN</td>\n      <td>NaN</td>\n    </tr>\n    <tr>\n      <th>1</th>\n      <td>02/03/2020</td>\n      <td>NaN</td>\n      <td>NaN</td>\n    </tr>\n    <tr>\n      <th>2</th>\n      <td>03/03/2020</td>\n      <td>NaN</td>\n      <td>NaN</td>\n    </tr>\n    <tr>\n      <th>3</th>\n      <td>04/03/2020</td>\n      <td>NaN</td>\n      <td>NaN</td>\n    </tr>\n    <tr>\n      <th>4</th>\n      <td>05/03/2020</td>\n      <td>NaN</td>\n      <td>NaN</td>\n    </tr>\n  </tbody>\n</table>\n</div>"
     },
     "metadata": {},
     "execution_count": 26
    }
   ],
   "source": [
    "# Time line cases reported [date, cases, accum_cases]\n",
    "covid19co_time_line = pd.DataFrame(columns=['date', 'cases', 'accum_cases'])\n",
    "covid19co_time_line['date'] = [dti.strftime('%d/%m/%Y') for dti in pd.date_range(start='2020-03-01', end=datetime.date.today().isoformat(), freq='D')]\n",
    "# Show dataframe\n",
    "covid19co_time_line.head()"
   ]
  },
  {
   "cell_type": "code",
   "execution_count": 27,
   "metadata": {},
   "outputs": [],
   "source": [
    "# Total Cases Reported By Date\n",
    "def get_total_cases_by_date(dfreport):\n",
    "    total_cases_by_date = {}\n",
    "    # Group by 'FECHA REPORTE WEB'\n",
    "    group_by_date = dfreport.groupby(['FECHA REPORTE WEB'], sort=False)\n",
    "    # For each date\n",
    "    for date_report in group_by_date.groups.keys():\n",
    "        total_cases_by_date[date_report] = group_by_date.get_group(date_report)['ID DE CASO'].count()\n",
    "    # Return\n",
    "    return total_cases_by_date\n",
    "# Total cases reported by date\n",
    "total_cases_by_date = get_total_cases_by_date(covid19co)"
   ]
  },
  {
   "cell_type": "code",
   "execution_count": 28,
   "metadata": {},
   "outputs": [
    {
     "output_type": "execute_result",
     "data": {
      "text/plain": "         date  cases accum_cases\n0  01/03/2020      0         NaN\n1  02/03/2020      0         NaN\n2  03/03/2020      0         NaN\n3  04/03/2020      0         NaN\n4  05/03/2020      0         NaN",
      "text/html": "<div>\n<style scoped>\n    .dataframe tbody tr th:only-of-type {\n        vertical-align: middle;\n    }\n\n    .dataframe tbody tr th {\n        vertical-align: top;\n    }\n\n    .dataframe thead th {\n        text-align: right;\n    }\n</style>\n<table border=\"1\" class=\"dataframe\">\n  <thead>\n    <tr style=\"text-align: right;\">\n      <th></th>\n      <th>date</th>\n      <th>cases</th>\n      <th>accum_cases</th>\n    </tr>\n  </thead>\n  <tbody>\n    <tr>\n      <th>0</th>\n      <td>01/03/2020</td>\n      <td>0</td>\n      <td>NaN</td>\n    </tr>\n    <tr>\n      <th>1</th>\n      <td>02/03/2020</td>\n      <td>0</td>\n      <td>NaN</td>\n    </tr>\n    <tr>\n      <th>2</th>\n      <td>03/03/2020</td>\n      <td>0</td>\n      <td>NaN</td>\n    </tr>\n    <tr>\n      <th>3</th>\n      <td>04/03/2020</td>\n      <td>0</td>\n      <td>NaN</td>\n    </tr>\n    <tr>\n      <th>4</th>\n      <td>05/03/2020</td>\n      <td>0</td>\n      <td>NaN</td>\n    </tr>\n  </tbody>\n</table>\n</div>"
     },
     "metadata": {},
     "execution_count": 28
    }
   ],
   "source": [
    "# Update Total Cases Reported by Date\n",
    "covid19co_time_line['cases'] = covid19co_time_line['date'].transform(lambda date: total_cases_by_date[date] if date in total_cases_by_date else 0)\n",
    "# Show dataframe\n",
    "covid19co_time_line.head()"
   ]
  },
  {
   "cell_type": "code",
   "execution_count": 29,
   "metadata": {},
   "outputs": [
    {
     "output_type": "execute_result",
     "data": {
      "text/plain": "          date  cases  accum_cases\n48  18/04/2020    183         3620\n49  19/04/2020    174         3794\n50  20/04/2020    183         3977\n51  21/04/2020    172         4149\n52  22/04/2020      0         4149",
      "text/html": "<div>\n<style scoped>\n    .dataframe tbody tr th:only-of-type {\n        vertical-align: middle;\n    }\n\n    .dataframe tbody tr th {\n        vertical-align: top;\n    }\n\n    .dataframe thead th {\n        text-align: right;\n    }\n</style>\n<table border=\"1\" class=\"dataframe\">\n  <thead>\n    <tr style=\"text-align: right;\">\n      <th></th>\n      <th>date</th>\n      <th>cases</th>\n      <th>accum_cases</th>\n    </tr>\n  </thead>\n  <tbody>\n    <tr>\n      <th>48</th>\n      <td>18/04/2020</td>\n      <td>183</td>\n      <td>3620</td>\n    </tr>\n    <tr>\n      <th>49</th>\n      <td>19/04/2020</td>\n      <td>174</td>\n      <td>3794</td>\n    </tr>\n    <tr>\n      <th>50</th>\n      <td>20/04/2020</td>\n      <td>183</td>\n      <td>3977</td>\n    </tr>\n    <tr>\n      <th>51</th>\n      <td>21/04/2020</td>\n      <td>172</td>\n      <td>4149</td>\n    </tr>\n    <tr>\n      <th>52</th>\n      <td>22/04/2020</td>\n      <td>0</td>\n      <td>4149</td>\n    </tr>\n  </tbody>\n</table>\n</div>"
     },
     "metadata": {},
     "execution_count": 29
    }
   ],
   "source": [
    "# Update Accumulative Sum Cases Reported by Date\n",
    "covid19co_time_line['accum_cases'] = covid19co_time_line['cases'].cumsum()\n",
    "# Show dataframe\n",
    "covid19co_time_line.tail()"
   ]
  },
  {
   "cell_type": "code",
   "execution_count": 30,
   "metadata": {},
   "outputs": [
    {
     "output_type": "execute_result",
     "data": {
      "text/plain": "          date  cases  accum_cases\n47  17/04/2020    205         3437\n48  18/04/2020    183         3620\n49  19/04/2020    174         3794\n50  20/04/2020    183         3977\n51  21/04/2020    172         4149",
      "text/html": "<div>\n<style scoped>\n    .dataframe tbody tr th:only-of-type {\n        vertical-align: middle;\n    }\n\n    .dataframe tbody tr th {\n        vertical-align: top;\n    }\n\n    .dataframe thead th {\n        text-align: right;\n    }\n</style>\n<table border=\"1\" class=\"dataframe\">\n  <thead>\n    <tr style=\"text-align: right;\">\n      <th></th>\n      <th>date</th>\n      <th>cases</th>\n      <th>accum_cases</th>\n    </tr>\n  </thead>\n  <tbody>\n    <tr>\n      <th>47</th>\n      <td>17/04/2020</td>\n      <td>205</td>\n      <td>3437</td>\n    </tr>\n    <tr>\n      <th>48</th>\n      <td>18/04/2020</td>\n      <td>183</td>\n      <td>3620</td>\n    </tr>\n    <tr>\n      <th>49</th>\n      <td>19/04/2020</td>\n      <td>174</td>\n      <td>3794</td>\n    </tr>\n    <tr>\n      <th>50</th>\n      <td>20/04/2020</td>\n      <td>183</td>\n      <td>3977</td>\n    </tr>\n    <tr>\n      <th>51</th>\n      <td>21/04/2020</td>\n      <td>172</td>\n      <td>4149</td>\n    </tr>\n  </tbody>\n</table>\n</div>"
     },
     "metadata": {},
     "execution_count": 30
    }
   ],
   "source": [
    "# Drop the last one if doesn't have cases\n",
    "index_empty = covid19co_time_line[covid19co_time_line['date'] == datetime.date.today().strftime('%d/%m/%Y')]\n",
    "index_empty = index_empty[index_empty['cases'] == 0].index\n",
    "covid19co_time_line.drop(index_empty, inplace=True)\n",
    "# Show dataframe\n",
    "covid19co_time_line.tail()"
   ]
  },
  {
   "cell_type": "markdown",
   "metadata": {},
   "source": [
    "## Time Line Cases Reported\n",
    "> ***Output file***: covid19co_time_line.csv"
   ]
  },
  {
   "cell_type": "code",
   "execution_count": 31,
   "metadata": {},
   "outputs": [],
   "source": [
    "# Save dataframe\n",
    "covid19co_time_line.to_csv(os.path.join(OUTPUT_DIR, 'covid19co_time_line.csv'), index=False)"
   ]
  },
  {
   "cell_type": "markdown",
   "metadata": {},
   "source": [
    "---"
   ]
  },
  {
   "cell_type": "markdown",
   "metadata": {},
   "source": [
    "## Time Line Cases Reported - Cali"
   ]
  },
  {
   "cell_type": "code",
   "execution_count": 32,
   "metadata": {},
   "outputs": [],
   "source": [
    "# Filter Cases Reported in Cali\n",
    "covid19co_cali = covid19co[covid19co['CIUDAD DE UBICACION'] == 'Cali']"
   ]
  },
  {
   "cell_type": "code",
   "execution_count": 33,
   "metadata": {},
   "outputs": [
    {
     "output_type": "execute_result",
     "data": {
      "text/plain": "(551, 46)"
     },
     "metadata": {},
     "execution_count": 33
    }
   ],
   "source": [
    "# Total Cases Reported\n",
    "covid19co_cali.shape"
   ]
  },
  {
   "cell_type": "code",
   "execution_count": 34,
   "metadata": {},
   "outputs": [
    {
     "output_type": "execute_result",
     "data": {
      "text/plain": "    ID DE CASO FECHA DE NOTIFICACION  CODIGO DIVIPOLA CIUDAD DE UBICACION  \\\n24          25            13/03/2020            76001                Cali   \n61          62            14/03/2020            76001                Cali   \n62          63            16/03/2020            76001                Cali   \n80          81            17/03/2020            76001                Cali   \n81          82            16/03/2020            76001                Cali   \n\n   DEPARTAMENTO O DISTRITO     ATENCION  EDAD SEXO       TIPO ESTADO  ...  \\\n24          Valle del Cauca        Casa    49    M  Importado   Leve  ...   \n61          Valle del Cauca  Recuperado    32    M  Importado   Leve  ...   \n62          Valle del Cauca  Recuperado    26    F  Importado   Leve  ...   \n80          Valle del Cauca  Recuperado    49    F  Importado   Leve  ...   \n81          Valle del Cauca  Recuperado    54    M  Importado   Leve  ...   \n\n   FECHA RECUPERADO DIA FECHA RECUPERADO MES FECHA RECUPERADO ANIO  \\\n24                    -                    -                     -   \n61                   26                   03                  2020   \n62                   28                   03                  2020   \n80                   28                   03                  2020   \n81                   19                   04                  2020   \n\n   FECHA RECUPERADO NOMBRE MES FECHA RECUPERADO DIA SEMANA  \\\n24                           -                           -   \n61                       Marzo                      Jueves   \n62                       Marzo                      Sábado   \n80                       Marzo                      Sábado   \n81                       Abril                     Domingo   \n\n   FECHA REPORTE WEB DIA FECHA REPORTE WEB MES FECHA REPORTE WEB ANIO  \\\n24                    13                    03                   2020   \n61                    16                    03                   2020   \n62                    16                    03                   2020   \n80                    17                    03                   2020   \n81                    17                    03                   2020   \n\n   FECHA REPORTE WEB NOMBRE MES FECHA REPORTE WEB DIA SEMANA  \n24                        Marzo                      Viernes  \n61                        Marzo                        Lunes  \n62                        Marzo                        Lunes  \n80                        Marzo                       Martes  \n81                        Marzo                       Martes  \n\n[5 rows x 46 columns]",
      "text/html": "<div>\n<style scoped>\n    .dataframe tbody tr th:only-of-type {\n        vertical-align: middle;\n    }\n\n    .dataframe tbody tr th {\n        vertical-align: top;\n    }\n\n    .dataframe thead th {\n        text-align: right;\n    }\n</style>\n<table border=\"1\" class=\"dataframe\">\n  <thead>\n    <tr style=\"text-align: right;\">\n      <th></th>\n      <th>ID DE CASO</th>\n      <th>FECHA DE NOTIFICACION</th>\n      <th>CODIGO DIVIPOLA</th>\n      <th>CIUDAD DE UBICACION</th>\n      <th>DEPARTAMENTO O DISTRITO</th>\n      <th>ATENCION</th>\n      <th>EDAD</th>\n      <th>SEXO</th>\n      <th>TIPO</th>\n      <th>ESTADO</th>\n      <th>...</th>\n      <th>FECHA RECUPERADO DIA</th>\n      <th>FECHA RECUPERADO MES</th>\n      <th>FECHA RECUPERADO ANIO</th>\n      <th>FECHA RECUPERADO NOMBRE MES</th>\n      <th>FECHA RECUPERADO DIA SEMANA</th>\n      <th>FECHA REPORTE WEB DIA</th>\n      <th>FECHA REPORTE WEB MES</th>\n      <th>FECHA REPORTE WEB ANIO</th>\n      <th>FECHA REPORTE WEB NOMBRE MES</th>\n      <th>FECHA REPORTE WEB DIA SEMANA</th>\n    </tr>\n  </thead>\n  <tbody>\n    <tr>\n      <th>24</th>\n      <td>25</td>\n      <td>13/03/2020</td>\n      <td>76001</td>\n      <td>Cali</td>\n      <td>Valle del Cauca</td>\n      <td>Casa</td>\n      <td>49</td>\n      <td>M</td>\n      <td>Importado</td>\n      <td>Leve</td>\n      <td>...</td>\n      <td>-</td>\n      <td>-</td>\n      <td>-</td>\n      <td>-</td>\n      <td>-</td>\n      <td>13</td>\n      <td>03</td>\n      <td>2020</td>\n      <td>Marzo</td>\n      <td>Viernes</td>\n    </tr>\n    <tr>\n      <th>61</th>\n      <td>62</td>\n      <td>14/03/2020</td>\n      <td>76001</td>\n      <td>Cali</td>\n      <td>Valle del Cauca</td>\n      <td>Recuperado</td>\n      <td>32</td>\n      <td>M</td>\n      <td>Importado</td>\n      <td>Leve</td>\n      <td>...</td>\n      <td>26</td>\n      <td>03</td>\n      <td>2020</td>\n      <td>Marzo</td>\n      <td>Jueves</td>\n      <td>16</td>\n      <td>03</td>\n      <td>2020</td>\n      <td>Marzo</td>\n      <td>Lunes</td>\n    </tr>\n    <tr>\n      <th>62</th>\n      <td>63</td>\n      <td>16/03/2020</td>\n      <td>76001</td>\n      <td>Cali</td>\n      <td>Valle del Cauca</td>\n      <td>Recuperado</td>\n      <td>26</td>\n      <td>F</td>\n      <td>Importado</td>\n      <td>Leve</td>\n      <td>...</td>\n      <td>28</td>\n      <td>03</td>\n      <td>2020</td>\n      <td>Marzo</td>\n      <td>Sábado</td>\n      <td>16</td>\n      <td>03</td>\n      <td>2020</td>\n      <td>Marzo</td>\n      <td>Lunes</td>\n    </tr>\n    <tr>\n      <th>80</th>\n      <td>81</td>\n      <td>17/03/2020</td>\n      <td>76001</td>\n      <td>Cali</td>\n      <td>Valle del Cauca</td>\n      <td>Recuperado</td>\n      <td>49</td>\n      <td>F</td>\n      <td>Importado</td>\n      <td>Leve</td>\n      <td>...</td>\n      <td>28</td>\n      <td>03</td>\n      <td>2020</td>\n      <td>Marzo</td>\n      <td>Sábado</td>\n      <td>17</td>\n      <td>03</td>\n      <td>2020</td>\n      <td>Marzo</td>\n      <td>Martes</td>\n    </tr>\n    <tr>\n      <th>81</th>\n      <td>82</td>\n      <td>16/03/2020</td>\n      <td>76001</td>\n      <td>Cali</td>\n      <td>Valle del Cauca</td>\n      <td>Recuperado</td>\n      <td>54</td>\n      <td>M</td>\n      <td>Importado</td>\n      <td>Leve</td>\n      <td>...</td>\n      <td>19</td>\n      <td>04</td>\n      <td>2020</td>\n      <td>Abril</td>\n      <td>Domingo</td>\n      <td>17</td>\n      <td>03</td>\n      <td>2020</td>\n      <td>Marzo</td>\n      <td>Martes</td>\n    </tr>\n  </tbody>\n</table>\n<p>5 rows × 46 columns</p>\n</div>"
     },
     "metadata": {},
     "execution_count": 34
    }
   ],
   "source": [
    "# Show dataframe\n",
    "covid19co_cali.head()"
   ]
  },
  {
   "cell_type": "code",
   "execution_count": 35,
   "metadata": {},
   "outputs": [
    {
     "output_type": "execute_result",
     "data": {
      "text/plain": "         date cases accum_cases\n0  01/03/2020   NaN         NaN\n1  02/03/2020   NaN         NaN\n2  03/03/2020   NaN         NaN\n3  04/03/2020   NaN         NaN\n4  05/03/2020   NaN         NaN",
      "text/html": "<div>\n<style scoped>\n    .dataframe tbody tr th:only-of-type {\n        vertical-align: middle;\n    }\n\n    .dataframe tbody tr th {\n        vertical-align: top;\n    }\n\n    .dataframe thead th {\n        text-align: right;\n    }\n</style>\n<table border=\"1\" class=\"dataframe\">\n  <thead>\n    <tr style=\"text-align: right;\">\n      <th></th>\n      <th>date</th>\n      <th>cases</th>\n      <th>accum_cases</th>\n    </tr>\n  </thead>\n  <tbody>\n    <tr>\n      <th>0</th>\n      <td>01/03/2020</td>\n      <td>NaN</td>\n      <td>NaN</td>\n    </tr>\n    <tr>\n      <th>1</th>\n      <td>02/03/2020</td>\n      <td>NaN</td>\n      <td>NaN</td>\n    </tr>\n    <tr>\n      <th>2</th>\n      <td>03/03/2020</td>\n      <td>NaN</td>\n      <td>NaN</td>\n    </tr>\n    <tr>\n      <th>3</th>\n      <td>04/03/2020</td>\n      <td>NaN</td>\n      <td>NaN</td>\n    </tr>\n    <tr>\n      <th>4</th>\n      <td>05/03/2020</td>\n      <td>NaN</td>\n      <td>NaN</td>\n    </tr>\n  </tbody>\n</table>\n</div>"
     },
     "metadata": {},
     "execution_count": 35
    }
   ],
   "source": [
    "# Time line cases reported [date, cases, accum_cases]\n",
    "covid19co_time_line_cali = pd.DataFrame(columns=['date', 'cases', 'accum_cases'])\n",
    "covid19co_time_line_cali['date'] = [dti.strftime('%d/%m/%Y') for dti in pd.date_range(start='2020-03-01', end=datetime.date.today().isoformat(), freq='D')]\n",
    "# Show dataframe\n",
    "covid19co_time_line_cali.head()"
   ]
  },
  {
   "cell_type": "code",
   "execution_count": 36,
   "metadata": {},
   "outputs": [
    {
     "output_type": "execute_result",
     "data": {
      "text/plain": "          date  cases  accum_cases\n47  17/04/2020     30          467\n48  18/04/2020     14          481\n49  19/04/2020      9          490\n50  20/04/2020     38          528\n51  21/04/2020     23          551",
      "text/html": "<div>\n<style scoped>\n    .dataframe tbody tr th:only-of-type {\n        vertical-align: middle;\n    }\n\n    .dataframe tbody tr th {\n        vertical-align: top;\n    }\n\n    .dataframe thead th {\n        text-align: right;\n    }\n</style>\n<table border=\"1\" class=\"dataframe\">\n  <thead>\n    <tr style=\"text-align: right;\">\n      <th></th>\n      <th>date</th>\n      <th>cases</th>\n      <th>accum_cases</th>\n    </tr>\n  </thead>\n  <tbody>\n    <tr>\n      <th>47</th>\n      <td>17/04/2020</td>\n      <td>30</td>\n      <td>467</td>\n    </tr>\n    <tr>\n      <th>48</th>\n      <td>18/04/2020</td>\n      <td>14</td>\n      <td>481</td>\n    </tr>\n    <tr>\n      <th>49</th>\n      <td>19/04/2020</td>\n      <td>9</td>\n      <td>490</td>\n    </tr>\n    <tr>\n      <th>50</th>\n      <td>20/04/2020</td>\n      <td>38</td>\n      <td>528</td>\n    </tr>\n    <tr>\n      <th>51</th>\n      <td>21/04/2020</td>\n      <td>23</td>\n      <td>551</td>\n    </tr>\n  </tbody>\n</table>\n</div>"
     },
     "metadata": {},
     "execution_count": 36
    }
   ],
   "source": [
    "# Total cases reported by date\n",
    "total_cases_by_date = get_total_cases_by_date(covid19co_cali)\n",
    "# Update Total Cases Reported by Date\n",
    "covid19co_time_line_cali['cases'] = covid19co_time_line_cali['date'].transform(lambda date: total_cases_by_date[date] if date in total_cases_by_date else 0)\n",
    "# Update Accumulative Sum Cases Reported by Date\n",
    "covid19co_time_line_cali['accum_cases'] = covid19co_time_line_cali['cases'].cumsum()\n",
    "# Drop the last one if doesn't have cases\n",
    "index_empty = covid19co_time_line_cali[covid19co_time_line_cali['date'] == datetime.date.today().strftime('%d/%m/%Y')]\n",
    "index_empty = index_empty[index_empty['cases'] == 0].index\n",
    "covid19co_time_line_cali.drop(index_empty, inplace=True)\n",
    "# Show dataframe\n",
    "covid19co_time_line_cali.tail()"
   ]
  },
  {
   "cell_type": "markdown",
   "metadata": {},
   "source": [
    "## Time Line Cases Reported - Cali\n",
    "> ***Output file***: covid19co_time_line_cali.csv"
   ]
  },
  {
   "cell_type": "code",
   "execution_count": 37,
   "metadata": {},
   "outputs": [],
   "source": [
    "# Save dataframe\n",
    "covid19co_time_line_cali.to_csv(os.path.join(OUTPUT_DIR, 'covid19co_time_line_cali.csv'), index=False)"
   ]
  },
  {
   "cell_type": "markdown",
   "metadata": {},
   "source": [
    "---"
   ]
  },
  {
   "cell_type": "markdown",
   "metadata": {},
   "source": [
    "## Time Line Cases Reported, Recupered and Deceased"
   ]
  },
  {
   "cell_type": "code",
   "execution_count": 38,
   "metadata": {},
   "outputs": [
    {
     "output_type": "execute_result",
     "data": {
      "text/plain": "(4149, 46)"
     },
     "metadata": {},
     "execution_count": 38
    }
   ],
   "source": [
    "# Total Cases Reported\n",
    "covid19co.shape"
   ]
  },
  {
   "cell_type": "code",
   "execution_count": 39,
   "metadata": {},
   "outputs": [
    {
     "output_type": "execute_result",
     "data": {
      "text/plain": "   ID DE CASO FECHA DE NOTIFICACION  CODIGO DIVIPOLA  CIUDAD DE UBICACION  \\\n0           1            02/03/2020            11001          Bogotá D.C.   \n1           2            06/03/2020            76111  Guadalajara de Buga   \n2           3            07/03/2020             5001             Medellín   \n3           4            09/03/2020             5001             Medellín   \n4           5            09/03/2020             5001             Medellín   \n\n  DEPARTAMENTO O DISTRITO     ATENCION  EDAD SEXO         TIPO ESTADO  ...  \\\n0              Bogotá D.C.  Recuperado    19    F    Importado   Leve  ...   \n1          Valle del Cauca  Recuperado    34    M    Importado   Leve  ...   \n2                Antioquia  Recuperado    50    F    Importado   Leve  ...   \n3                Antioquia  Recuperado    55    M  Relacionado   Leve  ...   \n4                Antioquia  Recuperado    25    M  Relacionado   Leve  ...   \n\n  FECHA RECUPERADO DIA FECHA RECUPERADO MES FECHA RECUPERADO ANIO  \\\n0                   13                   03                  2020   \n1                   19                   03                  2020   \n2                   15                   03                  2020   \n3                   26                   03                  2020   \n4                   23                   03                  2020   \n\n  FECHA RECUPERADO NOMBRE MES FECHA RECUPERADO DIA SEMANA  \\\n0                       Marzo                     Viernes   \n1                       Marzo                      Jueves   \n2                       Marzo                     Domingo   \n3                       Marzo                      Jueves   \n4                       Marzo                       Lunes   \n\n  FECHA REPORTE WEB DIA FECHA REPORTE WEB MES FECHA REPORTE WEB ANIO  \\\n0                    06                    03                   2020   \n1                    09                    03                   2020   \n2                    09                    03                   2020   \n3                    11                    03                   2020   \n4                    11                    03                   2020   \n\n  FECHA REPORTE WEB NOMBRE MES FECHA REPORTE WEB DIA SEMANA  \n0                        Marzo                      Viernes  \n1                        Marzo                        Lunes  \n2                        Marzo                        Lunes  \n3                        Marzo                    Miércoles  \n4                        Marzo                    Miércoles  \n\n[5 rows x 46 columns]",
      "text/html": "<div>\n<style scoped>\n    .dataframe tbody tr th:only-of-type {\n        vertical-align: middle;\n    }\n\n    .dataframe tbody tr th {\n        vertical-align: top;\n    }\n\n    .dataframe thead th {\n        text-align: right;\n    }\n</style>\n<table border=\"1\" class=\"dataframe\">\n  <thead>\n    <tr style=\"text-align: right;\">\n      <th></th>\n      <th>ID DE CASO</th>\n      <th>FECHA DE NOTIFICACION</th>\n      <th>CODIGO DIVIPOLA</th>\n      <th>CIUDAD DE UBICACION</th>\n      <th>DEPARTAMENTO O DISTRITO</th>\n      <th>ATENCION</th>\n      <th>EDAD</th>\n      <th>SEXO</th>\n      <th>TIPO</th>\n      <th>ESTADO</th>\n      <th>...</th>\n      <th>FECHA RECUPERADO DIA</th>\n      <th>FECHA RECUPERADO MES</th>\n      <th>FECHA RECUPERADO ANIO</th>\n      <th>FECHA RECUPERADO NOMBRE MES</th>\n      <th>FECHA RECUPERADO DIA SEMANA</th>\n      <th>FECHA REPORTE WEB DIA</th>\n      <th>FECHA REPORTE WEB MES</th>\n      <th>FECHA REPORTE WEB ANIO</th>\n      <th>FECHA REPORTE WEB NOMBRE MES</th>\n      <th>FECHA REPORTE WEB DIA SEMANA</th>\n    </tr>\n  </thead>\n  <tbody>\n    <tr>\n      <th>0</th>\n      <td>1</td>\n      <td>02/03/2020</td>\n      <td>11001</td>\n      <td>Bogotá D.C.</td>\n      <td>Bogotá D.C.</td>\n      <td>Recuperado</td>\n      <td>19</td>\n      <td>F</td>\n      <td>Importado</td>\n      <td>Leve</td>\n      <td>...</td>\n      <td>13</td>\n      <td>03</td>\n      <td>2020</td>\n      <td>Marzo</td>\n      <td>Viernes</td>\n      <td>06</td>\n      <td>03</td>\n      <td>2020</td>\n      <td>Marzo</td>\n      <td>Viernes</td>\n    </tr>\n    <tr>\n      <th>1</th>\n      <td>2</td>\n      <td>06/03/2020</td>\n      <td>76111</td>\n      <td>Guadalajara de Buga</td>\n      <td>Valle del Cauca</td>\n      <td>Recuperado</td>\n      <td>34</td>\n      <td>M</td>\n      <td>Importado</td>\n      <td>Leve</td>\n      <td>...</td>\n      <td>19</td>\n      <td>03</td>\n      <td>2020</td>\n      <td>Marzo</td>\n      <td>Jueves</td>\n      <td>09</td>\n      <td>03</td>\n      <td>2020</td>\n      <td>Marzo</td>\n      <td>Lunes</td>\n    </tr>\n    <tr>\n      <th>2</th>\n      <td>3</td>\n      <td>07/03/2020</td>\n      <td>5001</td>\n      <td>Medellín</td>\n      <td>Antioquia</td>\n      <td>Recuperado</td>\n      <td>50</td>\n      <td>F</td>\n      <td>Importado</td>\n      <td>Leve</td>\n      <td>...</td>\n      <td>15</td>\n      <td>03</td>\n      <td>2020</td>\n      <td>Marzo</td>\n      <td>Domingo</td>\n      <td>09</td>\n      <td>03</td>\n      <td>2020</td>\n      <td>Marzo</td>\n      <td>Lunes</td>\n    </tr>\n    <tr>\n      <th>3</th>\n      <td>4</td>\n      <td>09/03/2020</td>\n      <td>5001</td>\n      <td>Medellín</td>\n      <td>Antioquia</td>\n      <td>Recuperado</td>\n      <td>55</td>\n      <td>M</td>\n      <td>Relacionado</td>\n      <td>Leve</td>\n      <td>...</td>\n      <td>26</td>\n      <td>03</td>\n      <td>2020</td>\n      <td>Marzo</td>\n      <td>Jueves</td>\n      <td>11</td>\n      <td>03</td>\n      <td>2020</td>\n      <td>Marzo</td>\n      <td>Miércoles</td>\n    </tr>\n    <tr>\n      <th>4</th>\n      <td>5</td>\n      <td>09/03/2020</td>\n      <td>5001</td>\n      <td>Medellín</td>\n      <td>Antioquia</td>\n      <td>Recuperado</td>\n      <td>25</td>\n      <td>M</td>\n      <td>Relacionado</td>\n      <td>Leve</td>\n      <td>...</td>\n      <td>23</td>\n      <td>03</td>\n      <td>2020</td>\n      <td>Marzo</td>\n      <td>Lunes</td>\n      <td>11</td>\n      <td>03</td>\n      <td>2020</td>\n      <td>Marzo</td>\n      <td>Miércoles</td>\n    </tr>\n  </tbody>\n</table>\n<p>5 rows × 46 columns</p>\n</div>"
     },
     "metadata": {},
     "execution_count": 39
    }
   ],
   "source": [
    "# Show dataframe\n",
    "covid19co.head()"
   ]
  },
  {
   "cell_type": "code",
   "execution_count": 40,
   "metadata": {},
   "outputs": [],
   "source": [
    "# Get Time Line Reported\n",
    "def get_time_line_reported(dfreport):\n",
    "    # Time line cases reported [date, cases, accum_cases]\n",
    "    dfreport_time_line = pd.DataFrame(columns=['date', 'cases', 'accum_cases'])\n",
    "    dfreport_time_line['date'] = [dti.strftime('%d/%m/%Y') for dti in pd.date_range(start='2020-03-01', end=datetime.date.today().isoformat(), freq='D')]\n",
    "    # Total Cases Reported By Date\n",
    "    total_cases_by_date = {}\n",
    "    # Group by 'FECHA REPORTE WEB'\n",
    "    group_by_date = dfreport.groupby(['FECHA REPORTE WEB'], sort=False)\n",
    "    # For each date\n",
    "    for date_report in group_by_date.groups.keys():\n",
    "        total_cases_by_date[date_report] = group_by_date.get_group(date_report)['ID DE CASO'].count()\n",
    "    # Update Total Cases Reported by Date\n",
    "    dfreport_time_line['cases'] = dfreport_time_line['date'].transform(lambda date: total_cases_by_date[date] if date in total_cases_by_date else 0)\n",
    "    # Update Accumulative Sum Cases Reported by Date\n",
    "    dfreport_time_line['accum_cases'] = dfreport_time_line['cases'].cumsum()\n",
    "    # Drop the last one if doesn't have cases\n",
    "    index_empty = dfreport_time_line[dfreport_time_line['date'] == datetime.date.today().strftime('%d/%m/%Y')]\n",
    "    index_empty = index_empty[index_empty['cases'] == 0].index\n",
    "    dfreport_time_line.drop(index_empty, inplace=True)\n",
    "    # Return\n",
    "    return dfreport_time_line"
   ]
  },
  {
   "cell_type": "code",
   "execution_count": 41,
   "metadata": {},
   "outputs": [
    {
     "output_type": "execute_result",
     "data": {
      "text/plain": "          date  cases  accum_cases\n47  17/04/2020    205         3437\n48  18/04/2020    183         3620\n49  19/04/2020    174         3794\n50  20/04/2020    183         3977\n51  21/04/2020    172         4149",
      "text/html": "<div>\n<style scoped>\n    .dataframe tbody tr th:only-of-type {\n        vertical-align: middle;\n    }\n\n    .dataframe tbody tr th {\n        vertical-align: top;\n    }\n\n    .dataframe thead th {\n        text-align: right;\n    }\n</style>\n<table border=\"1\" class=\"dataframe\">\n  <thead>\n    <tr style=\"text-align: right;\">\n      <th></th>\n      <th>date</th>\n      <th>cases</th>\n      <th>accum_cases</th>\n    </tr>\n  </thead>\n  <tbody>\n    <tr>\n      <th>47</th>\n      <td>17/04/2020</td>\n      <td>205</td>\n      <td>3437</td>\n    </tr>\n    <tr>\n      <th>48</th>\n      <td>18/04/2020</td>\n      <td>183</td>\n      <td>3620</td>\n    </tr>\n    <tr>\n      <th>49</th>\n      <td>19/04/2020</td>\n      <td>174</td>\n      <td>3794</td>\n    </tr>\n    <tr>\n      <th>50</th>\n      <td>20/04/2020</td>\n      <td>183</td>\n      <td>3977</td>\n    </tr>\n    <tr>\n      <th>51</th>\n      <td>21/04/2020</td>\n      <td>172</td>\n      <td>4149</td>\n    </tr>\n  </tbody>\n</table>\n</div>"
     },
     "metadata": {},
     "execution_count": 41
    }
   ],
   "source": [
    "# Get Reported Time Line\n",
    "reported_time_line = get_time_line_reported(covid19co)\n",
    "# Show dataframe\n",
    "reported_time_line.tail()"
   ]
  },
  {
   "cell_type": "code",
   "execution_count": 42,
   "metadata": {},
   "outputs": [
    {
     "output_type": "execute_result",
     "data": {
      "text/plain": "   date_recupered  recupered  accum_recupered\n47     17/04/2020          1              804\n48     18/04/2020          0              804\n49     19/04/2020          0              804\n50     20/04/2020          0              804\n51     21/04/2020          0              804",
      "text/html": "<div>\n<style scoped>\n    .dataframe tbody tr th:only-of-type {\n        vertical-align: middle;\n    }\n\n    .dataframe tbody tr th {\n        vertical-align: top;\n    }\n\n    .dataframe thead th {\n        text-align: right;\n    }\n</style>\n<table border=\"1\" class=\"dataframe\">\n  <thead>\n    <tr style=\"text-align: right;\">\n      <th></th>\n      <th>date_recupered</th>\n      <th>recupered</th>\n      <th>accum_recupered</th>\n    </tr>\n  </thead>\n  <tbody>\n    <tr>\n      <th>47</th>\n      <td>17/04/2020</td>\n      <td>1</td>\n      <td>804</td>\n    </tr>\n    <tr>\n      <th>48</th>\n      <td>18/04/2020</td>\n      <td>0</td>\n      <td>804</td>\n    </tr>\n    <tr>\n      <th>49</th>\n      <td>19/04/2020</td>\n      <td>0</td>\n      <td>804</td>\n    </tr>\n    <tr>\n      <th>50</th>\n      <td>20/04/2020</td>\n      <td>0</td>\n      <td>804</td>\n    </tr>\n    <tr>\n      <th>51</th>\n      <td>21/04/2020</td>\n      <td>0</td>\n      <td>804</td>\n    </tr>\n  </tbody>\n</table>\n</div>"
     },
     "metadata": {},
     "execution_count": 42
    }
   ],
   "source": [
    "# Get Recupered Time Line\n",
    "dfrecupered = covid19co[covid19co['ATENCION'] == 'Recuperado']\n",
    "# Get Reported Time Line\n",
    "recupered_time_line = get_time_line_reported(dfrecupered)\n",
    "# Rename columns\n",
    "recupered_time_line.columns = ['date_recupered', 'recupered', 'accum_recupered']\n",
    "# Show dataframe\n",
    "recupered_time_line.tail()"
   ]
  },
  {
   "cell_type": "code",
   "execution_count": 43,
   "metadata": {},
   "outputs": [
    {
     "output_type": "execute_result",
     "data": {
      "text/plain": "   date_deceased  deceased  accum_deceased\n47    17/04/2020         4             185\n48    18/04/2020         7             192\n49    19/04/2020         1             193\n50    20/04/2020         3             196\n51    21/04/2020         0             196",
      "text/html": "<div>\n<style scoped>\n    .dataframe tbody tr th:only-of-type {\n        vertical-align: middle;\n    }\n\n    .dataframe tbody tr th {\n        vertical-align: top;\n    }\n\n    .dataframe thead th {\n        text-align: right;\n    }\n</style>\n<table border=\"1\" class=\"dataframe\">\n  <thead>\n    <tr style=\"text-align: right;\">\n      <th></th>\n      <th>date_deceased</th>\n      <th>deceased</th>\n      <th>accum_deceased</th>\n    </tr>\n  </thead>\n  <tbody>\n    <tr>\n      <th>47</th>\n      <td>17/04/2020</td>\n      <td>4</td>\n      <td>185</td>\n    </tr>\n    <tr>\n      <th>48</th>\n      <td>18/04/2020</td>\n      <td>7</td>\n      <td>192</td>\n    </tr>\n    <tr>\n      <th>49</th>\n      <td>19/04/2020</td>\n      <td>1</td>\n      <td>193</td>\n    </tr>\n    <tr>\n      <th>50</th>\n      <td>20/04/2020</td>\n      <td>3</td>\n      <td>196</td>\n    </tr>\n    <tr>\n      <th>51</th>\n      <td>21/04/2020</td>\n      <td>0</td>\n      <td>196</td>\n    </tr>\n  </tbody>\n</table>\n</div>"
     },
     "metadata": {},
     "execution_count": 43
    }
   ],
   "source": [
    "# Get Deceased Time Line\n",
    "dfdeceased = covid19co[covid19co['ATENCION'] == 'Fallecido']\n",
    "# Get Deceased Time Line\n",
    "deceased_time_line = get_time_line_reported(dfdeceased)\n",
    "# Rename columns\n",
    "deceased_time_line.columns = ['date_deceased', 'deceased', 'accum_deceased']\n",
    "# Show dataframe\n",
    "deceased_time_line.tail()"
   ]
  },
  {
   "cell_type": "code",
   "execution_count": 44,
   "metadata": {},
   "outputs": [
    {
     "output_type": "execute_result",
     "data": {
      "text/plain": "          date  cases  accum_cases  recupered  accum_recupered  deceased  \\\n47  17/04/2020    205         3437          1              804         4   \n48  18/04/2020    183         3620          0              804         7   \n49  19/04/2020    174         3794          0              804         1   \n50  20/04/2020    183         3977          0              804         3   \n51  21/04/2020    172         4149          0              804         0   \n\n    accum_deceased  \n47             185  \n48             192  \n49             193  \n50             196  \n51             196  ",
      "text/html": "<div>\n<style scoped>\n    .dataframe tbody tr th:only-of-type {\n        vertical-align: middle;\n    }\n\n    .dataframe tbody tr th {\n        vertical-align: top;\n    }\n\n    .dataframe thead th {\n        text-align: right;\n    }\n</style>\n<table border=\"1\" class=\"dataframe\">\n  <thead>\n    <tr style=\"text-align: right;\">\n      <th></th>\n      <th>date</th>\n      <th>cases</th>\n      <th>accum_cases</th>\n      <th>recupered</th>\n      <th>accum_recupered</th>\n      <th>deceased</th>\n      <th>accum_deceased</th>\n    </tr>\n  </thead>\n  <tbody>\n    <tr>\n      <th>47</th>\n      <td>17/04/2020</td>\n      <td>205</td>\n      <td>3437</td>\n      <td>1</td>\n      <td>804</td>\n      <td>4</td>\n      <td>185</td>\n    </tr>\n    <tr>\n      <th>48</th>\n      <td>18/04/2020</td>\n      <td>183</td>\n      <td>3620</td>\n      <td>0</td>\n      <td>804</td>\n      <td>7</td>\n      <td>192</td>\n    </tr>\n    <tr>\n      <th>49</th>\n      <td>19/04/2020</td>\n      <td>174</td>\n      <td>3794</td>\n      <td>0</td>\n      <td>804</td>\n      <td>1</td>\n      <td>193</td>\n    </tr>\n    <tr>\n      <th>50</th>\n      <td>20/04/2020</td>\n      <td>183</td>\n      <td>3977</td>\n      <td>0</td>\n      <td>804</td>\n      <td>3</td>\n      <td>196</td>\n    </tr>\n    <tr>\n      <th>51</th>\n      <td>21/04/2020</td>\n      <td>172</td>\n      <td>4149</td>\n      <td>0</td>\n      <td>804</td>\n      <td>0</td>\n      <td>196</td>\n    </tr>\n  </tbody>\n</table>\n</div>"
     },
     "metadata": {},
     "execution_count": 44
    }
   ],
   "source": [
    "# Merge Time Lines\n",
    "covid19co_time_line_detail = pd.concat([reported_time_line, recupered_time_line, deceased_time_line], axis=1, sort=False)\n",
    "# Delete Columns\n",
    "covid19co_time_line_detail.drop(columns=['date_recupered', 'date_deceased'], inplace=True)\n",
    "# Show dataframe\n",
    "covid19co_time_line_detail.tail()"
   ]
  },
  {
   "cell_type": "markdown",
   "metadata": {},
   "source": [
    "## Time Line Cases Reported, Recupered and Deceased\n",
    "> ***Output file***: covid19co_time_line_detail.csv"
   ]
  },
  {
   "cell_type": "code",
   "execution_count": 45,
   "metadata": {},
   "outputs": [],
   "source": [
    "# Save dataframe\n",
    "covid19co_time_line_detail.to_csv(os.path.join(OUTPUT_DIR, 'covid19co_time_line_detail.csv'), index=False)"
   ]
  },
  {
   "cell_type": "markdown",
   "metadata": {},
   "source": [
    "---"
   ]
  },
  {
   "cell_type": "markdown",
   "metadata": {},
   "source": [
    "## Time Line Cases Reported, Recupered and Deceased - Cali"
   ]
  },
  {
   "cell_type": "code",
   "execution_count": 46,
   "metadata": {},
   "outputs": [],
   "source": [
    "# Filter Cases Reported in Cali\n",
    "covid19co_cali = covid19co[covid19co['CIUDAD DE UBICACION'] == 'Cali']"
   ]
  },
  {
   "cell_type": "code",
   "execution_count": 48,
   "metadata": {},
   "outputs": [
    {
     "output_type": "execute_result",
     "data": {
      "text/plain": "(551, 46)"
     },
     "metadata": {},
     "execution_count": 48
    }
   ],
   "source": [
    "# Total Cases Reported in Cali\n",
    "covid19co_cali.shape"
   ]
  },
  {
   "cell_type": "code",
   "execution_count": 49,
   "metadata": {},
   "outputs": [
    {
     "output_type": "execute_result",
     "data": {
      "text/plain": "    ID DE CASO FECHA DE NOTIFICACION  CODIGO DIVIPOLA CIUDAD DE UBICACION  \\\n24          25            13/03/2020            76001                Cali   \n61          62            14/03/2020            76001                Cali   \n62          63            16/03/2020            76001                Cali   \n80          81            17/03/2020            76001                Cali   \n81          82            16/03/2020            76001                Cali   \n\n   DEPARTAMENTO O DISTRITO     ATENCION  EDAD SEXO       TIPO ESTADO  ...  \\\n24          Valle del Cauca        Casa    49    M  Importado   Leve  ...   \n61          Valle del Cauca  Recuperado    32    M  Importado   Leve  ...   \n62          Valle del Cauca  Recuperado    26    F  Importado   Leve  ...   \n80          Valle del Cauca  Recuperado    49    F  Importado   Leve  ...   \n81          Valle del Cauca  Recuperado    54    M  Importado   Leve  ...   \n\n   FECHA RECUPERADO DIA FECHA RECUPERADO MES FECHA RECUPERADO ANIO  \\\n24                    -                    -                     -   \n61                   26                   03                  2020   \n62                   28                   03                  2020   \n80                   28                   03                  2020   \n81                   19                   04                  2020   \n\n   FECHA RECUPERADO NOMBRE MES FECHA RECUPERADO DIA SEMANA  \\\n24                           -                           -   \n61                       Marzo                      Jueves   \n62                       Marzo                      Sábado   \n80                       Marzo                      Sábado   \n81                       Abril                     Domingo   \n\n   FECHA REPORTE WEB DIA FECHA REPORTE WEB MES FECHA REPORTE WEB ANIO  \\\n24                    13                    03                   2020   \n61                    16                    03                   2020   \n62                    16                    03                   2020   \n80                    17                    03                   2020   \n81                    17                    03                   2020   \n\n   FECHA REPORTE WEB NOMBRE MES FECHA REPORTE WEB DIA SEMANA  \n24                        Marzo                      Viernes  \n61                        Marzo                        Lunes  \n62                        Marzo                        Lunes  \n80                        Marzo                       Martes  \n81                        Marzo                       Martes  \n\n[5 rows x 46 columns]",
      "text/html": "<div>\n<style scoped>\n    .dataframe tbody tr th:only-of-type {\n        vertical-align: middle;\n    }\n\n    .dataframe tbody tr th {\n        vertical-align: top;\n    }\n\n    .dataframe thead th {\n        text-align: right;\n    }\n</style>\n<table border=\"1\" class=\"dataframe\">\n  <thead>\n    <tr style=\"text-align: right;\">\n      <th></th>\n      <th>ID DE CASO</th>\n      <th>FECHA DE NOTIFICACION</th>\n      <th>CODIGO DIVIPOLA</th>\n      <th>CIUDAD DE UBICACION</th>\n      <th>DEPARTAMENTO O DISTRITO</th>\n      <th>ATENCION</th>\n      <th>EDAD</th>\n      <th>SEXO</th>\n      <th>TIPO</th>\n      <th>ESTADO</th>\n      <th>...</th>\n      <th>FECHA RECUPERADO DIA</th>\n      <th>FECHA RECUPERADO MES</th>\n      <th>FECHA RECUPERADO ANIO</th>\n      <th>FECHA RECUPERADO NOMBRE MES</th>\n      <th>FECHA RECUPERADO DIA SEMANA</th>\n      <th>FECHA REPORTE WEB DIA</th>\n      <th>FECHA REPORTE WEB MES</th>\n      <th>FECHA REPORTE WEB ANIO</th>\n      <th>FECHA REPORTE WEB NOMBRE MES</th>\n      <th>FECHA REPORTE WEB DIA SEMANA</th>\n    </tr>\n  </thead>\n  <tbody>\n    <tr>\n      <th>24</th>\n      <td>25</td>\n      <td>13/03/2020</td>\n      <td>76001</td>\n      <td>Cali</td>\n      <td>Valle del Cauca</td>\n      <td>Casa</td>\n      <td>49</td>\n      <td>M</td>\n      <td>Importado</td>\n      <td>Leve</td>\n      <td>...</td>\n      <td>-</td>\n      <td>-</td>\n      <td>-</td>\n      <td>-</td>\n      <td>-</td>\n      <td>13</td>\n      <td>03</td>\n      <td>2020</td>\n      <td>Marzo</td>\n      <td>Viernes</td>\n    </tr>\n    <tr>\n      <th>61</th>\n      <td>62</td>\n      <td>14/03/2020</td>\n      <td>76001</td>\n      <td>Cali</td>\n      <td>Valle del Cauca</td>\n      <td>Recuperado</td>\n      <td>32</td>\n      <td>M</td>\n      <td>Importado</td>\n      <td>Leve</td>\n      <td>...</td>\n      <td>26</td>\n      <td>03</td>\n      <td>2020</td>\n      <td>Marzo</td>\n      <td>Jueves</td>\n      <td>16</td>\n      <td>03</td>\n      <td>2020</td>\n      <td>Marzo</td>\n      <td>Lunes</td>\n    </tr>\n    <tr>\n      <th>62</th>\n      <td>63</td>\n      <td>16/03/2020</td>\n      <td>76001</td>\n      <td>Cali</td>\n      <td>Valle del Cauca</td>\n      <td>Recuperado</td>\n      <td>26</td>\n      <td>F</td>\n      <td>Importado</td>\n      <td>Leve</td>\n      <td>...</td>\n      <td>28</td>\n      <td>03</td>\n      <td>2020</td>\n      <td>Marzo</td>\n      <td>Sábado</td>\n      <td>16</td>\n      <td>03</td>\n      <td>2020</td>\n      <td>Marzo</td>\n      <td>Lunes</td>\n    </tr>\n    <tr>\n      <th>80</th>\n      <td>81</td>\n      <td>17/03/2020</td>\n      <td>76001</td>\n      <td>Cali</td>\n      <td>Valle del Cauca</td>\n      <td>Recuperado</td>\n      <td>49</td>\n      <td>F</td>\n      <td>Importado</td>\n      <td>Leve</td>\n      <td>...</td>\n      <td>28</td>\n      <td>03</td>\n      <td>2020</td>\n      <td>Marzo</td>\n      <td>Sábado</td>\n      <td>17</td>\n      <td>03</td>\n      <td>2020</td>\n      <td>Marzo</td>\n      <td>Martes</td>\n    </tr>\n    <tr>\n      <th>81</th>\n      <td>82</td>\n      <td>16/03/2020</td>\n      <td>76001</td>\n      <td>Cali</td>\n      <td>Valle del Cauca</td>\n      <td>Recuperado</td>\n      <td>54</td>\n      <td>M</td>\n      <td>Importado</td>\n      <td>Leve</td>\n      <td>...</td>\n      <td>19</td>\n      <td>04</td>\n      <td>2020</td>\n      <td>Abril</td>\n      <td>Domingo</td>\n      <td>17</td>\n      <td>03</td>\n      <td>2020</td>\n      <td>Marzo</td>\n      <td>Martes</td>\n    </tr>\n  </tbody>\n</table>\n<p>5 rows × 46 columns</p>\n</div>"
     },
     "metadata": {},
     "execution_count": 49
    }
   ],
   "source": [
    "# Show dataframe\n",
    "covid19co_cali.head()"
   ]
  },
  {
   "cell_type": "code",
   "execution_count": 50,
   "metadata": {},
   "outputs": [
    {
     "output_type": "execute_result",
     "data": {
      "text/plain": "          date  cases  accum_cases\n47  17/04/2020     30          467\n48  18/04/2020     14          481\n49  19/04/2020      9          490\n50  20/04/2020     38          528\n51  21/04/2020     23          551",
      "text/html": "<div>\n<style scoped>\n    .dataframe tbody tr th:only-of-type {\n        vertical-align: middle;\n    }\n\n    .dataframe tbody tr th {\n        vertical-align: top;\n    }\n\n    .dataframe thead th {\n        text-align: right;\n    }\n</style>\n<table border=\"1\" class=\"dataframe\">\n  <thead>\n    <tr style=\"text-align: right;\">\n      <th></th>\n      <th>date</th>\n      <th>cases</th>\n      <th>accum_cases</th>\n    </tr>\n  </thead>\n  <tbody>\n    <tr>\n      <th>47</th>\n      <td>17/04/2020</td>\n      <td>30</td>\n      <td>467</td>\n    </tr>\n    <tr>\n      <th>48</th>\n      <td>18/04/2020</td>\n      <td>14</td>\n      <td>481</td>\n    </tr>\n    <tr>\n      <th>49</th>\n      <td>19/04/2020</td>\n      <td>9</td>\n      <td>490</td>\n    </tr>\n    <tr>\n      <th>50</th>\n      <td>20/04/2020</td>\n      <td>38</td>\n      <td>528</td>\n    </tr>\n    <tr>\n      <th>51</th>\n      <td>21/04/2020</td>\n      <td>23</td>\n      <td>551</td>\n    </tr>\n  </tbody>\n</table>\n</div>"
     },
     "metadata": {},
     "execution_count": 50
    }
   ],
   "source": [
    "# Get Reported Time Line - Cali\n",
    "reported_time_line_cali = get_time_line_reported(covid19co_cali)\n",
    "# Show dataframe\n",
    "reported_time_line_cali.tail()"
   ]
  },
  {
   "cell_type": "code",
   "execution_count": 51,
   "metadata": {},
   "outputs": [
    {
     "output_type": "execute_result",
     "data": {
      "text/plain": "   date_recupered  recupered  accum_recupered\n47     17/04/2020          0               63\n48     18/04/2020          0               63\n49     19/04/2020          0               63\n50     20/04/2020          0               63\n51     21/04/2020          0               63",
      "text/html": "<div>\n<style scoped>\n    .dataframe tbody tr th:only-of-type {\n        vertical-align: middle;\n    }\n\n    .dataframe tbody tr th {\n        vertical-align: top;\n    }\n\n    .dataframe thead th {\n        text-align: right;\n    }\n</style>\n<table border=\"1\" class=\"dataframe\">\n  <thead>\n    <tr style=\"text-align: right;\">\n      <th></th>\n      <th>date_recupered</th>\n      <th>recupered</th>\n      <th>accum_recupered</th>\n    </tr>\n  </thead>\n  <tbody>\n    <tr>\n      <th>47</th>\n      <td>17/04/2020</td>\n      <td>0</td>\n      <td>63</td>\n    </tr>\n    <tr>\n      <th>48</th>\n      <td>18/04/2020</td>\n      <td>0</td>\n      <td>63</td>\n    </tr>\n    <tr>\n      <th>49</th>\n      <td>19/04/2020</td>\n      <td>0</td>\n      <td>63</td>\n    </tr>\n    <tr>\n      <th>50</th>\n      <td>20/04/2020</td>\n      <td>0</td>\n      <td>63</td>\n    </tr>\n    <tr>\n      <th>51</th>\n      <td>21/04/2020</td>\n      <td>0</td>\n      <td>63</td>\n    </tr>\n  </tbody>\n</table>\n</div>"
     },
     "metadata": {},
     "execution_count": 51
    }
   ],
   "source": [
    "# Get Recupered Time Line - Cali\n",
    "dfrecupered_cali = covid19co_cali[covid19co_cali['ATENCION'] == 'Recuperado']\n",
    "# Get Reported Time Line - Cali\n",
    "recupered_time_line_cali = get_time_line_reported(dfrecupered_cali)\n",
    "# Rename columns\n",
    "recupered_time_line_cali.columns = ['date_recupered', 'recupered', 'accum_recupered']\n",
    "# Show dataframe\n",
    "recupered_time_line_cali.tail()"
   ]
  },
  {
   "cell_type": "code",
   "execution_count": 52,
   "metadata": {},
   "outputs": [
    {
     "output_type": "execute_result",
     "data": {
      "text/plain": "   date_deceased  deceased  accum_deceased\n47    17/04/2020         0              30\n48    18/04/2020         1              31\n49    19/04/2020         0              31\n50    20/04/2020         1              32\n51    21/04/2020         0              32",
      "text/html": "<div>\n<style scoped>\n    .dataframe tbody tr th:only-of-type {\n        vertical-align: middle;\n    }\n\n    .dataframe tbody tr th {\n        vertical-align: top;\n    }\n\n    .dataframe thead th {\n        text-align: right;\n    }\n</style>\n<table border=\"1\" class=\"dataframe\">\n  <thead>\n    <tr style=\"text-align: right;\">\n      <th></th>\n      <th>date_deceased</th>\n      <th>deceased</th>\n      <th>accum_deceased</th>\n    </tr>\n  </thead>\n  <tbody>\n    <tr>\n      <th>47</th>\n      <td>17/04/2020</td>\n      <td>0</td>\n      <td>30</td>\n    </tr>\n    <tr>\n      <th>48</th>\n      <td>18/04/2020</td>\n      <td>1</td>\n      <td>31</td>\n    </tr>\n    <tr>\n      <th>49</th>\n      <td>19/04/2020</td>\n      <td>0</td>\n      <td>31</td>\n    </tr>\n    <tr>\n      <th>50</th>\n      <td>20/04/2020</td>\n      <td>1</td>\n      <td>32</td>\n    </tr>\n    <tr>\n      <th>51</th>\n      <td>21/04/2020</td>\n      <td>0</td>\n      <td>32</td>\n    </tr>\n  </tbody>\n</table>\n</div>"
     },
     "metadata": {},
     "execution_count": 52
    }
   ],
   "source": [
    "# Get Deceased Time Line - Cali\n",
    "dfdeceased_cali = covid19co_cali[covid19co_cali['ATENCION'] == 'Fallecido']\n",
    "# Get Deceased Time Line - Cali\n",
    "deceased_time_line_cali = get_time_line_reported(dfdeceased_cali)\n",
    "# Rename columns\n",
    "deceased_time_line_cali.columns = ['date_deceased', 'deceased', 'accum_deceased']\n",
    "# Show dataframe\n",
    "deceased_time_line_cali.tail()"
   ]
  },
  {
   "cell_type": "code",
   "execution_count": 53,
   "metadata": {},
   "outputs": [
    {
     "output_type": "execute_result",
     "data": {
      "text/plain": "          date  cases  accum_cases  recupered  accum_recupered  deceased  \\\n47  17/04/2020     30          467          0               63         0   \n48  18/04/2020     14          481          0               63         1   \n49  19/04/2020      9          490          0               63         0   \n50  20/04/2020     38          528          0               63         1   \n51  21/04/2020     23          551          0               63         0   \n\n    accum_deceased  \n47              30  \n48              31  \n49              31  \n50              32  \n51              32  ",
      "text/html": "<div>\n<style scoped>\n    .dataframe tbody tr th:only-of-type {\n        vertical-align: middle;\n    }\n\n    .dataframe tbody tr th {\n        vertical-align: top;\n    }\n\n    .dataframe thead th {\n        text-align: right;\n    }\n</style>\n<table border=\"1\" class=\"dataframe\">\n  <thead>\n    <tr style=\"text-align: right;\">\n      <th></th>\n      <th>date</th>\n      <th>cases</th>\n      <th>accum_cases</th>\n      <th>recupered</th>\n      <th>accum_recupered</th>\n      <th>deceased</th>\n      <th>accum_deceased</th>\n    </tr>\n  </thead>\n  <tbody>\n    <tr>\n      <th>47</th>\n      <td>17/04/2020</td>\n      <td>30</td>\n      <td>467</td>\n      <td>0</td>\n      <td>63</td>\n      <td>0</td>\n      <td>30</td>\n    </tr>\n    <tr>\n      <th>48</th>\n      <td>18/04/2020</td>\n      <td>14</td>\n      <td>481</td>\n      <td>0</td>\n      <td>63</td>\n      <td>1</td>\n      <td>31</td>\n    </tr>\n    <tr>\n      <th>49</th>\n      <td>19/04/2020</td>\n      <td>9</td>\n      <td>490</td>\n      <td>0</td>\n      <td>63</td>\n      <td>0</td>\n      <td>31</td>\n    </tr>\n    <tr>\n      <th>50</th>\n      <td>20/04/2020</td>\n      <td>38</td>\n      <td>528</td>\n      <td>0</td>\n      <td>63</td>\n      <td>1</td>\n      <td>32</td>\n    </tr>\n    <tr>\n      <th>51</th>\n      <td>21/04/2020</td>\n      <td>23</td>\n      <td>551</td>\n      <td>0</td>\n      <td>63</td>\n      <td>0</td>\n      <td>32</td>\n    </tr>\n  </tbody>\n</table>\n</div>"
     },
     "metadata": {},
     "execution_count": 53
    }
   ],
   "source": [
    "# Merge Time Lines - Cali\n",
    "covid19co_time_line_cali_detail = pd.concat([reported_time_line_cali, recupered_time_line_cali, deceased_time_line_cali], axis=1, sort=False)\n",
    "# Delete Columns\n",
    "covid19co_time_line_cali_detail.drop(columns=['date_recupered', 'date_deceased'], inplace=True)\n",
    "# Show dataframe\n",
    "covid19co_time_line_cali_detail.tail()"
   ]
  },
  {
   "cell_type": "markdown",
   "metadata": {},
   "source": [
    "## Time Line Cases Reported, Recupered and Deceased - Cali\n",
    "> ***Output file***: covid19co_time_line_cali_detail.csv"
   ]
  },
  {
   "cell_type": "code",
   "execution_count": 54,
   "metadata": {},
   "outputs": [],
   "source": [
    "# Save dataframe\n",
    "covid19co_time_line_cali_detail.to_csv(os.path.join(OUTPUT_DIR, 'covid19co_time_line_cali_detail.csv'), index=False)"
   ]
  },
  {
   "cell_type": "code",
   "execution_count": null,
   "metadata": {},
   "outputs": [],
   "source": []
  }
 ],
 "metadata": {
  "language_info": {
   "name": "python",
   "codemirror_mode": {
    "name": "ipython",
    "version": 3
   },
   "version": "3.6.9-final"
  },
  "orig_nbformat": 2,
  "file_extension": ".py",
  "mimetype": "text/x-python",
  "name": "python",
  "npconvert_exporter": "python",
  "pygments_lexer": "ipython3",
  "version": 3,
  "kernelspec": {
   "name": "python3",
   "display_name": "Python 3"
  }
 },
 "nbformat": 4,
 "nbformat_minor": 2
}