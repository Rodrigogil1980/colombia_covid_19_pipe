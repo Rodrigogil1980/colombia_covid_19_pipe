{
 "cells": [
  {
   "cell_type": "code",
   "execution_count": 1,
   "metadata": {
    "_cell_guid": "fb2287d4-b57a-4e5f-9153-6e21f089f875",
    "_uuid": "d9b89f5f-10e3-49e8-b558-d3db7c96ddd2"
   },
   "outputs": [],
   "source": [
    "# This Python 3 environment comes with many helpful analytics libraries installed\n",
    "# It is defined by the kaggle/python docker image: https://github.com/kaggle/docker-python\n",
    "# For example, here's several helpful packages to load in \n",
    "\n",
    "import numpy as np # linear algebra\n",
    "import pandas as pd # data processing, CSV file I/O (e.g. pd.read_csv)\n",
    "#import geopandas as gpd # geodata processing\n",
    "# Get geolocation using geocoder\n",
    "from geopy.geocoders import Nominatim\n",
    "geolocator = Nominatim(user_agent='colombia_covid_19_pipe', timeout=None)\n",
    "# Https requests\n",
    "import requests\n",
    "import unidecode\n",
    "# Dates\n",
    "import datetime\n",
    "from datetime import date\n",
    "from calendar import day_name, month_name\n",
    "\n",
    "import subprocess\n",
    "import sys\n",
    "\n",
    "def install(package):\n",
    "    subprocess.check_call([sys.executable, \"-m\", \"pip\", \"install\", package])\n",
    "# PDFMiner pdfminer.six\n",
    "try:\n",
    "    from pdfminer.high_level import extract_text\n",
    "except Exception:\n",
    "    install('pdfminer.six')\n",
    "    from pdfminer.high_level import extract_text\n",
    "\n",
    "import tempfile\n",
    "import os\n",
    "\n",
    "# Input data files are available in the \"../input/\" directory.\n",
    "# For example, running this (by clicking run or pressing Shift+Enter) will list all files under the input directory\n",
    "\n",
    "#for dirname, _, filenames in os.walk('/kaggle/input'):\n",
    "#    for filename in filenames:\n",
    "#        print(os.path.join(dirname, filename))\n",
    "\n",
    "# Any results you write to the current directory are saved as output."
   ]
  },
  {
   "cell_type": "markdown",
   "metadata": {
    "_cell_guid": "acfa7152-fd28-4de5-a935-a809ca304638",
    "_uuid": "0a727ba5-b0eb-44e8-bf66-92332df8a19b"
   },
   "source": [
    "# Colombia Covid 19 Pipeline\n",
    "Dataset is obtained from [Instituto Nacional de Salud](https://www.ins.gov.co/Noticias/Paginas/Coronavirus.aspx) daily report Coronavirus 2019 from Colombia.\n",
    "\n",
    "You can get the official dataset here: \n",
    "[INS - Official Report](https://www.datos.gov.co/Salud-y-Protecci-n-Social/Casos-positivos-de-COVID-19-en-Colombia/gt2j-8ykr)\n",
    "\n",
    "The number of new cases are increasing day by day around the world.\n",
    "This dataset has information about reported cases from 32 Colombia departments.\n",
    "\n",
    "You can get the Google COVID-19 Community Mobility Reports - Colombia.\n",
    "\n",
    "You can view and collaborate to the analysis here:\n",
    "[colombia_covid_19_analysis](https://www.kaggle.com/sebaxtian/colombia-covid-19-analysis) Kaggle Notebook Kernel."
   ]
  },
  {
   "cell_type": "markdown",
   "metadata": {
    "_cell_guid": "992808de-ec0f-463a-b2ab-9a2cb50c1de1",
    "_uuid": "bc33aa68-06fa-42ab-989e-7a864010bbae"
   },
   "source": [
    "---"
   ]
  },
  {
   "cell_type": "code",
   "execution_count": 2,
   "metadata": {
    "_cell_guid": "72e90606-4a21-441b-9165-bbd73732edac",
    "_uuid": "723f860f-90f9-4420-a864-a82b0679bcae"
   },
   "outputs": [],
   "source": [
    "# Any results you write to the current directory are saved as output.\n",
    "OUTPUT_DIR = './'\n",
    "if os.path.split(os.path.abspath('.'))[-1] == 'src':\n",
    "    OUTPUT_DIR = '../output'\n",
    "# Official Opendata Report, with anomalies\n",
    "#URL_DATASET = 'https://www.datos.gov.co/api/views/gt2j-8ykr/rows.csv?accessType=DOWNLOAD'\n",
    "\n",
    "# Official Daily Report Until Now\n",
    "URL_DATASET = 'https://infogram.com/api/live/flex/4524241a-91a7-4bbd-a58e-63c12fb2952f/7109db63-a83b-4ba7-b5bc-565b2a7ee4bb?'"
   ]
  },
  {
   "cell_type": "markdown",
   "metadata": {},
   "source": [
    "---"
   ]
  },
  {
   "cell_type": "markdown",
   "metadata": {},
   "source": [
    "## Load Local Covid19 Report from Output"
   ]
  },
  {
   "cell_type": "code",
   "execution_count": 3,
   "metadata": {},
   "outputs": [
    {
     "output_type": "execute_result",
     "data": {
      "text/plain": "(3439, 14)"
     },
     "metadata": {},
     "execution_count": 3
    }
   ],
   "source": [
    "# Load local covid19_df from output\n",
    "covid19_df = pd.read_csv(os.path.join(OUTPUT_DIR, 'covid19.csv'))\n",
    "# Report last day\n",
    "covid19_df.shape"
   ]
  },
  {
   "cell_type": "markdown",
   "metadata": {},
   "source": [
    "---"
   ]
  },
  {
   "cell_type": "markdown",
   "metadata": {},
   "source": [
    "## Get Official Covid19 Daily Report"
   ]
  },
  {
   "cell_type": "code",
   "execution_count": 4,
   "metadata": {
    "tags": [
     "outputPrepend"
    ]
   },
   "outputs": [
    {
     "output_type": "execute_result",
     "data": {
      "text/plain": "(206, 9)"
     },
     "metadata": {},
     "execution_count": 4
    }
   ],
   "source": [
    "# Get Covid19 dataset daily report\n",
    "# Reading the json as a dict\n",
    "with requests.get(URL_DATASET) as original_dataset:\n",
    "    data = original_dataset.json()\n",
    "#print(data)\n",
    "\n",
    "# Department Report\n",
    "#print(data['data'][0])\n",
    "#department_report = data['data'][0]\n",
    "\n",
    "# National Report\n",
    "#print(len(data['data'][1:]))\n",
    "national_report = data['data'][1:]\n",
    "\n",
    "# New Cases\n",
    "new_cases = national_report[0]\n",
    "#print(new_cases)\n",
    "\n",
    "# Deaths\n",
    "new_deaths = national_report[1]\n",
    "#print(new_deaths)\n",
    "\n",
    "# Recovered\n",
    "new_recovered = national_report[2]\n",
    "#print(new_recovered)\n",
    "\n",
    "# Recovered Hostpital\n",
    "new_recovered_hospital = national_report[3]\n",
    "#print(new_recovered_hospital)\n",
    "\n",
    "\n",
    "# Get attributes and data\n",
    "attrs = new_cases[0]\n",
    "del new_cases[0]\n",
    "#print('new_cases', new_cases)\n",
    "\n",
    "# Build dataframe\n",
    "covid_df = pd.DataFrame(data=new_cases, columns=attrs)\n",
    "\n",
    "# Size dataframe\n",
    "covid_df.shape"
   ]
  },
  {
   "cell_type": "code",
   "execution_count": 5,
   "metadata": {
    "_cell_guid": "e7f34b84-4064-4509-804f-7b84f161716f",
    "_uuid": "8fde5d08-681d-4e32-93af-ceb57dafbaab",
    "tags": [
     "outputPrepend"
    ]
   },
   "outputs": [],
   "source": [
    "# Get Covid19 dataset\n",
    "#covid_df = pd.read_csv(URL_DATASET)"
   ]
  },
  {
   "cell_type": "code",
   "execution_count": 6,
   "metadata": {
    "_cell_guid": "bad46e5e-a4fd-4cf0-9143-aa93c2429542",
    "_uuid": "0c303a3d-cc99-4d0a-8f72-0eef46319dd0"
   },
   "outputs": [
    {
     "output_type": "execute_result",
     "data": {
      "text/plain": "     Caso Fecha de diagnóstico    Ciudad Departamento Ubicación Edad Sexo  \\\n201  3435           17/04/2020    Bogota  Bogotá D.C.  Hospital   60    M   \n202  3436           17/04/2020    Bogota  Bogotá D.C.  Hospital   61    M   \n203  3437           17/04/2020  Medellin    Antioquia      Casa   25    F   \n204  3438           17/04/2020    Quibdo        Chocó      Casa   24    F   \n205  3439           17/04/2020   Leticia     Amazonas      Casa   26    M   \n\n           Tipo Pais de procedencia  \n201  En estudio            Colombia  \n202  En estudio            Colombia  \n203  En estudio            Colombia  \n204  En estudio            Colombia  \n205  En estudio            Colombia  ",
      "text/html": "<div>\n<style scoped>\n    .dataframe tbody tr th:only-of-type {\n        vertical-align: middle;\n    }\n\n    .dataframe tbody tr th {\n        vertical-align: top;\n    }\n\n    .dataframe thead th {\n        text-align: right;\n    }\n</style>\n<table border=\"1\" class=\"dataframe\">\n  <thead>\n    <tr style=\"text-align: right;\">\n      <th></th>\n      <th>Caso</th>\n      <th>Fecha de diagnóstico</th>\n      <th>Ciudad</th>\n      <th>Departamento</th>\n      <th>Ubicación</th>\n      <th>Edad</th>\n      <th>Sexo</th>\n      <th>Tipo</th>\n      <th>Pais de procedencia</th>\n    </tr>\n  </thead>\n  <tbody>\n    <tr>\n      <th>201</th>\n      <td>3435</td>\n      <td>17/04/2020</td>\n      <td>Bogota</td>\n      <td>Bogotá D.C.</td>\n      <td>Hospital</td>\n      <td>60</td>\n      <td>M</td>\n      <td>En estudio</td>\n      <td>Colombia</td>\n    </tr>\n    <tr>\n      <th>202</th>\n      <td>3436</td>\n      <td>17/04/2020</td>\n      <td>Bogota</td>\n      <td>Bogotá D.C.</td>\n      <td>Hospital</td>\n      <td>61</td>\n      <td>M</td>\n      <td>En estudio</td>\n      <td>Colombia</td>\n    </tr>\n    <tr>\n      <th>203</th>\n      <td>3437</td>\n      <td>17/04/2020</td>\n      <td>Medellin</td>\n      <td>Antioquia</td>\n      <td>Casa</td>\n      <td>25</td>\n      <td>F</td>\n      <td>En estudio</td>\n      <td>Colombia</td>\n    </tr>\n    <tr>\n      <th>204</th>\n      <td>3438</td>\n      <td>17/04/2020</td>\n      <td>Quibdo</td>\n      <td>Chocó</td>\n      <td>Casa</td>\n      <td>24</td>\n      <td>F</td>\n      <td>En estudio</td>\n      <td>Colombia</td>\n    </tr>\n    <tr>\n      <th>205</th>\n      <td>3439</td>\n      <td>17/04/2020</td>\n      <td>Leticia</td>\n      <td>Amazonas</td>\n      <td>Casa</td>\n      <td>26</td>\n      <td>M</td>\n      <td>En estudio</td>\n      <td>Colombia</td>\n    </tr>\n  </tbody>\n</table>\n</div>"
     },
     "metadata": {},
     "execution_count": 6
    }
   ],
   "source": [
    "# Show dataframe\n",
    "covid_df.tail()"
   ]
  },
  {
   "cell_type": "code",
   "execution_count": 7,
   "metadata": {},
   "outputs": [],
   "source": [
    "# Show original columns\n",
    "#print(covid_df.columns.values)"
   ]
  },
  {
   "cell_type": "code",
   "execution_count": 8,
   "metadata": {
    "_cell_guid": "f5a2f319-13e0-4af6-ad91-4215e4247b74",
    "_uuid": "c61f52ec-fd25-40bd-9b9b-1c4e1346aafe"
   },
   "outputs": [
    {
     "output_type": "execute_result",
     "data": {
      "text/plain": "  id_case        date       city           dept_dist                   care  \\\n0    3234  15/04/2020  Cartagena  Cartagena D.T. y C                   Casa   \n1    3235  15/04/2020       Cali     Valle del Cauca                   Casa   \n2    3236  15/04/2020       Cali     Valle del Cauca               Hospital   \n3    3237  18/03/2020    Pereira           Risaralda  Recuperado (Hospital)   \n4    3238  15/04/2020   Marsella           Risaralda                   Casa   \n\n  age sex         kind  country_origin  \n0  43   F   En estudio        Colombia  \n1  38   F   En estudio        Colombia  \n2  47   F   En estudio        Colombia  \n3  78   M    Importado  Estados Unidos  \n4  35   F  Relacionado        Colombia  ",
      "text/html": "<div>\n<style scoped>\n    .dataframe tbody tr th:only-of-type {\n        vertical-align: middle;\n    }\n\n    .dataframe tbody tr th {\n        vertical-align: top;\n    }\n\n    .dataframe thead th {\n        text-align: right;\n    }\n</style>\n<table border=\"1\" class=\"dataframe\">\n  <thead>\n    <tr style=\"text-align: right;\">\n      <th></th>\n      <th>id_case</th>\n      <th>date</th>\n      <th>city</th>\n      <th>dept_dist</th>\n      <th>care</th>\n      <th>age</th>\n      <th>sex</th>\n      <th>kind</th>\n      <th>country_origin</th>\n    </tr>\n  </thead>\n  <tbody>\n    <tr>\n      <th>0</th>\n      <td>3234</td>\n      <td>15/04/2020</td>\n      <td>Cartagena</td>\n      <td>Cartagena D.T. y C</td>\n      <td>Casa</td>\n      <td>43</td>\n      <td>F</td>\n      <td>En estudio</td>\n      <td>Colombia</td>\n    </tr>\n    <tr>\n      <th>1</th>\n      <td>3235</td>\n      <td>15/04/2020</td>\n      <td>Cali</td>\n      <td>Valle del Cauca</td>\n      <td>Casa</td>\n      <td>38</td>\n      <td>F</td>\n      <td>En estudio</td>\n      <td>Colombia</td>\n    </tr>\n    <tr>\n      <th>2</th>\n      <td>3236</td>\n      <td>15/04/2020</td>\n      <td>Cali</td>\n      <td>Valle del Cauca</td>\n      <td>Hospital</td>\n      <td>47</td>\n      <td>F</td>\n      <td>En estudio</td>\n      <td>Colombia</td>\n    </tr>\n    <tr>\n      <th>3</th>\n      <td>3237</td>\n      <td>18/03/2020</td>\n      <td>Pereira</td>\n      <td>Risaralda</td>\n      <td>Recuperado (Hospital)</td>\n      <td>78</td>\n      <td>M</td>\n      <td>Importado</td>\n      <td>Estados Unidos</td>\n    </tr>\n    <tr>\n      <th>4</th>\n      <td>3238</td>\n      <td>15/04/2020</td>\n      <td>Marsella</td>\n      <td>Risaralda</td>\n      <td>Casa</td>\n      <td>35</td>\n      <td>F</td>\n      <td>Relacionado</td>\n      <td>Colombia</td>\n    </tr>\n  </tbody>\n</table>\n</div>"
     },
     "metadata": {},
     "execution_count": 8
    }
   ],
   "source": [
    "# Rename columns\n",
    "covid_df.rename(columns={\n",
    "    \"Caso\": \"id_case\",\n",
    "    \"Fecha de diagnóstico\": \"date\",\n",
    "    \"Ciudad\": \"city\",\n",
    "    \"Departamento\": \"dept_dist\",\n",
    "    \"Ubicación\": \"care\",\n",
    "    \"Edad\": \"age\",\n",
    "    \"Sexo\": \"sex\",\n",
    "    \"Tipo\": \"kind\",\n",
    "    \"Pais de procedencia\": \"country_origin\"}, inplace=True)\n",
    "# Show dataframe\n",
    "covid_df.head()"
   ]
  },
  {
   "cell_type": "code",
   "execution_count": 9,
   "metadata": {
    "_cell_guid": "3ede418c-26f8-40ee-9b87-2491b9628529",
    "_uuid": "64773614-bc2d-4c8e-aa8c-0a27c4af8d25"
   },
   "outputs": [
    {
     "output_type": "execute_result",
     "data": {
      "text/plain": "    id_case        date      city    dept_dist      care age sex        kind  \\\n201    3435  17/04/2020    Bogota  Bogotá D.C.  Hospital  60   M  En estudio   \n202    3436  17/04/2020    Bogota  Bogotá D.C.  Hospital  61   M  En estudio   \n203    3437  17/04/2020  Medellin    Antioquia      Casa  25   F  En estudio   \n204    3438  17/04/2020    Quibdo        Chocó      Casa  24   F  En estudio   \n205    3439  17/04/2020   Leticia     Amazonas      Casa  26   M  En estudio   \n\n    country_origin  \n201       Colombia  \n202       Colombia  \n203       Colombia  \n204       Colombia  \n205       Colombia  ",
      "text/html": "<div>\n<style scoped>\n    .dataframe tbody tr th:only-of-type {\n        vertical-align: middle;\n    }\n\n    .dataframe tbody tr th {\n        vertical-align: top;\n    }\n\n    .dataframe thead th {\n        text-align: right;\n    }\n</style>\n<table border=\"1\" class=\"dataframe\">\n  <thead>\n    <tr style=\"text-align: right;\">\n      <th></th>\n      <th>id_case</th>\n      <th>date</th>\n      <th>city</th>\n      <th>dept_dist</th>\n      <th>care</th>\n      <th>age</th>\n      <th>sex</th>\n      <th>kind</th>\n      <th>country_origin</th>\n    </tr>\n  </thead>\n  <tbody>\n    <tr>\n      <th>201</th>\n      <td>3435</td>\n      <td>17/04/2020</td>\n      <td>Bogota</td>\n      <td>Bogotá D.C.</td>\n      <td>Hospital</td>\n      <td>60</td>\n      <td>M</td>\n      <td>En estudio</td>\n      <td>Colombia</td>\n    </tr>\n    <tr>\n      <th>202</th>\n      <td>3436</td>\n      <td>17/04/2020</td>\n      <td>Bogota</td>\n      <td>Bogotá D.C.</td>\n      <td>Hospital</td>\n      <td>61</td>\n      <td>M</td>\n      <td>En estudio</td>\n      <td>Colombia</td>\n    </tr>\n    <tr>\n      <th>203</th>\n      <td>3437</td>\n      <td>17/04/2020</td>\n      <td>Medellin</td>\n      <td>Antioquia</td>\n      <td>Casa</td>\n      <td>25</td>\n      <td>F</td>\n      <td>En estudio</td>\n      <td>Colombia</td>\n    </tr>\n    <tr>\n      <th>204</th>\n      <td>3438</td>\n      <td>17/04/2020</td>\n      <td>Quibdo</td>\n      <td>Chocó</td>\n      <td>Casa</td>\n      <td>24</td>\n      <td>F</td>\n      <td>En estudio</td>\n      <td>Colombia</td>\n    </tr>\n    <tr>\n      <th>205</th>\n      <td>3439</td>\n      <td>17/04/2020</td>\n      <td>Leticia</td>\n      <td>Amazonas</td>\n      <td>Casa</td>\n      <td>26</td>\n      <td>M</td>\n      <td>En estudio</td>\n      <td>Colombia</td>\n    </tr>\n  </tbody>\n</table>\n</div>"
     },
     "metadata": {},
     "execution_count": 9
    }
   ],
   "source": [
    "# Clean empty rows\n",
    "covid_df = covid_df[covid_df['date'] != '']\n",
    "# Show dataframe\n",
    "covid_df.tail()"
   ]
  },
  {
   "cell_type": "code",
   "execution_count": 10,
   "metadata": {
    "_cell_guid": "2c1443aa-930a-458e-8ef9-f83d6bd9bb32",
    "_uuid": "cf2fb1e5-4a8a-4d2e-83ef-f47d821e8808"
   },
   "outputs": [
    {
     "output_type": "execute_result",
     "data": {
      "text/plain": "  id_case        date       city           dept_dist                   care  \\\n0    3234  15/04/2020  Cartagena  Cartagena D.T. y C                   Casa   \n1    3235  15/04/2020       Cali     Valle del Cauca                   Casa   \n2    3236  15/04/2020       Cali     Valle del Cauca               Hospital   \n3    3237  18/03/2020    Pereira           Risaralda  Recuperado (Hospital)   \n4    3238  15/04/2020   Marsella           Risaralda                   Casa   \n\n  age sex         kind  country_origin  \n0  43   F   En estudio        Colombia  \n1  38   F   En estudio        Colombia  \n2  47   F   En estudio        Colombia  \n3  78   M    Importado  Estados Unidos  \n4  35   F  Relacionado        Colombia  ",
      "text/html": "<div>\n<style scoped>\n    .dataframe tbody tr th:only-of-type {\n        vertical-align: middle;\n    }\n\n    .dataframe tbody tr th {\n        vertical-align: top;\n    }\n\n    .dataframe thead th {\n        text-align: right;\n    }\n</style>\n<table border=\"1\" class=\"dataframe\">\n  <thead>\n    <tr style=\"text-align: right;\">\n      <th></th>\n      <th>id_case</th>\n      <th>date</th>\n      <th>city</th>\n      <th>dept_dist</th>\n      <th>care</th>\n      <th>age</th>\n      <th>sex</th>\n      <th>kind</th>\n      <th>country_origin</th>\n    </tr>\n  </thead>\n  <tbody>\n    <tr>\n      <th>0</th>\n      <td>3234</td>\n      <td>15/04/2020</td>\n      <td>Cartagena</td>\n      <td>Cartagena D.T. y C</td>\n      <td>Casa</td>\n      <td>43</td>\n      <td>F</td>\n      <td>En estudio</td>\n      <td>Colombia</td>\n    </tr>\n    <tr>\n      <th>1</th>\n      <td>3235</td>\n      <td>15/04/2020</td>\n      <td>Cali</td>\n      <td>Valle del Cauca</td>\n      <td>Casa</td>\n      <td>38</td>\n      <td>F</td>\n      <td>En estudio</td>\n      <td>Colombia</td>\n    </tr>\n    <tr>\n      <th>2</th>\n      <td>3236</td>\n      <td>15/04/2020</td>\n      <td>Cali</td>\n      <td>Valle del Cauca</td>\n      <td>Hospital</td>\n      <td>47</td>\n      <td>F</td>\n      <td>En estudio</td>\n      <td>Colombia</td>\n    </tr>\n    <tr>\n      <th>3</th>\n      <td>3237</td>\n      <td>18/03/2020</td>\n      <td>Pereira</td>\n      <td>Risaralda</td>\n      <td>Recuperado (Hospital)</td>\n      <td>78</td>\n      <td>M</td>\n      <td>Importado</td>\n      <td>Estados Unidos</td>\n    </tr>\n    <tr>\n      <th>4</th>\n      <td>3238</td>\n      <td>15/04/2020</td>\n      <td>Marsella</td>\n      <td>Risaralda</td>\n      <td>Casa</td>\n      <td>35</td>\n      <td>F</td>\n      <td>Relacionado</td>\n      <td>Colombia</td>\n    </tr>\n  </tbody>\n</table>\n</div>"
     },
     "metadata": {},
     "execution_count": 10
    }
   ],
   "source": [
    "# Remove accents\n",
    "covid_df['city'] = covid_df['city'].transform(lambda value: unidecode.unidecode(value))\n",
    "covid_df['dept_dist'] = covid_df['dept_dist'].transform(lambda value: unidecode.unidecode(value))\n",
    "# Show dataframe\n",
    "covid_df.head()"
   ]
  },
  {
   "cell_type": "code",
   "execution_count": 11,
   "metadata": {},
   "outputs": [
    {
     "output_type": "execute_result",
     "data": {
      "text/plain": "    id_case        date      city    dept_dist      care age sex        kind  \\\n201    3435  17/04/2020    Bogota  Bogota D.C.  Hospital  60   M  En estudio   \n202    3436  17/04/2020    Bogota  Bogota D.C.  Hospital  61   M  En estudio   \n203    3437  17/04/2020  Medellin    Antioquia      Casa  25   F  En estudio   \n204    3438  17/04/2020    Quibdo        Choco      Casa  24   F  En estudio   \n205    3439  17/04/2020   Leticia     Amazonas      Casa  26   M  En estudio   \n\n    country_origin  \n201       Colombia  \n202       Colombia  \n203       Colombia  \n204       Colombia  \n205       Colombia  ",
      "text/html": "<div>\n<style scoped>\n    .dataframe tbody tr th:only-of-type {\n        vertical-align: middle;\n    }\n\n    .dataframe tbody tr th {\n        vertical-align: top;\n    }\n\n    .dataframe thead th {\n        text-align: right;\n    }\n</style>\n<table border=\"1\" class=\"dataframe\">\n  <thead>\n    <tr style=\"text-align: right;\">\n      <th></th>\n      <th>id_case</th>\n      <th>date</th>\n      <th>city</th>\n      <th>dept_dist</th>\n      <th>care</th>\n      <th>age</th>\n      <th>sex</th>\n      <th>kind</th>\n      <th>country_origin</th>\n    </tr>\n  </thead>\n  <tbody>\n    <tr>\n      <th>201</th>\n      <td>3435</td>\n      <td>17/04/2020</td>\n      <td>Bogota</td>\n      <td>Bogota D.C.</td>\n      <td>Hospital</td>\n      <td>60</td>\n      <td>M</td>\n      <td>En estudio</td>\n      <td>Colombia</td>\n    </tr>\n    <tr>\n      <th>202</th>\n      <td>3436</td>\n      <td>17/04/2020</td>\n      <td>Bogota</td>\n      <td>Bogota D.C.</td>\n      <td>Hospital</td>\n      <td>61</td>\n      <td>M</td>\n      <td>En estudio</td>\n      <td>Colombia</td>\n    </tr>\n    <tr>\n      <th>203</th>\n      <td>3437</td>\n      <td>17/04/2020</td>\n      <td>Medellin</td>\n      <td>Antioquia</td>\n      <td>Casa</td>\n      <td>25</td>\n      <td>F</td>\n      <td>En estudio</td>\n      <td>Colombia</td>\n    </tr>\n    <tr>\n      <th>204</th>\n      <td>3438</td>\n      <td>17/04/2020</td>\n      <td>Quibdo</td>\n      <td>Choco</td>\n      <td>Casa</td>\n      <td>24</td>\n      <td>F</td>\n      <td>En estudio</td>\n      <td>Colombia</td>\n    </tr>\n    <tr>\n      <th>205</th>\n      <td>3439</td>\n      <td>17/04/2020</td>\n      <td>Leticia</td>\n      <td>Amazonas</td>\n      <td>Casa</td>\n      <td>26</td>\n      <td>M</td>\n      <td>En estudio</td>\n      <td>Colombia</td>\n    </tr>\n  </tbody>\n</table>\n</div>"
     },
     "metadata": {},
     "execution_count": 11
    }
   ],
   "source": [
    "# Setup date format\n",
    "def setup_date(value):\n",
    "    #print('Cosa', value)\n",
    "    value = value.split('/')\n",
    "    #print(value)\n",
    "    # Check day\n",
    "    if len(value[0]) == 1:\n",
    "        value[0] = '0' + value[0]\n",
    "    # Check mounth\n",
    "    if len(value[1]) == 1:\n",
    "        value[1] = '0' + value[1]\n",
    "    # Check year\n",
    "    if len(value[2]) == 2:\n",
    "        value[2] = value[2] + '20'\n",
    "    # Return new date format\n",
    "    return '/'.join(value)\n",
    "# Check date format\n",
    "def check_date_format(value):\n",
    "    try:\n",
    "        new_date = datetime.datetime.strptime(value, '%d/%m/%Y')\n",
    "        #print('Fecha Valida:', value)\n",
    "        return new_date\n",
    "    except ValueError:\n",
    "        #print('Fecha con Error:', value)\n",
    "        #new_date = datetime.datetime.now().strptime('%d/%m/%Y')\n",
    "        return np.NaN\n",
    "\n",
    "# Setup date format\n",
    "covid_df['date'] = covid_df['date'].transform(lambda value: setup_date(value))\n",
    "covid_df['date'] = covid_df['date'].transform(lambda value: check_date_format(value))\n",
    "covid_df['date'].fillna(method='bfill', inplace=True)\n",
    "# Setup date format\n",
    "covid_df['date'] = [value.strftime('%d/%m/%Y') for value in pd.to_datetime(covid_df['date'], format='%d/%m/%Y')]\n",
    "# Show dataframe\n",
    "covid_df.tail()"
   ]
  },
  {
   "cell_type": "code",
   "execution_count": 12,
   "metadata": {
    "_cell_guid": "e1945629-d8bd-4014-89c2-d9668545c24f",
    "_uuid": "c18ff492-430f-4e32-a462-88513c8f1c92"
   },
   "outputs": [
    {
     "output_type": "execute_result",
     "data": {
      "text/plain": "  id_case        date       city           dept_dist                   care  \\\n0    3234  15/04/2020  Cartagena  Cartagena D.T. y C                   Casa   \n1    3235  15/04/2020       Cali     Valle del Cauca                   Casa   \n2    3236  15/04/2020       Cali     Valle del Cauca               Hospital   \n3    3237  18/03/2020    Pereira           Risaralda  Recuperado (Hospital)   \n4    3238  15/04/2020   Marsella           Risaralda                   Casa   \n\n  age sex         kind  country_origin day month  year month_name   day_name  \n0  43   F   En estudio        Colombia  15    04  2020      Abril  Miercoles  \n1  38   F   En estudio        Colombia  15    04  2020      Abril  Miercoles  \n2  47   F   En estudio        Colombia  15    04  2020      Abril  Miercoles  \n3  78   M    Importado  Estados Unidos  18    03  2020      Marzo  Miercoles  \n4  35   F  Relacionado        Colombia  15    04  2020      Abril  Miercoles  ",
      "text/html": "<div>\n<style scoped>\n    .dataframe tbody tr th:only-of-type {\n        vertical-align: middle;\n    }\n\n    .dataframe tbody tr th {\n        vertical-align: top;\n    }\n\n    .dataframe thead th {\n        text-align: right;\n    }\n</style>\n<table border=\"1\" class=\"dataframe\">\n  <thead>\n    <tr style=\"text-align: right;\">\n      <th></th>\n      <th>id_case</th>\n      <th>date</th>\n      <th>city</th>\n      <th>dept_dist</th>\n      <th>care</th>\n      <th>age</th>\n      <th>sex</th>\n      <th>kind</th>\n      <th>country_origin</th>\n      <th>day</th>\n      <th>month</th>\n      <th>year</th>\n      <th>month_name</th>\n      <th>day_name</th>\n    </tr>\n  </thead>\n  <tbody>\n    <tr>\n      <th>0</th>\n      <td>3234</td>\n      <td>15/04/2020</td>\n      <td>Cartagena</td>\n      <td>Cartagena D.T. y C</td>\n      <td>Casa</td>\n      <td>43</td>\n      <td>F</td>\n      <td>En estudio</td>\n      <td>Colombia</td>\n      <td>15</td>\n      <td>04</td>\n      <td>2020</td>\n      <td>Abril</td>\n      <td>Miercoles</td>\n    </tr>\n    <tr>\n      <th>1</th>\n      <td>3235</td>\n      <td>15/04/2020</td>\n      <td>Cali</td>\n      <td>Valle del Cauca</td>\n      <td>Casa</td>\n      <td>38</td>\n      <td>F</td>\n      <td>En estudio</td>\n      <td>Colombia</td>\n      <td>15</td>\n      <td>04</td>\n      <td>2020</td>\n      <td>Abril</td>\n      <td>Miercoles</td>\n    </tr>\n    <tr>\n      <th>2</th>\n      <td>3236</td>\n      <td>15/04/2020</td>\n      <td>Cali</td>\n      <td>Valle del Cauca</td>\n      <td>Hospital</td>\n      <td>47</td>\n      <td>F</td>\n      <td>En estudio</td>\n      <td>Colombia</td>\n      <td>15</td>\n      <td>04</td>\n      <td>2020</td>\n      <td>Abril</td>\n      <td>Miercoles</td>\n    </tr>\n    <tr>\n      <th>3</th>\n      <td>3237</td>\n      <td>18/03/2020</td>\n      <td>Pereira</td>\n      <td>Risaralda</td>\n      <td>Recuperado (Hospital)</td>\n      <td>78</td>\n      <td>M</td>\n      <td>Importado</td>\n      <td>Estados Unidos</td>\n      <td>18</td>\n      <td>03</td>\n      <td>2020</td>\n      <td>Marzo</td>\n      <td>Miercoles</td>\n    </tr>\n    <tr>\n      <th>4</th>\n      <td>3238</td>\n      <td>15/04/2020</td>\n      <td>Marsella</td>\n      <td>Risaralda</td>\n      <td>Casa</td>\n      <td>35</td>\n      <td>F</td>\n      <td>Relacionado</td>\n      <td>Colombia</td>\n      <td>15</td>\n      <td>04</td>\n      <td>2020</td>\n      <td>Abril</td>\n      <td>Miercoles</td>\n    </tr>\n  </tbody>\n</table>\n</div>"
     },
     "metadata": {},
     "execution_count": 12
    }
   ],
   "source": [
    "# Add Day, Month, Year, Month Name and Day Name\n",
    "covid_df['day'] = covid_df['date'].transform(lambda value: value.split('/')[0])\n",
    "covid_df['month'] = covid_df['date'].transform(lambda value: value.split('/')[1])\n",
    "covid_df['year'] = covid_df['date'].transform(lambda value: value.split('/')[2])\n",
    "# English\n",
    "#covid_df['month_name'] = covid_df['month'].transform(lambda value: month_name[int(value)])\n",
    "#covid_df['day_name'] = covid_df['date'].transform(lambda value: day_name[date(int(value.split('/')[2]), int(value.split('/')[1]), int(value.split('/')[0])).weekday()])\n",
    "# Spanish\n",
    "nombre_mes = ['Enero', 'Febrero', 'Marzo', 'Abril', 'Mayo', 'Junio', 'Julio', 'Agosto', 'Septiembre', 'Octubre', 'Noviembre', 'Diciembre']\n",
    "nombre_dia = ['Lunes', 'Martes', 'Miercoles', 'Jueves', 'Viernes', 'Sabado', 'Domingo']\n",
    "covid_df['month_name'] = covid_df['month'].transform(lambda value: nombre_mes[int(value) - 1])\n",
    "covid_df['day_name'] = covid_df['date'].transform(lambda value: nombre_dia[date(int(value.split('/')[2]), int(value.split('/')[1]), int(value.split('/')[0])).weekday()])\n",
    "# Show dataframe\n",
    "covid_df.head()"
   ]
  },
  {
   "cell_type": "code",
   "execution_count": 13,
   "metadata": {
    "_cell_guid": "21f8afe3-2919-43b4-8eb2-e5c104bfa2bc",
    "_uuid": "c39b8df3-e4b5-4c15-bfa4-2363f79ba0a7"
   },
   "outputs": [],
   "source": [
    "# Update Case ID\n",
    "#covid_df['id_case'] = covid_df.index\n",
    "#covid_df.tail()"
   ]
  },
  {
   "cell_type": "code",
   "execution_count": 14,
   "metadata": {
    "_cell_guid": "e0688ba2-225c-48fc-9a9c-b6716c14bd76",
    "_uuid": "1fa3607b-f471-4760-8710-cce65e3f9828"
   },
   "outputs": [
    {
     "output_type": "execute_result",
     "data": {
      "text/plain": "  id_case        date day month  year month_name   day_name       city  \\\n0    3234  15/04/2020  15    04  2020      Abril  Miercoles  Cartagena   \n1    3235  15/04/2020  15    04  2020      Abril  Miercoles       Cali   \n2    3236  15/04/2020  15    04  2020      Abril  Miercoles       Cali   \n3    3237  18/03/2020  18    03  2020      Marzo  Miercoles    Pereira   \n4    3238  15/04/2020  15    04  2020      Abril  Miercoles   Marsella   \n\n            dept_dist age sex         kind  country_origin  \\\n0  Cartagena D.T. y C  43   F   En estudio        Colombia   \n1     Valle del Cauca  38   F   En estudio        Colombia   \n2     Valle del Cauca  47   F   En estudio        Colombia   \n3           Risaralda  78   M    Importado  Estados Unidos   \n4           Risaralda  35   F  Relacionado        Colombia   \n\n                    care  \n0                   Casa  \n1                   Casa  \n2               Hospital  \n3  Recuperado (Hospital)  \n4                   Casa  ",
      "text/html": "<div>\n<style scoped>\n    .dataframe tbody tr th:only-of-type {\n        vertical-align: middle;\n    }\n\n    .dataframe tbody tr th {\n        vertical-align: top;\n    }\n\n    .dataframe thead th {\n        text-align: right;\n    }\n</style>\n<table border=\"1\" class=\"dataframe\">\n  <thead>\n    <tr style=\"text-align: right;\">\n      <th></th>\n      <th>id_case</th>\n      <th>date</th>\n      <th>day</th>\n      <th>month</th>\n      <th>year</th>\n      <th>month_name</th>\n      <th>day_name</th>\n      <th>city</th>\n      <th>dept_dist</th>\n      <th>age</th>\n      <th>sex</th>\n      <th>kind</th>\n      <th>country_origin</th>\n      <th>care</th>\n    </tr>\n  </thead>\n  <tbody>\n    <tr>\n      <th>0</th>\n      <td>3234</td>\n      <td>15/04/2020</td>\n      <td>15</td>\n      <td>04</td>\n      <td>2020</td>\n      <td>Abril</td>\n      <td>Miercoles</td>\n      <td>Cartagena</td>\n      <td>Cartagena D.T. y C</td>\n      <td>43</td>\n      <td>F</td>\n      <td>En estudio</td>\n      <td>Colombia</td>\n      <td>Casa</td>\n    </tr>\n    <tr>\n      <th>1</th>\n      <td>3235</td>\n      <td>15/04/2020</td>\n      <td>15</td>\n      <td>04</td>\n      <td>2020</td>\n      <td>Abril</td>\n      <td>Miercoles</td>\n      <td>Cali</td>\n      <td>Valle del Cauca</td>\n      <td>38</td>\n      <td>F</td>\n      <td>En estudio</td>\n      <td>Colombia</td>\n      <td>Casa</td>\n    </tr>\n    <tr>\n      <th>2</th>\n      <td>3236</td>\n      <td>15/04/2020</td>\n      <td>15</td>\n      <td>04</td>\n      <td>2020</td>\n      <td>Abril</td>\n      <td>Miercoles</td>\n      <td>Cali</td>\n      <td>Valle del Cauca</td>\n      <td>47</td>\n      <td>F</td>\n      <td>En estudio</td>\n      <td>Colombia</td>\n      <td>Hospital</td>\n    </tr>\n    <tr>\n      <th>3</th>\n      <td>3237</td>\n      <td>18/03/2020</td>\n      <td>18</td>\n      <td>03</td>\n      <td>2020</td>\n      <td>Marzo</td>\n      <td>Miercoles</td>\n      <td>Pereira</td>\n      <td>Risaralda</td>\n      <td>78</td>\n      <td>M</td>\n      <td>Importado</td>\n      <td>Estados Unidos</td>\n      <td>Recuperado (Hospital)</td>\n    </tr>\n    <tr>\n      <th>4</th>\n      <td>3238</td>\n      <td>15/04/2020</td>\n      <td>15</td>\n      <td>04</td>\n      <td>2020</td>\n      <td>Abril</td>\n      <td>Miercoles</td>\n      <td>Marsella</td>\n      <td>Risaralda</td>\n      <td>35</td>\n      <td>F</td>\n      <td>Relacionado</td>\n      <td>Colombia</td>\n      <td>Casa</td>\n    </tr>\n  </tbody>\n</table>\n</div>"
     },
     "metadata": {},
     "execution_count": 14
    }
   ],
   "source": [
    "# Sort columns\n",
    "covid_df = covid_df[['id_case', 'date', 'day', 'month', 'year', 'month_name', 'day_name', 'city', 'dept_dist', 'age', 'sex', 'kind', 'country_origin', 'care']]\n",
    "# Show dataframe\n",
    "covid_df.head()"
   ]
  },
  {
   "cell_type": "code",
   "execution_count": 15,
   "metadata": {},
   "outputs": [
    {
     "output_type": "execute_result",
     "data": {
      "text/plain": "    id_case        date day month  year month_name day_name      city  \\\n201    3435  17/04/2020  17    04  2020      Abril  Viernes    Bogota   \n202    3436  17/04/2020  17    04  2020      Abril  Viernes    Bogota   \n203    3437  17/04/2020  17    04  2020      Abril  Viernes  Medellin   \n204    3438  17/04/2020  17    04  2020      Abril  Viernes    Quibdo   \n205    3439  17/04/2020  17    04  2020      Abril  Viernes   Leticia   \n\n       dept_dist age sex        kind country_origin      care  \n201  Bogota D.C.  60   M  En estudio       Colombia  Hospital  \n202  Bogota D.C.  61   M  En estudio       Colombia  Hospital  \n203    Antioquia  25   F  En estudio       Colombia      Casa  \n204        Choco  24   F  En estudio       Colombia      Casa  \n205     Amazonas  26   M  En estudio       Colombia      Casa  ",
      "text/html": "<div>\n<style scoped>\n    .dataframe tbody tr th:only-of-type {\n        vertical-align: middle;\n    }\n\n    .dataframe tbody tr th {\n        vertical-align: top;\n    }\n\n    .dataframe thead th {\n        text-align: right;\n    }\n</style>\n<table border=\"1\" class=\"dataframe\">\n  <thead>\n    <tr style=\"text-align: right;\">\n      <th></th>\n      <th>id_case</th>\n      <th>date</th>\n      <th>day</th>\n      <th>month</th>\n      <th>year</th>\n      <th>month_name</th>\n      <th>day_name</th>\n      <th>city</th>\n      <th>dept_dist</th>\n      <th>age</th>\n      <th>sex</th>\n      <th>kind</th>\n      <th>country_origin</th>\n      <th>care</th>\n    </tr>\n  </thead>\n  <tbody>\n    <tr>\n      <th>201</th>\n      <td>3435</td>\n      <td>17/04/2020</td>\n      <td>17</td>\n      <td>04</td>\n      <td>2020</td>\n      <td>Abril</td>\n      <td>Viernes</td>\n      <td>Bogota</td>\n      <td>Bogota D.C.</td>\n      <td>60</td>\n      <td>M</td>\n      <td>En estudio</td>\n      <td>Colombia</td>\n      <td>Hospital</td>\n    </tr>\n    <tr>\n      <th>202</th>\n      <td>3436</td>\n      <td>17/04/2020</td>\n      <td>17</td>\n      <td>04</td>\n      <td>2020</td>\n      <td>Abril</td>\n      <td>Viernes</td>\n      <td>Bogota</td>\n      <td>Bogota D.C.</td>\n      <td>61</td>\n      <td>M</td>\n      <td>En estudio</td>\n      <td>Colombia</td>\n      <td>Hospital</td>\n    </tr>\n    <tr>\n      <th>203</th>\n      <td>3437</td>\n      <td>17/04/2020</td>\n      <td>17</td>\n      <td>04</td>\n      <td>2020</td>\n      <td>Abril</td>\n      <td>Viernes</td>\n      <td>Medellin</td>\n      <td>Antioquia</td>\n      <td>25</td>\n      <td>F</td>\n      <td>En estudio</td>\n      <td>Colombia</td>\n      <td>Casa</td>\n    </tr>\n    <tr>\n      <th>204</th>\n      <td>3438</td>\n      <td>17/04/2020</td>\n      <td>17</td>\n      <td>04</td>\n      <td>2020</td>\n      <td>Abril</td>\n      <td>Viernes</td>\n      <td>Quibdo</td>\n      <td>Choco</td>\n      <td>24</td>\n      <td>F</td>\n      <td>En estudio</td>\n      <td>Colombia</td>\n      <td>Casa</td>\n    </tr>\n    <tr>\n      <th>205</th>\n      <td>3439</td>\n      <td>17/04/2020</td>\n      <td>17</td>\n      <td>04</td>\n      <td>2020</td>\n      <td>Abril</td>\n      <td>Viernes</td>\n      <td>Leticia</td>\n      <td>Amazonas</td>\n      <td>26</td>\n      <td>M</td>\n      <td>En estudio</td>\n      <td>Colombia</td>\n      <td>Casa</td>\n    </tr>\n  </tbody>\n</table>\n</div>"
     },
     "metadata": {},
     "execution_count": 15
    }
   ],
   "source": [
    "# Setup string title format\n",
    "covid_df['city'] = covid_df['city'].transform(lambda value: value.title())\n",
    "covid_df['dept_dist'] = covid_df['dept_dist'].transform(lambda value: value.title())\n",
    "covid_df['country_origin'] = covid_df['country_origin'].transform(lambda value: value.title())\n",
    "# Show dataframe\n",
    "covid_df.tail()"
   ]
  },
  {
   "cell_type": "markdown",
   "metadata": {},
   "source": [
    "## Merge Local Covid19 Report with Official Covid19 Daily Report"
   ]
  },
  {
   "cell_type": "code",
   "execution_count": 16,
   "metadata": {},
   "outputs": [
    {
     "output_type": "execute_result",
     "data": {
      "text/plain": "(3439, 14)"
     },
     "metadata": {},
     "execution_count": 16
    }
   ],
   "source": [
    "# Merge with the local covid19_df from output\n",
    "# Temporal update id_case\n",
    "#covid19_df['id_case'] = covid19_df['id_case'].transform(lambda value: value + 1) OJO\n",
    "# Check changes\n",
    "#print(covid_df['id_case'].values[0])\n",
    "#print(covid19_df['id_case'].values[-1])\n",
    "if int(covid_df['id_case'].values[0]) > int(covid19_df['id_case'].values[-1]):\n",
    "    covid_df = pd.concat([covid19_df, covid_df])\n",
    "else:\n",
    "    covid_df = covid19_df\n",
    "# Show dataframe\n",
    "covid_df.shape\n",
    "#covid_df.tail()"
   ]
  },
  {
   "cell_type": "code",
   "execution_count": 17,
   "metadata": {},
   "outputs": [
    {
     "output_type": "execute_result",
     "data": {
      "text/plain": "      id_case        date  day  month  year month_name day_name      city  \\\n3434     3435  17/04/2020   17      4  2020      Abril  Viernes    Bogota   \n3435     3436  17/04/2020   17      4  2020      Abril  Viernes    Bogota   \n3436     3437  17/04/2020   17      4  2020      Abril  Viernes  Medellin   \n3437     3438  17/04/2020   17      4  2020      Abril  Viernes    Quibdo   \n3438     3439  17/04/2020   17      4  2020      Abril  Viernes   Leticia   \n\n        dept_dist  age sex        kind country_origin      care  \n3434  Bogota D.C.   60   M  En Estudio       Colombia  Hospital  \n3435  Bogota D.C.   61   M  En Estudio       Colombia  Hospital  \n3436    Antioquia   25   F  En Estudio       Colombia      Casa  \n3437        Choco   24   F  En Estudio       Colombia      Casa  \n3438     Amazonas   26   M  En Estudio       Colombia      Casa  ",
      "text/html": "<div>\n<style scoped>\n    .dataframe tbody tr th:only-of-type {\n        vertical-align: middle;\n    }\n\n    .dataframe tbody tr th {\n        vertical-align: top;\n    }\n\n    .dataframe thead th {\n        text-align: right;\n    }\n</style>\n<table border=\"1\" class=\"dataframe\">\n  <thead>\n    <tr style=\"text-align: right;\">\n      <th></th>\n      <th>id_case</th>\n      <th>date</th>\n      <th>day</th>\n      <th>month</th>\n      <th>year</th>\n      <th>month_name</th>\n      <th>day_name</th>\n      <th>city</th>\n      <th>dept_dist</th>\n      <th>age</th>\n      <th>sex</th>\n      <th>kind</th>\n      <th>country_origin</th>\n      <th>care</th>\n    </tr>\n  </thead>\n  <tbody>\n    <tr>\n      <th>3434</th>\n      <td>3435</td>\n      <td>17/04/2020</td>\n      <td>17</td>\n      <td>4</td>\n      <td>2020</td>\n      <td>Abril</td>\n      <td>Viernes</td>\n      <td>Bogota</td>\n      <td>Bogota D.C.</td>\n      <td>60</td>\n      <td>M</td>\n      <td>En Estudio</td>\n      <td>Colombia</td>\n      <td>Hospital</td>\n    </tr>\n    <tr>\n      <th>3435</th>\n      <td>3436</td>\n      <td>17/04/2020</td>\n      <td>17</td>\n      <td>4</td>\n      <td>2020</td>\n      <td>Abril</td>\n      <td>Viernes</td>\n      <td>Bogota</td>\n      <td>Bogota D.C.</td>\n      <td>61</td>\n      <td>M</td>\n      <td>En Estudio</td>\n      <td>Colombia</td>\n      <td>Hospital</td>\n    </tr>\n    <tr>\n      <th>3436</th>\n      <td>3437</td>\n      <td>17/04/2020</td>\n      <td>17</td>\n      <td>4</td>\n      <td>2020</td>\n      <td>Abril</td>\n      <td>Viernes</td>\n      <td>Medellin</td>\n      <td>Antioquia</td>\n      <td>25</td>\n      <td>F</td>\n      <td>En Estudio</td>\n      <td>Colombia</td>\n      <td>Casa</td>\n    </tr>\n    <tr>\n      <th>3437</th>\n      <td>3438</td>\n      <td>17/04/2020</td>\n      <td>17</td>\n      <td>4</td>\n      <td>2020</td>\n      <td>Abril</td>\n      <td>Viernes</td>\n      <td>Quibdo</td>\n      <td>Choco</td>\n      <td>24</td>\n      <td>F</td>\n      <td>En Estudio</td>\n      <td>Colombia</td>\n      <td>Casa</td>\n    </tr>\n    <tr>\n      <th>3438</th>\n      <td>3439</td>\n      <td>17/04/2020</td>\n      <td>17</td>\n      <td>4</td>\n      <td>2020</td>\n      <td>Abril</td>\n      <td>Viernes</td>\n      <td>Leticia</td>\n      <td>Amazonas</td>\n      <td>26</td>\n      <td>M</td>\n      <td>En Estudio</td>\n      <td>Colombia</td>\n      <td>Casa</td>\n    </tr>\n  </tbody>\n</table>\n</div>"
     },
     "metadata": {},
     "execution_count": 17
    }
   ],
   "source": [
    "# Reset index\n",
    "covid_df.reset_index(inplace=True)\n",
    "covid_df.drop(columns=['index'], inplace=True)\n",
    "# Show dataframe\n",
    "covid_df.tail()"
   ]
  },
  {
   "cell_type": "code",
   "execution_count": 18,
   "metadata": {},
   "outputs": [
    {
     "output_type": "execute_result",
     "data": {
      "text/plain": "      id_case        date  day  month  year month_name day_name      city  \\\n3434     3435  17/04/2020   17      4  2020      Abril  Viernes    Bogota   \n3435     3436  17/04/2020   17      4  2020      Abril  Viernes    Bogota   \n3436     3437  17/04/2020   17      4  2020      Abril  Viernes  Medellin   \n3437     3438  17/04/2020   17      4  2020      Abril  Viernes    Quibdo   \n3438     3439  17/04/2020   17      4  2020      Abril  Viernes   Leticia   \n\n        dept_dist  age sex        kind country_origin      care  \n3434  Bogota D.C.   60   M  En Estudio       Colombia  Hospital  \n3435  Bogota D.C.   61   M  En Estudio       Colombia  Hospital  \n3436    Antioquia   25   F  En Estudio       Colombia      Casa  \n3437        Choco   24   F  En Estudio       Colombia      Casa  \n3438     Amazonas   26   M  En Estudio       Colombia      Casa  ",
      "text/html": "<div>\n<style scoped>\n    .dataframe tbody tr th:only-of-type {\n        vertical-align: middle;\n    }\n\n    .dataframe tbody tr th {\n        vertical-align: top;\n    }\n\n    .dataframe thead th {\n        text-align: right;\n    }\n</style>\n<table border=\"1\" class=\"dataframe\">\n  <thead>\n    <tr style=\"text-align: right;\">\n      <th></th>\n      <th>id_case</th>\n      <th>date</th>\n      <th>day</th>\n      <th>month</th>\n      <th>year</th>\n      <th>month_name</th>\n      <th>day_name</th>\n      <th>city</th>\n      <th>dept_dist</th>\n      <th>age</th>\n      <th>sex</th>\n      <th>kind</th>\n      <th>country_origin</th>\n      <th>care</th>\n    </tr>\n  </thead>\n  <tbody>\n    <tr>\n      <th>3434</th>\n      <td>3435</td>\n      <td>17/04/2020</td>\n      <td>17</td>\n      <td>4</td>\n      <td>2020</td>\n      <td>Abril</td>\n      <td>Viernes</td>\n      <td>Bogota</td>\n      <td>Bogota D.C.</td>\n      <td>60</td>\n      <td>M</td>\n      <td>En Estudio</td>\n      <td>Colombia</td>\n      <td>Hospital</td>\n    </tr>\n    <tr>\n      <th>3435</th>\n      <td>3436</td>\n      <td>17/04/2020</td>\n      <td>17</td>\n      <td>4</td>\n      <td>2020</td>\n      <td>Abril</td>\n      <td>Viernes</td>\n      <td>Bogota</td>\n      <td>Bogota D.C.</td>\n      <td>61</td>\n      <td>M</td>\n      <td>En Estudio</td>\n      <td>Colombia</td>\n      <td>Hospital</td>\n    </tr>\n    <tr>\n      <th>3436</th>\n      <td>3437</td>\n      <td>17/04/2020</td>\n      <td>17</td>\n      <td>4</td>\n      <td>2020</td>\n      <td>Abril</td>\n      <td>Viernes</td>\n      <td>Medellin</td>\n      <td>Antioquia</td>\n      <td>25</td>\n      <td>F</td>\n      <td>En Estudio</td>\n      <td>Colombia</td>\n      <td>Casa</td>\n    </tr>\n    <tr>\n      <th>3437</th>\n      <td>3438</td>\n      <td>17/04/2020</td>\n      <td>17</td>\n      <td>4</td>\n      <td>2020</td>\n      <td>Abril</td>\n      <td>Viernes</td>\n      <td>Quibdo</td>\n      <td>Choco</td>\n      <td>24</td>\n      <td>F</td>\n      <td>En Estudio</td>\n      <td>Colombia</td>\n      <td>Casa</td>\n    </tr>\n    <tr>\n      <th>3438</th>\n      <td>3439</td>\n      <td>17/04/2020</td>\n      <td>17</td>\n      <td>4</td>\n      <td>2020</td>\n      <td>Abril</td>\n      <td>Viernes</td>\n      <td>Leticia</td>\n      <td>Amazonas</td>\n      <td>26</td>\n      <td>M</td>\n      <td>En Estudio</td>\n      <td>Colombia</td>\n      <td>Casa</td>\n    </tr>\n  </tbody>\n</table>\n</div>"
     },
     "metadata": {},
     "execution_count": 18
    }
   ],
   "source": [
    "# Setup string title format\n",
    "covid_df['kind'] = covid_df['kind'].transform(lambda value: value.title())\n",
    "covid_df['care'] = covid_df['care'].transform(lambda value: value.title())\n",
    "# Show dataframe\n",
    "covid_df.tail()"
   ]
  },
  {
   "cell_type": "markdown",
   "metadata": {
    "_cell_guid": "269203fa-ab2b-4401-a59e-967b5f9d6ed5",
    "_uuid": "ae127951-b7c2-48a2-968a-2710fa19c613"
   },
   "source": [
    "## Covid 19 Dataset\n",
    "> ***Output file***: covid19.csv"
   ]
  },
  {
   "cell_type": "code",
   "execution_count": 19,
   "metadata": {
    "_cell_guid": "9183ee8f-bf72-43e1-845a-8451e06a74ff",
    "_uuid": "be5dc64e-736f-4b6c-8230-9006991ef25e"
   },
   "outputs": [],
   "source": [
    "# Save dataframe\n",
    "covid_df.to_csv(os.path.join(OUTPUT_DIR, 'covid19.csv'), index=False)"
   ]
  },
  {
   "cell_type": "markdown",
   "metadata": {
    "_cell_guid": "85ac3a15-a702-40a0-a36e-9eb6569eed6c",
    "_uuid": "70f301df-0172-4216-a483-9afe0befd83f"
   },
   "source": [
    "---"
   ]
  },
  {
   "cell_type": "markdown",
   "metadata": {},
   "source": [
    "## Covid19 Daily Report Dataset Updated"
   ]
  },
  {
   "cell_type": "code",
   "execution_count": 20,
   "metadata": {},
   "outputs": [
    {
     "output_type": "execute_result",
     "data": {
      "text/plain": "   id_case        date  day  month  year month_name   day_name      city  \\\n0        1  06/03/2020    6      3  2020      Marzo    Viernes    Bogota   \n1        2  09/03/2020    9      3  2020      Marzo      Lunes      Buga   \n2        3  09/03/2020    9      3  2020      Marzo      Lunes  Medellin   \n3        4  11/03/2020   11      3  2020      Marzo  Miercoles  Medellin   \n4        5  11/03/2020   11      3  2020      Marzo  Miercoles  Medellin   \n\n         dept_dist  age sex         kind country_origin        care  \n0      Bogota D.C.   19   F    Importado         Italia  Recuperado  \n1  Valle Del Cauca   34   M    Importado         España  Recuperado  \n2        Antioquia   50   F    Importado         España  Recuperado  \n3        Antioquia   55   M  Relacionado       Colombia  Recuperado  \n4        Antioquia   25   M  Relacionado       Colombia  Recuperado  ",
      "text/html": "<div>\n<style scoped>\n    .dataframe tbody tr th:only-of-type {\n        vertical-align: middle;\n    }\n\n    .dataframe tbody tr th {\n        vertical-align: top;\n    }\n\n    .dataframe thead th {\n        text-align: right;\n    }\n</style>\n<table border=\"1\" class=\"dataframe\">\n  <thead>\n    <tr style=\"text-align: right;\">\n      <th></th>\n      <th>id_case</th>\n      <th>date</th>\n      <th>day</th>\n      <th>month</th>\n      <th>year</th>\n      <th>month_name</th>\n      <th>day_name</th>\n      <th>city</th>\n      <th>dept_dist</th>\n      <th>age</th>\n      <th>sex</th>\n      <th>kind</th>\n      <th>country_origin</th>\n      <th>care</th>\n    </tr>\n  </thead>\n  <tbody>\n    <tr>\n      <th>0</th>\n      <td>1</td>\n      <td>06/03/2020</td>\n      <td>6</td>\n      <td>3</td>\n      <td>2020</td>\n      <td>Marzo</td>\n      <td>Viernes</td>\n      <td>Bogota</td>\n      <td>Bogota D.C.</td>\n      <td>19</td>\n      <td>F</td>\n      <td>Importado</td>\n      <td>Italia</td>\n      <td>Recuperado</td>\n    </tr>\n    <tr>\n      <th>1</th>\n      <td>2</td>\n      <td>09/03/2020</td>\n      <td>9</td>\n      <td>3</td>\n      <td>2020</td>\n      <td>Marzo</td>\n      <td>Lunes</td>\n      <td>Buga</td>\n      <td>Valle Del Cauca</td>\n      <td>34</td>\n      <td>M</td>\n      <td>Importado</td>\n      <td>España</td>\n      <td>Recuperado</td>\n    </tr>\n    <tr>\n      <th>2</th>\n      <td>3</td>\n      <td>09/03/2020</td>\n      <td>9</td>\n      <td>3</td>\n      <td>2020</td>\n      <td>Marzo</td>\n      <td>Lunes</td>\n      <td>Medellin</td>\n      <td>Antioquia</td>\n      <td>50</td>\n      <td>F</td>\n      <td>Importado</td>\n      <td>España</td>\n      <td>Recuperado</td>\n    </tr>\n    <tr>\n      <th>3</th>\n      <td>4</td>\n      <td>11/03/2020</td>\n      <td>11</td>\n      <td>3</td>\n      <td>2020</td>\n      <td>Marzo</td>\n      <td>Miercoles</td>\n      <td>Medellin</td>\n      <td>Antioquia</td>\n      <td>55</td>\n      <td>M</td>\n      <td>Relacionado</td>\n      <td>Colombia</td>\n      <td>Recuperado</td>\n    </tr>\n    <tr>\n      <th>4</th>\n      <td>5</td>\n      <td>11/03/2020</td>\n      <td>11</td>\n      <td>3</td>\n      <td>2020</td>\n      <td>Marzo</td>\n      <td>Miercoles</td>\n      <td>Medellin</td>\n      <td>Antioquia</td>\n      <td>25</td>\n      <td>M</td>\n      <td>Relacionado</td>\n      <td>Colombia</td>\n      <td>Recuperado</td>\n    </tr>\n  </tbody>\n</table>\n</div>"
     },
     "metadata": {},
     "execution_count": 20
    }
   ],
   "source": [
    "# Show dataframe\n",
    "covid_df.head()"
   ]
  },
  {
   "cell_type": "code",
   "execution_count": 21,
   "metadata": {},
   "outputs": [
    {
     "output_type": "execute_result",
     "data": {
      "text/plain": "      id_case        date  day  month  year month_name day_name      city  \\\n3434     3435  17/04/2020   17      4  2020      Abril  Viernes    Bogota   \n3435     3436  17/04/2020   17      4  2020      Abril  Viernes    Bogota   \n3436     3437  17/04/2020   17      4  2020      Abril  Viernes  Medellin   \n3437     3438  17/04/2020   17      4  2020      Abril  Viernes    Quibdo   \n3438     3439  17/04/2020   17      4  2020      Abril  Viernes   Leticia   \n\n        dept_dist  age sex        kind country_origin      care  \n3434  Bogota D.C.   60   M  En Estudio       Colombia  Hospital  \n3435  Bogota D.C.   61   M  En Estudio       Colombia  Hospital  \n3436    Antioquia   25   F  En Estudio       Colombia      Casa  \n3437        Choco   24   F  En Estudio       Colombia      Casa  \n3438     Amazonas   26   M  En Estudio       Colombia      Casa  ",
      "text/html": "<div>\n<style scoped>\n    .dataframe tbody tr th:only-of-type {\n        vertical-align: middle;\n    }\n\n    .dataframe tbody tr th {\n        vertical-align: top;\n    }\n\n    .dataframe thead th {\n        text-align: right;\n    }\n</style>\n<table border=\"1\" class=\"dataframe\">\n  <thead>\n    <tr style=\"text-align: right;\">\n      <th></th>\n      <th>id_case</th>\n      <th>date</th>\n      <th>day</th>\n      <th>month</th>\n      <th>year</th>\n      <th>month_name</th>\n      <th>day_name</th>\n      <th>city</th>\n      <th>dept_dist</th>\n      <th>age</th>\n      <th>sex</th>\n      <th>kind</th>\n      <th>country_origin</th>\n      <th>care</th>\n    </tr>\n  </thead>\n  <tbody>\n    <tr>\n      <th>3434</th>\n      <td>3435</td>\n      <td>17/04/2020</td>\n      <td>17</td>\n      <td>4</td>\n      <td>2020</td>\n      <td>Abril</td>\n      <td>Viernes</td>\n      <td>Bogota</td>\n      <td>Bogota D.C.</td>\n      <td>60</td>\n      <td>M</td>\n      <td>En Estudio</td>\n      <td>Colombia</td>\n      <td>Hospital</td>\n    </tr>\n    <tr>\n      <th>3435</th>\n      <td>3436</td>\n      <td>17/04/2020</td>\n      <td>17</td>\n      <td>4</td>\n      <td>2020</td>\n      <td>Abril</td>\n      <td>Viernes</td>\n      <td>Bogota</td>\n      <td>Bogota D.C.</td>\n      <td>61</td>\n      <td>M</td>\n      <td>En Estudio</td>\n      <td>Colombia</td>\n      <td>Hospital</td>\n    </tr>\n    <tr>\n      <th>3436</th>\n      <td>3437</td>\n      <td>17/04/2020</td>\n      <td>17</td>\n      <td>4</td>\n      <td>2020</td>\n      <td>Abril</td>\n      <td>Viernes</td>\n      <td>Medellin</td>\n      <td>Antioquia</td>\n      <td>25</td>\n      <td>F</td>\n      <td>En Estudio</td>\n      <td>Colombia</td>\n      <td>Casa</td>\n    </tr>\n    <tr>\n      <th>3437</th>\n      <td>3438</td>\n      <td>17/04/2020</td>\n      <td>17</td>\n      <td>4</td>\n      <td>2020</td>\n      <td>Abril</td>\n      <td>Viernes</td>\n      <td>Quibdo</td>\n      <td>Choco</td>\n      <td>24</td>\n      <td>F</td>\n      <td>En Estudio</td>\n      <td>Colombia</td>\n      <td>Casa</td>\n    </tr>\n    <tr>\n      <th>3438</th>\n      <td>3439</td>\n      <td>17/04/2020</td>\n      <td>17</td>\n      <td>4</td>\n      <td>2020</td>\n      <td>Abril</td>\n      <td>Viernes</td>\n      <td>Leticia</td>\n      <td>Amazonas</td>\n      <td>26</td>\n      <td>M</td>\n      <td>En Estudio</td>\n      <td>Colombia</td>\n      <td>Casa</td>\n    </tr>\n  </tbody>\n</table>\n</div>"
     },
     "metadata": {},
     "execution_count": 21
    }
   ],
   "source": [
    "# Show dataframe\n",
    "covid_df.tail()"
   ]
  },
  {
   "cell_type": "markdown",
   "metadata": {},
   "source": [
    "---"
   ]
  },
  {
   "cell_type": "markdown",
   "metadata": {},
   "source": [
    "## Samples Processed"
   ]
  },
  {
   "cell_type": "code",
   "execution_count": 22,
   "metadata": {},
   "outputs": [],
   "source": [
    "# Samples Processed\n",
    "# Reading the json as a dict\n",
    "with requests.get('https://infogram.com/api/live/flex/4524241a-91a7-4bbd-a58e-63c12fb2952f/4dc066f9-6be5-4791-aefb-96fe4c523dfd?') as original_dataset:\n",
    "    data = original_dataset.json()\n",
    "#print(data['data'][0][0][0])\n",
    "\n",
    "# Get attributes and data\n",
    "attrs = data['data'][0][0][0]\n",
    "del data\n",
    "#print(attrs)\n",
    "samples_processed = attrs.split('<b>')[1].split('</b>')[0].replace('.', '')\n",
    "#print('Samples Processed:', samples_processed)"
   ]
  },
  {
   "cell_type": "markdown",
   "metadata": {},
   "source": [
    "## Samples Descarted"
   ]
  },
  {
   "cell_type": "code",
   "execution_count": 23,
   "metadata": {},
   "outputs": [],
   "source": [
    "# Descarted Cases\n",
    "# Reading the json as a dict\n",
    "with requests.get('https://infogram.com/api/live/flex/4524241a-91a7-4bbd-a58e-63c12fb2952f/4dc066f9-6be5-4791-aefb-96fe4c523dfd?') as original_dataset:\n",
    "    data = original_dataset.json()\n",
    "#print(data['data'][0][1][0])\n",
    "\n",
    "# Get attributes and data\n",
    "attrs = data['data'][0][1][0]\n",
    "del data\n",
    "#print(attrs)\n",
    "samples_descarted = attrs.split('<b>')[1].split('</b>')[0].replace('.', '')\n",
    "#print('Samples Descarted:', samples_descarted)"
   ]
  },
  {
   "cell_type": "markdown",
   "metadata": {},
   "source": [
    "---"
   ]
  },
  {
   "cell_type": "markdown",
   "metadata": {},
   "source": [
    "## Time Line Samples Processed"
   ]
  },
  {
   "cell_type": "code",
   "execution_count": 24,
   "metadata": {},
   "outputs": [
    {
     "output_type": "execute_result",
     "data": {
      "text/plain": "             Periodo Muestras procesadas Acumulado procesadas\n2  09/03/20-15/03/20                1584                 2343\n3  16/03/20-22/03/20                4818                 7161\n4  23/03/20-29/03/20                8903                16064\n5  30/03/20-05/04/20               11621                27685\n6  06/04/20-12/04/20               15302                42987",
      "text/html": "<div>\n<style scoped>\n    .dataframe tbody tr th:only-of-type {\n        vertical-align: middle;\n    }\n\n    .dataframe tbody tr th {\n        vertical-align: top;\n    }\n\n    .dataframe thead th {\n        text-align: right;\n    }\n</style>\n<table border=\"1\" class=\"dataframe\">\n  <thead>\n    <tr style=\"text-align: right;\">\n      <th></th>\n      <th>Periodo</th>\n      <th>Muestras procesadas</th>\n      <th>Acumulado procesadas</th>\n    </tr>\n  </thead>\n  <tbody>\n    <tr>\n      <th>2</th>\n      <td>09/03/20-15/03/20</td>\n      <td>1584</td>\n      <td>2343</td>\n    </tr>\n    <tr>\n      <th>3</th>\n      <td>16/03/20-22/03/20</td>\n      <td>4818</td>\n      <td>7161</td>\n    </tr>\n    <tr>\n      <th>4</th>\n      <td>23/03/20-29/03/20</td>\n      <td>8903</td>\n      <td>16064</td>\n    </tr>\n    <tr>\n      <th>5</th>\n      <td>30/03/20-05/04/20</td>\n      <td>11621</td>\n      <td>27685</td>\n    </tr>\n    <tr>\n      <th>6</th>\n      <td>06/04/20-12/04/20</td>\n      <td>15302</td>\n      <td>42987</td>\n    </tr>\n  </tbody>\n</table>\n</div>"
     },
     "metadata": {},
     "execution_count": 24
    }
   ],
   "source": [
    "# Time Line Samples Processed\n",
    "# Reading the json as a dict\n",
    "with requests.get('https://infogram.com/api/live/flex/4524241a-91a7-4bbd-a58e-63c12fb2952f/0a859405-7279-44a1-80d9-ff127bdf4489?') as original_dataset:\n",
    "    data = original_dataset.json()\n",
    "#print(data['data'])\n",
    "#print(data['data'][0])\n",
    "\n",
    "# Get attributes and data\n",
    "attrs = data['data'][0][0]\n",
    "attrs[0] = 'Periodo'\n",
    "del data['data'][0][0]\n",
    "#print(attrs)\n",
    "data = data['data'][0]\n",
    "#print(data)\n",
    "\n",
    "# Build dataframe\n",
    "covid_df_samples_processed = pd.DataFrame(data=data, columns=attrs)\n",
    "\n",
    "# Size dataframe\n",
    "covid_df_samples_processed.tail()"
   ]
  },
  {
   "cell_type": "code",
   "execution_count": 25,
   "metadata": {},
   "outputs": [
    {
     "output_type": "execute_result",
     "data": {
      "text/plain": "              period total_samples accum_samples\n2  09/03/20-15/03/20          1584          2343\n3  16/03/20-22/03/20          4818          7161\n4  23/03/20-29/03/20          8903         16064\n5  30/03/20-05/04/20         11621         27685\n6  06/04/20-12/04/20         15302         42987",
      "text/html": "<div>\n<style scoped>\n    .dataframe tbody tr th:only-of-type {\n        vertical-align: middle;\n    }\n\n    .dataframe tbody tr th {\n        vertical-align: top;\n    }\n\n    .dataframe thead th {\n        text-align: right;\n    }\n</style>\n<table border=\"1\" class=\"dataframe\">\n  <thead>\n    <tr style=\"text-align: right;\">\n      <th></th>\n      <th>period</th>\n      <th>total_samples</th>\n      <th>accum_samples</th>\n    </tr>\n  </thead>\n  <tbody>\n    <tr>\n      <th>2</th>\n      <td>09/03/20-15/03/20</td>\n      <td>1584</td>\n      <td>2343</td>\n    </tr>\n    <tr>\n      <th>3</th>\n      <td>16/03/20-22/03/20</td>\n      <td>4818</td>\n      <td>7161</td>\n    </tr>\n    <tr>\n      <th>4</th>\n      <td>23/03/20-29/03/20</td>\n      <td>8903</td>\n      <td>16064</td>\n    </tr>\n    <tr>\n      <th>5</th>\n      <td>30/03/20-05/04/20</td>\n      <td>11621</td>\n      <td>27685</td>\n    </tr>\n    <tr>\n      <th>6</th>\n      <td>06/04/20-12/04/20</td>\n      <td>15302</td>\n      <td>42987</td>\n    </tr>\n  </tbody>\n</table>\n</div>"
     },
     "metadata": {},
     "execution_count": 25
    }
   ],
   "source": [
    "# Rename columns\n",
    "covid_df_samples_processed.rename(columns={\n",
    "    \"Periodo\": \"period\",\n",
    "    \"Muestras procesadas\": \"total_samples\",\n",
    "    \"Acumulado procesadas\": \"accum_samples\"}, inplace=True)\n",
    "# Show dataframe\n",
    "covid_df_samples_processed.tail()"
   ]
  },
  {
   "cell_type": "code",
   "execution_count": 26,
   "metadata": {},
   "outputs": [
    {
     "output_type": "execute_result",
     "data": {
      "text/plain": "                  period total_samples accum_samples\n2  09/03/2020-15/03/2020          1584          2343\n3  16/03/2020-22/03/2020          4818          7161\n4  23/03/2020-29/03/2020          8903         16064\n5  30/03/2020-05/04/2020         11621         27685\n6  06/04/2020-12/04/2020         15302         42987",
      "text/html": "<div>\n<style scoped>\n    .dataframe tbody tr th:only-of-type {\n        vertical-align: middle;\n    }\n\n    .dataframe tbody tr th {\n        vertical-align: top;\n    }\n\n    .dataframe thead th {\n        text-align: right;\n    }\n</style>\n<table border=\"1\" class=\"dataframe\">\n  <thead>\n    <tr style=\"text-align: right;\">\n      <th></th>\n      <th>period</th>\n      <th>total_samples</th>\n      <th>accum_samples</th>\n    </tr>\n  </thead>\n  <tbody>\n    <tr>\n      <th>2</th>\n      <td>09/03/2020-15/03/2020</td>\n      <td>1584</td>\n      <td>2343</td>\n    </tr>\n    <tr>\n      <th>3</th>\n      <td>16/03/2020-22/03/2020</td>\n      <td>4818</td>\n      <td>7161</td>\n    </tr>\n    <tr>\n      <th>4</th>\n      <td>23/03/2020-29/03/2020</td>\n      <td>8903</td>\n      <td>16064</td>\n    </tr>\n    <tr>\n      <th>5</th>\n      <td>30/03/2020-05/04/2020</td>\n      <td>11621</td>\n      <td>27685</td>\n    </tr>\n    <tr>\n      <th>6</th>\n      <td>06/04/2020-12/04/2020</td>\n      <td>15302</td>\n      <td>42987</td>\n    </tr>\n  </tbody>\n</table>\n</div>"
     },
     "metadata": {},
     "execution_count": 26
    }
   ],
   "source": [
    "# Update date format\n",
    "def update_date_format(period):\n",
    "    date1 = period.split('-')[0]\n",
    "    date2 = period.split('-')[1]\n",
    "    if date1.split('/')[-1] == '20':\n",
    "        date1 = '/'.join(date1.split('/')[0:-1]) + '/2020'\n",
    "    if date2.split('/')[-1] == '20':\n",
    "        date2 = '/'.join(date2.split('/')[0:-1]) + '/2020'\n",
    "    return date1 + '-' + date2\n",
    "# Example\n",
    "#update_date_format('02/03/20-08/03/20')\n",
    "# Update date format\n",
    "covid_df_samples_processed['period'] = covid_df_samples_processed['period'].transform(lambda value: update_date_format(value))\n",
    "# Show dataframe\n",
    "covid_df_samples_processed.tail()"
   ]
  },
  {
   "cell_type": "markdown",
   "metadata": {},
   "source": [
    "## Time Line Samples Processed\n",
    "> ***Output file***: covid19_samples_processed.csv"
   ]
  },
  {
   "cell_type": "code",
   "execution_count": 27,
   "metadata": {},
   "outputs": [],
   "source": [
    "# Save dataframe\n",
    "covid_df_samples_processed.to_csv(os.path.join(OUTPUT_DIR, 'covid19_samples_processed.csv'), index=False)"
   ]
  },
  {
   "cell_type": "markdown",
   "metadata": {},
   "source": [
    "---"
   ]
  },
  {
   "cell_type": "markdown",
   "metadata": {},
   "source": [
    "## Time Line by Care"
   ]
  },
  {
   "cell_type": "code",
   "execution_count": 28,
   "metadata": {},
   "outputs": [
    {
     "output_type": "execute_result",
     "data": {
      "text/plain": "['Recuperado (Hospital)',\n 'Hospital Uci',\n 'Recuperado',\n 'Fallecido',\n 'Casa',\n 'Hospital']"
     },
     "metadata": {},
     "execution_count": 28
    }
   ],
   "source": [
    "# Care Classes\n",
    "list(set(covid_df['care'].values))"
   ]
  },
  {
   "cell_type": "code",
   "execution_count": 29,
   "metadata": {},
   "outputs": [
    {
     "output_type": "execute_result",
     "data": {
      "text/plain": "          date  cases  accum_cases  recovered  accum_recovered  deaths  \\\n43  13/04/2020     76         2856          0              549       1   \n44  14/04/2020    129         2985          0              549       0   \n45  15/04/2020    149         3134          0              549       1   \n46  16/04/2020    200         3334          2              551       3   \n47  17/04/2020    105         3439          0              551       0   \n\n    accum_deaths  \n43           141  \n44           141  \n45           142  \n46           145  \n47           145  ",
      "text/html": "<div>\n<style scoped>\n    .dataframe tbody tr th:only-of-type {\n        vertical-align: middle;\n    }\n\n    .dataframe tbody tr th {\n        vertical-align: top;\n    }\n\n    .dataframe thead th {\n        text-align: right;\n    }\n</style>\n<table border=\"1\" class=\"dataframe\">\n  <thead>\n    <tr style=\"text-align: right;\">\n      <th></th>\n      <th>date</th>\n      <th>cases</th>\n      <th>accum_cases</th>\n      <th>recovered</th>\n      <th>accum_recovered</th>\n      <th>deaths</th>\n      <th>accum_deaths</th>\n    </tr>\n  </thead>\n  <tbody>\n    <tr>\n      <th>43</th>\n      <td>13/04/2020</td>\n      <td>76</td>\n      <td>2856</td>\n      <td>0</td>\n      <td>549</td>\n      <td>1</td>\n      <td>141</td>\n    </tr>\n    <tr>\n      <th>44</th>\n      <td>14/04/2020</td>\n      <td>129</td>\n      <td>2985</td>\n      <td>0</td>\n      <td>549</td>\n      <td>0</td>\n      <td>141</td>\n    </tr>\n    <tr>\n      <th>45</th>\n      <td>15/04/2020</td>\n      <td>149</td>\n      <td>3134</td>\n      <td>0</td>\n      <td>549</td>\n      <td>1</td>\n      <td>142</td>\n    </tr>\n    <tr>\n      <th>46</th>\n      <td>16/04/2020</td>\n      <td>200</td>\n      <td>3334</td>\n      <td>2</td>\n      <td>551</td>\n      <td>3</td>\n      <td>145</td>\n    </tr>\n    <tr>\n      <th>47</th>\n      <td>17/04/2020</td>\n      <td>105</td>\n      <td>3439</td>\n      <td>0</td>\n      <td>551</td>\n      <td>0</td>\n      <td>145</td>\n    </tr>\n  </tbody>\n</table>\n</div>"
     },
     "metadata": {},
     "execution_count": 29
    }
   ],
   "source": [
    "# Get time line by care [cases, recovered, deaths]\n",
    "def get_time_line_by_care(care):\n",
    "    # covid_df_report\n",
    "    covid_df_report = pd.DataFrame()\n",
    "    # Check care\n",
    "    if care == '*':\n",
    "        covid_df_report = covid_df.groupby('date')['date'].count()\n",
    "    elif care == 'Recuperado':\n",
    "        covid_df_report = covid_df[(covid_df['care'] == 'Recuperado') | (covid_df['care'] == 'Recuperado (Hospital)')].groupby('date')['date'].count()\n",
    "    else:\n",
    "        covid_df_report = covid_df[covid_df['care'] == care].groupby('date')['date'].count()\n",
    "    # ---\n",
    "    # Create dateset\n",
    "    covid_df_report = pd.DataFrame(data={'date': covid_df_report.index, 'total': covid_df_report.values}, columns=['date', 'total'])\n",
    "    covid_df_report['date_iso'] = pd.to_datetime(covid_df_report['date'], format='%d/%m/%Y')\n",
    "    covid_df_report = covid_df_report.sort_values(by=['date_iso'], ascending=True)\n",
    "    covid_df_report['accum'] = covid_df_report['total'].cumsum()\n",
    "    covid_df_report = covid_df_report.drop(columns=['date_iso'])\n",
    "    covid_df_report.reset_index(inplace=True, drop=True)\n",
    "    # Return\n",
    "    return covid_df_report\n",
    "\n",
    "# Time line by cases\n",
    "covid_df_cases = get_time_line_by_care('*')\n",
    "#print('covid_df_cases', '\\n', covid_df_cases)\n",
    "\n",
    "# Time line by recovered\n",
    "covid_df_recovered = get_time_line_by_care('Recuperado')\n",
    "#print('covid_df_recovered', '\\n', covid_df_recovered.head())\n",
    "\n",
    "# Time line by deaths\n",
    "covid_df_deaths = get_time_line_by_care('Fallecido')\n",
    "#print('covid_df_deaths', '\\n', covid_df_deaths.head())\n",
    "\n",
    "# Get total\n",
    "def get_total(df_target, value):\n",
    "    num = [i for i in range(len(df_target['date'].values)) if df_target['date'].values[i] == value]\n",
    "    if num:\n",
    "        return df_target['total'].values[num[0]]\n",
    "    return 0\n",
    "\n",
    "# Get accumulator\n",
    "def get_accum(df_target, value):\n",
    "    num = [i for i in range(len(df_target['date'].values)) if df_target['date'].values[i] == value]\n",
    "    if num:\n",
    "        return df_target['accum'].values[num[0]]\n",
    "    return np.nan\n",
    "\n",
    "# Time line by care [cases, recovered, deaths]\n",
    "covid_19_time_line_by_care = pd.DataFrame(columns=['date', 'cases', 'accum_cases', 'recovered', 'accum_recovered', 'deaths', 'accum_deaths'])\n",
    "covid_19_time_line_by_care['date'] = [dti.strftime('%d/%m/%Y') for dti in pd.date_range(start='2020-03-01', end=date.today().isoformat(), freq='D')]\n",
    "\n",
    "# Cases\n",
    "covid_19_time_line_by_care['cases'] = covid_19_time_line_by_care['date'].transform(lambda value: get_total(covid_df_cases, value))\n",
    "covid_19_time_line_by_care['accum_cases'] = covid_19_time_line_by_care['date'].transform(lambda value: get_accum(covid_df_cases, value))\n",
    "# Recovered\n",
    "covid_19_time_line_by_care['recovered'] = covid_19_time_line_by_care['date'].transform(lambda value: get_total(covid_df_recovered, value))\n",
    "covid_19_time_line_by_care['accum_recovered'] = covid_19_time_line_by_care['date'].transform(lambda value: get_accum(covid_df_recovered, value))\n",
    "# Deaths\n",
    "covid_19_time_line_by_care['deaths'] = covid_19_time_line_by_care['date'].transform(lambda value: get_total(covid_df_deaths, value))\n",
    "covid_19_time_line_by_care['accum_deaths'] = covid_19_time_line_by_care['date'].transform(lambda value: get_accum(covid_df_deaths, value))\n",
    "\n",
    "# Fill NaN values\n",
    "covid_19_time_line_by_care.fillna(method='ffill', inplace=True)\n",
    "covid_19_time_line_by_care.fillna(0, inplace=True)\n",
    "#print(covid_19_time_line_by_care.dtypes)\n",
    "covid_19_time_line_by_care = covid_19_time_line_by_care.astype({'accum_cases': 'int64', 'accum_recovered': 'int64', 'accum_deaths': 'int64'})\n",
    "\n",
    "# Remove last day until update it\n",
    "if covid_df.values[-1][1] != covid_19_time_line_by_care.values[-1][0]:\n",
    "    covid_19_time_line_by_care.drop([covid_19_time_line_by_care.index[-1]], inplace=True)\n",
    "\n",
    "# Show dataframe\n",
    "covid_19_time_line_by_care.tail()"
   ]
  },
  {
   "cell_type": "markdown",
   "metadata": {},
   "source": [
    "## Time Line by Care\n",
    "> ***Output file***: covid19_time_line.csv"
   ]
  },
  {
   "cell_type": "code",
   "execution_count": 30,
   "metadata": {},
   "outputs": [],
   "source": [
    "# Save dataframe\n",
    "covid_19_time_line_by_care.to_csv(os.path.join(OUTPUT_DIR, 'covid19_time_line.csv'), index=False)"
   ]
  },
  {
   "cell_type": "markdown",
   "metadata": {},
   "source": [
    "---"
   ]
  },
  {
   "cell_type": "code",
   "execution_count": 31,
   "metadata": {},
   "outputs": [
    {
     "output_type": "execute_result",
     "data": {
      "text/plain": "['Recuperado (Hospital)',\n 'Hospital Uci',\n 'Recuperado',\n 'Fallecido',\n 'Casa',\n 'Hospital']"
     },
     "metadata": {},
     "execution_count": 31
    }
   ],
   "source": [
    "# Care Classes\n",
    "list(set(covid_df['care'].values))"
   ]
  },
  {
   "cell_type": "markdown",
   "metadata": {},
   "source": [
    "## Time Line by Care by City"
   ]
  },
  {
   "cell_type": "code",
   "execution_count": 32,
   "metadata": {},
   "outputs": [],
   "source": [
    "# Time Line by Care by City\n",
    "cities = []\n",
    "cities = list(set(covid_df['city'].values))\n",
    "\n",
    "# Get report by care and city [cases, recovered, deaths]\n",
    "def get_report_by_care_city(care, city):\n",
    "    # covid_df_report\n",
    "    covid_df_report = pd.DataFrame()\n",
    "    # Check care\n",
    "    if care == '*':\n",
    "        covid_df_report = covid_df[covid_df['city'] == city].groupby('date')['date'].count()\n",
    "    elif care == 'Recuperado':\n",
    "        covid_df_report = covid_df[((covid_df['care'] == 'Recuperado') | (covid_df['care'] == 'Recuperado (Hospital)')) & (covid_df['city'] == city)].groupby('date')['date'].count()\n",
    "    else:\n",
    "        covid_df_report = covid_df[(covid_df['care'] == care) & (covid_df['city'] == city)].groupby('date')['date'].count()\n",
    "    # Create dateset\n",
    "    covid_df_report = pd.DataFrame(data={'date': covid_df_report.index, 'total': covid_df_report.values}, columns=['date', 'total'])\n",
    "    covid_df_report['date_iso'] = pd.to_datetime(covid_df_report['date'], format='%d/%m/%Y')\n",
    "    covid_df_report = covid_df_report.sort_values(by=['date_iso'], ascending=True)\n",
    "    covid_df_report['accum'] = covid_df_report['total'].cumsum()\n",
    "    covid_df_report = covid_df_report.drop(columns=['date_iso'])\n",
    "    covid_df_report.reset_index(inplace=True, drop=True)\n",
    "    # Return\n",
    "    return covid_df_report\n",
    "\n",
    "# Get time line by care and city\n",
    "def get_time_line_by_care_city(city):\n",
    "    # Time line by cases and city\n",
    "    covid_df_cases = get_report_by_care_city('*', city)\n",
    "    # Time line by recovered and city\n",
    "    covid_df_recovered = get_report_by_care_city('Recuperado', city)\n",
    "    # Time line by deaths and city\n",
    "    covid_df_deaths = get_report_by_care_city('Fallecido', city)\n",
    "\n",
    "    # Time line by care and city [cases, recovered, deaths]\n",
    "    covid_19_time_line_by_care_city = pd.DataFrame(columns=['date', 'cases', 'accum_cases', 'recovered', 'accum_recovered', 'deaths', 'accum_deaths'])\n",
    "    covid_19_time_line_by_care_city['date'] = [dti.strftime('%d/%m/%Y') for dti in pd.date_range(start='2020-03-01', end=date.today().isoformat(), freq='D')]\n",
    "\n",
    "    # Cases\n",
    "    covid_19_time_line_by_care_city['cases'] = covid_19_time_line_by_care_city['date'].transform(lambda value: get_total(covid_df_cases, value))\n",
    "    covid_19_time_line_by_care_city['accum_cases'] = covid_19_time_line_by_care_city['date'].transform(lambda value: get_accum(covid_df_cases, value))\n",
    "\n",
    "    # Recovered\n",
    "    covid_19_time_line_by_care_city['recovered'] = covid_19_time_line_by_care_city['date'].transform(lambda value: get_total(covid_df_recovered, value))\n",
    "    covid_19_time_line_by_care_city['accum_recovered'] = covid_19_time_line_by_care_city['date'].transform(lambda value: get_accum(covid_df_recovered, value))\n",
    "\n",
    "    # Deaths\n",
    "    covid_19_time_line_by_care_city['deaths'] = covid_19_time_line_by_care_city['date'].transform(lambda value: get_total(covid_df_deaths, value))\n",
    "    covid_19_time_line_by_care_city['accum_deaths'] = covid_19_time_line_by_care_city['date'].transform(lambda value: get_accum(covid_df_deaths, value))\n",
    "\n",
    "    # Fill NaN values\n",
    "    covid_19_time_line_by_care_city.fillna(method='ffill', inplace=True)\n",
    "    covid_19_time_line_by_care_city.fillna(0, inplace=True)\n",
    "    #print(covid_19_time_line_by_care_city.dtypes)\n",
    "    covid_19_time_line_by_care_city = covid_19_time_line_by_care_city.astype({'accum_cases': 'int64', 'accum_recovered': 'int64', 'accum_deaths': 'int64'})\n",
    "\n",
    "    # Remove last day until update it\n",
    "    if covid_df.values[-1][1] != covid_19_time_line_by_care_city.values[-1][0]:\n",
    "        covid_19_time_line_by_care_city.drop([covid_19_time_line_by_care_city.index[-1]], inplace=True)\n",
    "\n",
    "    # Return dataframe\n",
    "    return covid_19_time_line_by_care_city\n",
    "\n",
    "\n",
    "# By city\n",
    "covid_19_time_line_by_care_city = {}\n",
    "for city in cities:\n",
    "    #print('city', city)\n",
    "    # Get time line by care and city\n",
    "    covid_19_time_line_by_care_city[city] = get_time_line_by_care_city(city)\n",
    ""
   ]
  },
  {
   "cell_type": "markdown",
   "metadata": {},
   "source": [
    "## Time Line by Care and City\n",
    "> ***Output file***: covid19_time_line_city.csv"
   ]
  },
  {
   "cell_type": "code",
   "execution_count": 33,
   "metadata": {},
   "outputs": [],
   "source": [
    "# Save dataframe\n",
    "for city in covid_19_time_line_by_care_city:\n",
    "    #print('city:', city)\n",
    "    # Save dataframe\n",
    "    covid_19_time_line_by_care_city[city].to_csv(os.path.join(OUTPUT_DIR, 'covid19_time_line_city_' + city + '.csv'), index=False)"
   ]
  },
  {
   "cell_type": "markdown",
   "metadata": {},
   "source": [
    "---"
   ]
  },
  {
   "cell_type": "code",
   "execution_count": 34,
   "metadata": {},
   "outputs": [
    {
     "output_type": "execute_result",
     "data": {
      "text/plain": "['Recuperado (Hospital)',\n 'Hospital Uci',\n 'Recuperado',\n 'Fallecido',\n 'Casa',\n 'Hospital']"
     },
     "metadata": {},
     "execution_count": 34
    }
   ],
   "source": [
    "# Care Classes\n",
    "list(set(covid_df['care'].values))"
   ]
  },
  {
   "cell_type": "markdown",
   "metadata": {},
   "source": [
    "## Time Line by Care by Department or District"
   ]
  },
  {
   "cell_type": "code",
   "execution_count": 35,
   "metadata": {},
   "outputs": [],
   "source": [
    "# Time Line by Care by Department or District\n",
    "depts_dists = []\n",
    "depts_dists = list(set(covid_df['dept_dist'].values))\n",
    "\n",
    "# Get report by care and dept_dist [cases, recovered, deaths]\n",
    "def get_report_by_care_dept_dist(care, dept_dist):\n",
    "    # covid_df_report\n",
    "    covid_df_report = pd.DataFrame()\n",
    "    # Check care\n",
    "    if care == '*':\n",
    "        covid_df_report = covid_df[covid_df['dept_dist'] == dept_dist].groupby('date')['date'].count()\n",
    "    elif care == 'Recuperado':\n",
    "        covid_df_report = covid_df[((covid_df['care'] == 'Recuperado') | (covid_df['care'] == 'Recuperado (Hospital)')) & (covid_df['dept_dist'] == dept_dist)].groupby('date')['date'].count()\n",
    "    else:\n",
    "        covid_df_report = covid_df[(covid_df['care'] == care) & (covid_df['dept_dist'] == dept_dist)].groupby('date')['date'].count()\n",
    "    # Create dateset\n",
    "    covid_df_report = pd.DataFrame(data={'date': covid_df_report.index, 'total': covid_df_report.values}, columns=['date', 'total'])\n",
    "    covid_df_report['date_iso'] = pd.to_datetime(covid_df_report['date'], format='%d/%m/%Y')\n",
    "    covid_df_report = covid_df_report.sort_values(by=['date_iso'], ascending=True)\n",
    "    covid_df_report['accum'] = covid_df_report['total'].cumsum()\n",
    "    covid_df_report = covid_df_report.drop(columns=['date_iso'])\n",
    "    covid_df_report.reset_index(inplace=True, drop=True)\n",
    "    # Return\n",
    "    return covid_df_report\n",
    "\n",
    "# Get time line by care and dept_dist\n",
    "def get_time_line_by_care_dept_dist(dept_dist):\n",
    "    # Time line by cases and dept_dist\n",
    "    covid_df_cases = get_report_by_care_dept_dist('*', dept_dist)\n",
    "    # Time line by recovered and dept_dist\n",
    "    covid_df_recovered = get_report_by_care_dept_dist('Recuperado', dept_dist)\n",
    "    # Time line by deaths and dept_dist\n",
    "    covid_df_deaths = get_report_by_care_dept_dist('Fallecido', dept_dist)\n",
    "\n",
    "    # Time line by care and dept_dist [cases, recovered, deaths]\n",
    "    covid_19_time_line_by_care_dept_dist = pd.DataFrame(columns=['date', 'cases', 'accum_cases', 'recovered', 'accum_recovered', 'deaths', 'accum_deaths'])\n",
    "    covid_19_time_line_by_care_dept_dist['date'] = [dti.strftime('%d/%m/%Y') for dti in pd.date_range(start='2020-03-01', end=date.today().isoformat(), freq='D')]\n",
    "\n",
    "    # Cases\n",
    "    covid_19_time_line_by_care_dept_dist['cases'] = covid_19_time_line_by_care_dept_dist['date'].transform(lambda value: get_total(covid_df_cases, value))\n",
    "    covid_19_time_line_by_care_dept_dist['accum_cases'] = covid_19_time_line_by_care_dept_dist['date'].transform(lambda value: get_accum(covid_df_cases, value))\n",
    "\n",
    "    # Recovered\n",
    "    covid_19_time_line_by_care_dept_dist['recovered'] = covid_19_time_line_by_care_dept_dist['date'].transform(lambda value: get_total(covid_df_recovered, value))\n",
    "    covid_19_time_line_by_care_dept_dist['accum_recovered'] = covid_19_time_line_by_care_dept_dist['date'].transform(lambda value: get_accum(covid_df_recovered, value))\n",
    "\n",
    "    # Deaths\n",
    "    covid_19_time_line_by_care_dept_dist['deaths'] = covid_19_time_line_by_care_dept_dist['date'].transform(lambda value: get_total(covid_df_deaths, value))\n",
    "    covid_19_time_line_by_care_dept_dist['accum_deaths'] = covid_19_time_line_by_care_dept_dist['date'].transform(lambda value: get_accum(covid_df_deaths, value))\n",
    "\n",
    "    # Fill NaN values\n",
    "    covid_19_time_line_by_care_dept_dist.fillna(method='ffill', inplace=True)\n",
    "    covid_19_time_line_by_care_dept_dist.fillna(0, inplace=True)\n",
    "    #print(covid_19_time_line_by_care_dept_dist.dtypes)\n",
    "    covid_19_time_line_by_care_dept_dist = covid_19_time_line_by_care_dept_dist.astype({'accum_cases': 'int64', 'accum_recovered': 'int64', 'accum_deaths': 'int64'})\n",
    "\n",
    "    # Remove last day until update it\n",
    "    if covid_df.values[-1][1] != covid_19_time_line_by_care_dept_dist.values[-1][0]:\n",
    "        covid_19_time_line_by_care_dept_dist.drop([covid_19_time_line_by_care_dept_dist.index[-1]], inplace=True)\n",
    "\n",
    "    # Return dataframe\n",
    "    return covid_19_time_line_by_care_dept_dist\n",
    "\n",
    "\n",
    "# By dept_dist\n",
    "covid_19_time_line_by_care_dept_dist = {}\n",
    "for dept_dist in depts_dists:\n",
    "    #print('dept_dist', dept_dist)\n",
    "    # Get time line by care and dept_dist\n",
    "    covid_19_time_line_by_care_dept_dist[dept_dist] = get_time_line_by_care_dept_dist(dept_dist)\n",
    ""
   ]
  },
  {
   "cell_type": "markdown",
   "metadata": {},
   "source": [
    "## Time Line by Care and Department or District\n",
    "> ***Output file***: covid19_time_line_dept_dist.csv"
   ]
  },
  {
   "cell_type": "code",
   "execution_count": 36,
   "metadata": {},
   "outputs": [],
   "source": [
    "# Save dataframe\n",
    "for dept_dist in covid_19_time_line_by_care_dept_dist:\n",
    "    #print('dept_dist:', dept_dist)\n",
    "    # Save dataframe\n",
    "    covid_19_time_line_by_care_dept_dist[dept_dist].to_csv(os.path.join(OUTPUT_DIR, 'covid19_time_line_dept_dist_' + dept_dist + '.csv'), index=False)"
   ]
  },
  {
   "cell_type": "markdown",
   "metadata": {},
   "source": [
    "---"
   ]
  },
  {
   "cell_type": "markdown",
   "metadata": {},
   "source": [
    "## Google Community Mobility Reports - Colombia"
   ]
  },
  {
   "cell_type": "code",
   "execution_count": 37,
   "metadata": {},
   "outputs": [
    {
     "output_type": "execute_result",
     "data": {
      "text/plain": "         date   country                                  file  \\\n0  2020-03-29  Colombia  2020-03-29_CO_Mobility_Report_en.pdf   \n1  2020-04-05  Colombia  2020-04-05_CO_Mobility_Report_en.pdf   \n2  2020-04-11  Colombia  2020-04-11_CO_Mobility_Report_en.pdf   \n\n                                                 url  \n0  https://www.gstatic.com/covid19/mobility/2020-...  \n1  https://www.gstatic.com/covid19/mobility/2020-...  \n2  https://www.gstatic.com/covid19/mobility/2020-...  ",
      "text/html": "<div>\n<style scoped>\n    .dataframe tbody tr th:only-of-type {\n        vertical-align: middle;\n    }\n\n    .dataframe tbody tr th {\n        vertical-align: top;\n    }\n\n    .dataframe thead th {\n        text-align: right;\n    }\n</style>\n<table border=\"1\" class=\"dataframe\">\n  <thead>\n    <tr style=\"text-align: right;\">\n      <th></th>\n      <th>date</th>\n      <th>country</th>\n      <th>file</th>\n      <th>url</th>\n    </tr>\n  </thead>\n  <tbody>\n    <tr>\n      <th>0</th>\n      <td>2020-03-29</td>\n      <td>Colombia</td>\n      <td>2020-03-29_CO_Mobility_Report_en.pdf</td>\n      <td>https://www.gstatic.com/covid19/mobility/2020-...</td>\n    </tr>\n    <tr>\n      <th>1</th>\n      <td>2020-04-05</td>\n      <td>Colombia</td>\n      <td>2020-04-05_CO_Mobility_Report_en.pdf</td>\n      <td>https://www.gstatic.com/covid19/mobility/2020-...</td>\n    </tr>\n    <tr>\n      <th>2</th>\n      <td>2020-04-11</td>\n      <td>Colombia</td>\n      <td>2020-04-11_CO_Mobility_Report_en.pdf</td>\n      <td>https://www.gstatic.com/covid19/mobility/2020-...</td>\n    </tr>\n  </tbody>\n</table>\n</div>"
     },
     "metadata": {},
     "execution_count": 37
    }
   ],
   "source": [
    "# Google Community Mobility Reports - Colombia\n",
    "google_community_mobility_reports = pd.DataFrame(columns=['date', 'country', 'file', 'url'])\n",
    "google_community_mobility_reports['date'] = [dti.strftime('%Y-%m-%d') for dti in pd.date_range(start='2020-03-29', end=date.today().isoformat(), freq='D')]\n",
    "google_community_mobility_reports['country'] = ['Colombia' for country in range(len(google_community_mobility_reports['date'].values))]\n",
    "google_community_mobility_reports['file'] = [ date + '_CO_Mobility_Report_en.pdf' for date in google_community_mobility_reports['date'].values]\n",
    "# Get URL report\n",
    "def get_report_url(file):\n",
    "    with requests.get('https://www.gstatic.com/covid19/mobility/' + file) as community_mobility_report:\n",
    "        #print(community_mobility_report.status_code)\n",
    "        if community_mobility_report.status_code == 200:\n",
    "            #print('status_code: ', 200)\n",
    "            #print('url', community_mobility_report.url)\n",
    "            return community_mobility_report.url\n",
    "        else:\n",
    "            return np.nan\n",
    "# Get URL report\n",
    "google_community_mobility_reports['url'] = google_community_mobility_reports['file'].transform(lambda value: get_report_url(value))\n",
    "# Drop any report without URL\n",
    "google_community_mobility_reports.dropna(inplace=True)\n",
    "# Reset index\n",
    "google_community_mobility_reports.reset_index(inplace=True, drop=True)\n",
    "# Show dataframe\n",
    "google_community_mobility_reports.head()\n",
    "#print('community_mobility_report.content', community_mobility_report.content)\n",
    "            #with open(os.path.join(OUTPUT_DIR, '2020-04-05_CO_Mobility_Report_en.pdf'), 'wb') as f:\n",
    "            #    f.write(community_mobility_report.content)"
   ]
  },
  {
   "cell_type": "code",
   "execution_count": 38,
   "metadata": {},
   "outputs": [
    {
     "output_type": "execute_result",
     "data": {
      "text/plain": "         date   country Retail & recreation Grocery & pharmacy Parks  \\\n0  29/03/2020  Colombia                -86%               -68%  -80%   \n1  05/04/2020  Colombia                -85%               -66%  -79%   \n2  11/04/2020  Colombia                -84%               -65%  -77%   \n\n  Transit stations Workplaces Residential  \\\n0             -82%       -58%        +26%   \n1             -81%       -57%        +26%   \n2             -81%       -69%        +32%   \n\n                                   file  \\\n0  2020-03-29_CO_Mobility_Report_en.pdf   \n1  2020-04-05_CO_Mobility_Report_en.pdf   \n2  2020-04-11_CO_Mobility_Report_en.pdf   \n\n                                                 url  \n0  https://www.gstatic.com/covid19/mobility/2020-...  \n1  https://www.gstatic.com/covid19/mobility/2020-...  \n2  https://www.gstatic.com/covid19/mobility/2020-...  ",
      "text/html": "<div>\n<style scoped>\n    .dataframe tbody tr th:only-of-type {\n        vertical-align: middle;\n    }\n\n    .dataframe tbody tr th {\n        vertical-align: top;\n    }\n\n    .dataframe thead th {\n        text-align: right;\n    }\n</style>\n<table border=\"1\" class=\"dataframe\">\n  <thead>\n    <tr style=\"text-align: right;\">\n      <th></th>\n      <th>date</th>\n      <th>country</th>\n      <th>Retail &amp; recreation</th>\n      <th>Grocery &amp; pharmacy</th>\n      <th>Parks</th>\n      <th>Transit stations</th>\n      <th>Workplaces</th>\n      <th>Residential</th>\n      <th>file</th>\n      <th>url</th>\n    </tr>\n  </thead>\n  <tbody>\n    <tr>\n      <th>0</th>\n      <td>29/03/2020</td>\n      <td>Colombia</td>\n      <td>-86%</td>\n      <td>-68%</td>\n      <td>-80%</td>\n      <td>-82%</td>\n      <td>-58%</td>\n      <td>+26%</td>\n      <td>2020-03-29_CO_Mobility_Report_en.pdf</td>\n      <td>https://www.gstatic.com/covid19/mobility/2020-...</td>\n    </tr>\n    <tr>\n      <th>1</th>\n      <td>05/04/2020</td>\n      <td>Colombia</td>\n      <td>-85%</td>\n      <td>-66%</td>\n      <td>-79%</td>\n      <td>-81%</td>\n      <td>-57%</td>\n      <td>+26%</td>\n      <td>2020-04-05_CO_Mobility_Report_en.pdf</td>\n      <td>https://www.gstatic.com/covid19/mobility/2020-...</td>\n    </tr>\n    <tr>\n      <th>2</th>\n      <td>11/04/2020</td>\n      <td>Colombia</td>\n      <td>-84%</td>\n      <td>-65%</td>\n      <td>-77%</td>\n      <td>-81%</td>\n      <td>-69%</td>\n      <td>+32%</td>\n      <td>2020-04-11_CO_Mobility_Report_en.pdf</td>\n      <td>https://www.gstatic.com/covid19/mobility/2020-...</td>\n    </tr>\n  </tbody>\n</table>\n</div>"
     },
     "metadata": {},
     "execution_count": 38
    }
   ],
   "source": [
    "# Add Mobility Changes\n",
    "#from pdfminer.high_level import extract_pages\n",
    "# Get mobility changes\n",
    "def get_mobility_changes(URL):\n",
    "    # Target changes\n",
    "    targets = ['Retail & recreation', 'Grocery & pharmacy', 'Parks', 'Transit stations', 'Workplaces', 'Residential']\n",
    "    # Mobility Changes\n",
    "    mobility_changes = []\n",
    "    # Get Mobility Report\n",
    "    with requests.get(URL) as mobility_report:\n",
    "        #print(mobility_report.status_code)\n",
    "        if mobility_report.status_code == 200:\n",
    "            temp = tempfile.NamedTemporaryFile()\n",
    "            temp.write(mobility_report.content)\n",
    "            #print('temp.name:', temp.name)\n",
    "            with open(temp.name, 'rb') as file:\n",
    "                # By pages\n",
    "                pdf_text = []\n",
    "                page = 0\n",
    "                while page != -1:\n",
    "                    text = extract_text(file, maxpages=1, page_numbers=[page])\n",
    "                    if text:\n",
    "                        #print('text', text)\n",
    "                        pdf_text.append(text.split('\\n'))\n",
    "                        page += 1\n",
    "                    else:\n",
    "                        page = -1\n",
    "                # Pages\n",
    "                #print('Pages:', len(pdf_text))\n",
    "                # Page 1\n",
    "                page1 = pdf_text[0]\n",
    "                page1 = filter(lambda value: value != '', page1)\n",
    "                page1 = filter(lambda value: value in targets or value[-1] == '%', list(page1))\n",
    "                page1 = list(page1)[:6]\n",
    "                # Page 2\n",
    "                page2 = pdf_text[1]\n",
    "                page2 = filter(lambda value: value != '', page2)\n",
    "                page2 = filter(lambda value: value in targets or value[-1] == '%', list(page2))\n",
    "                page2 = list(page2)[:6]\n",
    "                # Merge\n",
    "                mobility_changes = page1 + page2\n",
    "    return mobility_changes\n",
    "# Add Mobility Changes\n",
    "google_community_mobility_reports['mobility_changes'] = google_community_mobility_reports['url'].transform(lambda value: get_mobility_changes(value))\n",
    "# By case\n",
    "google_community_mobility_reports['Retail & recreation'] = google_community_mobility_reports['mobility_changes'].transform(lambda value: value[1])\n",
    "google_community_mobility_reports['Grocery & pharmacy'] = google_community_mobility_reports['mobility_changes'].transform(lambda value: value[3])\n",
    "google_community_mobility_reports['Parks'] = google_community_mobility_reports['mobility_changes'].transform(lambda value: value[5])\n",
    "google_community_mobility_reports['Transit stations'] = google_community_mobility_reports['mobility_changes'].transform(lambda value: value[7])\n",
    "google_community_mobility_reports['Workplaces'] = google_community_mobility_reports['mobility_changes'].transform(lambda value: value[9])\n",
    "google_community_mobility_reports['Residential'] = google_community_mobility_reports['mobility_changes'].transform(lambda value: value[11])\n",
    "# Drop column\n",
    "google_community_mobility_reports.drop(columns=['mobility_changes'], inplace=True)\n",
    "# Sort columns\n",
    "google_community_mobility_reports = google_community_mobility_reports[['date', 'country', 'Retail & recreation', 'Grocery & pharmacy', 'Parks', 'Transit stations', 'Workplaces', 'Residential', 'file', 'url']]\n",
    "# Setup date format\n",
    "google_community_mobility_reports['date'] = [value.strftime('%d/%m/%Y') for value in pd.to_datetime(google_community_mobility_reports['date'], format='%Y-%m-%d')]\n",
    "# Show dataframe\n",
    "google_community_mobility_reports.head()"
   ]
  },
  {
   "cell_type": "markdown",
   "metadata": {},
   "source": [
    "## Google COVID-19 Community Mobility Reports - Colombia\n",
    "> ***Output file***: google_community_mobility_reports.csv"
   ]
  },
  {
   "cell_type": "code",
   "execution_count": 39,
   "metadata": {},
   "outputs": [],
   "source": [
    "# Save dataframe\n",
    "google_community_mobility_reports.to_csv(os.path.join(OUTPUT_DIR, 'google_community_mobility_reports.csv'), index=False)"
   ]
  },
  {
   "cell_type": "markdown",
   "metadata": {},
   "source": [
    "---"
   ]
  },
  {
   "cell_type": "code",
   "execution_count": 40,
   "metadata": {},
   "outputs": [],
   "source": [
    "# Insights Colombia\n",
    "# Reading the json as a dict\n",
    "with requests.get('https://infogram.com/api/live/flex/4524241a-91a7-4bbd-a58e-63c12fb2952f/90df9eae-e3e5-4982-b71c-3e28e3c4273f?') as original_dataset:\n",
    "    data = original_dataset.json()\n",
    "#print(data['data'][0])\n",
    "#print(data['data'][0][1][0])\n",
    "\n",
    "total_cases = data['data'][0][0][0]\n",
    "#print(total_cases)\n",
    "total_cases = total_cases.split('<b>')[1].split('</b>')[0].replace('.', '')\n",
    "\n",
    "total_recovered = data['data'][0][1][0]\n",
    "#print(total_recovered)\n",
    "total_recovered = total_recovered.split('<b>')[1].split('</b>')[0].replace('.', '')\n",
    "\n",
    "total_deaths = data['data'][0][2][0]\n",
    "#print(total_deaths)\n",
    "total_deaths = total_deaths.split('<b>')[1].split('</b>')[0].replace('.', '')\n",
    "\n",
    "#print('Total Cases:', total_cases)\n",
    "#print('Total Recovered:', total_recovered)\n",
    "#print('Total Deaths:', total_deaths)"
   ]
  },
  {
   "cell_type": "code",
   "execution_count": 41,
   "metadata": {},
   "outputs": [],
   "source": [
    "# Type of Case\n",
    "# Reading the json as a dict\n",
    "with requests.get('https://infogram.com/api/live/flex/4524241a-91a7-4bbd-a58e-63c12fb2952f/a991990b-3b23-4ab2-8452-0ed1162d4896?') as original_dataset:\n",
    "    data = original_dataset.json()\n",
    "#print(data['data'][0])\n",
    "#print(data['data'][0][0])\n",
    "\n",
    "type_imported = data['data'][0][0][0]\n",
    "\n",
    "type_related = data['data'][0][1][0]\n",
    "\n",
    "type_study = data['data'][0][2][0]\n",
    "\n",
    "\n",
    "#print('Total Importado:', type_imported)\n",
    "#print('Total Relacionado:', type_related)\n",
    "#print('Total Estudio:', type_study)"
   ]
  },
  {
   "cell_type": "markdown",
   "metadata": {},
   "source": [
    "## Resume"
   ]
  },
  {
   "cell_type": "code",
   "execution_count": 42,
   "metadata": {
    "_cell_guid": "b2225326-62de-4f23-a5f3-7050982fd45c",
    "_uuid": "f0a79761-629b-48d7-a0c2-3073bd8cae80"
   },
   "outputs": [
    {
     "output_type": "execute_result",
     "data": {
      "text/plain": "                 title  total\n0          Confirmados   3439\n1          Recuperados    634\n2           Fallecidos    153\n3    Casos descartados  52134\n4            Importado    779\n5          Relacionado   1160\n6           En estudio   1500\n7  Muestras procesadas  55573",
      "text/html": "<div>\n<style scoped>\n    .dataframe tbody tr th:only-of-type {\n        vertical-align: middle;\n    }\n\n    .dataframe tbody tr th {\n        vertical-align: top;\n    }\n\n    .dataframe thead th {\n        text-align: right;\n    }\n</style>\n<table border=\"1\" class=\"dataframe\">\n  <thead>\n    <tr style=\"text-align: right;\">\n      <th></th>\n      <th>title</th>\n      <th>total</th>\n    </tr>\n  </thead>\n  <tbody>\n    <tr>\n      <th>0</th>\n      <td>Confirmados</td>\n      <td>3439</td>\n    </tr>\n    <tr>\n      <th>1</th>\n      <td>Recuperados</td>\n      <td>634</td>\n    </tr>\n    <tr>\n      <th>2</th>\n      <td>Fallecidos</td>\n      <td>153</td>\n    </tr>\n    <tr>\n      <th>3</th>\n      <td>Casos descartados</td>\n      <td>52134</td>\n    </tr>\n    <tr>\n      <th>4</th>\n      <td>Importado</td>\n      <td>779</td>\n    </tr>\n    <tr>\n      <th>5</th>\n      <td>Relacionado</td>\n      <td>1160</td>\n    </tr>\n    <tr>\n      <th>6</th>\n      <td>En estudio</td>\n      <td>1500</td>\n    </tr>\n    <tr>\n      <th>7</th>\n      <td>Muestras procesadas</td>\n      <td>55573</td>\n    </tr>\n  </tbody>\n</table>\n</div>"
     },
     "metadata": {},
     "execution_count": 42
    }
   ],
   "source": [
    "# Resume\n",
    "data = []\n",
    "# cases_by_care_by_date[N] = ['Hospital', 'Hospital UCI', 'Casa', 'Fallecido', 'Recuperado', 'Recuperado (Hospital)']\n",
    "# Resume Attributes\n",
    "data.append(['Confirmados', total_cases])\n",
    "data.append(['Recuperados', total_recovered])\n",
    "data.append(['Fallecidos', total_deaths])\n",
    "data.append(['Muestras descartadas', samples_descarted])\n",
    "data.append(['Importado', type_imported])\n",
    "data.append(['Relacionado', type_related])\n",
    "data.append(['En estudio', type_study])\n",
    "data.append(['Muestras procesadas', samples_processed])\n",
    "\n",
    "# Resume Dataframe\n",
    "covid_df_resume = pd.DataFrame(data=data, columns=['title', 'total'])\n",
    "# Show dataframe\n",
    "covid_df_resume.head(10)"
   ]
  },
  {
   "cell_type": "markdown",
   "metadata": {
    "_cell_guid": "fe57799a-5f59-4dd6-b476-a7442ed735a0",
    "_uuid": "975170ba-59bb-4048-9d8d-8257edbacaa6"
   },
   "source": [
    "## Resume\n",
    "> ***Output file***: covid19_resume.csv"
   ]
  },
  {
   "cell_type": "code",
   "execution_count": 43,
   "metadata": {
    "_cell_guid": "fba57e78-b98e-44c7-a1c5-c9b6572670e4",
    "_uuid": "78717226-faba-4603-888f-0abddc890e42"
   },
   "outputs": [
    {
     "output_type": "stream",
     "name": "stdout",
     "text": "\nColombia Covid19 Resumen:\n                 title  total\n0          Confirmados   3439\n1          Recuperados    634\n2           Fallecidos    153\n3    Casos descartados  52134\n4            Importado    779\n5          Relacionado   1160\n6           En estudio   1500\n7  Muestras procesadas  55573\n"
    }
   ],
   "source": [
    "# Save dataframe\n",
    "covid_df_resume.to_csv(os.path.join(OUTPUT_DIR, 'covid19_resume.csv'), index=False)\n",
    "print('\\nColombia Covid19 Resumen:')\n",
    "print(covid_df_resume)"
   ]
  },
  {
   "cell_type": "markdown",
   "metadata": {},
   "source": [
    "---"
   ]
  },
  {
   "cell_type": "code",
   "execution_count": null,
   "metadata": {},
   "outputs": [],
   "source": []
  }
 ],
 "metadata": {
  "kernelspec": {
   "display_name": "Python 3",
   "language": "python",
   "name": "python3"
  },
  "language_info": {
   "codemirror_mode": {
    "name": "ipython",
    "version": 3
   },
   "file_extension": ".py",
   "mimetype": "text/x-python",
   "name": "python",
   "nbconvert_exporter": "python",
   "pygments_lexer": "ipython3",
   "version": "3.6.9-final"
  }
 },
 "nbformat": 4,
 "nbformat_minor": 4
}