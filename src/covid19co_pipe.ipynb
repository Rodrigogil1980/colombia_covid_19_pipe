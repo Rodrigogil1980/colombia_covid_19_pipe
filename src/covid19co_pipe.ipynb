{
 "cells": [
  {
   "cell_type": "code",
   "execution_count": 49,
   "metadata": {},
   "outputs": [],
   "source": [
    "# This Python 3 environment comes with many helpful analytics libraries installed\n",
    "# It is defined by the kaggle/python docker image: https://github.com/kaggle/docker-python\n",
    "# For example, here's several helpful packages to load in \n",
    "\n",
    "# Dependencies\n",
    "import numpy as np\n",
    "import pandas as pd\n",
    "import requests\n",
    "import unidecode\n",
    "import datetime\n",
    "import dateutil\n",
    "import subprocess\n",
    "import sys\n",
    "import json\n",
    "import tempfile\n",
    "import os\n",
    "\n",
    "# Install missing dependencies\n",
    "def install(package):\n",
    "    subprocess.check_call([sys.executable, \"-m\", \"pip\", \"install\", package])\n",
    "# PDFMiner pdfminer.six\n",
    "try:\n",
    "    from pdfminer.high_level import extract_text\n",
    "except Exception:\n",
    "    install('pdfminer.six')\n",
    "    from pdfminer.high_level import extract_text\n",
    "\n",
    "# Input data files are available in the \"../input/\" directory.\n",
    "# For example, running this (by clicking run or pressing Shift+Enter) will list all files under the input directory\n",
    "\n",
    "#for dirname, _, filenames in os.walk('/kaggle/input'):\n",
    "#    for filename in filenames:\n",
    "#        print(os.path.join(dirname, filename))\n",
    "\n",
    "# Any results you write to the current directory are saved as output."
   ]
  },
  {
   "cell_type": "markdown",
   "metadata": {},
   "source": [
    "---"
   ]
  },
  {
   "cell_type": "markdown",
   "metadata": {},
   "source": [
    "# Colombia Covid19 Pipeline\n",
    "Dataset obtained from [Instituto Nacional de Salud](https://www.ins.gov.co/Noticias/Paginas/Coronavirus.aspx) daily report Covid19 from Colombia.\n",
    "\n",
    "You can get the official dataset here: \n",
    "[INS - Official Report](https://www.datos.gov.co/Salud-y-Protecci-n-Social/Casos-positivos-de-COVID-19-en-Colombia/gt2j-8ykr)\n",
    "\n",
    "The number of new cases are increasing day by day around the world.\n",
    "This dataset has information about reported cases from 32 Colombia departments.\n",
    "\n",
    "Also you can get the dataset Google COVID-19 Community Mobility Reports - Colombia.\n",
    "\n",
    "You can view and collaborate to the analysis here:\n",
    "[colombia_covid_19_analysis](https://www.kaggle.com/sebaxtian/colombia-covid-19-analysis) Kaggle Notebook Kernel."
   ]
  },
  {
   "cell_type": "markdown",
   "metadata": {},
   "source": [
    "---"
   ]
  },
  {
   "cell_type": "markdown",
   "metadata": {},
   "source": [
    "## Data Sources"
   ]
  },
  {
   "cell_type": "code",
   "execution_count": 50,
   "metadata": {},
   "outputs": [],
   "source": [
    "# Input data files are available in the \"../input/\" directory.\n",
    "INPUT_DIR = './'\n",
    "if os.path.split(os.path.abspath('.'))[-1] == 'src':\n",
    "    INPUT_DIR = '../input'\n",
    "# Output data files are available in the \"../output/\" directory.\n",
    "OUTPUT_DIR = './'\n",
    "if os.path.split(os.path.abspath('.'))[-1] == 'src':\n",
    "    OUTPUT_DIR = '../output'\n",
    "# Official Daily Report Until Now\n",
    "URL_OFFICIAL_DATASET = 'https://www.datos.gov.co/api/views/gt2j-8ykr/rows.csv?accessType=DOWNLOAD'\n",
    "# Official Daily Samples Processed\n",
    "URL_SAMPLES_PROCESSED = 'https://www.datos.gov.co/api/views/8835-5baf/rows.csv?accessType=DOWNLOAD'"
   ]
  },
  {
   "cell_type": "markdown",
   "metadata": {},
   "source": [
    "---"
   ]
  },
  {
   "cell_type": "markdown",
   "metadata": {},
   "source": [
    "## Official Covid19 Colombia Daily Report"
   ]
  },
  {
   "cell_type": "code",
   "execution_count": 51,
   "metadata": {},
   "outputs": [],
   "source": [
    "# Official Daily Report Until Now\n",
    "with requests.get(URL_OFFICIAL_DATASET) as official_dataset:\n",
    "    with open(os.path.join(INPUT_DIR, 'covid19co_official.csv'), 'wb') as dataset_file:\n",
    "        dataset_file.write(official_dataset.content)"
   ]
  },
  {
   "cell_type": "code",
   "execution_count": 52,
   "metadata": {},
   "outputs": [
    {
     "output_type": "execute_result",
     "data": {
      "text/plain": "(17687, 16)"
     },
     "metadata": {},
     "execution_count": 52
    }
   ],
   "source": [
    "# Open Official Daily Report\n",
    "covid19co = pd.read_csv(os.path.join(INPUT_DIR, 'covid19co_official.csv'))\n",
    "# Total Daily Report\n",
    "covid19co.shape"
   ]
  },
  {
   "cell_type": "code",
   "execution_count": 53,
   "metadata": {},
   "outputs": [
    {
     "output_type": "execute_result",
     "data": {
      "text/plain": "       ID de caso    Fecha de notificación  Codigo DIVIPOLA  \\\n17682       17723  2020-05-08T00:00:00.000             8758   \n17683       17724  2020-05-11T00:00:00.000             8433   \n17684       17725  2020-05-10T00:00:00.000             8758   \n17685       17726  2020-05-10T00:00:00.000             8758   \n17686       17727  2020-05-11T00:00:00.000             8638   \n\n      Ciudad de ubicación Departamento o Distrito   atención  Edad Sexo  \\\n17682             Soledad                Atlántico      Casa    29    M   \n17683             Malambo                Atlántico  Hospital    60    F   \n17684             Soledad                Atlántico  Hospital    81    M   \n17685             Soledad                Atlántico  Hospital    46    M   \n17686         Sabanalarga                Atlántico      Casa    42    F   \n\n             Tipo    Estado País de procedencia                      FIS  \\\n17682  En estudio      Leve            Colombia  2020-05-06T00:00:00.000   \n17683  En estudio  Moderado            Colombia  2020-05-08T00:00:00.000   \n17684  En estudio  Moderado            Colombia  2020-04-30T00:00:00.000   \n17685  En estudio  Moderado            Colombia  2020-05-02T00:00:00.000   \n17686  En estudio      Leve            Colombia  2020-05-08T00:00:00.000   \n\n      Fecha de muerte        Fecha diagnostico Fecha recuperado  \\\n17682           -   -  2020-05-20T00:00:00.000            -   -   \n17683           -   -  2020-05-20T00:00:00.000            -   -   \n17684           -   -  2020-05-20T00:00:00.000            -   -   \n17685           -   -  2020-05-20T00:00:00.000            -   -   \n17686           -   -  2020-05-20T00:00:00.000            -   -   \n\n             fecha reporte web  \n17682  2020-05-20T00:00:00.000  \n17683  2020-05-20T00:00:00.000  \n17684  2020-05-20T00:00:00.000  \n17685  2020-05-20T00:00:00.000  \n17686  2020-05-20T00:00:00.000  ",
      "text/html": "<div>\n<style scoped>\n    .dataframe tbody tr th:only-of-type {\n        vertical-align: middle;\n    }\n\n    .dataframe tbody tr th {\n        vertical-align: top;\n    }\n\n    .dataframe thead th {\n        text-align: right;\n    }\n</style>\n<table border=\"1\" class=\"dataframe\">\n  <thead>\n    <tr style=\"text-align: right;\">\n      <th></th>\n      <th>ID de caso</th>\n      <th>Fecha de notificación</th>\n      <th>Codigo DIVIPOLA</th>\n      <th>Ciudad de ubicación</th>\n      <th>Departamento o Distrito</th>\n      <th>atención</th>\n      <th>Edad</th>\n      <th>Sexo</th>\n      <th>Tipo</th>\n      <th>Estado</th>\n      <th>País de procedencia</th>\n      <th>FIS</th>\n      <th>Fecha de muerte</th>\n      <th>Fecha diagnostico</th>\n      <th>Fecha recuperado</th>\n      <th>fecha reporte web</th>\n    </tr>\n  </thead>\n  <tbody>\n    <tr>\n      <th>17682</th>\n      <td>17723</td>\n      <td>2020-05-08T00:00:00.000</td>\n      <td>8758</td>\n      <td>Soledad</td>\n      <td>Atlántico</td>\n      <td>Casa</td>\n      <td>29</td>\n      <td>M</td>\n      <td>En estudio</td>\n      <td>Leve</td>\n      <td>Colombia</td>\n      <td>2020-05-06T00:00:00.000</td>\n      <td>-   -</td>\n      <td>2020-05-20T00:00:00.000</td>\n      <td>-   -</td>\n      <td>2020-05-20T00:00:00.000</td>\n    </tr>\n    <tr>\n      <th>17683</th>\n      <td>17724</td>\n      <td>2020-05-11T00:00:00.000</td>\n      <td>8433</td>\n      <td>Malambo</td>\n      <td>Atlántico</td>\n      <td>Hospital</td>\n      <td>60</td>\n      <td>F</td>\n      <td>En estudio</td>\n      <td>Moderado</td>\n      <td>Colombia</td>\n      <td>2020-05-08T00:00:00.000</td>\n      <td>-   -</td>\n      <td>2020-05-20T00:00:00.000</td>\n      <td>-   -</td>\n      <td>2020-05-20T00:00:00.000</td>\n    </tr>\n    <tr>\n      <th>17684</th>\n      <td>17725</td>\n      <td>2020-05-10T00:00:00.000</td>\n      <td>8758</td>\n      <td>Soledad</td>\n      <td>Atlántico</td>\n      <td>Hospital</td>\n      <td>81</td>\n      <td>M</td>\n      <td>En estudio</td>\n      <td>Moderado</td>\n      <td>Colombia</td>\n      <td>2020-04-30T00:00:00.000</td>\n      <td>-   -</td>\n      <td>2020-05-20T00:00:00.000</td>\n      <td>-   -</td>\n      <td>2020-05-20T00:00:00.000</td>\n    </tr>\n    <tr>\n      <th>17685</th>\n      <td>17726</td>\n      <td>2020-05-10T00:00:00.000</td>\n      <td>8758</td>\n      <td>Soledad</td>\n      <td>Atlántico</td>\n      <td>Hospital</td>\n      <td>46</td>\n      <td>M</td>\n      <td>En estudio</td>\n      <td>Moderado</td>\n      <td>Colombia</td>\n      <td>2020-05-02T00:00:00.000</td>\n      <td>-   -</td>\n      <td>2020-05-20T00:00:00.000</td>\n      <td>-   -</td>\n      <td>2020-05-20T00:00:00.000</td>\n    </tr>\n    <tr>\n      <th>17686</th>\n      <td>17727</td>\n      <td>2020-05-11T00:00:00.000</td>\n      <td>8638</td>\n      <td>Sabanalarga</td>\n      <td>Atlántico</td>\n      <td>Casa</td>\n      <td>42</td>\n      <td>F</td>\n      <td>En estudio</td>\n      <td>Leve</td>\n      <td>Colombia</td>\n      <td>2020-05-08T00:00:00.000</td>\n      <td>-   -</td>\n      <td>2020-05-20T00:00:00.000</td>\n      <td>-   -</td>\n      <td>2020-05-20T00:00:00.000</td>\n    </tr>\n  </tbody>\n</table>\n</div>"
     },
     "metadata": {},
     "execution_count": 53
    }
   ],
   "source": [
    "# Show dataframe\n",
    "covid19co.tail()"
   ]
  },
  {
   "cell_type": "code",
   "execution_count": 54,
   "metadata": {},
   "outputs": [
    {
     "output_type": "execute_result",
     "data": {
      "text/plain": "['ID de caso',\n 'Fecha de notificación',\n 'Codigo DIVIPOLA',\n 'Ciudad de ubicación',\n 'Departamento o Distrito ',\n 'atención',\n 'Edad',\n 'Sexo',\n 'Tipo',\n 'Estado',\n 'País de procedencia',\n 'FIS',\n 'Fecha de muerte',\n 'Fecha diagnostico',\n 'Fecha recuperado',\n 'fecha reporte web']"
     },
     "metadata": {},
     "execution_count": 54
    }
   ],
   "source": [
    "# Show attributes\n",
    "list(covid19co.columns.values)"
   ]
  },
  {
   "cell_type": "code",
   "execution_count": 55,
   "metadata": {},
   "outputs": [
    {
     "output_type": "execute_result",
     "data": {
      "text/plain": "   ID DE CASO    FECHA DE NOTIFICACION  CODIGO DIVIPOLA  CIUDAD DE UBICACION  \\\n0           1  2020-03-02T00:00:00.000            11001          Bogotá D.C.   \n1           2  2020-03-06T00:00:00.000            76111  Guadalajara de Buga   \n2           3  2020-03-07T00:00:00.000             5001             Medellín   \n3           4  2020-03-09T00:00:00.000             5001             Medellín   \n4           5  2020-03-09T00:00:00.000             5001             Medellín   \n\n  DEPARTAMENTO O DISTRITO     ATENCION  EDAD SEXO         TIPO ESTADO  \\\n0              Bogotá D.C.  Recuperado    19    F    Importado   Leve   \n1          Valle del Cauca  Recuperado    34    M    Importado   Leve   \n2                Antioquia  Recuperado    50    F    Importado   Leve   \n3                Antioquia  Recuperado    55    M  Relacionado   Leve   \n4                Antioquia  Recuperado    25    M  Relacionado   Leve   \n\n  PAIS DE PROCEDENCIA                      FIS FECHA DE MUERTE  \\\n0              Italia  2020-02-27T00:00:00.000           -   -   \n1              España  2020-03-04T00:00:00.000           -   -   \n2              España  2020-02-29T00:00:00.000           -   -   \n3            Colombia  2020-03-06T00:00:00.000           -   -   \n4            Colombia  2020-03-08T00:00:00.000           -   -   \n\n         FECHA DIAGNOSTICO         FECHA RECUPERADO        FECHA REPORTE WEB  \n0  2020-03-06T00:00:00.000  2020-03-13T00:00:00.000  2020-03-06T00:00:00.000  \n1  2020-03-09T00:00:00.000  2020-03-19T00:00:00.000  2020-03-09T00:00:00.000  \n2  2020-03-09T00:00:00.000  2020-03-15T00:00:00.000  2020-03-09T00:00:00.000  \n3  2020-03-11T00:00:00.000  2020-03-26T00:00:00.000  2020-03-11T00:00:00.000  \n4  2020-03-11T00:00:00.000  2020-03-23T00:00:00.000  2020-03-11T00:00:00.000  ",
      "text/html": "<div>\n<style scoped>\n    .dataframe tbody tr th:only-of-type {\n        vertical-align: middle;\n    }\n\n    .dataframe tbody tr th {\n        vertical-align: top;\n    }\n\n    .dataframe thead th {\n        text-align: right;\n    }\n</style>\n<table border=\"1\" class=\"dataframe\">\n  <thead>\n    <tr style=\"text-align: right;\">\n      <th></th>\n      <th>ID DE CASO</th>\n      <th>FECHA DE NOTIFICACION</th>\n      <th>CODIGO DIVIPOLA</th>\n      <th>CIUDAD DE UBICACION</th>\n      <th>DEPARTAMENTO O DISTRITO</th>\n      <th>ATENCION</th>\n      <th>EDAD</th>\n      <th>SEXO</th>\n      <th>TIPO</th>\n      <th>ESTADO</th>\n      <th>PAIS DE PROCEDENCIA</th>\n      <th>FIS</th>\n      <th>FECHA DE MUERTE</th>\n      <th>FECHA DIAGNOSTICO</th>\n      <th>FECHA RECUPERADO</th>\n      <th>FECHA REPORTE WEB</th>\n    </tr>\n  </thead>\n  <tbody>\n    <tr>\n      <th>0</th>\n      <td>1</td>\n      <td>2020-03-02T00:00:00.000</td>\n      <td>11001</td>\n      <td>Bogotá D.C.</td>\n      <td>Bogotá D.C.</td>\n      <td>Recuperado</td>\n      <td>19</td>\n      <td>F</td>\n      <td>Importado</td>\n      <td>Leve</td>\n      <td>Italia</td>\n      <td>2020-02-27T00:00:00.000</td>\n      <td>-   -</td>\n      <td>2020-03-06T00:00:00.000</td>\n      <td>2020-03-13T00:00:00.000</td>\n      <td>2020-03-06T00:00:00.000</td>\n    </tr>\n    <tr>\n      <th>1</th>\n      <td>2</td>\n      <td>2020-03-06T00:00:00.000</td>\n      <td>76111</td>\n      <td>Guadalajara de Buga</td>\n      <td>Valle del Cauca</td>\n      <td>Recuperado</td>\n      <td>34</td>\n      <td>M</td>\n      <td>Importado</td>\n      <td>Leve</td>\n      <td>España</td>\n      <td>2020-03-04T00:00:00.000</td>\n      <td>-   -</td>\n      <td>2020-03-09T00:00:00.000</td>\n      <td>2020-03-19T00:00:00.000</td>\n      <td>2020-03-09T00:00:00.000</td>\n    </tr>\n    <tr>\n      <th>2</th>\n      <td>3</td>\n      <td>2020-03-07T00:00:00.000</td>\n      <td>5001</td>\n      <td>Medellín</td>\n      <td>Antioquia</td>\n      <td>Recuperado</td>\n      <td>50</td>\n      <td>F</td>\n      <td>Importado</td>\n      <td>Leve</td>\n      <td>España</td>\n      <td>2020-02-29T00:00:00.000</td>\n      <td>-   -</td>\n      <td>2020-03-09T00:00:00.000</td>\n      <td>2020-03-15T00:00:00.000</td>\n      <td>2020-03-09T00:00:00.000</td>\n    </tr>\n    <tr>\n      <th>3</th>\n      <td>4</td>\n      <td>2020-03-09T00:00:00.000</td>\n      <td>5001</td>\n      <td>Medellín</td>\n      <td>Antioquia</td>\n      <td>Recuperado</td>\n      <td>55</td>\n      <td>M</td>\n      <td>Relacionado</td>\n      <td>Leve</td>\n      <td>Colombia</td>\n      <td>2020-03-06T00:00:00.000</td>\n      <td>-   -</td>\n      <td>2020-03-11T00:00:00.000</td>\n      <td>2020-03-26T00:00:00.000</td>\n      <td>2020-03-11T00:00:00.000</td>\n    </tr>\n    <tr>\n      <th>4</th>\n      <td>5</td>\n      <td>2020-03-09T00:00:00.000</td>\n      <td>5001</td>\n      <td>Medellín</td>\n      <td>Antioquia</td>\n      <td>Recuperado</td>\n      <td>25</td>\n      <td>M</td>\n      <td>Relacionado</td>\n      <td>Leve</td>\n      <td>Colombia</td>\n      <td>2020-03-08T00:00:00.000</td>\n      <td>-   -</td>\n      <td>2020-03-11T00:00:00.000</td>\n      <td>2020-03-23T00:00:00.000</td>\n      <td>2020-03-11T00:00:00.000</td>\n    </tr>\n  </tbody>\n</table>\n</div>"
     },
     "metadata": {},
     "execution_count": 55
    }
   ],
   "source": [
    "# Update Name Columns\n",
    "# Remove Accents and Uppercase\n",
    "covid19co.columns = [unidecode.unidecode(value).upper() for value in covid19co.columns]\n",
    "# Show dataframe\n",
    "covid19co.head()"
   ]
  },
  {
   "cell_type": "code",
   "execution_count": 56,
   "metadata": {},
   "outputs": [
    {
     "output_type": "execute_result",
     "data": {
      "text/plain": "   ID DE CASO    FECHA DE NOTIFICACION  CODIGO DIVIPOLA  CIUDAD DE UBICACION  \\\n0           1  2020-03-02T00:00:00.000            11001          Bogotá D.C.   \n1           2  2020-03-06T00:00:00.000            76111  Guadalajara De Buga   \n2           3  2020-03-07T00:00:00.000             5001             Medellín   \n3           4  2020-03-09T00:00:00.000             5001             Medellín   \n4           5  2020-03-09T00:00:00.000             5001             Medellín   \n\n  DEPARTAMENTO O DISTRITO     ATENCION  EDAD SEXO         TIPO ESTADO  \\\n0              Bogotá D.C.  Recuperado    19    F    Importado   Leve   \n1          Valle Del Cauca  Recuperado    34    M    Importado   Leve   \n2                Antioquia  Recuperado    50    F    Importado   Leve   \n3                Antioquia  Recuperado    55    M  Relacionado   Leve   \n4                Antioquia  Recuperado    25    M  Relacionado   Leve   \n\n  PAIS DE PROCEDENCIA                      FIS FECHA DE MUERTE  \\\n0              Italia  2020-02-27T00:00:00.000           -   -   \n1              España  2020-03-04T00:00:00.000           -   -   \n2              España  2020-02-29T00:00:00.000           -   -   \n3            Colombia  2020-03-06T00:00:00.000           -   -   \n4            Colombia  2020-03-08T00:00:00.000           -   -   \n\n         FECHA DIAGNOSTICO         FECHA RECUPERADO        FECHA REPORTE WEB  \n0  2020-03-06T00:00:00.000  2020-03-13T00:00:00.000  2020-03-06T00:00:00.000  \n1  2020-03-09T00:00:00.000  2020-03-19T00:00:00.000  2020-03-09T00:00:00.000  \n2  2020-03-09T00:00:00.000  2020-03-15T00:00:00.000  2020-03-09T00:00:00.000  \n3  2020-03-11T00:00:00.000  2020-03-26T00:00:00.000  2020-03-11T00:00:00.000  \n4  2020-03-11T00:00:00.000  2020-03-23T00:00:00.000  2020-03-11T00:00:00.000  ",
      "text/html": "<div>\n<style scoped>\n    .dataframe tbody tr th:only-of-type {\n        vertical-align: middle;\n    }\n\n    .dataframe tbody tr th {\n        vertical-align: top;\n    }\n\n    .dataframe thead th {\n        text-align: right;\n    }\n</style>\n<table border=\"1\" class=\"dataframe\">\n  <thead>\n    <tr style=\"text-align: right;\">\n      <th></th>\n      <th>ID DE CASO</th>\n      <th>FECHA DE NOTIFICACION</th>\n      <th>CODIGO DIVIPOLA</th>\n      <th>CIUDAD DE UBICACION</th>\n      <th>DEPARTAMENTO O DISTRITO</th>\n      <th>ATENCION</th>\n      <th>EDAD</th>\n      <th>SEXO</th>\n      <th>TIPO</th>\n      <th>ESTADO</th>\n      <th>PAIS DE PROCEDENCIA</th>\n      <th>FIS</th>\n      <th>FECHA DE MUERTE</th>\n      <th>FECHA DIAGNOSTICO</th>\n      <th>FECHA RECUPERADO</th>\n      <th>FECHA REPORTE WEB</th>\n    </tr>\n  </thead>\n  <tbody>\n    <tr>\n      <th>0</th>\n      <td>1</td>\n      <td>2020-03-02T00:00:00.000</td>\n      <td>11001</td>\n      <td>Bogotá D.C.</td>\n      <td>Bogotá D.C.</td>\n      <td>Recuperado</td>\n      <td>19</td>\n      <td>F</td>\n      <td>Importado</td>\n      <td>Leve</td>\n      <td>Italia</td>\n      <td>2020-02-27T00:00:00.000</td>\n      <td>-   -</td>\n      <td>2020-03-06T00:00:00.000</td>\n      <td>2020-03-13T00:00:00.000</td>\n      <td>2020-03-06T00:00:00.000</td>\n    </tr>\n    <tr>\n      <th>1</th>\n      <td>2</td>\n      <td>2020-03-06T00:00:00.000</td>\n      <td>76111</td>\n      <td>Guadalajara De Buga</td>\n      <td>Valle Del Cauca</td>\n      <td>Recuperado</td>\n      <td>34</td>\n      <td>M</td>\n      <td>Importado</td>\n      <td>Leve</td>\n      <td>España</td>\n      <td>2020-03-04T00:00:00.000</td>\n      <td>-   -</td>\n      <td>2020-03-09T00:00:00.000</td>\n      <td>2020-03-19T00:00:00.000</td>\n      <td>2020-03-09T00:00:00.000</td>\n    </tr>\n    <tr>\n      <th>2</th>\n      <td>3</td>\n      <td>2020-03-07T00:00:00.000</td>\n      <td>5001</td>\n      <td>Medellín</td>\n      <td>Antioquia</td>\n      <td>Recuperado</td>\n      <td>50</td>\n      <td>F</td>\n      <td>Importado</td>\n      <td>Leve</td>\n      <td>España</td>\n      <td>2020-02-29T00:00:00.000</td>\n      <td>-   -</td>\n      <td>2020-03-09T00:00:00.000</td>\n      <td>2020-03-15T00:00:00.000</td>\n      <td>2020-03-09T00:00:00.000</td>\n    </tr>\n    <tr>\n      <th>3</th>\n      <td>4</td>\n      <td>2020-03-09T00:00:00.000</td>\n      <td>5001</td>\n      <td>Medellín</td>\n      <td>Antioquia</td>\n      <td>Recuperado</td>\n      <td>55</td>\n      <td>M</td>\n      <td>Relacionado</td>\n      <td>Leve</td>\n      <td>Colombia</td>\n      <td>2020-03-06T00:00:00.000</td>\n      <td>-   -</td>\n      <td>2020-03-11T00:00:00.000</td>\n      <td>2020-03-26T00:00:00.000</td>\n      <td>2020-03-11T00:00:00.000</td>\n    </tr>\n    <tr>\n      <th>4</th>\n      <td>5</td>\n      <td>2020-03-09T00:00:00.000</td>\n      <td>5001</td>\n      <td>Medellín</td>\n      <td>Antioquia</td>\n      <td>Recuperado</td>\n      <td>25</td>\n      <td>M</td>\n      <td>Relacionado</td>\n      <td>Leve</td>\n      <td>Colombia</td>\n      <td>2020-03-08T00:00:00.000</td>\n      <td>-   -</td>\n      <td>2020-03-11T00:00:00.000</td>\n      <td>2020-03-23T00:00:00.000</td>\n      <td>2020-03-11T00:00:00.000</td>\n    </tr>\n  </tbody>\n</table>\n</div>"
     },
     "metadata": {},
     "execution_count": 56
    }
   ],
   "source": [
    "# Update texto to title text format\n",
    "for attr in covid19co.columns:\n",
    "    if covid19co[attr].dtypes == 'object':\n",
    "        covid19co[attr] = covid19co[attr].transform(lambda value: str(value).title())\n",
    "# Show dataframe\n",
    "covid19co.head()"
   ]
  },
  {
   "cell_type": "code",
   "execution_count": 57,
   "metadata": {},
   "outputs": [
    {
     "output_type": "execute_result",
     "data": {
      "text/plain": "   ID DE CASO    FECHA DE NOTIFICACION  CODIGO DIVIPOLA  CIUDAD DE UBICACION  \\\n0           1  2020-03-02T00:00:00.000            11001          Bogotá D.C.   \n1           2  2020-03-06T00:00:00.000            76111  Guadalajara De Buga   \n2           3  2020-03-07T00:00:00.000             5001             Medellín   \n3           4  2020-03-09T00:00:00.000             5001             Medellín   \n4           5  2020-03-09T00:00:00.000             5001             Medellín   \n\n  DEPARTAMENTO O DISTRITO     ATENCION  EDAD SEXO         TIPO ESTADO  \\\n0              Bogotá D.C.  Recuperado    19    F    Importado   Leve   \n1          Valle Del Cauca  Recuperado    34    M    Importado   Leve   \n2                Antioquia  Recuperado    50    F    Importado   Leve   \n3                Antioquia  Recuperado    55    M  Relacionado   Leve   \n4                Antioquia  Recuperado    25    M  Relacionado   Leve   \n\n  PAIS DE PROCEDENCIA                      FIS FECHA DE MUERTE  \\\n0              Italia  2020-02-27T00:00:00.000           -   -   \n1              España  2020-03-04T00:00:00.000           -   -   \n2              España  2020-02-29T00:00:00.000           -   -   \n3            Colombia  2020-03-06T00:00:00.000           -   -   \n4            Colombia  2020-03-08T00:00:00.000           -   -   \n\n         FECHA DIAGNOSTICO         FECHA RECUPERADO        FECHA REPORTE WEB  \n0  2020-03-06T00:00:00.000  2020-03-13T00:00:00.000  2020-03-06T00:00:00.000  \n1  2020-03-09T00:00:00.000  2020-03-19T00:00:00.000  2020-03-09T00:00:00.000  \n2  2020-03-09T00:00:00.000  2020-03-15T00:00:00.000  2020-03-09T00:00:00.000  \n3  2020-03-11T00:00:00.000  2020-03-26T00:00:00.000  2020-03-11T00:00:00.000  \n4  2020-03-11T00:00:00.000  2020-03-23T00:00:00.000  2020-03-11T00:00:00.000  ",
      "text/html": "<div>\n<style scoped>\n    .dataframe tbody tr th:only-of-type {\n        vertical-align: middle;\n    }\n\n    .dataframe tbody tr th {\n        vertical-align: top;\n    }\n\n    .dataframe thead th {\n        text-align: right;\n    }\n</style>\n<table border=\"1\" class=\"dataframe\">\n  <thead>\n    <tr style=\"text-align: right;\">\n      <th></th>\n      <th>ID DE CASO</th>\n      <th>FECHA DE NOTIFICACION</th>\n      <th>CODIGO DIVIPOLA</th>\n      <th>CIUDAD DE UBICACION</th>\n      <th>DEPARTAMENTO O DISTRITO</th>\n      <th>ATENCION</th>\n      <th>EDAD</th>\n      <th>SEXO</th>\n      <th>TIPO</th>\n      <th>ESTADO</th>\n      <th>PAIS DE PROCEDENCIA</th>\n      <th>FIS</th>\n      <th>FECHA DE MUERTE</th>\n      <th>FECHA DIAGNOSTICO</th>\n      <th>FECHA RECUPERADO</th>\n      <th>FECHA REPORTE WEB</th>\n    </tr>\n  </thead>\n  <tbody>\n    <tr>\n      <th>0</th>\n      <td>1</td>\n      <td>2020-03-02T00:00:00.000</td>\n      <td>11001</td>\n      <td>Bogotá D.C.</td>\n      <td>Bogotá D.C.</td>\n      <td>Recuperado</td>\n      <td>19</td>\n      <td>F</td>\n      <td>Importado</td>\n      <td>Leve</td>\n      <td>Italia</td>\n      <td>2020-02-27T00:00:00.000</td>\n      <td>-   -</td>\n      <td>2020-03-06T00:00:00.000</td>\n      <td>2020-03-13T00:00:00.000</td>\n      <td>2020-03-06T00:00:00.000</td>\n    </tr>\n    <tr>\n      <th>1</th>\n      <td>2</td>\n      <td>2020-03-06T00:00:00.000</td>\n      <td>76111</td>\n      <td>Guadalajara De Buga</td>\n      <td>Valle Del Cauca</td>\n      <td>Recuperado</td>\n      <td>34</td>\n      <td>M</td>\n      <td>Importado</td>\n      <td>Leve</td>\n      <td>España</td>\n      <td>2020-03-04T00:00:00.000</td>\n      <td>-   -</td>\n      <td>2020-03-09T00:00:00.000</td>\n      <td>2020-03-19T00:00:00.000</td>\n      <td>2020-03-09T00:00:00.000</td>\n    </tr>\n    <tr>\n      <th>2</th>\n      <td>3</td>\n      <td>2020-03-07T00:00:00.000</td>\n      <td>5001</td>\n      <td>Medellín</td>\n      <td>Antioquia</td>\n      <td>Recuperado</td>\n      <td>50</td>\n      <td>F</td>\n      <td>Importado</td>\n      <td>Leve</td>\n      <td>España</td>\n      <td>2020-02-29T00:00:00.000</td>\n      <td>-   -</td>\n      <td>2020-03-09T00:00:00.000</td>\n      <td>2020-03-15T00:00:00.000</td>\n      <td>2020-03-09T00:00:00.000</td>\n    </tr>\n    <tr>\n      <th>3</th>\n      <td>4</td>\n      <td>2020-03-09T00:00:00.000</td>\n      <td>5001</td>\n      <td>Medellín</td>\n      <td>Antioquia</td>\n      <td>Recuperado</td>\n      <td>55</td>\n      <td>M</td>\n      <td>Relacionado</td>\n      <td>Leve</td>\n      <td>Colombia</td>\n      <td>2020-03-06T00:00:00.000</td>\n      <td>-   -</td>\n      <td>2020-03-11T00:00:00.000</td>\n      <td>2020-03-26T00:00:00.000</td>\n      <td>2020-03-11T00:00:00.000</td>\n    </tr>\n    <tr>\n      <th>4</th>\n      <td>5</td>\n      <td>2020-03-09T00:00:00.000</td>\n      <td>5001</td>\n      <td>Medellín</td>\n      <td>Antioquia</td>\n      <td>Recuperado</td>\n      <td>25</td>\n      <td>M</td>\n      <td>Relacionado</td>\n      <td>Leve</td>\n      <td>Colombia</td>\n      <td>2020-03-08T00:00:00.000</td>\n      <td>-   -</td>\n      <td>2020-03-11T00:00:00.000</td>\n      <td>2020-03-23T00:00:00.000</td>\n      <td>2020-03-11T00:00:00.000</td>\n    </tr>\n  </tbody>\n</table>\n</div>"
     },
     "metadata": {},
     "execution_count": 57
    }
   ],
   "source": [
    "# Fill NaN Values\n",
    "if covid19co.isna().sum().sum() > 0:\n",
    "    covid19co.fillna(value='-', inplace=True)\n",
    "# Show dataframe\n",
    "covid19co.head()"
   ]
  },
  {
   "cell_type": "code",
   "execution_count": 58,
   "metadata": {},
   "outputs": [
    {
     "output_type": "execute_result",
     "data": {
      "text/plain": "   ID DE CASO FECHA DE NOTIFICACION  CODIGO DIVIPOLA  CIUDAD DE UBICACION  \\\n0           1            02/03/2020            11001          Bogotá D.C.   \n1           2            06/03/2020            76111  Guadalajara De Buga   \n2           3            07/03/2020             5001             Medellín   \n3           4            09/03/2020             5001             Medellín   \n4           5            09/03/2020             5001             Medellín   \n\n  DEPARTAMENTO O DISTRITO     ATENCION  EDAD SEXO         TIPO ESTADO  \\\n0              Bogotá D.C.  Recuperado    19    F    Importado   Leve   \n1          Valle Del Cauca  Recuperado    34    M    Importado   Leve   \n2                Antioquia  Recuperado    50    F    Importado   Leve   \n3                Antioquia  Recuperado    55    M  Relacionado   Leve   \n4                Antioquia  Recuperado    25    M  Relacionado   Leve   \n\n  PAIS DE PROCEDENCIA         FIS FECHA DE MUERTE FECHA DIAGNOSTICO  \\\n0              Italia  27/02/2020               -        06/03/2020   \n1              España  04/03/2020               -        09/03/2020   \n2              España  29/02/2020               -        09/03/2020   \n3            Colombia  06/03/2020               -        11/03/2020   \n4            Colombia  08/03/2020               -        11/03/2020   \n\n  FECHA RECUPERADO FECHA REPORTE WEB  \n0       13/03/2020        06/03/2020  \n1       19/03/2020        09/03/2020  \n2       15/03/2020        09/03/2020  \n3       26/03/2020        11/03/2020  \n4       23/03/2020        11/03/2020  ",
      "text/html": "<div>\n<style scoped>\n    .dataframe tbody tr th:only-of-type {\n        vertical-align: middle;\n    }\n\n    .dataframe tbody tr th {\n        vertical-align: top;\n    }\n\n    .dataframe thead th {\n        text-align: right;\n    }\n</style>\n<table border=\"1\" class=\"dataframe\">\n  <thead>\n    <tr style=\"text-align: right;\">\n      <th></th>\n      <th>ID DE CASO</th>\n      <th>FECHA DE NOTIFICACION</th>\n      <th>CODIGO DIVIPOLA</th>\n      <th>CIUDAD DE UBICACION</th>\n      <th>DEPARTAMENTO O DISTRITO</th>\n      <th>ATENCION</th>\n      <th>EDAD</th>\n      <th>SEXO</th>\n      <th>TIPO</th>\n      <th>ESTADO</th>\n      <th>PAIS DE PROCEDENCIA</th>\n      <th>FIS</th>\n      <th>FECHA DE MUERTE</th>\n      <th>FECHA DIAGNOSTICO</th>\n      <th>FECHA RECUPERADO</th>\n      <th>FECHA REPORTE WEB</th>\n    </tr>\n  </thead>\n  <tbody>\n    <tr>\n      <th>0</th>\n      <td>1</td>\n      <td>02/03/2020</td>\n      <td>11001</td>\n      <td>Bogotá D.C.</td>\n      <td>Bogotá D.C.</td>\n      <td>Recuperado</td>\n      <td>19</td>\n      <td>F</td>\n      <td>Importado</td>\n      <td>Leve</td>\n      <td>Italia</td>\n      <td>27/02/2020</td>\n      <td>-</td>\n      <td>06/03/2020</td>\n      <td>13/03/2020</td>\n      <td>06/03/2020</td>\n    </tr>\n    <tr>\n      <th>1</th>\n      <td>2</td>\n      <td>06/03/2020</td>\n      <td>76111</td>\n      <td>Guadalajara De Buga</td>\n      <td>Valle Del Cauca</td>\n      <td>Recuperado</td>\n      <td>34</td>\n      <td>M</td>\n      <td>Importado</td>\n      <td>Leve</td>\n      <td>España</td>\n      <td>04/03/2020</td>\n      <td>-</td>\n      <td>09/03/2020</td>\n      <td>19/03/2020</td>\n      <td>09/03/2020</td>\n    </tr>\n    <tr>\n      <th>2</th>\n      <td>3</td>\n      <td>07/03/2020</td>\n      <td>5001</td>\n      <td>Medellín</td>\n      <td>Antioquia</td>\n      <td>Recuperado</td>\n      <td>50</td>\n      <td>F</td>\n      <td>Importado</td>\n      <td>Leve</td>\n      <td>España</td>\n      <td>29/02/2020</td>\n      <td>-</td>\n      <td>09/03/2020</td>\n      <td>15/03/2020</td>\n      <td>09/03/2020</td>\n    </tr>\n    <tr>\n      <th>3</th>\n      <td>4</td>\n      <td>09/03/2020</td>\n      <td>5001</td>\n      <td>Medellín</td>\n      <td>Antioquia</td>\n      <td>Recuperado</td>\n      <td>55</td>\n      <td>M</td>\n      <td>Relacionado</td>\n      <td>Leve</td>\n      <td>Colombia</td>\n      <td>06/03/2020</td>\n      <td>-</td>\n      <td>11/03/2020</td>\n      <td>26/03/2020</td>\n      <td>11/03/2020</td>\n    </tr>\n    <tr>\n      <th>4</th>\n      <td>5</td>\n      <td>09/03/2020</td>\n      <td>5001</td>\n      <td>Medellín</td>\n      <td>Antioquia</td>\n      <td>Recuperado</td>\n      <td>25</td>\n      <td>M</td>\n      <td>Relacionado</td>\n      <td>Leve</td>\n      <td>Colombia</td>\n      <td>08/03/2020</td>\n      <td>-</td>\n      <td>11/03/2020</td>\n      <td>23/03/2020</td>\n      <td>11/03/2020</td>\n    </tr>\n  </tbody>\n</table>\n</div>"
     },
     "metadata": {},
     "execution_count": 58
    }
   ],
   "source": [
    "# Setup Date Format\n",
    "def setup_date(value):\n",
    "    try:\n",
    "        value = value.split('T')[0].split('-')\n",
    "        if len(value) == 3:\n",
    "            value = value[2] + '/' + value[1] + '/' + value[0]\n",
    "        else:\n",
    "            value = '-'\n",
    "    except IndexError:\n",
    "        value = '-'\n",
    "    if len(value) != 10 and len(value) != 1:\n",
    "        value = '-'\n",
    "    return value\n",
    "# Date Columns\n",
    "date_columns = list(filter(lambda value: value.find('FECHA') != -1 or value.find('FIS') != -1, covid19co.columns))\n",
    "# For each date column\n",
    "for date_column in date_columns:\n",
    "    covid19co[date_column] = covid19co[date_column].transform(lambda value: setup_date(value))\n",
    "# Show dataframe\n",
    "covid19co.head()"
   ]
  },
  {
   "cell_type": "code",
   "execution_count": 59,
   "metadata": {},
   "outputs": [
    {
     "output_type": "execute_result",
     "data": {
      "text/plain": "   ID DE CASO FECHA DE NOTIFICACION  CODIGO DIVIPOLA  CIUDAD DE UBICACION  \\\n0           1            02/03/2020            11001          Bogotá D.C.   \n1           2            06/03/2020            76111  Guadalajara De Buga   \n2           3            07/03/2020             5001             Medellín   \n3           4            09/03/2020             5001             Medellín   \n4           5            09/03/2020             5001             Medellín   \n\n  DEPARTAMENTO O DISTRITO     ATENCION  EDAD SEXO         TIPO ESTADO  ...  \\\n0              Bogotá D.C.  Recuperado    19    F    Importado   Leve  ...   \n1          Valle Del Cauca  Recuperado    34    M    Importado   Leve  ...   \n2                Antioquia  Recuperado    50    F    Importado   Leve  ...   \n3                Antioquia  Recuperado    55    M  Relacionado   Leve  ...   \n4                Antioquia  Recuperado    25    M  Relacionado   Leve  ...   \n\n  FECHA RECUPERADO DIA FECHA RECUPERADO MES FECHA RECUPERADO ANIO  \\\n0                   13                   03                  2020   \n1                   19                   03                  2020   \n2                   15                   03                  2020   \n3                   26                   03                  2020   \n4                   23                   03                  2020   \n\n  FECHA RECUPERADO NOMBRE MES FECHA RECUPERADO DIA SEMANA  \\\n0                       Marzo                     Viernes   \n1                       Marzo                      Jueves   \n2                       Marzo                     Domingo   \n3                       Marzo                      Jueves   \n4                       Marzo                       Lunes   \n\n  FECHA REPORTE WEB DIA FECHA REPORTE WEB MES FECHA REPORTE WEB ANIO  \\\n0                    06                    03                   2020   \n1                    09                    03                   2020   \n2                    09                    03                   2020   \n3                    11                    03                   2020   \n4                    11                    03                   2020   \n\n  FECHA REPORTE WEB NOMBRE MES FECHA REPORTE WEB DIA SEMANA  \n0                        Marzo                      Viernes  \n1                        Marzo                        Lunes  \n2                        Marzo                        Lunes  \n3                        Marzo                    Miércoles  \n4                        Marzo                    Miércoles  \n\n[5 rows x 46 columns]",
      "text/html": "<div>\n<style scoped>\n    .dataframe tbody tr th:only-of-type {\n        vertical-align: middle;\n    }\n\n    .dataframe tbody tr th {\n        vertical-align: top;\n    }\n\n    .dataframe thead th {\n        text-align: right;\n    }\n</style>\n<table border=\"1\" class=\"dataframe\">\n  <thead>\n    <tr style=\"text-align: right;\">\n      <th></th>\n      <th>ID DE CASO</th>\n      <th>FECHA DE NOTIFICACION</th>\n      <th>CODIGO DIVIPOLA</th>\n      <th>CIUDAD DE UBICACION</th>\n      <th>DEPARTAMENTO O DISTRITO</th>\n      <th>ATENCION</th>\n      <th>EDAD</th>\n      <th>SEXO</th>\n      <th>TIPO</th>\n      <th>ESTADO</th>\n      <th>...</th>\n      <th>FECHA RECUPERADO DIA</th>\n      <th>FECHA RECUPERADO MES</th>\n      <th>FECHA RECUPERADO ANIO</th>\n      <th>FECHA RECUPERADO NOMBRE MES</th>\n      <th>FECHA RECUPERADO DIA SEMANA</th>\n      <th>FECHA REPORTE WEB DIA</th>\n      <th>FECHA REPORTE WEB MES</th>\n      <th>FECHA REPORTE WEB ANIO</th>\n      <th>FECHA REPORTE WEB NOMBRE MES</th>\n      <th>FECHA REPORTE WEB DIA SEMANA</th>\n    </tr>\n  </thead>\n  <tbody>\n    <tr>\n      <th>0</th>\n      <td>1</td>\n      <td>02/03/2020</td>\n      <td>11001</td>\n      <td>Bogotá D.C.</td>\n      <td>Bogotá D.C.</td>\n      <td>Recuperado</td>\n      <td>19</td>\n      <td>F</td>\n      <td>Importado</td>\n      <td>Leve</td>\n      <td>...</td>\n      <td>13</td>\n      <td>03</td>\n      <td>2020</td>\n      <td>Marzo</td>\n      <td>Viernes</td>\n      <td>06</td>\n      <td>03</td>\n      <td>2020</td>\n      <td>Marzo</td>\n      <td>Viernes</td>\n    </tr>\n    <tr>\n      <th>1</th>\n      <td>2</td>\n      <td>06/03/2020</td>\n      <td>76111</td>\n      <td>Guadalajara De Buga</td>\n      <td>Valle Del Cauca</td>\n      <td>Recuperado</td>\n      <td>34</td>\n      <td>M</td>\n      <td>Importado</td>\n      <td>Leve</td>\n      <td>...</td>\n      <td>19</td>\n      <td>03</td>\n      <td>2020</td>\n      <td>Marzo</td>\n      <td>Jueves</td>\n      <td>09</td>\n      <td>03</td>\n      <td>2020</td>\n      <td>Marzo</td>\n      <td>Lunes</td>\n    </tr>\n    <tr>\n      <th>2</th>\n      <td>3</td>\n      <td>07/03/2020</td>\n      <td>5001</td>\n      <td>Medellín</td>\n      <td>Antioquia</td>\n      <td>Recuperado</td>\n      <td>50</td>\n      <td>F</td>\n      <td>Importado</td>\n      <td>Leve</td>\n      <td>...</td>\n      <td>15</td>\n      <td>03</td>\n      <td>2020</td>\n      <td>Marzo</td>\n      <td>Domingo</td>\n      <td>09</td>\n      <td>03</td>\n      <td>2020</td>\n      <td>Marzo</td>\n      <td>Lunes</td>\n    </tr>\n    <tr>\n      <th>3</th>\n      <td>4</td>\n      <td>09/03/2020</td>\n      <td>5001</td>\n      <td>Medellín</td>\n      <td>Antioquia</td>\n      <td>Recuperado</td>\n      <td>55</td>\n      <td>M</td>\n      <td>Relacionado</td>\n      <td>Leve</td>\n      <td>...</td>\n      <td>26</td>\n      <td>03</td>\n      <td>2020</td>\n      <td>Marzo</td>\n      <td>Jueves</td>\n      <td>11</td>\n      <td>03</td>\n      <td>2020</td>\n      <td>Marzo</td>\n      <td>Miércoles</td>\n    </tr>\n    <tr>\n      <th>4</th>\n      <td>5</td>\n      <td>09/03/2020</td>\n      <td>5001</td>\n      <td>Medellín</td>\n      <td>Antioquia</td>\n      <td>Recuperado</td>\n      <td>25</td>\n      <td>M</td>\n      <td>Relacionado</td>\n      <td>Leve</td>\n      <td>...</td>\n      <td>23</td>\n      <td>03</td>\n      <td>2020</td>\n      <td>Marzo</td>\n      <td>Lunes</td>\n      <td>11</td>\n      <td>03</td>\n      <td>2020</td>\n      <td>Marzo</td>\n      <td>Miércoles</td>\n    </tr>\n  </tbody>\n</table>\n<p>5 rows × 46 columns</p>\n</div>"
     },
     "metadata": {},
     "execution_count": 59
    }
   ],
   "source": [
    "# Add Day, Month, Year, Month Name and Day Name for each Date\n",
    "\n",
    "# Spanish\n",
    "nombre_mes = ['Enero', 'Febrero', 'Marzo', 'Abril', 'Mayo', 'Junio', 'Julio', 'Agosto', 'Septiembre', 'Octubre', 'Noviembre', 'Diciembre']\n",
    "nombre_dia = ['Lunes', 'Martes', 'Miércoles', 'Jueves', 'Viernes', 'Sábado', 'Domingo']\n",
    "\n",
    "# Get day\n",
    "def get_day(value):\n",
    "    if value not in '-':\n",
    "        return value.split('/')[0]\n",
    "    return value\n",
    "# Get month\n",
    "def get_month(value):\n",
    "    if value not in '-':\n",
    "        return value.split('/')[1]\n",
    "    return value\n",
    "# Get year\n",
    "def get_year(value):\n",
    "    if value not in '-':\n",
    "        return value.split('/')[2]\n",
    "    return value\n",
    "# Get month name\n",
    "def get_month_name(value):\n",
    "    if value not in '-':\n",
    "        return nombre_mes[int(value.split('/')[1]) - 1]\n",
    "    return value\n",
    "# Get weekday\n",
    "def get_weekday(value):\n",
    "    if value not in '-':\n",
    "        return nombre_dia[datetime.date(int(value.split('/')[2]), int(value.split('/')[1]), int(value.split('/')[0])).weekday()]\n",
    "    return value\n",
    "\n",
    "# For each date column\n",
    "for date_column in date_columns:\n",
    "    covid19co[date_column + ' DIA'] = covid19co[date_column].transform(lambda value: get_day(value))\n",
    "    covid19co[date_column + ' MES'] = covid19co[date_column].transform(lambda value: get_month(value))\n",
    "    covid19co[date_column + ' ANIO'] = covid19co[date_column].transform(lambda value: get_year(value))\n",
    "    covid19co[date_column + ' NOMBRE MES'] = covid19co[date_column].transform(lambda value: get_month_name(value))\n",
    "    covid19co[date_column + ' DIA SEMANA'] = covid19co[date_column].transform(lambda value: get_weekday(value))\n",
    "# Show dataframe\n",
    "covid19co.head()"
   ]
  },
  {
   "cell_type": "markdown",
   "metadata": {},
   "source": [
    "## Covid19 Colombia Dataset\n",
    "> ***Output file***: covid19co.csv"
   ]
  },
  {
   "cell_type": "code",
   "execution_count": 60,
   "metadata": {},
   "outputs": [],
   "source": [
    "# Save dataframe\n",
    "covid19co.to_csv(os.path.join(OUTPUT_DIR, 'covid19co.csv'), index=False)"
   ]
  },
  {
   "cell_type": "markdown",
   "metadata": {},
   "source": [
    "---"
   ]
  },
  {
   "cell_type": "markdown",
   "metadata": {},
   "source": [
    "## Official Covid19 Colombia Samples Processed"
   ]
  },
  {
   "cell_type": "code",
   "execution_count": 61,
   "metadata": {},
   "outputs": [],
   "source": [
    "# Official Samples Processed Until Now\n",
    "with requests.get(URL_SAMPLES_PROCESSED) as official_dataset:\n",
    "    with open(os.path.join(INPUT_DIR, 'covid19co_samples_processed_official.csv'), 'wb') as dataset_file:\n",
    "        dataset_file.write(official_dataset.content)"
   ]
  },
  {
   "cell_type": "code",
   "execution_count": 62,
   "metadata": {},
   "outputs": [
    {
     "output_type": "execute_result",
     "data": {
      "text/plain": "(78, 36)"
     },
     "metadata": {},
     "execution_count": 62
    }
   ],
   "source": [
    "# Open Official Samples Processed\n",
    "covid19co_samples_processed = pd.read_csv(os.path.join(INPUT_DIR, 'covid19co_samples_processed_official.csv'))\n",
    "# Total Daily Report\n",
    "covid19co_samples_processed.shape"
   ]
  },
  {
   "cell_type": "code",
   "execution_count": 63,
   "metadata": {},
   "outputs": [
    {
     "output_type": "execute_result",
     "data": {
      "text/plain": "                     Fecha  Acumuladas  Amazonas  Antioquia  Arauca  \\\n0            Acumulado Feb         601       NaN        NaN     NaN   \n1  2020-03-05T00:00:00.000         636       NaN        NaN     NaN   \n2  2020-03-06T00:00:00.000         739       NaN        NaN     NaN   \n3  2020-03-07T00:00:00.000         810       NaN        NaN     NaN   \n4  2020-03-08T00:00:00.000         813       NaN        NaN     NaN   \n\n   Atlantico  Bogota  Bolivar  Boyaca  Caldas  ...  Quindio  Risaralda  \\\n0        NaN     NaN      NaN     NaN     NaN  ...      NaN        NaN   \n1        NaN     NaN      NaN     NaN     NaN  ...      NaN        NaN   \n2        NaN     NaN      NaN     NaN     NaN  ...      NaN        NaN   \n3        NaN     NaN      NaN     NaN     NaN  ...      NaN        NaN   \n4        NaN     NaN      NaN     NaN     NaN  ...      NaN        NaN   \n\n   San Andres  Santander  Sucre  Tolima  Valle del Cauca  Vaupes  Vichada  \\\n0         NaN        NaN    NaN     NaN              NaN     NaN      NaN   \n1         NaN        NaN    NaN     NaN              NaN     NaN      NaN   \n2         NaN        NaN    NaN     NaN              NaN     NaN      NaN   \n3         NaN        NaN    NaN     NaN              NaN     NaN      NaN   \n4         NaN        NaN    NaN     NaN              NaN     NaN      NaN   \n\n   Procedencia desconocida  \n0                      NaN  \n1                      NaN  \n2                      NaN  \n3                      NaN  \n4                      NaN  \n\n[5 rows x 36 columns]",
      "text/html": "<div>\n<style scoped>\n    .dataframe tbody tr th:only-of-type {\n        vertical-align: middle;\n    }\n\n    .dataframe tbody tr th {\n        vertical-align: top;\n    }\n\n    .dataframe thead th {\n        text-align: right;\n    }\n</style>\n<table border=\"1\" class=\"dataframe\">\n  <thead>\n    <tr style=\"text-align: right;\">\n      <th></th>\n      <th>Fecha</th>\n      <th>Acumuladas</th>\n      <th>Amazonas</th>\n      <th>Antioquia</th>\n      <th>Arauca</th>\n      <th>Atlantico</th>\n      <th>Bogota</th>\n      <th>Bolivar</th>\n      <th>Boyaca</th>\n      <th>Caldas</th>\n      <th>...</th>\n      <th>Quindio</th>\n      <th>Risaralda</th>\n      <th>San Andres</th>\n      <th>Santander</th>\n      <th>Sucre</th>\n      <th>Tolima</th>\n      <th>Valle del Cauca</th>\n      <th>Vaupes</th>\n      <th>Vichada</th>\n      <th>Procedencia desconocida</th>\n    </tr>\n  </thead>\n  <tbody>\n    <tr>\n      <th>0</th>\n      <td>Acumulado Feb</td>\n      <td>601</td>\n      <td>NaN</td>\n      <td>NaN</td>\n      <td>NaN</td>\n      <td>NaN</td>\n      <td>NaN</td>\n      <td>NaN</td>\n      <td>NaN</td>\n      <td>NaN</td>\n      <td>...</td>\n      <td>NaN</td>\n      <td>NaN</td>\n      <td>NaN</td>\n      <td>NaN</td>\n      <td>NaN</td>\n      <td>NaN</td>\n      <td>NaN</td>\n      <td>NaN</td>\n      <td>NaN</td>\n      <td>NaN</td>\n    </tr>\n    <tr>\n      <th>1</th>\n      <td>2020-03-05T00:00:00.000</td>\n      <td>636</td>\n      <td>NaN</td>\n      <td>NaN</td>\n      <td>NaN</td>\n      <td>NaN</td>\n      <td>NaN</td>\n      <td>NaN</td>\n      <td>NaN</td>\n      <td>NaN</td>\n      <td>...</td>\n      <td>NaN</td>\n      <td>NaN</td>\n      <td>NaN</td>\n      <td>NaN</td>\n      <td>NaN</td>\n      <td>NaN</td>\n      <td>NaN</td>\n      <td>NaN</td>\n      <td>NaN</td>\n      <td>NaN</td>\n    </tr>\n    <tr>\n      <th>2</th>\n      <td>2020-03-06T00:00:00.000</td>\n      <td>739</td>\n      <td>NaN</td>\n      <td>NaN</td>\n      <td>NaN</td>\n      <td>NaN</td>\n      <td>NaN</td>\n      <td>NaN</td>\n      <td>NaN</td>\n      <td>NaN</td>\n      <td>...</td>\n      <td>NaN</td>\n      <td>NaN</td>\n      <td>NaN</td>\n      <td>NaN</td>\n      <td>NaN</td>\n      <td>NaN</td>\n      <td>NaN</td>\n      <td>NaN</td>\n      <td>NaN</td>\n      <td>NaN</td>\n    </tr>\n    <tr>\n      <th>3</th>\n      <td>2020-03-07T00:00:00.000</td>\n      <td>810</td>\n      <td>NaN</td>\n      <td>NaN</td>\n      <td>NaN</td>\n      <td>NaN</td>\n      <td>NaN</td>\n      <td>NaN</td>\n      <td>NaN</td>\n      <td>NaN</td>\n      <td>...</td>\n      <td>NaN</td>\n      <td>NaN</td>\n      <td>NaN</td>\n      <td>NaN</td>\n      <td>NaN</td>\n      <td>NaN</td>\n      <td>NaN</td>\n      <td>NaN</td>\n      <td>NaN</td>\n      <td>NaN</td>\n    </tr>\n    <tr>\n      <th>4</th>\n      <td>2020-03-08T00:00:00.000</td>\n      <td>813</td>\n      <td>NaN</td>\n      <td>NaN</td>\n      <td>NaN</td>\n      <td>NaN</td>\n      <td>NaN</td>\n      <td>NaN</td>\n      <td>NaN</td>\n      <td>NaN</td>\n      <td>...</td>\n      <td>NaN</td>\n      <td>NaN</td>\n      <td>NaN</td>\n      <td>NaN</td>\n      <td>NaN</td>\n      <td>NaN</td>\n      <td>NaN</td>\n      <td>NaN</td>\n      <td>NaN</td>\n      <td>NaN</td>\n    </tr>\n  </tbody>\n</table>\n<p>5 rows × 36 columns</p>\n</div>"
     },
     "metadata": {},
     "execution_count": 63
    }
   ],
   "source": [
    "# Show dataframe\n",
    "covid19co_samples_processed.head()"
   ]
  },
  {
   "cell_type": "code",
   "execution_count": 64,
   "metadata": {},
   "outputs": [
    {
     "output_type": "execute_result",
     "data": {
      "text/plain": "                     FECHA  ACUMULADAS  AMAZONAS  ANTIOQUIA  ARAUCA  \\\n0            Acumulado Feb         601       NaN        NaN     NaN   \n1  2020-03-05T00:00:00.000         636       NaN        NaN     NaN   \n2  2020-03-06T00:00:00.000         739       NaN        NaN     NaN   \n3  2020-03-07T00:00:00.000         810       NaN        NaN     NaN   \n4  2020-03-08T00:00:00.000         813       NaN        NaN     NaN   \n\n   ATLANTICO  BOGOTA  BOLIVAR  BOYACA  CALDAS  ...  QUINDIO  RISARALDA  \\\n0        NaN     NaN      NaN     NaN     NaN  ...      NaN        NaN   \n1        NaN     NaN      NaN     NaN     NaN  ...      NaN        NaN   \n2        NaN     NaN      NaN     NaN     NaN  ...      NaN        NaN   \n3        NaN     NaN      NaN     NaN     NaN  ...      NaN        NaN   \n4        NaN     NaN      NaN     NaN     NaN  ...      NaN        NaN   \n\n   SAN ANDRES  SANTANDER  SUCRE  TOLIMA  VALLE DEL CAUCA  VAUPES  VICHADA  \\\n0         NaN        NaN    NaN     NaN              NaN     NaN      NaN   \n1         NaN        NaN    NaN     NaN              NaN     NaN      NaN   \n2         NaN        NaN    NaN     NaN              NaN     NaN      NaN   \n3         NaN        NaN    NaN     NaN              NaN     NaN      NaN   \n4         NaN        NaN    NaN     NaN              NaN     NaN      NaN   \n\n   PROCEDENCIA DESCONOCIDA  \n0                      NaN  \n1                      NaN  \n2                      NaN  \n3                      NaN  \n4                      NaN  \n\n[5 rows x 36 columns]",
      "text/html": "<div>\n<style scoped>\n    .dataframe tbody tr th:only-of-type {\n        vertical-align: middle;\n    }\n\n    .dataframe tbody tr th {\n        vertical-align: top;\n    }\n\n    .dataframe thead th {\n        text-align: right;\n    }\n</style>\n<table border=\"1\" class=\"dataframe\">\n  <thead>\n    <tr style=\"text-align: right;\">\n      <th></th>\n      <th>FECHA</th>\n      <th>ACUMULADAS</th>\n      <th>AMAZONAS</th>\n      <th>ANTIOQUIA</th>\n      <th>ARAUCA</th>\n      <th>ATLANTICO</th>\n      <th>BOGOTA</th>\n      <th>BOLIVAR</th>\n      <th>BOYACA</th>\n      <th>CALDAS</th>\n      <th>...</th>\n      <th>QUINDIO</th>\n      <th>RISARALDA</th>\n      <th>SAN ANDRES</th>\n      <th>SANTANDER</th>\n      <th>SUCRE</th>\n      <th>TOLIMA</th>\n      <th>VALLE DEL CAUCA</th>\n      <th>VAUPES</th>\n      <th>VICHADA</th>\n      <th>PROCEDENCIA DESCONOCIDA</th>\n    </tr>\n  </thead>\n  <tbody>\n    <tr>\n      <th>0</th>\n      <td>Acumulado Feb</td>\n      <td>601</td>\n      <td>NaN</td>\n      <td>NaN</td>\n      <td>NaN</td>\n      <td>NaN</td>\n      <td>NaN</td>\n      <td>NaN</td>\n      <td>NaN</td>\n      <td>NaN</td>\n      <td>...</td>\n      <td>NaN</td>\n      <td>NaN</td>\n      <td>NaN</td>\n      <td>NaN</td>\n      <td>NaN</td>\n      <td>NaN</td>\n      <td>NaN</td>\n      <td>NaN</td>\n      <td>NaN</td>\n      <td>NaN</td>\n    </tr>\n    <tr>\n      <th>1</th>\n      <td>2020-03-05T00:00:00.000</td>\n      <td>636</td>\n      <td>NaN</td>\n      <td>NaN</td>\n      <td>NaN</td>\n      <td>NaN</td>\n      <td>NaN</td>\n      <td>NaN</td>\n      <td>NaN</td>\n      <td>NaN</td>\n      <td>...</td>\n      <td>NaN</td>\n      <td>NaN</td>\n      <td>NaN</td>\n      <td>NaN</td>\n      <td>NaN</td>\n      <td>NaN</td>\n      <td>NaN</td>\n      <td>NaN</td>\n      <td>NaN</td>\n      <td>NaN</td>\n    </tr>\n    <tr>\n      <th>2</th>\n      <td>2020-03-06T00:00:00.000</td>\n      <td>739</td>\n      <td>NaN</td>\n      <td>NaN</td>\n      <td>NaN</td>\n      <td>NaN</td>\n      <td>NaN</td>\n      <td>NaN</td>\n      <td>NaN</td>\n      <td>NaN</td>\n      <td>...</td>\n      <td>NaN</td>\n      <td>NaN</td>\n      <td>NaN</td>\n      <td>NaN</td>\n      <td>NaN</td>\n      <td>NaN</td>\n      <td>NaN</td>\n      <td>NaN</td>\n      <td>NaN</td>\n      <td>NaN</td>\n    </tr>\n    <tr>\n      <th>3</th>\n      <td>2020-03-07T00:00:00.000</td>\n      <td>810</td>\n      <td>NaN</td>\n      <td>NaN</td>\n      <td>NaN</td>\n      <td>NaN</td>\n      <td>NaN</td>\n      <td>NaN</td>\n      <td>NaN</td>\n      <td>NaN</td>\n      <td>...</td>\n      <td>NaN</td>\n      <td>NaN</td>\n      <td>NaN</td>\n      <td>NaN</td>\n      <td>NaN</td>\n      <td>NaN</td>\n      <td>NaN</td>\n      <td>NaN</td>\n      <td>NaN</td>\n      <td>NaN</td>\n    </tr>\n    <tr>\n      <th>4</th>\n      <td>2020-03-08T00:00:00.000</td>\n      <td>813</td>\n      <td>NaN</td>\n      <td>NaN</td>\n      <td>NaN</td>\n      <td>NaN</td>\n      <td>NaN</td>\n      <td>NaN</td>\n      <td>NaN</td>\n      <td>NaN</td>\n      <td>...</td>\n      <td>NaN</td>\n      <td>NaN</td>\n      <td>NaN</td>\n      <td>NaN</td>\n      <td>NaN</td>\n      <td>NaN</td>\n      <td>NaN</td>\n      <td>NaN</td>\n      <td>NaN</td>\n      <td>NaN</td>\n    </tr>\n  </tbody>\n</table>\n<p>5 rows × 36 columns</p>\n</div>"
     },
     "metadata": {},
     "execution_count": 64
    }
   ],
   "source": [
    "# Update Name Columns\n",
    "# Remove Accents and Uppercase\n",
    "covid19co_samples_processed.columns = [unidecode.unidecode(value).upper() for value in covid19co_samples_processed.columns]\n",
    "# Show dataframe\n",
    "covid19co_samples_processed.head()"
   ]
  },
  {
   "cell_type": "code",
   "execution_count": 65,
   "metadata": {},
   "outputs": [
    {
     "output_type": "execute_result",
     "data": {
      "text/plain": "        FECHA  ACUMULADAS  AMAZONAS  ANTIOQUIA  ARAUCA  ATLANTICO  BOGOTA  \\\n0           -         601       NaN        NaN     NaN        NaN     NaN   \n1  05/03/2020         636       NaN        NaN     NaN        NaN     NaN   \n2  06/03/2020         739       NaN        NaN     NaN        NaN     NaN   \n3  07/03/2020         810       NaN        NaN     NaN        NaN     NaN   \n4  08/03/2020         813       NaN        NaN     NaN        NaN     NaN   \n\n   BOLIVAR  BOYACA  CALDAS  ...  QUINDIO  RISARALDA  SAN ANDRES  SANTANDER  \\\n0      NaN     NaN     NaN  ...      NaN        NaN         NaN        NaN   \n1      NaN     NaN     NaN  ...      NaN        NaN         NaN        NaN   \n2      NaN     NaN     NaN  ...      NaN        NaN         NaN        NaN   \n3      NaN     NaN     NaN  ...      NaN        NaN         NaN        NaN   \n4      NaN     NaN     NaN  ...      NaN        NaN         NaN        NaN   \n\n   SUCRE  TOLIMA  VALLE DEL CAUCA  VAUPES  VICHADA  PROCEDENCIA DESCONOCIDA  \n0    NaN     NaN              NaN     NaN      NaN                      NaN  \n1    NaN     NaN              NaN     NaN      NaN                      NaN  \n2    NaN     NaN              NaN     NaN      NaN                      NaN  \n3    NaN     NaN              NaN     NaN      NaN                      NaN  \n4    NaN     NaN              NaN     NaN      NaN                      NaN  \n\n[5 rows x 36 columns]",
      "text/html": "<div>\n<style scoped>\n    .dataframe tbody tr th:only-of-type {\n        vertical-align: middle;\n    }\n\n    .dataframe tbody tr th {\n        vertical-align: top;\n    }\n\n    .dataframe thead th {\n        text-align: right;\n    }\n</style>\n<table border=\"1\" class=\"dataframe\">\n  <thead>\n    <tr style=\"text-align: right;\">\n      <th></th>\n      <th>FECHA</th>\n      <th>ACUMULADAS</th>\n      <th>AMAZONAS</th>\n      <th>ANTIOQUIA</th>\n      <th>ARAUCA</th>\n      <th>ATLANTICO</th>\n      <th>BOGOTA</th>\n      <th>BOLIVAR</th>\n      <th>BOYACA</th>\n      <th>CALDAS</th>\n      <th>...</th>\n      <th>QUINDIO</th>\n      <th>RISARALDA</th>\n      <th>SAN ANDRES</th>\n      <th>SANTANDER</th>\n      <th>SUCRE</th>\n      <th>TOLIMA</th>\n      <th>VALLE DEL CAUCA</th>\n      <th>VAUPES</th>\n      <th>VICHADA</th>\n      <th>PROCEDENCIA DESCONOCIDA</th>\n    </tr>\n  </thead>\n  <tbody>\n    <tr>\n      <th>0</th>\n      <td>-</td>\n      <td>601</td>\n      <td>NaN</td>\n      <td>NaN</td>\n      <td>NaN</td>\n      <td>NaN</td>\n      <td>NaN</td>\n      <td>NaN</td>\n      <td>NaN</td>\n      <td>NaN</td>\n      <td>...</td>\n      <td>NaN</td>\n      <td>NaN</td>\n      <td>NaN</td>\n      <td>NaN</td>\n      <td>NaN</td>\n      <td>NaN</td>\n      <td>NaN</td>\n      <td>NaN</td>\n      <td>NaN</td>\n      <td>NaN</td>\n    </tr>\n    <tr>\n      <th>1</th>\n      <td>05/03/2020</td>\n      <td>636</td>\n      <td>NaN</td>\n      <td>NaN</td>\n      <td>NaN</td>\n      <td>NaN</td>\n      <td>NaN</td>\n      <td>NaN</td>\n      <td>NaN</td>\n      <td>NaN</td>\n      <td>...</td>\n      <td>NaN</td>\n      <td>NaN</td>\n      <td>NaN</td>\n      <td>NaN</td>\n      <td>NaN</td>\n      <td>NaN</td>\n      <td>NaN</td>\n      <td>NaN</td>\n      <td>NaN</td>\n      <td>NaN</td>\n    </tr>\n    <tr>\n      <th>2</th>\n      <td>06/03/2020</td>\n      <td>739</td>\n      <td>NaN</td>\n      <td>NaN</td>\n      <td>NaN</td>\n      <td>NaN</td>\n      <td>NaN</td>\n      <td>NaN</td>\n      <td>NaN</td>\n      <td>NaN</td>\n      <td>...</td>\n      <td>NaN</td>\n      <td>NaN</td>\n      <td>NaN</td>\n      <td>NaN</td>\n      <td>NaN</td>\n      <td>NaN</td>\n      <td>NaN</td>\n      <td>NaN</td>\n      <td>NaN</td>\n      <td>NaN</td>\n    </tr>\n    <tr>\n      <th>3</th>\n      <td>07/03/2020</td>\n      <td>810</td>\n      <td>NaN</td>\n      <td>NaN</td>\n      <td>NaN</td>\n      <td>NaN</td>\n      <td>NaN</td>\n      <td>NaN</td>\n      <td>NaN</td>\n      <td>NaN</td>\n      <td>...</td>\n      <td>NaN</td>\n      <td>NaN</td>\n      <td>NaN</td>\n      <td>NaN</td>\n      <td>NaN</td>\n      <td>NaN</td>\n      <td>NaN</td>\n      <td>NaN</td>\n      <td>NaN</td>\n      <td>NaN</td>\n    </tr>\n    <tr>\n      <th>4</th>\n      <td>08/03/2020</td>\n      <td>813</td>\n      <td>NaN</td>\n      <td>NaN</td>\n      <td>NaN</td>\n      <td>NaN</td>\n      <td>NaN</td>\n      <td>NaN</td>\n      <td>NaN</td>\n      <td>NaN</td>\n      <td>...</td>\n      <td>NaN</td>\n      <td>NaN</td>\n      <td>NaN</td>\n      <td>NaN</td>\n      <td>NaN</td>\n      <td>NaN</td>\n      <td>NaN</td>\n      <td>NaN</td>\n      <td>NaN</td>\n      <td>NaN</td>\n    </tr>\n  </tbody>\n</table>\n<p>5 rows × 36 columns</p>\n</div>"
     },
     "metadata": {},
     "execution_count": 65
    }
   ],
   "source": [
    "# Setup Date Format\n",
    "covid19co_samples_processed['FECHA'] = covid19co_samples_processed['FECHA'].transform(lambda value: setup_date(value))\n",
    "# Show dataframe\n",
    "covid19co_samples_processed.head()"
   ]
  },
  {
   "cell_type": "code",
   "execution_count": 66,
   "metadata": {},
   "outputs": [
    {
     "output_type": "execute_result",
     "data": {
      "text/plain": "         FECHA  ACUMULADAS\n73  16/05/2020      190114\n74  17/05/2020      196417\n75  18/05/2020      201707\n76  19/05/2020      208046\n77  20/05/2020      214536",
      "text/html": "<div>\n<style scoped>\n    .dataframe tbody tr th:only-of-type {\n        vertical-align: middle;\n    }\n\n    .dataframe tbody tr th {\n        vertical-align: top;\n    }\n\n    .dataframe thead th {\n        text-align: right;\n    }\n</style>\n<table border=\"1\" class=\"dataframe\">\n  <thead>\n    <tr style=\"text-align: right;\">\n      <th></th>\n      <th>FECHA</th>\n      <th>ACUMULADAS</th>\n    </tr>\n  </thead>\n  <tbody>\n    <tr>\n      <th>73</th>\n      <td>16/05/2020</td>\n      <td>190114</td>\n    </tr>\n    <tr>\n      <th>74</th>\n      <td>17/05/2020</td>\n      <td>196417</td>\n    </tr>\n    <tr>\n      <th>75</th>\n      <td>18/05/2020</td>\n      <td>201707</td>\n    </tr>\n    <tr>\n      <th>76</th>\n      <td>19/05/2020</td>\n      <td>208046</td>\n    </tr>\n    <tr>\n      <th>77</th>\n      <td>20/05/2020</td>\n      <td>214536</td>\n    </tr>\n  </tbody>\n</table>\n</div>"
     },
     "metadata": {},
     "execution_count": 66
    }
   ],
   "source": [
    "# Select Columns\n",
    "covid19co_samples_processed = covid19co_samples_processed[['FECHA', 'ACUMULADAS']]\n",
    "# Show dataframe\n",
    "covid19co_samples_processed.tail()"
   ]
  },
  {
   "cell_type": "markdown",
   "metadata": {},
   "source": [
    "## Covid19 Colombia Samples Processed Dataset\n",
    "> ***Output file***: covid19co_samples_processed.csv"
   ]
  },
  {
   "cell_type": "code",
   "execution_count": 67,
   "metadata": {},
   "outputs": [],
   "source": [
    "# Save dataframe\n",
    "covid19co_samples_processed.to_csv(os.path.join(OUTPUT_DIR, 'covid19co_samples_processed.csv'), index=False)"
   ]
  },
  {
   "cell_type": "markdown",
   "metadata": {},
   "source": [
    "---"
   ]
  },
  {
   "cell_type": "markdown",
   "metadata": {},
   "source": [
    "## Google Community Mobility Reports - Colombia"
   ]
  },
  {
   "cell_type": "code",
   "execution_count": 68,
   "metadata": {},
   "outputs": [
    {
     "output_type": "execute_result",
     "data": {
      "text/plain": "(11, 10)"
     },
     "metadata": {},
     "execution_count": 68
    }
   ],
   "source": [
    "# Open Official Google Community Mobility - Colombia\n",
    "google_community_mobility_reports = pd.read_csv(os.path.join(OUTPUT_DIR, 'google_community_mobility_reports.csv'))\n",
    "# Total Google Community Mobility - Colombia\n",
    "google_community_mobility_reports.shape"
   ]
  },
  {
   "cell_type": "code",
   "execution_count": 69,
   "metadata": {},
   "outputs": [
    {
     "output_type": "execute_result",
     "data": {
      "text/plain": "          date   country Retail & recreation Grocery & pharmacy Parks  \\\n6   02/05/2020  Colombia                -77%               -56%  -69%   \n7   07/05/2020  Colombia                -66%               -41%  -54%   \n8   09/05/2020  Colombia                -71%               -46%  -61%   \n9   13/05/2020  Colombia                -64%               -41%  -53%   \n10  16/05/2020  Colombia                -68%               -43%  -59%   \n\n   Transit stations Workplaces Residential  \\\n6              -71%       -54%        +27%   \n7              -64%       -56%        +28%   \n8              -62%       -46%        +25%   \n9              -62%       -51%        +26%   \n10             -59%       -40%        +23%   \n\n                                    file  \\\n6   2020-05-02_CO_Mobility_Report_en.pdf   \n7   2020-05-07_CO_Mobility_Report_en.pdf   \n8   2020-05-09_CO_Mobility_Report_en.pdf   \n9   2020-05-13_CO_Mobility_Report_en.pdf   \n10  2020-05-16_CO_Mobility_Report_en.pdf   \n\n                                                  url  \n6   https://www.gstatic.com/covid19/mobility/2020-...  \n7   https://www.gstatic.com/covid19/mobility/2020-...  \n8   https://www.gstatic.com/covid19/mobility/2020-...  \n9   https://www.gstatic.com/covid19/mobility/2020-...  \n10  https://www.gstatic.com/covid19/mobility/2020-...  ",
      "text/html": "<div>\n<style scoped>\n    .dataframe tbody tr th:only-of-type {\n        vertical-align: middle;\n    }\n\n    .dataframe tbody tr th {\n        vertical-align: top;\n    }\n\n    .dataframe thead th {\n        text-align: right;\n    }\n</style>\n<table border=\"1\" class=\"dataframe\">\n  <thead>\n    <tr style=\"text-align: right;\">\n      <th></th>\n      <th>date</th>\n      <th>country</th>\n      <th>Retail &amp; recreation</th>\n      <th>Grocery &amp; pharmacy</th>\n      <th>Parks</th>\n      <th>Transit stations</th>\n      <th>Workplaces</th>\n      <th>Residential</th>\n      <th>file</th>\n      <th>url</th>\n    </tr>\n  </thead>\n  <tbody>\n    <tr>\n      <th>6</th>\n      <td>02/05/2020</td>\n      <td>Colombia</td>\n      <td>-77%</td>\n      <td>-56%</td>\n      <td>-69%</td>\n      <td>-71%</td>\n      <td>-54%</td>\n      <td>+27%</td>\n      <td>2020-05-02_CO_Mobility_Report_en.pdf</td>\n      <td>https://www.gstatic.com/covid19/mobility/2020-...</td>\n    </tr>\n    <tr>\n      <th>7</th>\n      <td>07/05/2020</td>\n      <td>Colombia</td>\n      <td>-66%</td>\n      <td>-41%</td>\n      <td>-54%</td>\n      <td>-64%</td>\n      <td>-56%</td>\n      <td>+28%</td>\n      <td>2020-05-07_CO_Mobility_Report_en.pdf</td>\n      <td>https://www.gstatic.com/covid19/mobility/2020-...</td>\n    </tr>\n    <tr>\n      <th>8</th>\n      <td>09/05/2020</td>\n      <td>Colombia</td>\n      <td>-71%</td>\n      <td>-46%</td>\n      <td>-61%</td>\n      <td>-62%</td>\n      <td>-46%</td>\n      <td>+25%</td>\n      <td>2020-05-09_CO_Mobility_Report_en.pdf</td>\n      <td>https://www.gstatic.com/covid19/mobility/2020-...</td>\n    </tr>\n    <tr>\n      <th>9</th>\n      <td>13/05/2020</td>\n      <td>Colombia</td>\n      <td>-64%</td>\n      <td>-41%</td>\n      <td>-53%</td>\n      <td>-62%</td>\n      <td>-51%</td>\n      <td>+26%</td>\n      <td>2020-05-13_CO_Mobility_Report_en.pdf</td>\n      <td>https://www.gstatic.com/covid19/mobility/2020-...</td>\n    </tr>\n    <tr>\n      <th>10</th>\n      <td>16/05/2020</td>\n      <td>Colombia</td>\n      <td>-68%</td>\n      <td>-43%</td>\n      <td>-59%</td>\n      <td>-59%</td>\n      <td>-40%</td>\n      <td>+23%</td>\n      <td>2020-05-16_CO_Mobility_Report_en.pdf</td>\n      <td>https://www.gstatic.com/covid19/mobility/2020-...</td>\n    </tr>\n  </tbody>\n</table>\n</div>"
     },
     "metadata": {},
     "execution_count": 69
    }
   ],
   "source": [
    "# Show dataframe\n",
    "google_community_mobility_reports.tail()"
   ]
  },
  {
   "cell_type": "code",
   "execution_count": 70,
   "metadata": {},
   "outputs": [
    {
     "output_type": "execute_result",
     "data": {
      "text/plain": "Empty DataFrame\nColumns: [date, country, file, url]\nIndex: []",
      "text/html": "<div>\n<style scoped>\n    .dataframe tbody tr th:only-of-type {\n        vertical-align: middle;\n    }\n\n    .dataframe tbody tr th {\n        vertical-align: top;\n    }\n\n    .dataframe thead th {\n        text-align: right;\n    }\n</style>\n<table border=\"1\" class=\"dataframe\">\n  <thead>\n    <tr style=\"text-align: right;\">\n      <th></th>\n      <th>date</th>\n      <th>country</th>\n      <th>file</th>\n      <th>url</th>\n    </tr>\n  </thead>\n  <tbody>\n  </tbody>\n</table>\n</div>"
     },
     "metadata": {},
     "execution_count": 70
    }
   ],
   "source": [
    "# Update Google Community Mobility Reports - Colombia\n",
    "date_last_report = google_community_mobility_reports['date'].values[-1]\n",
    "#print(date_last_report)\n",
    "# 13/05/2020\n",
    "date_last_report = date_last_report.split('/')\n",
    "date_last_report = date_last_report[2] + '-' + date_last_report[1] + '-' + date_last_report[0]\n",
    "#print(date_last_report)\n",
    "# 2020-05-13\n",
    "\n",
    "new_reports = pd.DataFrame(columns=['date', 'country', 'file', 'url'])\n",
    "new_reports['date'] = [dti.strftime('%Y-%m-%d') for dti in pd.date_range(start=date_last_report, end=datetime.date.today().isoformat(), freq='D')]\n",
    "new_reports['country'] = 'Colombia'\n",
    "new_reports['file'] = [date + '_CO_Mobility_Report_en.pdf' for date in new_reports['date'].values]\n",
    "# Get URL report\n",
    "def get_report_url(file):\n",
    "    with requests.get('https://www.gstatic.com/covid19/mobility/' + file) as community_mobility_report:\n",
    "        if community_mobility_report.status_code == 200:\n",
    "            return community_mobility_report.url\n",
    "        else:\n",
    "            return np.nan\n",
    "# Get URL report\n",
    "new_reports['url'] = new_reports['file'].transform(lambda value: get_report_url(value))\n",
    "# Drop any report without URL\n",
    "new_reports.dropna(inplace=True)\n",
    "# Reset index\n",
    "new_reports.reset_index(inplace=True, drop=True)\n",
    "# Only new reports\n",
    "new_reports = new_reports.iloc[1:]\n",
    "# Show dataframe\n",
    "new_reports.head()"
   ]
  },
  {
   "cell_type": "code",
   "execution_count": 71,
   "metadata": {},
   "outputs": [
    {
     "output_type": "stream",
     "name": "stdout",
     "text": "Google Community Mobility Reports - Colombia All Updated\n"
    },
    {
     "output_type": "execute_result",
     "data": {
      "text/plain": "          date   country Retail & recreation Grocery & pharmacy Parks  \\\n6   02/05/2020  Colombia                -77%               -56%  -69%   \n7   07/05/2020  Colombia                -66%               -41%  -54%   \n8   09/05/2020  Colombia                -71%               -46%  -61%   \n9   13/05/2020  Colombia                -64%               -41%  -53%   \n10  16/05/2020  Colombia                -68%               -43%  -59%   \n\n   Transit stations Workplaces Residential  \\\n6              -71%       -54%        +27%   \n7              -64%       -56%        +28%   \n8              -62%       -46%        +25%   \n9              -62%       -51%        +26%   \n10             -59%       -40%        +23%   \n\n                                    file  \\\n6   2020-05-02_CO_Mobility_Report_en.pdf   \n7   2020-05-07_CO_Mobility_Report_en.pdf   \n8   2020-05-09_CO_Mobility_Report_en.pdf   \n9   2020-05-13_CO_Mobility_Report_en.pdf   \n10  2020-05-16_CO_Mobility_Report_en.pdf   \n\n                                                  url  \n6   https://www.gstatic.com/covid19/mobility/2020-...  \n7   https://www.gstatic.com/covid19/mobility/2020-...  \n8   https://www.gstatic.com/covid19/mobility/2020-...  \n9   https://www.gstatic.com/covid19/mobility/2020-...  \n10  https://www.gstatic.com/covid19/mobility/2020-...  ",
      "text/html": "<div>\n<style scoped>\n    .dataframe tbody tr th:only-of-type {\n        vertical-align: middle;\n    }\n\n    .dataframe tbody tr th {\n        vertical-align: top;\n    }\n\n    .dataframe thead th {\n        text-align: right;\n    }\n</style>\n<table border=\"1\" class=\"dataframe\">\n  <thead>\n    <tr style=\"text-align: right;\">\n      <th></th>\n      <th>date</th>\n      <th>country</th>\n      <th>Retail &amp; recreation</th>\n      <th>Grocery &amp; pharmacy</th>\n      <th>Parks</th>\n      <th>Transit stations</th>\n      <th>Workplaces</th>\n      <th>Residential</th>\n      <th>file</th>\n      <th>url</th>\n    </tr>\n  </thead>\n  <tbody>\n    <tr>\n      <th>6</th>\n      <td>02/05/2020</td>\n      <td>Colombia</td>\n      <td>-77%</td>\n      <td>-56%</td>\n      <td>-69%</td>\n      <td>-71%</td>\n      <td>-54%</td>\n      <td>+27%</td>\n      <td>2020-05-02_CO_Mobility_Report_en.pdf</td>\n      <td>https://www.gstatic.com/covid19/mobility/2020-...</td>\n    </tr>\n    <tr>\n      <th>7</th>\n      <td>07/05/2020</td>\n      <td>Colombia</td>\n      <td>-66%</td>\n      <td>-41%</td>\n      <td>-54%</td>\n      <td>-64%</td>\n      <td>-56%</td>\n      <td>+28%</td>\n      <td>2020-05-07_CO_Mobility_Report_en.pdf</td>\n      <td>https://www.gstatic.com/covid19/mobility/2020-...</td>\n    </tr>\n    <tr>\n      <th>8</th>\n      <td>09/05/2020</td>\n      <td>Colombia</td>\n      <td>-71%</td>\n      <td>-46%</td>\n      <td>-61%</td>\n      <td>-62%</td>\n      <td>-46%</td>\n      <td>+25%</td>\n      <td>2020-05-09_CO_Mobility_Report_en.pdf</td>\n      <td>https://www.gstatic.com/covid19/mobility/2020-...</td>\n    </tr>\n    <tr>\n      <th>9</th>\n      <td>13/05/2020</td>\n      <td>Colombia</td>\n      <td>-64%</td>\n      <td>-41%</td>\n      <td>-53%</td>\n      <td>-62%</td>\n      <td>-51%</td>\n      <td>+26%</td>\n      <td>2020-05-13_CO_Mobility_Report_en.pdf</td>\n      <td>https://www.gstatic.com/covid19/mobility/2020-...</td>\n    </tr>\n    <tr>\n      <th>10</th>\n      <td>16/05/2020</td>\n      <td>Colombia</td>\n      <td>-68%</td>\n      <td>-43%</td>\n      <td>-59%</td>\n      <td>-59%</td>\n      <td>-40%</td>\n      <td>+23%</td>\n      <td>2020-05-16_CO_Mobility_Report_en.pdf</td>\n      <td>https://www.gstatic.com/covid19/mobility/2020-...</td>\n    </tr>\n  </tbody>\n</table>\n</div>"
     },
     "metadata": {},
     "execution_count": 71
    }
   ],
   "source": [
    "# Get/Add Mobility Changes\n",
    "def get_mobility_changes(URL):\n",
    "    # Target changes\n",
    "    targets = ['Retail & recreation', 'Grocery & pharmacy', 'Parks', 'Transit stations', 'Workplaces', 'Residential']\n",
    "    # Mobility Changes\n",
    "    mobility_changes = []\n",
    "    # Get Mobility Report\n",
    "    with requests.get(URL) as mobility_report:\n",
    "        if mobility_report.status_code == 200:\n",
    "            temp = tempfile.NamedTemporaryFile()\n",
    "            temp.write(mobility_report.content)\n",
    "            with open(temp.name, 'rb') as file:\n",
    "                # By pages\n",
    "                pdf_text = []\n",
    "                page = 0\n",
    "                while page != -1:\n",
    "                    text = extract_text(file, maxpages=1, page_numbers=[page])\n",
    "                    if text:\n",
    "                        pdf_text.append(text.split('\\n'))\n",
    "                        page += 1\n",
    "                    else:\n",
    "                        page = -1\n",
    "                # Page 1\n",
    "                page1 = pdf_text[0]\n",
    "                page1 = filter(lambda value: value != '', page1)\n",
    "                page1 = filter(lambda value: value in targets or value[-1] == '%', list(page1))\n",
    "                page1 = list(page1)[:6]\n",
    "                # Page 2\n",
    "                page2 = pdf_text[1]\n",
    "                page2 = filter(lambda value: value != '', page2)\n",
    "                page2 = filter(lambda value: value in targets or value[-1] == '%', list(page2))\n",
    "                page2 = list(page2)[:6]\n",
    "                # Merge\n",
    "                mobility_changes = page1 + page2\n",
    "    return mobility_changes\n",
    "\n",
    "# Check new report\n",
    "if len(new_reports['date'].values) and new_reports['date'].values[-1] != date_last_report:\n",
    "    # New report\n",
    "    print('New Google Community Mobility Reports - Colombia')\n",
    "    # Add Mobility Changes\n",
    "    new_reports['mobility_changes'] = new_reports['url'].transform(lambda value: get_mobility_changes(value))\n",
    "    # By case\n",
    "    new_reports['Retail & recreation'] = new_reports['mobility_changes'].transform(lambda value: value[1])\n",
    "    new_reports['Grocery & pharmacy'] = new_reports['mobility_changes'].transform(lambda value: value[3])\n",
    "    new_reports['Parks'] = new_reports['mobility_changes'].transform(lambda value: value[5])\n",
    "    new_reports['Transit stations'] = new_reports['mobility_changes'].transform(lambda value: value[7])\n",
    "    new_reports['Workplaces'] = new_reports['mobility_changes'].transform(lambda value: value[9])\n",
    "    new_reports['Residential'] = new_reports['mobility_changes'].transform(lambda value: value[11])\n",
    "    # Drop column\n",
    "    new_reports.drop(columns=['mobility_changes'], inplace=True)\n",
    "    # Sort columns\n",
    "    new_reports = new_reports[['date', 'country', 'Retail & recreation', 'Grocery & pharmacy', 'Parks', 'Transit stations', 'Workplaces', 'Residential', 'file', 'url']]\n",
    "    # Setup date format\n",
    "    new_reports['date'] = [value.strftime('%d/%m/%Y') for value in pd.to_datetime(new_reports['date'], format='%Y-%m-%d')]\n",
    "    # Merge and Update\n",
    "    google_community_mobility_reports = pd.concat([google_community_mobility_reports, new_reports])\n",
    "else:\n",
    "    # Do nothing\n",
    "    print('Google Community Mobility Reports - Colombia All Updated')\n",
    "\n",
    "# Show dataframe\n",
    "google_community_mobility_reports.tail()"
   ]
  },
  {
   "cell_type": "markdown",
   "metadata": {},
   "source": [
    "## Google Community Mobility Reports - Colombia\n",
    "> ***Output file***: google_community_mobility_reports.csv"
   ]
  },
  {
   "cell_type": "code",
   "execution_count": 72,
   "metadata": {},
   "outputs": [],
   "source": [
    "# Save dataframe\n",
    "google_community_mobility_reports.to_csv(os.path.join(OUTPUT_DIR, 'google_community_mobility_reports.csv'), index=False)"
   ]
  },
  {
   "cell_type": "markdown",
   "metadata": {},
   "source": [
    "---"
   ]
  },
  {
   "cell_type": "code",
   "execution_count": null,
   "metadata": {},
   "outputs": [],
   "source": []
  }
 ],
 "metadata": {
  "language_info": {
   "codemirror_mode": {
    "name": "ipython",
    "version": 3
   },
   "file_extension": ".py",
   "mimetype": "text/x-python",
   "name": "python",
   "nbconvert_exporter": "python",
   "pygments_lexer": "ipython3",
   "version": "3.6.9-final"
  },
  "orig_nbformat": 2,
  "kernelspec": {
   "name": "python36964bitvenvvenv83dfe23e093e47f3b91ee1d0340b51b2",
   "display_name": "Python 3.6.9 64-bit ('.venv': venv)"
  }
 },
 "nbformat": 4,
 "nbformat_minor": 2
}