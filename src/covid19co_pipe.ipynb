{
 "cells": [
  {
   "cell_type": "code",
   "execution_count": 11,
   "metadata": {},
   "outputs": [],
   "source": [
    "# This Python 3 environment comes with many helpful analytics libraries installed\n",
    "# It is defined by the kaggle/python docker image: https://github.com/kaggle/docker-python\n",
    "# For example, here's several helpful packages to load in \n",
    "\n",
    "# Dependencies\n",
    "import numpy as np\n",
    "import pandas as pd\n",
    "import requests\n",
    "import unidecode\n",
    "import datetime\n",
    "import dateutil\n",
    "import subprocess\n",
    "import sys\n",
    "import json\n",
    "import tempfile\n",
    "import os\n",
    "\n",
    "# Install missing dependencies\n",
    "def install(package):\n",
    "    subprocess.check_call([sys.executable, \"-m\", \"pip\", \"install\", package])\n",
    "# PDFMiner pdfminer.six\n",
    "try:\n",
    "    from pdfminer.high_level import extract_text\n",
    "except Exception:\n",
    "    install('pdfminer.six')\n",
    "    from pdfminer.high_level import extract_text\n",
    "\n",
    "# Input data files are available in the \"../input/\" directory.\n",
    "# For example, running this (by clicking run or pressing Shift+Enter) will list all files under the input directory\n",
    "\n",
    "#for dirname, _, filenames in os.walk('/kaggle/input'):\n",
    "#    for filename in filenames:\n",
    "#        print(os.path.join(dirname, filename))\n",
    "\n",
    "# Any results you write to the current directory are saved as output."
   ]
  },
  {
   "cell_type": "markdown",
   "metadata": {},
   "source": [
    "---"
   ]
  },
  {
   "cell_type": "markdown",
   "metadata": {},
   "source": [
    "# Colombia Covid19 Pipeline\n",
    "Dataset obtained from [Instituto Nacional de Salud](https://www.ins.gov.co/Noticias/Paginas/Coronavirus.aspx) daily report Covid19 from Colombia.\n",
    "\n",
    "You can get the official dataset here: \n",
    "[INS - Official Report](https://www.datos.gov.co/Salud-y-Protecci-n-Social/Casos-positivos-de-COVID-19-en-Colombia/gt2j-8ykr)\n",
    "\n",
    "The number of new cases are increasing day by day around the world.\n",
    "This dataset has information about reported cases from 32 Colombia departments.\n",
    "\n",
    "Also you can get the dataset Google COVID-19 Community Mobility Reports - Colombia.\n",
    "\n",
    "You can view and collaborate to the analysis here:\n",
    "[colombia_covid_19_analysis](https://www.kaggle.com/sebaxtian/colombia-covid-19-analysis) Kaggle Notebook Kernel."
   ]
  },
  {
   "cell_type": "markdown",
   "metadata": {},
   "source": [
    "---"
   ]
  },
  {
   "cell_type": "markdown",
   "metadata": {},
   "source": [
    "## Data Sources"
   ]
  },
  {
   "cell_type": "code",
   "execution_count": 12,
   "metadata": {},
   "outputs": [],
   "source": [
    "# Input data files are available in the \"../input/\" directory.\n",
    "INPUT_DIR = './'\n",
    "if os.path.split(os.path.abspath('.'))[-1] == 'src':\n",
    "    INPUT_DIR = '../input'\n",
    "# Output data files are available in the \"../output/\" directory.\n",
    "OUTPUT_DIR = './'\n",
    "if os.path.split(os.path.abspath('.'))[-1] == 'src':\n",
    "    OUTPUT_DIR = '../output'\n",
    "# Official Daily Report Until Now\n",
    "URL_OFFICIAL_DATASET = 'https://www.datos.gov.co/api/views/gt2j-8ykr/rows.csv?accessType=DOWNLOAD'\n",
    "# Official Daily Samples Processed\n",
    "URL_SAMPLES_PROCESSED = 'https://infogram.com/api/live/flex/4524241a-91a7-4bbd-a58e-63c12fb2952f/96848e74-6055-4aa8-9944-502bf69ef6fc?'"
   ]
  },
  {
   "cell_type": "markdown",
   "metadata": {},
   "source": [
    "---"
   ]
  },
  {
   "cell_type": "markdown",
   "metadata": {},
   "source": [
    "## Official Covid19 Colombia Daily Report"
   ]
  },
  {
   "cell_type": "code",
   "execution_count": 13,
   "metadata": {},
   "outputs": [],
   "source": [
    "# Official Daily Report Until Now\n",
    "with requests.get(URL_OFFICIAL_DATASET) as official_dataset:\n",
    "    with open(os.path.join(INPUT_DIR, 'covid19co_official.csv'), 'wb') as dataset_file:\n",
    "        dataset_file.write(official_dataset.content)"
   ]
  },
  {
   "cell_type": "code",
   "execution_count": 14,
   "metadata": {},
   "outputs": [
    {
     "output_type": "execute_result",
     "data": {
      "text/plain": "(4561, 16)"
     },
     "metadata": {},
     "execution_count": 14
    }
   ],
   "source": [
    "# Open Official Daily Report\n",
    "covid19co = pd.read_csv(os.path.join(INPUT_DIR, 'covid19co_official.csv'))\n",
    "# Total Daily Report\n",
    "covid19co.shape"
   ]
  },
  {
   "cell_type": "code",
   "execution_count": 15,
   "metadata": {},
   "outputs": [
    {
     "output_type": "execute_result",
     "data": {
      "text/plain": "      ID de caso    Fecha de notificación  Codigo DIVIPOLA  \\\n4556        4557  2020-04-20T00:00:00.000            11001   \n4557        4558  2020-04-20T00:00:00.000            11001   \n4558        4559  2020-04-18T00:00:00.000            76001   \n4559        4560  2020-04-23T00:00:00.000             5001   \n4560        4561  2020-04-23T00:00:00.000            47001   \n\n     Ciudad de ubicación Departamento o Distrito  atención  Edad Sexo  \\\n4556         Bogotá D.C.              Bogotá D.C.     Casa    20    F   \n4557         Bogotá D.C.              Bogotá D.C.     Casa    33    F   \n4558                Cali          Valle del Cauca     Casa    69    F   \n4559            Medellín                Antioquia     Casa     8    F   \n4560         Santa Marta    Santa Marta D.T. y C.     Casa    33    M   \n\n             Tipo Estado País de procedencia                      FIS  \\\n4556  Relacionado   Leve            COLOMBIA  2020-04-20T00:00:00.000   \n4557  Relacionado   Leve            COLOMBIA  2020-04-20T00:00:00.000   \n4558   En estudio   Leve            COLOMBIA  2020-04-13T00:00:00.000   \n4559  Relacionado   Leve            COLOMBIA             Asintomático   \n4560  Relacionado   Leve            COLOMBIA             Asintomático   \n\n     Fecha de muerte        Fecha diagnostico Fecha recuperado  \\\n4556           -   -  2020-04-23T00:00:00.000              NaN   \n4557           -   -  2020-04-23T00:00:00.000              NaN   \n4558           -   -  2020-04-23T00:00:00.000              NaN   \n4559           -   -  2020-04-23T00:00:00.000              NaN   \n4560           -   -  2020-04-23T00:00:00.000              NaN   \n\n            fecha reporte web  \n4556  2020-04-23T00:00:00.000  \n4557  2020-04-23T00:00:00.000  \n4558  2020-04-23T00:00:00.000  \n4559  2020-04-23T00:00:00.000  \n4560  2020-04-23T00:00:00.000  ",
      "text/html": "<div>\n<style scoped>\n    .dataframe tbody tr th:only-of-type {\n        vertical-align: middle;\n    }\n\n    .dataframe tbody tr th {\n        vertical-align: top;\n    }\n\n    .dataframe thead th {\n        text-align: right;\n    }\n</style>\n<table border=\"1\" class=\"dataframe\">\n  <thead>\n    <tr style=\"text-align: right;\">\n      <th></th>\n      <th>ID de caso</th>\n      <th>Fecha de notificación</th>\n      <th>Codigo DIVIPOLA</th>\n      <th>Ciudad de ubicación</th>\n      <th>Departamento o Distrito</th>\n      <th>atención</th>\n      <th>Edad</th>\n      <th>Sexo</th>\n      <th>Tipo</th>\n      <th>Estado</th>\n      <th>País de procedencia</th>\n      <th>FIS</th>\n      <th>Fecha de muerte</th>\n      <th>Fecha diagnostico</th>\n      <th>Fecha recuperado</th>\n      <th>fecha reporte web</th>\n    </tr>\n  </thead>\n  <tbody>\n    <tr>\n      <th>4556</th>\n      <td>4557</td>\n      <td>2020-04-20T00:00:00.000</td>\n      <td>11001</td>\n      <td>Bogotá D.C.</td>\n      <td>Bogotá D.C.</td>\n      <td>Casa</td>\n      <td>20</td>\n      <td>F</td>\n      <td>Relacionado</td>\n      <td>Leve</td>\n      <td>COLOMBIA</td>\n      <td>2020-04-20T00:00:00.000</td>\n      <td>-   -</td>\n      <td>2020-04-23T00:00:00.000</td>\n      <td>NaN</td>\n      <td>2020-04-23T00:00:00.000</td>\n    </tr>\n    <tr>\n      <th>4557</th>\n      <td>4558</td>\n      <td>2020-04-20T00:00:00.000</td>\n      <td>11001</td>\n      <td>Bogotá D.C.</td>\n      <td>Bogotá D.C.</td>\n      <td>Casa</td>\n      <td>33</td>\n      <td>F</td>\n      <td>Relacionado</td>\n      <td>Leve</td>\n      <td>COLOMBIA</td>\n      <td>2020-04-20T00:00:00.000</td>\n      <td>-   -</td>\n      <td>2020-04-23T00:00:00.000</td>\n      <td>NaN</td>\n      <td>2020-04-23T00:00:00.000</td>\n    </tr>\n    <tr>\n      <th>4558</th>\n      <td>4559</td>\n      <td>2020-04-18T00:00:00.000</td>\n      <td>76001</td>\n      <td>Cali</td>\n      <td>Valle del Cauca</td>\n      <td>Casa</td>\n      <td>69</td>\n      <td>F</td>\n      <td>En estudio</td>\n      <td>Leve</td>\n      <td>COLOMBIA</td>\n      <td>2020-04-13T00:00:00.000</td>\n      <td>-   -</td>\n      <td>2020-04-23T00:00:00.000</td>\n      <td>NaN</td>\n      <td>2020-04-23T00:00:00.000</td>\n    </tr>\n    <tr>\n      <th>4559</th>\n      <td>4560</td>\n      <td>2020-04-23T00:00:00.000</td>\n      <td>5001</td>\n      <td>Medellín</td>\n      <td>Antioquia</td>\n      <td>Casa</td>\n      <td>8</td>\n      <td>F</td>\n      <td>Relacionado</td>\n      <td>Leve</td>\n      <td>COLOMBIA</td>\n      <td>Asintomático</td>\n      <td>-   -</td>\n      <td>2020-04-23T00:00:00.000</td>\n      <td>NaN</td>\n      <td>2020-04-23T00:00:00.000</td>\n    </tr>\n    <tr>\n      <th>4560</th>\n      <td>4561</td>\n      <td>2020-04-23T00:00:00.000</td>\n      <td>47001</td>\n      <td>Santa Marta</td>\n      <td>Santa Marta D.T. y C.</td>\n      <td>Casa</td>\n      <td>33</td>\n      <td>M</td>\n      <td>Relacionado</td>\n      <td>Leve</td>\n      <td>COLOMBIA</td>\n      <td>Asintomático</td>\n      <td>-   -</td>\n      <td>2020-04-23T00:00:00.000</td>\n      <td>NaN</td>\n      <td>2020-04-23T00:00:00.000</td>\n    </tr>\n  </tbody>\n</table>\n</div>"
     },
     "metadata": {},
     "execution_count": 15
    }
   ],
   "source": [
    "# Show dataframe\n",
    "covid19co.tail()"
   ]
  },
  {
   "cell_type": "code",
   "execution_count": 16,
   "metadata": {},
   "outputs": [
    {
     "output_type": "execute_result",
     "data": {
      "text/plain": "['ID de caso',\n 'Fecha de notificación',\n 'Codigo DIVIPOLA',\n 'Ciudad de ubicación',\n 'Departamento o Distrito ',\n 'atención',\n 'Edad',\n 'Sexo',\n 'Tipo',\n 'Estado',\n 'País de procedencia',\n 'FIS',\n 'Fecha de muerte',\n 'Fecha diagnostico',\n 'Fecha recuperado',\n 'fecha reporte web']"
     },
     "metadata": {},
     "execution_count": 16
    }
   ],
   "source": [
    "# Show attributes\n",
    "list(covid19co.columns.values)"
   ]
  },
  {
   "cell_type": "code",
   "execution_count": 17,
   "metadata": {},
   "outputs": [
    {
     "output_type": "execute_result",
     "data": {
      "text/plain": "   ID DE CASO    FECHA DE NOTIFICACION  CODIGO DIVIPOLA  CIUDAD DE UBICACION  \\\n0           1  2020-03-02T00:00:00.000            11001          Bogotá D.C.   \n1           2  2020-03-06T00:00:00.000            76111  Guadalajara de Buga   \n2           3  2020-03-07T00:00:00.000             5001             Medellín   \n3           4  2020-03-09T00:00:00.000             5001             Medellín   \n4           5  2020-03-09T00:00:00.000             5001             Medellín   \n\n  DEPARTAMENTO O DISTRITO     ATENCION  EDAD SEXO         TIPO ESTADO  \\\n0              Bogotá D.C.  Recuperado    19    F    Importado   Leve   \n1          Valle del Cauca  Recuperado    34    M    Importado   Leve   \n2                Antioquia  Recuperado    50    F    Importado   Leve   \n3                Antioquia  Recuperado    55    M  Relacionado   Leve   \n4                Antioquia  Recuperado    25    M  Relacionado   Leve   \n\n  PAIS DE PROCEDENCIA                      FIS FECHA DE MUERTE  \\\n0              ITALIA  2020-02-27T00:00:00.000           -   -   \n1              ESPAÑA  2020-03-04T00:00:00.000           -   -   \n2              ESPAÑA  2020-02-29T00:00:00.000           -   -   \n3            COLOMBIA  2020-03-06T00:00:00.000           -   -   \n4            COLOMBIA  2020-03-08T00:00:00.000           -   -   \n\n         FECHA DIAGNOSTICO         FECHA RECUPERADO        FECHA REPORTE WEB  \n0  2020-03-06T00:00:00.000  2020-03-13T00:00:00.000  2020-03-06T00:00:00.000  \n1  2020-03-09T00:00:00.000  2020-03-19T00:00:00.000  2020-03-09T00:00:00.000  \n2  2020-03-09T00:00:00.000  2020-03-15T00:00:00.000  2020-03-09T00:00:00.000  \n3  2020-03-11T00:00:00.000  2020-03-26T00:00:00.000  2020-03-11T00:00:00.000  \n4  2020-03-11T00:00:00.000  2020-03-23T00:00:00.000  2020-03-11T00:00:00.000  ",
      "text/html": "<div>\n<style scoped>\n    .dataframe tbody tr th:only-of-type {\n        vertical-align: middle;\n    }\n\n    .dataframe tbody tr th {\n        vertical-align: top;\n    }\n\n    .dataframe thead th {\n        text-align: right;\n    }\n</style>\n<table border=\"1\" class=\"dataframe\">\n  <thead>\n    <tr style=\"text-align: right;\">\n      <th></th>\n      <th>ID DE CASO</th>\n      <th>FECHA DE NOTIFICACION</th>\n      <th>CODIGO DIVIPOLA</th>\n      <th>CIUDAD DE UBICACION</th>\n      <th>DEPARTAMENTO O DISTRITO</th>\n      <th>ATENCION</th>\n      <th>EDAD</th>\n      <th>SEXO</th>\n      <th>TIPO</th>\n      <th>ESTADO</th>\n      <th>PAIS DE PROCEDENCIA</th>\n      <th>FIS</th>\n      <th>FECHA DE MUERTE</th>\n      <th>FECHA DIAGNOSTICO</th>\n      <th>FECHA RECUPERADO</th>\n      <th>FECHA REPORTE WEB</th>\n    </tr>\n  </thead>\n  <tbody>\n    <tr>\n      <th>0</th>\n      <td>1</td>\n      <td>2020-03-02T00:00:00.000</td>\n      <td>11001</td>\n      <td>Bogotá D.C.</td>\n      <td>Bogotá D.C.</td>\n      <td>Recuperado</td>\n      <td>19</td>\n      <td>F</td>\n      <td>Importado</td>\n      <td>Leve</td>\n      <td>ITALIA</td>\n      <td>2020-02-27T00:00:00.000</td>\n      <td>-   -</td>\n      <td>2020-03-06T00:00:00.000</td>\n      <td>2020-03-13T00:00:00.000</td>\n      <td>2020-03-06T00:00:00.000</td>\n    </tr>\n    <tr>\n      <th>1</th>\n      <td>2</td>\n      <td>2020-03-06T00:00:00.000</td>\n      <td>76111</td>\n      <td>Guadalajara de Buga</td>\n      <td>Valle del Cauca</td>\n      <td>Recuperado</td>\n      <td>34</td>\n      <td>M</td>\n      <td>Importado</td>\n      <td>Leve</td>\n      <td>ESPAÑA</td>\n      <td>2020-03-04T00:00:00.000</td>\n      <td>-   -</td>\n      <td>2020-03-09T00:00:00.000</td>\n      <td>2020-03-19T00:00:00.000</td>\n      <td>2020-03-09T00:00:00.000</td>\n    </tr>\n    <tr>\n      <th>2</th>\n      <td>3</td>\n      <td>2020-03-07T00:00:00.000</td>\n      <td>5001</td>\n      <td>Medellín</td>\n      <td>Antioquia</td>\n      <td>Recuperado</td>\n      <td>50</td>\n      <td>F</td>\n      <td>Importado</td>\n      <td>Leve</td>\n      <td>ESPAÑA</td>\n      <td>2020-02-29T00:00:00.000</td>\n      <td>-   -</td>\n      <td>2020-03-09T00:00:00.000</td>\n      <td>2020-03-15T00:00:00.000</td>\n      <td>2020-03-09T00:00:00.000</td>\n    </tr>\n    <tr>\n      <th>3</th>\n      <td>4</td>\n      <td>2020-03-09T00:00:00.000</td>\n      <td>5001</td>\n      <td>Medellín</td>\n      <td>Antioquia</td>\n      <td>Recuperado</td>\n      <td>55</td>\n      <td>M</td>\n      <td>Relacionado</td>\n      <td>Leve</td>\n      <td>COLOMBIA</td>\n      <td>2020-03-06T00:00:00.000</td>\n      <td>-   -</td>\n      <td>2020-03-11T00:00:00.000</td>\n      <td>2020-03-26T00:00:00.000</td>\n      <td>2020-03-11T00:00:00.000</td>\n    </tr>\n    <tr>\n      <th>4</th>\n      <td>5</td>\n      <td>2020-03-09T00:00:00.000</td>\n      <td>5001</td>\n      <td>Medellín</td>\n      <td>Antioquia</td>\n      <td>Recuperado</td>\n      <td>25</td>\n      <td>M</td>\n      <td>Relacionado</td>\n      <td>Leve</td>\n      <td>COLOMBIA</td>\n      <td>2020-03-08T00:00:00.000</td>\n      <td>-   -</td>\n      <td>2020-03-11T00:00:00.000</td>\n      <td>2020-03-23T00:00:00.000</td>\n      <td>2020-03-11T00:00:00.000</td>\n    </tr>\n  </tbody>\n</table>\n</div>"
     },
     "metadata": {},
     "execution_count": 17
    }
   ],
   "source": [
    "# Update Name Columns\n",
    "# Remove Accents and Uppercase\n",
    "covid19co.columns = [unidecode.unidecode(value).upper() for value in covid19co.columns]\n",
    "# Show dataframe\n",
    "covid19co.head()"
   ]
  },
  {
   "cell_type": "code",
   "execution_count": 18,
   "metadata": {},
   "outputs": [
    {
     "output_type": "execute_result",
     "data": {
      "text/plain": "   ID DE CASO    FECHA DE NOTIFICACION  CODIGO DIVIPOLA  CIUDAD DE UBICACION  \\\n0           1  2020-03-02T00:00:00.000            11001          Bogotá D.C.   \n1           2  2020-03-06T00:00:00.000            76111  Guadalajara De Buga   \n2           3  2020-03-07T00:00:00.000             5001             Medellín   \n3           4  2020-03-09T00:00:00.000             5001             Medellín   \n4           5  2020-03-09T00:00:00.000             5001             Medellín   \n\n  DEPARTAMENTO O DISTRITO     ATENCION  EDAD SEXO         TIPO ESTADO  \\\n0              Bogotá D.C.  Recuperado    19    F    Importado   Leve   \n1          Valle Del Cauca  Recuperado    34    M    Importado   Leve   \n2                Antioquia  Recuperado    50    F    Importado   Leve   \n3                Antioquia  Recuperado    55    M  Relacionado   Leve   \n4                Antioquia  Recuperado    25    M  Relacionado   Leve   \n\n  PAIS DE PROCEDENCIA                      FIS FECHA DE MUERTE  \\\n0              Italia  2020-02-27T00:00:00.000           -   -   \n1              España  2020-03-04T00:00:00.000           -   -   \n2              España  2020-02-29T00:00:00.000           -   -   \n3            Colombia  2020-03-06T00:00:00.000           -   -   \n4            Colombia  2020-03-08T00:00:00.000           -   -   \n\n         FECHA DIAGNOSTICO         FECHA RECUPERADO        FECHA REPORTE WEB  \n0  2020-03-06T00:00:00.000  2020-03-13T00:00:00.000  2020-03-06T00:00:00.000  \n1  2020-03-09T00:00:00.000  2020-03-19T00:00:00.000  2020-03-09T00:00:00.000  \n2  2020-03-09T00:00:00.000  2020-03-15T00:00:00.000  2020-03-09T00:00:00.000  \n3  2020-03-11T00:00:00.000  2020-03-26T00:00:00.000  2020-03-11T00:00:00.000  \n4  2020-03-11T00:00:00.000  2020-03-23T00:00:00.000  2020-03-11T00:00:00.000  ",
      "text/html": "<div>\n<style scoped>\n    .dataframe tbody tr th:only-of-type {\n        vertical-align: middle;\n    }\n\n    .dataframe tbody tr th {\n        vertical-align: top;\n    }\n\n    .dataframe thead th {\n        text-align: right;\n    }\n</style>\n<table border=\"1\" class=\"dataframe\">\n  <thead>\n    <tr style=\"text-align: right;\">\n      <th></th>\n      <th>ID DE CASO</th>\n      <th>FECHA DE NOTIFICACION</th>\n      <th>CODIGO DIVIPOLA</th>\n      <th>CIUDAD DE UBICACION</th>\n      <th>DEPARTAMENTO O DISTRITO</th>\n      <th>ATENCION</th>\n      <th>EDAD</th>\n      <th>SEXO</th>\n      <th>TIPO</th>\n      <th>ESTADO</th>\n      <th>PAIS DE PROCEDENCIA</th>\n      <th>FIS</th>\n      <th>FECHA DE MUERTE</th>\n      <th>FECHA DIAGNOSTICO</th>\n      <th>FECHA RECUPERADO</th>\n      <th>FECHA REPORTE WEB</th>\n    </tr>\n  </thead>\n  <tbody>\n    <tr>\n      <th>0</th>\n      <td>1</td>\n      <td>2020-03-02T00:00:00.000</td>\n      <td>11001</td>\n      <td>Bogotá D.C.</td>\n      <td>Bogotá D.C.</td>\n      <td>Recuperado</td>\n      <td>19</td>\n      <td>F</td>\n      <td>Importado</td>\n      <td>Leve</td>\n      <td>Italia</td>\n      <td>2020-02-27T00:00:00.000</td>\n      <td>-   -</td>\n      <td>2020-03-06T00:00:00.000</td>\n      <td>2020-03-13T00:00:00.000</td>\n      <td>2020-03-06T00:00:00.000</td>\n    </tr>\n    <tr>\n      <th>1</th>\n      <td>2</td>\n      <td>2020-03-06T00:00:00.000</td>\n      <td>76111</td>\n      <td>Guadalajara De Buga</td>\n      <td>Valle Del Cauca</td>\n      <td>Recuperado</td>\n      <td>34</td>\n      <td>M</td>\n      <td>Importado</td>\n      <td>Leve</td>\n      <td>España</td>\n      <td>2020-03-04T00:00:00.000</td>\n      <td>-   -</td>\n      <td>2020-03-09T00:00:00.000</td>\n      <td>2020-03-19T00:00:00.000</td>\n      <td>2020-03-09T00:00:00.000</td>\n    </tr>\n    <tr>\n      <th>2</th>\n      <td>3</td>\n      <td>2020-03-07T00:00:00.000</td>\n      <td>5001</td>\n      <td>Medellín</td>\n      <td>Antioquia</td>\n      <td>Recuperado</td>\n      <td>50</td>\n      <td>F</td>\n      <td>Importado</td>\n      <td>Leve</td>\n      <td>España</td>\n      <td>2020-02-29T00:00:00.000</td>\n      <td>-   -</td>\n      <td>2020-03-09T00:00:00.000</td>\n      <td>2020-03-15T00:00:00.000</td>\n      <td>2020-03-09T00:00:00.000</td>\n    </tr>\n    <tr>\n      <th>3</th>\n      <td>4</td>\n      <td>2020-03-09T00:00:00.000</td>\n      <td>5001</td>\n      <td>Medellín</td>\n      <td>Antioquia</td>\n      <td>Recuperado</td>\n      <td>55</td>\n      <td>M</td>\n      <td>Relacionado</td>\n      <td>Leve</td>\n      <td>Colombia</td>\n      <td>2020-03-06T00:00:00.000</td>\n      <td>-   -</td>\n      <td>2020-03-11T00:00:00.000</td>\n      <td>2020-03-26T00:00:00.000</td>\n      <td>2020-03-11T00:00:00.000</td>\n    </tr>\n    <tr>\n      <th>4</th>\n      <td>5</td>\n      <td>2020-03-09T00:00:00.000</td>\n      <td>5001</td>\n      <td>Medellín</td>\n      <td>Antioquia</td>\n      <td>Recuperado</td>\n      <td>25</td>\n      <td>M</td>\n      <td>Relacionado</td>\n      <td>Leve</td>\n      <td>Colombia</td>\n      <td>2020-03-08T00:00:00.000</td>\n      <td>-   -</td>\n      <td>2020-03-11T00:00:00.000</td>\n      <td>2020-03-23T00:00:00.000</td>\n      <td>2020-03-11T00:00:00.000</td>\n    </tr>\n  </tbody>\n</table>\n</div>"
     },
     "metadata": {},
     "execution_count": 18
    }
   ],
   "source": [
    "# Update texto to title text format\n",
    "for attr in covid19co.columns:\n",
    "    if covid19co[attr].dtypes == 'object':\n",
    "        covid19co[attr] = covid19co[attr].transform(lambda value: str(value).title())\n",
    "# Show dataframe\n",
    "covid19co.head()"
   ]
  },
  {
   "cell_type": "code",
   "execution_count": 19,
   "metadata": {},
   "outputs": [
    {
     "output_type": "execute_result",
     "data": {
      "text/plain": "   ID DE CASO    FECHA DE NOTIFICACION  CODIGO DIVIPOLA  CIUDAD DE UBICACION  \\\n0           1  2020-03-02T00:00:00.000            11001          Bogotá D.C.   \n1           2  2020-03-06T00:00:00.000            76111  Guadalajara De Buga   \n2           3  2020-03-07T00:00:00.000             5001             Medellín   \n3           4  2020-03-09T00:00:00.000             5001             Medellín   \n4           5  2020-03-09T00:00:00.000             5001             Medellín   \n\n  DEPARTAMENTO O DISTRITO     ATENCION  EDAD SEXO         TIPO ESTADO  \\\n0              Bogotá D.C.  Recuperado    19    F    Importado   Leve   \n1          Valle Del Cauca  Recuperado    34    M    Importado   Leve   \n2                Antioquia  Recuperado    50    F    Importado   Leve   \n3                Antioquia  Recuperado    55    M  Relacionado   Leve   \n4                Antioquia  Recuperado    25    M  Relacionado   Leve   \n\n  PAIS DE PROCEDENCIA                      FIS FECHA DE MUERTE  \\\n0              Italia  2020-02-27T00:00:00.000           -   -   \n1              España  2020-03-04T00:00:00.000           -   -   \n2              España  2020-02-29T00:00:00.000           -   -   \n3            Colombia  2020-03-06T00:00:00.000           -   -   \n4            Colombia  2020-03-08T00:00:00.000           -   -   \n\n         FECHA DIAGNOSTICO         FECHA RECUPERADO        FECHA REPORTE WEB  \n0  2020-03-06T00:00:00.000  2020-03-13T00:00:00.000  2020-03-06T00:00:00.000  \n1  2020-03-09T00:00:00.000  2020-03-19T00:00:00.000  2020-03-09T00:00:00.000  \n2  2020-03-09T00:00:00.000  2020-03-15T00:00:00.000  2020-03-09T00:00:00.000  \n3  2020-03-11T00:00:00.000  2020-03-26T00:00:00.000  2020-03-11T00:00:00.000  \n4  2020-03-11T00:00:00.000  2020-03-23T00:00:00.000  2020-03-11T00:00:00.000  ",
      "text/html": "<div>\n<style scoped>\n    .dataframe tbody tr th:only-of-type {\n        vertical-align: middle;\n    }\n\n    .dataframe tbody tr th {\n        vertical-align: top;\n    }\n\n    .dataframe thead th {\n        text-align: right;\n    }\n</style>\n<table border=\"1\" class=\"dataframe\">\n  <thead>\n    <tr style=\"text-align: right;\">\n      <th></th>\n      <th>ID DE CASO</th>\n      <th>FECHA DE NOTIFICACION</th>\n      <th>CODIGO DIVIPOLA</th>\n      <th>CIUDAD DE UBICACION</th>\n      <th>DEPARTAMENTO O DISTRITO</th>\n      <th>ATENCION</th>\n      <th>EDAD</th>\n      <th>SEXO</th>\n      <th>TIPO</th>\n      <th>ESTADO</th>\n      <th>PAIS DE PROCEDENCIA</th>\n      <th>FIS</th>\n      <th>FECHA DE MUERTE</th>\n      <th>FECHA DIAGNOSTICO</th>\n      <th>FECHA RECUPERADO</th>\n      <th>FECHA REPORTE WEB</th>\n    </tr>\n  </thead>\n  <tbody>\n    <tr>\n      <th>0</th>\n      <td>1</td>\n      <td>2020-03-02T00:00:00.000</td>\n      <td>11001</td>\n      <td>Bogotá D.C.</td>\n      <td>Bogotá D.C.</td>\n      <td>Recuperado</td>\n      <td>19</td>\n      <td>F</td>\n      <td>Importado</td>\n      <td>Leve</td>\n      <td>Italia</td>\n      <td>2020-02-27T00:00:00.000</td>\n      <td>-   -</td>\n      <td>2020-03-06T00:00:00.000</td>\n      <td>2020-03-13T00:00:00.000</td>\n      <td>2020-03-06T00:00:00.000</td>\n    </tr>\n    <tr>\n      <th>1</th>\n      <td>2</td>\n      <td>2020-03-06T00:00:00.000</td>\n      <td>76111</td>\n      <td>Guadalajara De Buga</td>\n      <td>Valle Del Cauca</td>\n      <td>Recuperado</td>\n      <td>34</td>\n      <td>M</td>\n      <td>Importado</td>\n      <td>Leve</td>\n      <td>España</td>\n      <td>2020-03-04T00:00:00.000</td>\n      <td>-   -</td>\n      <td>2020-03-09T00:00:00.000</td>\n      <td>2020-03-19T00:00:00.000</td>\n      <td>2020-03-09T00:00:00.000</td>\n    </tr>\n    <tr>\n      <th>2</th>\n      <td>3</td>\n      <td>2020-03-07T00:00:00.000</td>\n      <td>5001</td>\n      <td>Medellín</td>\n      <td>Antioquia</td>\n      <td>Recuperado</td>\n      <td>50</td>\n      <td>F</td>\n      <td>Importado</td>\n      <td>Leve</td>\n      <td>España</td>\n      <td>2020-02-29T00:00:00.000</td>\n      <td>-   -</td>\n      <td>2020-03-09T00:00:00.000</td>\n      <td>2020-03-15T00:00:00.000</td>\n      <td>2020-03-09T00:00:00.000</td>\n    </tr>\n    <tr>\n      <th>3</th>\n      <td>4</td>\n      <td>2020-03-09T00:00:00.000</td>\n      <td>5001</td>\n      <td>Medellín</td>\n      <td>Antioquia</td>\n      <td>Recuperado</td>\n      <td>55</td>\n      <td>M</td>\n      <td>Relacionado</td>\n      <td>Leve</td>\n      <td>Colombia</td>\n      <td>2020-03-06T00:00:00.000</td>\n      <td>-   -</td>\n      <td>2020-03-11T00:00:00.000</td>\n      <td>2020-03-26T00:00:00.000</td>\n      <td>2020-03-11T00:00:00.000</td>\n    </tr>\n    <tr>\n      <th>4</th>\n      <td>5</td>\n      <td>2020-03-09T00:00:00.000</td>\n      <td>5001</td>\n      <td>Medellín</td>\n      <td>Antioquia</td>\n      <td>Recuperado</td>\n      <td>25</td>\n      <td>M</td>\n      <td>Relacionado</td>\n      <td>Leve</td>\n      <td>Colombia</td>\n      <td>2020-03-08T00:00:00.000</td>\n      <td>-   -</td>\n      <td>2020-03-11T00:00:00.000</td>\n      <td>2020-03-23T00:00:00.000</td>\n      <td>2020-03-11T00:00:00.000</td>\n    </tr>\n  </tbody>\n</table>\n</div>"
     },
     "metadata": {},
     "execution_count": 19
    }
   ],
   "source": [
    "# Fill NaN Values\n",
    "if covid19co.isna().sum().sum() > 0:\n",
    "    covid19co.fillna(value='-', inplace=True)\n",
    "# Show dataframe\n",
    "covid19co.head()"
   ]
  },
  {
   "cell_type": "code",
   "execution_count": 20,
   "metadata": {},
   "outputs": [
    {
     "output_type": "execute_result",
     "data": {
      "text/plain": "   ID DE CASO FECHA DE NOTIFICACION  CODIGO DIVIPOLA  CIUDAD DE UBICACION  \\\n0           1            02/03/2020            11001          Bogotá D.C.   \n1           2            06/03/2020            76111  Guadalajara De Buga   \n2           3            07/03/2020             5001             Medellín   \n3           4            09/03/2020             5001             Medellín   \n4           5            09/03/2020             5001             Medellín   \n\n  DEPARTAMENTO O DISTRITO     ATENCION  EDAD SEXO         TIPO ESTADO  \\\n0              Bogotá D.C.  Recuperado    19    F    Importado   Leve   \n1          Valle Del Cauca  Recuperado    34    M    Importado   Leve   \n2                Antioquia  Recuperado    50    F    Importado   Leve   \n3                Antioquia  Recuperado    55    M  Relacionado   Leve   \n4                Antioquia  Recuperado    25    M  Relacionado   Leve   \n\n  PAIS DE PROCEDENCIA         FIS FECHA DE MUERTE FECHA DIAGNOSTICO  \\\n0              Italia  27/02/2020               -        06/03/2020   \n1              España  04/03/2020               -        09/03/2020   \n2              España  29/02/2020               -        09/03/2020   \n3            Colombia  06/03/2020               -        11/03/2020   \n4            Colombia  08/03/2020               -        11/03/2020   \n\n  FECHA RECUPERADO FECHA REPORTE WEB  \n0       13/03/2020        06/03/2020  \n1       19/03/2020        09/03/2020  \n2       15/03/2020        09/03/2020  \n3       26/03/2020        11/03/2020  \n4       23/03/2020        11/03/2020  ",
      "text/html": "<div>\n<style scoped>\n    .dataframe tbody tr th:only-of-type {\n        vertical-align: middle;\n    }\n\n    .dataframe tbody tr th {\n        vertical-align: top;\n    }\n\n    .dataframe thead th {\n        text-align: right;\n    }\n</style>\n<table border=\"1\" class=\"dataframe\">\n  <thead>\n    <tr style=\"text-align: right;\">\n      <th></th>\n      <th>ID DE CASO</th>\n      <th>FECHA DE NOTIFICACION</th>\n      <th>CODIGO DIVIPOLA</th>\n      <th>CIUDAD DE UBICACION</th>\n      <th>DEPARTAMENTO O DISTRITO</th>\n      <th>ATENCION</th>\n      <th>EDAD</th>\n      <th>SEXO</th>\n      <th>TIPO</th>\n      <th>ESTADO</th>\n      <th>PAIS DE PROCEDENCIA</th>\n      <th>FIS</th>\n      <th>FECHA DE MUERTE</th>\n      <th>FECHA DIAGNOSTICO</th>\n      <th>FECHA RECUPERADO</th>\n      <th>FECHA REPORTE WEB</th>\n    </tr>\n  </thead>\n  <tbody>\n    <tr>\n      <th>0</th>\n      <td>1</td>\n      <td>02/03/2020</td>\n      <td>11001</td>\n      <td>Bogotá D.C.</td>\n      <td>Bogotá D.C.</td>\n      <td>Recuperado</td>\n      <td>19</td>\n      <td>F</td>\n      <td>Importado</td>\n      <td>Leve</td>\n      <td>Italia</td>\n      <td>27/02/2020</td>\n      <td>-</td>\n      <td>06/03/2020</td>\n      <td>13/03/2020</td>\n      <td>06/03/2020</td>\n    </tr>\n    <tr>\n      <th>1</th>\n      <td>2</td>\n      <td>06/03/2020</td>\n      <td>76111</td>\n      <td>Guadalajara De Buga</td>\n      <td>Valle Del Cauca</td>\n      <td>Recuperado</td>\n      <td>34</td>\n      <td>M</td>\n      <td>Importado</td>\n      <td>Leve</td>\n      <td>España</td>\n      <td>04/03/2020</td>\n      <td>-</td>\n      <td>09/03/2020</td>\n      <td>19/03/2020</td>\n      <td>09/03/2020</td>\n    </tr>\n    <tr>\n      <th>2</th>\n      <td>3</td>\n      <td>07/03/2020</td>\n      <td>5001</td>\n      <td>Medellín</td>\n      <td>Antioquia</td>\n      <td>Recuperado</td>\n      <td>50</td>\n      <td>F</td>\n      <td>Importado</td>\n      <td>Leve</td>\n      <td>España</td>\n      <td>29/02/2020</td>\n      <td>-</td>\n      <td>09/03/2020</td>\n      <td>15/03/2020</td>\n      <td>09/03/2020</td>\n    </tr>\n    <tr>\n      <th>3</th>\n      <td>4</td>\n      <td>09/03/2020</td>\n      <td>5001</td>\n      <td>Medellín</td>\n      <td>Antioquia</td>\n      <td>Recuperado</td>\n      <td>55</td>\n      <td>M</td>\n      <td>Relacionado</td>\n      <td>Leve</td>\n      <td>Colombia</td>\n      <td>06/03/2020</td>\n      <td>-</td>\n      <td>11/03/2020</td>\n      <td>26/03/2020</td>\n      <td>11/03/2020</td>\n    </tr>\n    <tr>\n      <th>4</th>\n      <td>5</td>\n      <td>09/03/2020</td>\n      <td>5001</td>\n      <td>Medellín</td>\n      <td>Antioquia</td>\n      <td>Recuperado</td>\n      <td>25</td>\n      <td>M</td>\n      <td>Relacionado</td>\n      <td>Leve</td>\n      <td>Colombia</td>\n      <td>08/03/2020</td>\n      <td>-</td>\n      <td>11/03/2020</td>\n      <td>23/03/2020</td>\n      <td>11/03/2020</td>\n    </tr>\n  </tbody>\n</table>\n</div>"
     },
     "metadata": {},
     "execution_count": 20
    }
   ],
   "source": [
    "# Setup Date Format\n",
    "def setup_date(value):\n",
    "    try:\n",
    "        value = value.split('T')[0].split('-')\n",
    "        if len(value) == 3:\n",
    "            value = value[2] + '/' + value[1] + '/' + value[0]\n",
    "        else:\n",
    "            value = '-'\n",
    "    except IndexError:\n",
    "        value = '-'\n",
    "    if len(value) != 10 and len(value) != 1:\n",
    "        value = '-'\n",
    "    return value\n",
    "# Date Columns\n",
    "date_columns = list(filter(lambda value: value.find('FECHA') != -1 or value.find('FIS') != -1, covid19co.columns))\n",
    "# For each date column\n",
    "for date_column in date_columns:\n",
    "    covid19co[date_column] = covid19co[date_column].transform(lambda value: setup_date(value))\n",
    "# Show dataframe\n",
    "covid19co.head()"
   ]
  },
  {
   "cell_type": "code",
   "execution_count": 21,
   "metadata": {},
   "outputs": [
    {
     "output_type": "execute_result",
     "data": {
      "text/plain": "   ID DE CASO FECHA DE NOTIFICACION  CODIGO DIVIPOLA  CIUDAD DE UBICACION  \\\n0           1            02/03/2020            11001          Bogotá D.C.   \n1           2            06/03/2020            76111  Guadalajara De Buga   \n2           3            07/03/2020             5001             Medellín   \n3           4            09/03/2020             5001             Medellín   \n4           5            09/03/2020             5001             Medellín   \n\n  DEPARTAMENTO O DISTRITO     ATENCION  EDAD SEXO         TIPO ESTADO  ...  \\\n0              Bogotá D.C.  Recuperado    19    F    Importado   Leve  ...   \n1          Valle Del Cauca  Recuperado    34    M    Importado   Leve  ...   \n2                Antioquia  Recuperado    50    F    Importado   Leve  ...   \n3                Antioquia  Recuperado    55    M  Relacionado   Leve  ...   \n4                Antioquia  Recuperado    25    M  Relacionado   Leve  ...   \n\n  FECHA RECUPERADO DIA FECHA RECUPERADO MES FECHA RECUPERADO ANIO  \\\n0                   13                   03                  2020   \n1                   19                   03                  2020   \n2                   15                   03                  2020   \n3                   26                   03                  2020   \n4                   23                   03                  2020   \n\n  FECHA RECUPERADO NOMBRE MES FECHA RECUPERADO DIA SEMANA  \\\n0                       Marzo                     Viernes   \n1                       Marzo                      Jueves   \n2                       Marzo                     Domingo   \n3                       Marzo                      Jueves   \n4                       Marzo                       Lunes   \n\n  FECHA REPORTE WEB DIA FECHA REPORTE WEB MES FECHA REPORTE WEB ANIO  \\\n0                    06                    03                   2020   \n1                    09                    03                   2020   \n2                    09                    03                   2020   \n3                    11                    03                   2020   \n4                    11                    03                   2020   \n\n  FECHA REPORTE WEB NOMBRE MES FECHA REPORTE WEB DIA SEMANA  \n0                        Marzo                      Viernes  \n1                        Marzo                        Lunes  \n2                        Marzo                        Lunes  \n3                        Marzo                    Miércoles  \n4                        Marzo                    Miércoles  \n\n[5 rows x 46 columns]",
      "text/html": "<div>\n<style scoped>\n    .dataframe tbody tr th:only-of-type {\n        vertical-align: middle;\n    }\n\n    .dataframe tbody tr th {\n        vertical-align: top;\n    }\n\n    .dataframe thead th {\n        text-align: right;\n    }\n</style>\n<table border=\"1\" class=\"dataframe\">\n  <thead>\n    <tr style=\"text-align: right;\">\n      <th></th>\n      <th>ID DE CASO</th>\n      <th>FECHA DE NOTIFICACION</th>\n      <th>CODIGO DIVIPOLA</th>\n      <th>CIUDAD DE UBICACION</th>\n      <th>DEPARTAMENTO O DISTRITO</th>\n      <th>ATENCION</th>\n      <th>EDAD</th>\n      <th>SEXO</th>\n      <th>TIPO</th>\n      <th>ESTADO</th>\n      <th>...</th>\n      <th>FECHA RECUPERADO DIA</th>\n      <th>FECHA RECUPERADO MES</th>\n      <th>FECHA RECUPERADO ANIO</th>\n      <th>FECHA RECUPERADO NOMBRE MES</th>\n      <th>FECHA RECUPERADO DIA SEMANA</th>\n      <th>FECHA REPORTE WEB DIA</th>\n      <th>FECHA REPORTE WEB MES</th>\n      <th>FECHA REPORTE WEB ANIO</th>\n      <th>FECHA REPORTE WEB NOMBRE MES</th>\n      <th>FECHA REPORTE WEB DIA SEMANA</th>\n    </tr>\n  </thead>\n  <tbody>\n    <tr>\n      <th>0</th>\n      <td>1</td>\n      <td>02/03/2020</td>\n      <td>11001</td>\n      <td>Bogotá D.C.</td>\n      <td>Bogotá D.C.</td>\n      <td>Recuperado</td>\n      <td>19</td>\n      <td>F</td>\n      <td>Importado</td>\n      <td>Leve</td>\n      <td>...</td>\n      <td>13</td>\n      <td>03</td>\n      <td>2020</td>\n      <td>Marzo</td>\n      <td>Viernes</td>\n      <td>06</td>\n      <td>03</td>\n      <td>2020</td>\n      <td>Marzo</td>\n      <td>Viernes</td>\n    </tr>\n    <tr>\n      <th>1</th>\n      <td>2</td>\n      <td>06/03/2020</td>\n      <td>76111</td>\n      <td>Guadalajara De Buga</td>\n      <td>Valle Del Cauca</td>\n      <td>Recuperado</td>\n      <td>34</td>\n      <td>M</td>\n      <td>Importado</td>\n      <td>Leve</td>\n      <td>...</td>\n      <td>19</td>\n      <td>03</td>\n      <td>2020</td>\n      <td>Marzo</td>\n      <td>Jueves</td>\n      <td>09</td>\n      <td>03</td>\n      <td>2020</td>\n      <td>Marzo</td>\n      <td>Lunes</td>\n    </tr>\n    <tr>\n      <th>2</th>\n      <td>3</td>\n      <td>07/03/2020</td>\n      <td>5001</td>\n      <td>Medellín</td>\n      <td>Antioquia</td>\n      <td>Recuperado</td>\n      <td>50</td>\n      <td>F</td>\n      <td>Importado</td>\n      <td>Leve</td>\n      <td>...</td>\n      <td>15</td>\n      <td>03</td>\n      <td>2020</td>\n      <td>Marzo</td>\n      <td>Domingo</td>\n      <td>09</td>\n      <td>03</td>\n      <td>2020</td>\n      <td>Marzo</td>\n      <td>Lunes</td>\n    </tr>\n    <tr>\n      <th>3</th>\n      <td>4</td>\n      <td>09/03/2020</td>\n      <td>5001</td>\n      <td>Medellín</td>\n      <td>Antioquia</td>\n      <td>Recuperado</td>\n      <td>55</td>\n      <td>M</td>\n      <td>Relacionado</td>\n      <td>Leve</td>\n      <td>...</td>\n      <td>26</td>\n      <td>03</td>\n      <td>2020</td>\n      <td>Marzo</td>\n      <td>Jueves</td>\n      <td>11</td>\n      <td>03</td>\n      <td>2020</td>\n      <td>Marzo</td>\n      <td>Miércoles</td>\n    </tr>\n    <tr>\n      <th>4</th>\n      <td>5</td>\n      <td>09/03/2020</td>\n      <td>5001</td>\n      <td>Medellín</td>\n      <td>Antioquia</td>\n      <td>Recuperado</td>\n      <td>25</td>\n      <td>M</td>\n      <td>Relacionado</td>\n      <td>Leve</td>\n      <td>...</td>\n      <td>23</td>\n      <td>03</td>\n      <td>2020</td>\n      <td>Marzo</td>\n      <td>Lunes</td>\n      <td>11</td>\n      <td>03</td>\n      <td>2020</td>\n      <td>Marzo</td>\n      <td>Miércoles</td>\n    </tr>\n  </tbody>\n</table>\n<p>5 rows × 46 columns</p>\n</div>"
     },
     "metadata": {},
     "execution_count": 21
    }
   ],
   "source": [
    "# Add Day, Month, Year, Month Name and Day Name for each Date\n",
    "\n",
    "# Spanish\n",
    "nombre_mes = ['Enero', 'Febrero', 'Marzo', 'Abril', 'Mayo', 'Junio', 'Julio', 'Agosto', 'Septiembre', 'Octubre', 'Noviembre', 'Diciembre']\n",
    "nombre_dia = ['Lunes', 'Martes', 'Miércoles', 'Jueves', 'Viernes', 'Sábado', 'Domingo']\n",
    "\n",
    "# Get day\n",
    "def get_day(value):\n",
    "    if value not in '-':\n",
    "        return value.split('/')[0]\n",
    "    return value\n",
    "# Get month\n",
    "def get_month(value):\n",
    "    if value not in '-':\n",
    "        return value.split('/')[1]\n",
    "    return value\n",
    "# Get year\n",
    "def get_year(value):\n",
    "    if value not in '-':\n",
    "        return value.split('/')[2]\n",
    "    return value\n",
    "# Get month name\n",
    "def get_month_name(value):\n",
    "    if value not in '-':\n",
    "        return nombre_mes[int(value.split('/')[1]) - 1]\n",
    "    return value\n",
    "# Get weekday\n",
    "def get_weekday(value):\n",
    "    if value not in '-':\n",
    "        return nombre_dia[datetime.date(int(value.split('/')[2]), int(value.split('/')[1]), int(value.split('/')[0])).weekday()]\n",
    "    return value\n",
    "\n",
    "# For each date column\n",
    "for date_column in date_columns:\n",
    "    covid19co[date_column + ' DIA'] = covid19co[date_column].transform(lambda value: get_day(value))\n",
    "    covid19co[date_column + ' MES'] = covid19co[date_column].transform(lambda value: get_month(value))\n",
    "    covid19co[date_column + ' ANIO'] = covid19co[date_column].transform(lambda value: get_year(value))\n",
    "    covid19co[date_column + ' NOMBRE MES'] = covid19co[date_column].transform(lambda value: get_month_name(value))\n",
    "    covid19co[date_column + ' DIA SEMANA'] = covid19co[date_column].transform(lambda value: get_weekday(value))\n",
    "# Show dataframe\n",
    "covid19co.head()"
   ]
  },
  {
   "cell_type": "markdown",
   "metadata": {},
   "source": [
    "## Covid19 Colombia Dataset\n",
    "> ***Output file***: covid19co.csv"
   ]
  },
  {
   "cell_type": "code",
   "execution_count": 22,
   "metadata": {},
   "outputs": [],
   "source": [
    "# Save dataframe\n",
    "covid19co.to_csv(os.path.join(OUTPUT_DIR, 'covid19co.csv'), index=False)"
   ]
  },
  {
   "cell_type": "markdown",
   "metadata": {},
   "source": [
    "---"
   ]
  },
  {
   "cell_type": "markdown",
   "metadata": {},
   "source": [
    "## Official Covid19 Colombia Samples Processed"
   ]
  },
  {
   "cell_type": "code",
   "execution_count": 23,
   "metadata": {},
   "outputs": [],
   "source": [
    "# Official Samples Processed Until Now\n",
    "with requests.get(URL_SAMPLES_PROCESSED) as official_dataset:\n",
    "    with open(os.path.join(INPUT_DIR, 'covid19co_samples_processed_official.json'), 'w') as json_file:\n",
    "        json_data = official_dataset.json()\n",
    "        del json_data['refreshed']\n",
    "        json.dump(json_data, json_file, ensure_ascii=False, indent=4)"
   ]
  },
  {
   "cell_type": "code",
   "execution_count": 24,
   "metadata": {},
   "outputs": [
    {
     "output_type": "execute_result",
     "data": {
      "text/plain": "(52, 2)"
     },
     "metadata": {},
     "execution_count": 24
    }
   ],
   "source": [
    "# Open Official Samples Processed\n",
    "with open(os.path.join(INPUT_DIR, 'covid19co_samples_processed_official.json')) as official_dataset:\n",
    "    official_dataset = json.load(official_dataset)\n",
    "# Official Samples Processed\n",
    "official_dataset = official_dataset['data'][0]\n",
    "covid19co_samples_processed = pd.DataFrame(columns=official_dataset[0], data=official_dataset[1:])\n",
    "# Total Daily Report\n",
    "covid19co_samples_processed.shape"
   ]
  },
  {
   "cell_type": "code",
   "execution_count": 25,
   "metadata": {},
   "outputs": [
    {
     "output_type": "execute_result",
     "data": {
      "text/plain": "       Fecha Muestras procesadas según fecha de resultado acumuladas\n0  Sin fecha                                                 36     \n1     3/4/20                                                 26     \n2     3/5/20                                                 27     \n3     3/6/20                                                 72     \n4     3/7/20                                                140     ",
      "text/html": "<div>\n<style scoped>\n    .dataframe tbody tr th:only-of-type {\n        vertical-align: middle;\n    }\n\n    .dataframe tbody tr th {\n        vertical-align: top;\n    }\n\n    .dataframe thead th {\n        text-align: right;\n    }\n</style>\n<table border=\"1\" class=\"dataframe\">\n  <thead>\n    <tr style=\"text-align: right;\">\n      <th></th>\n      <th>Fecha</th>\n      <th>Muestras procesadas según fecha de resultado acumuladas</th>\n    </tr>\n  </thead>\n  <tbody>\n    <tr>\n      <th>0</th>\n      <td>Sin fecha</td>\n      <td>36</td>\n    </tr>\n    <tr>\n      <th>1</th>\n      <td>3/4/20</td>\n      <td>26</td>\n    </tr>\n    <tr>\n      <th>2</th>\n      <td>3/5/20</td>\n      <td>27</td>\n    </tr>\n    <tr>\n      <th>3</th>\n      <td>3/6/20</td>\n      <td>72</td>\n    </tr>\n    <tr>\n      <th>4</th>\n      <td>3/7/20</td>\n      <td>140</td>\n    </tr>\n  </tbody>\n</table>\n</div>"
     },
     "metadata": {},
     "execution_count": 25
    }
   ],
   "source": [
    "# Show dataframe\n",
    "covid19co_samples_processed.head()"
   ]
  },
  {
   "cell_type": "code",
   "execution_count": 26,
   "metadata": {},
   "outputs": [
    {
     "output_type": "execute_result",
     "data": {
      "text/plain": "       FECHA MUESTRAS PROCESADAS SEGUN FECHA DE RESULTADO ACUMULADAS\n0  Sin fecha                                                 36     \n1     3/4/20                                                 26     \n2     3/5/20                                                 27     \n3     3/6/20                                                 72     \n4     3/7/20                                                140     ",
      "text/html": "<div>\n<style scoped>\n    .dataframe tbody tr th:only-of-type {\n        vertical-align: middle;\n    }\n\n    .dataframe tbody tr th {\n        vertical-align: top;\n    }\n\n    .dataframe thead th {\n        text-align: right;\n    }\n</style>\n<table border=\"1\" class=\"dataframe\">\n  <thead>\n    <tr style=\"text-align: right;\">\n      <th></th>\n      <th>FECHA</th>\n      <th>MUESTRAS PROCESADAS SEGUN FECHA DE RESULTADO ACUMULADAS</th>\n    </tr>\n  </thead>\n  <tbody>\n    <tr>\n      <th>0</th>\n      <td>Sin fecha</td>\n      <td>36</td>\n    </tr>\n    <tr>\n      <th>1</th>\n      <td>3/4/20</td>\n      <td>26</td>\n    </tr>\n    <tr>\n      <th>2</th>\n      <td>3/5/20</td>\n      <td>27</td>\n    </tr>\n    <tr>\n      <th>3</th>\n      <td>3/6/20</td>\n      <td>72</td>\n    </tr>\n    <tr>\n      <th>4</th>\n      <td>3/7/20</td>\n      <td>140</td>\n    </tr>\n  </tbody>\n</table>\n</div>"
     },
     "metadata": {},
     "execution_count": 26
    }
   ],
   "source": [
    "# Update Name Columns\n",
    "# Remove Accents and Uppercase\n",
    "covid19co_samples_processed.columns = [unidecode.unidecode(value).upper() for value in covid19co_samples_processed.columns]\n",
    "# Show dataframe\n",
    "covid19co_samples_processed.head()"
   ]
  },
  {
   "cell_type": "code",
   "execution_count": 27,
   "metadata": {},
   "outputs": [
    {
     "output_type": "execute_result",
     "data": {
      "text/plain": "        FECHA MUESTRAS PROCESADAS SEGUN FECHA DE RESULTADO ACUMULADAS\n0           -                                                 36     \n1  04/03/2020                                                 26     \n2  05/03/2020                                                 27     \n3  06/03/2020                                                 72     \n4  07/03/2020                                                140     ",
      "text/html": "<div>\n<style scoped>\n    .dataframe tbody tr th:only-of-type {\n        vertical-align: middle;\n    }\n\n    .dataframe tbody tr th {\n        vertical-align: top;\n    }\n\n    .dataframe thead th {\n        text-align: right;\n    }\n</style>\n<table border=\"1\" class=\"dataframe\">\n  <thead>\n    <tr style=\"text-align: right;\">\n      <th></th>\n      <th>FECHA</th>\n      <th>MUESTRAS PROCESADAS SEGUN FECHA DE RESULTADO ACUMULADAS</th>\n    </tr>\n  </thead>\n  <tbody>\n    <tr>\n      <th>0</th>\n      <td>-</td>\n      <td>36</td>\n    </tr>\n    <tr>\n      <th>1</th>\n      <td>04/03/2020</td>\n      <td>26</td>\n    </tr>\n    <tr>\n      <th>2</th>\n      <td>05/03/2020</td>\n      <td>27</td>\n    </tr>\n    <tr>\n      <th>3</th>\n      <td>06/03/2020</td>\n      <td>72</td>\n    </tr>\n    <tr>\n      <th>4</th>\n      <td>07/03/2020</td>\n      <td>140</td>\n    </tr>\n  </tbody>\n</table>\n</div>"
     },
     "metadata": {},
     "execution_count": 27
    }
   ],
   "source": [
    "# Setup Date Format\n",
    "def setup_date_samples(value):\n",
    "    #print('date:', value)\n",
    "    try:\n",
    "        value = value.split('/')\n",
    "        #print(len(value))\n",
    "        if len(value) == 3:\n",
    "            # Month\n",
    "            if len(value[0]) == 1:\n",
    "                value[0] = '0' + value[0]\n",
    "            # Day\n",
    "            if len(value[1]) == 1:\n",
    "                value[1] = '0' + value[1]\n",
    "            # Year\n",
    "            if len(value[2]) == 2:\n",
    "                value[2] = value[2] + '20'\n",
    "            # Date\n",
    "            value = value[1] + '/' + value[0] + '/' + value[2]\n",
    "        else:\n",
    "            value = '-'\n",
    "    except IndexError:\n",
    "        value = '-'\n",
    "    #print('VALUE:', value)\n",
    "    if len(value) != 10 and len(value) != 1:\n",
    "        value = '-'\n",
    "    return value\n",
    "# Setup Date Format\n",
    "covid19co_samples_processed['FECHA'] = covid19co_samples_processed['FECHA'].transform(lambda value: setup_date_samples(value))\n",
    "# Show dataframe\n",
    "covid19co_samples_processed.head()"
   ]
  },
  {
   "cell_type": "markdown",
   "metadata": {},
   "source": [
    "## Covid19 Colombia Samples Processed Dataset\n",
    "> ***Output file***: covid19co_samples_processed.csv"
   ]
  },
  {
   "cell_type": "code",
   "execution_count": 28,
   "metadata": {},
   "outputs": [],
   "source": [
    "# Save dataframe\n",
    "covid19co_samples_processed.to_csv(os.path.join(OUTPUT_DIR, 'covid19co_samples_processed.csv'), index=False)"
   ]
  },
  {
   "cell_type": "markdown",
   "metadata": {},
   "source": [
    "---"
   ]
  },
  {
   "cell_type": "markdown",
   "metadata": {},
   "source": [
    "## Google Community Mobility Reports - Colombia"
   ]
  },
  {
   "cell_type": "code",
   "execution_count": 29,
   "metadata": {},
   "outputs": [
    {
     "output_type": "execute_result",
     "data": {
      "text/plain": "         date   country                                  file  \\\n0  2020-03-29  Colombia  2020-03-29_CO_Mobility_Report_en.pdf   \n1  2020-04-05  Colombia  2020-04-05_CO_Mobility_Report_en.pdf   \n2  2020-04-11  Colombia  2020-04-11_CO_Mobility_Report_en.pdf   \n3  2020-04-17  Colombia  2020-04-17_CO_Mobility_Report_en.pdf   \n\n                                                 url  \n0  https://www.gstatic.com/covid19/mobility/2020-...  \n1  https://www.gstatic.com/covid19/mobility/2020-...  \n2  https://www.gstatic.com/covid19/mobility/2020-...  \n3  https://www.gstatic.com/covid19/mobility/2020-...  ",
      "text/html": "<div>\n<style scoped>\n    .dataframe tbody tr th:only-of-type {\n        vertical-align: middle;\n    }\n\n    .dataframe tbody tr th {\n        vertical-align: top;\n    }\n\n    .dataframe thead th {\n        text-align: right;\n    }\n</style>\n<table border=\"1\" class=\"dataframe\">\n  <thead>\n    <tr style=\"text-align: right;\">\n      <th></th>\n      <th>date</th>\n      <th>country</th>\n      <th>file</th>\n      <th>url</th>\n    </tr>\n  </thead>\n  <tbody>\n    <tr>\n      <th>0</th>\n      <td>2020-03-29</td>\n      <td>Colombia</td>\n      <td>2020-03-29_CO_Mobility_Report_en.pdf</td>\n      <td>https://www.gstatic.com/covid19/mobility/2020-...</td>\n    </tr>\n    <tr>\n      <th>1</th>\n      <td>2020-04-05</td>\n      <td>Colombia</td>\n      <td>2020-04-05_CO_Mobility_Report_en.pdf</td>\n      <td>https://www.gstatic.com/covid19/mobility/2020-...</td>\n    </tr>\n    <tr>\n      <th>2</th>\n      <td>2020-04-11</td>\n      <td>Colombia</td>\n      <td>2020-04-11_CO_Mobility_Report_en.pdf</td>\n      <td>https://www.gstatic.com/covid19/mobility/2020-...</td>\n    </tr>\n    <tr>\n      <th>3</th>\n      <td>2020-04-17</td>\n      <td>Colombia</td>\n      <td>2020-04-17_CO_Mobility_Report_en.pdf</td>\n      <td>https://www.gstatic.com/covid19/mobility/2020-...</td>\n    </tr>\n  </tbody>\n</table>\n</div>"
     },
     "metadata": {},
     "execution_count": 29
    }
   ],
   "source": [
    "# Google Community Mobility Reports - Colombia\n",
    "google_community_mobility_reports = pd.DataFrame(columns=['date', 'country', 'file', 'url'])\n",
    "google_community_mobility_reports['date'] = [dti.strftime('%Y-%m-%d') for dti in pd.date_range(start='2020-03-29', end=datetime.date.today().isoformat(), freq='D')]\n",
    "google_community_mobility_reports['country'] = 'Colombia'\n",
    "google_community_mobility_reports['file'] = [date + '_CO_Mobility_Report_en.pdf' for date in google_community_mobility_reports['date'].values]\n",
    "# Get URL report\n",
    "def get_report_url(file):\n",
    "    with requests.get('https://www.gstatic.com/covid19/mobility/' + file) as community_mobility_report:\n",
    "        if community_mobility_report.status_code == 200:\n",
    "            return community_mobility_report.url\n",
    "        else:\n",
    "            return np.nan\n",
    "# Get URL report\n",
    "google_community_mobility_reports['url'] = google_community_mobility_reports['file'].transform(lambda value: get_report_url(value))\n",
    "# Drop any report without URL\n",
    "google_community_mobility_reports.dropna(inplace=True)\n",
    "# Reset index\n",
    "google_community_mobility_reports.reset_index(inplace=True, drop=True)\n",
    "# Show dataframe\n",
    "google_community_mobility_reports.head()"
   ]
  },
  {
   "cell_type": "code",
   "execution_count": 30,
   "metadata": {},
   "outputs": [
    {
     "output_type": "execute_result",
     "data": {
      "text/plain": "         date   country Retail & recreation Grocery & pharmacy Parks  \\\n0  29/03/2020  Colombia                -86%               -68%  -80%   \n1  05/04/2020  Colombia                -85%               -66%  -79%   \n2  11/04/2020  Colombia                -84%               -65%  -77%   \n3  17/04/2020  Colombia                -76%               -49%  -67%   \n\n  Transit stations Workplaces Residential  \\\n0             -82%       -58%        +26%   \n1             -81%       -57%        +26%   \n2             -81%       -69%        +32%   \n3             -75%       -66%        +35%   \n\n                                   file  \\\n0  2020-03-29_CO_Mobility_Report_en.pdf   \n1  2020-04-05_CO_Mobility_Report_en.pdf   \n2  2020-04-11_CO_Mobility_Report_en.pdf   \n3  2020-04-17_CO_Mobility_Report_en.pdf   \n\n                                                 url  \n0  https://www.gstatic.com/covid19/mobility/2020-...  \n1  https://www.gstatic.com/covid19/mobility/2020-...  \n2  https://www.gstatic.com/covid19/mobility/2020-...  \n3  https://www.gstatic.com/covid19/mobility/2020-...  ",
      "text/html": "<div>\n<style scoped>\n    .dataframe tbody tr th:only-of-type {\n        vertical-align: middle;\n    }\n\n    .dataframe tbody tr th {\n        vertical-align: top;\n    }\n\n    .dataframe thead th {\n        text-align: right;\n    }\n</style>\n<table border=\"1\" class=\"dataframe\">\n  <thead>\n    <tr style=\"text-align: right;\">\n      <th></th>\n      <th>date</th>\n      <th>country</th>\n      <th>Retail &amp; recreation</th>\n      <th>Grocery &amp; pharmacy</th>\n      <th>Parks</th>\n      <th>Transit stations</th>\n      <th>Workplaces</th>\n      <th>Residential</th>\n      <th>file</th>\n      <th>url</th>\n    </tr>\n  </thead>\n  <tbody>\n    <tr>\n      <th>0</th>\n      <td>29/03/2020</td>\n      <td>Colombia</td>\n      <td>-86%</td>\n      <td>-68%</td>\n      <td>-80%</td>\n      <td>-82%</td>\n      <td>-58%</td>\n      <td>+26%</td>\n      <td>2020-03-29_CO_Mobility_Report_en.pdf</td>\n      <td>https://www.gstatic.com/covid19/mobility/2020-...</td>\n    </tr>\n    <tr>\n      <th>1</th>\n      <td>05/04/2020</td>\n      <td>Colombia</td>\n      <td>-85%</td>\n      <td>-66%</td>\n      <td>-79%</td>\n      <td>-81%</td>\n      <td>-57%</td>\n      <td>+26%</td>\n      <td>2020-04-05_CO_Mobility_Report_en.pdf</td>\n      <td>https://www.gstatic.com/covid19/mobility/2020-...</td>\n    </tr>\n    <tr>\n      <th>2</th>\n      <td>11/04/2020</td>\n      <td>Colombia</td>\n      <td>-84%</td>\n      <td>-65%</td>\n      <td>-77%</td>\n      <td>-81%</td>\n      <td>-69%</td>\n      <td>+32%</td>\n      <td>2020-04-11_CO_Mobility_Report_en.pdf</td>\n      <td>https://www.gstatic.com/covid19/mobility/2020-...</td>\n    </tr>\n    <tr>\n      <th>3</th>\n      <td>17/04/2020</td>\n      <td>Colombia</td>\n      <td>-76%</td>\n      <td>-49%</td>\n      <td>-67%</td>\n      <td>-75%</td>\n      <td>-66%</td>\n      <td>+35%</td>\n      <td>2020-04-17_CO_Mobility_Report_en.pdf</td>\n      <td>https://www.gstatic.com/covid19/mobility/2020-...</td>\n    </tr>\n  </tbody>\n</table>\n</div>"
     },
     "metadata": {},
     "execution_count": 30
    }
   ],
   "source": [
    "# Get/Add Mobility Changes\n",
    "def get_mobility_changes(URL):\n",
    "    # Target changes\n",
    "    targets = ['Retail & recreation', 'Grocery & pharmacy', 'Parks', 'Transit stations', 'Workplaces', 'Residential']\n",
    "    # Mobility Changes\n",
    "    mobility_changes = []\n",
    "    # Get Mobility Report\n",
    "    with requests.get(URL) as mobility_report:\n",
    "        if mobility_report.status_code == 200:\n",
    "            temp = tempfile.NamedTemporaryFile()\n",
    "            temp.write(mobility_report.content)\n",
    "            with open(temp.name, 'rb') as file:\n",
    "                # By pages\n",
    "                pdf_text = []\n",
    "                page = 0\n",
    "                while page != -1:\n",
    "                    text = extract_text(file, maxpages=1, page_numbers=[page])\n",
    "                    if text:\n",
    "                        pdf_text.append(text.split('\\n'))\n",
    "                        page += 1\n",
    "                    else:\n",
    "                        page = -1\n",
    "                # Page 1\n",
    "                page1 = pdf_text[0]\n",
    "                page1 = filter(lambda value: value != '', page1)\n",
    "                page1 = filter(lambda value: value in targets or value[-1] == '%', list(page1))\n",
    "                page1 = list(page1)[:6]\n",
    "                # Page 2\n",
    "                page2 = pdf_text[1]\n",
    "                page2 = filter(lambda value: value != '', page2)\n",
    "                page2 = filter(lambda value: value in targets or value[-1] == '%', list(page2))\n",
    "                page2 = list(page2)[:6]\n",
    "                # Merge\n",
    "                mobility_changes = page1 + page2\n",
    "    return mobility_changes\n",
    "# Add Mobility Changes\n",
    "google_community_mobility_reports['mobility_changes'] = google_community_mobility_reports['url'].transform(lambda value: get_mobility_changes(value))\n",
    "# By case\n",
    "google_community_mobility_reports['Retail & recreation'] = google_community_mobility_reports['mobility_changes'].transform(lambda value: value[1])\n",
    "google_community_mobility_reports['Grocery & pharmacy'] = google_community_mobility_reports['mobility_changes'].transform(lambda value: value[3])\n",
    "google_community_mobility_reports['Parks'] = google_community_mobility_reports['mobility_changes'].transform(lambda value: value[5])\n",
    "google_community_mobility_reports['Transit stations'] = google_community_mobility_reports['mobility_changes'].transform(lambda value: value[7])\n",
    "google_community_mobility_reports['Workplaces'] = google_community_mobility_reports['mobility_changes'].transform(lambda value: value[9])\n",
    "google_community_mobility_reports['Residential'] = google_community_mobility_reports['mobility_changes'].transform(lambda value: value[11])\n",
    "# Drop column\n",
    "google_community_mobility_reports.drop(columns=['mobility_changes'], inplace=True)\n",
    "# Sort columns\n",
    "google_community_mobility_reports = google_community_mobility_reports[['date', 'country', 'Retail & recreation', 'Grocery & pharmacy', 'Parks', 'Transit stations', 'Workplaces', 'Residential', 'file', 'url']]\n",
    "# Setup date format\n",
    "google_community_mobility_reports['date'] = [value.strftime('%d/%m/%Y') for value in pd.to_datetime(google_community_mobility_reports['date'], format='%Y-%m-%d')]\n",
    "# Show dataframe\n",
    "google_community_mobility_reports.head()"
   ]
  },
  {
   "cell_type": "markdown",
   "metadata": {},
   "source": [
    "## Google Community Mobility Reports - Colombia\n",
    "> ***Output file***: google_community_mobility_reports.csv"
   ]
  },
  {
   "cell_type": "code",
   "execution_count": 31,
   "metadata": {},
   "outputs": [],
   "source": [
    "# Save dataframe\n",
    "google_community_mobility_reports.to_csv(os.path.join(OUTPUT_DIR, 'google_community_mobility_reports.csv'), index=False)"
   ]
  },
  {
   "cell_type": "markdown",
   "metadata": {},
   "source": [
    "---"
   ]
  },
  {
   "cell_type": "code",
   "execution_count": null,
   "metadata": {},
   "outputs": [],
   "source": []
  }
 ],
 "metadata": {
  "language_info": {
   "codemirror_mode": {
    "name": "ipython",
    "version": 3
   },
   "file_extension": ".py",
   "mimetype": "text/x-python",
   "name": "python",
   "nbconvert_exporter": "python",
   "pygments_lexer": "ipython3",
   "version": "3.6.9-final"
  },
  "orig_nbformat": 2,
  "kernelspec": {
   "name": "python36964bitvenvvenv83dfe23e093e47f3b91ee1d0340b51b2",
   "display_name": "Python 3.6.9 64-bit ('.venv': venv)"
  }
 },
 "nbformat": 4,
 "nbformat_minor": 2
}