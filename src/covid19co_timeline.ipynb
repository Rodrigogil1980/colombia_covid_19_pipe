{
 "cells": [
  {
   "cell_type": "code",
   "execution_count": 1,
   "metadata": {},
   "outputs": [],
   "source": [
    "# This Python 3 environment comes with many helpful analytics libraries installed\n",
    "# It is defined by the kaggle/python docker image: https://github.com/kaggle/docker-python\n",
    "# For example, here's several helpful packages to load in \n",
    "\n",
    "# Dependencies\n",
    "import numpy as np\n",
    "import pandas as pd\n",
    "import requests\n",
    "import unidecode\n",
    "import datetime\n",
    "import dateutil\n",
    "import subprocess\n",
    "import sys\n",
    "import json\n",
    "import tempfile\n",
    "import os\n",
    "import re\n",
    "\n",
    "# Install missing dependencies\n",
    "def install(package):\n",
    "    subprocess.check_call([sys.executable, \"-m\", \"pip\", \"install\", package])\n",
    "\n",
    "# Input data files are available in the \"../input/\" directory.\n",
    "# For example, running this (by clicking run or pressing Shift+Enter) will list all files under the input directory\n",
    "\n",
    "#for dirname, _, filenames in os.walk('/kaggle/input'):\n",
    "#    for filename in filenames:\n",
    "#        print(os.path.join(dirname, filename))\n",
    "\n",
    "# Any results you write to the current directory are saved as output."
   ]
  },
  {
   "cell_type": "markdown",
   "metadata": {},
   "source": [
    "---"
   ]
  },
  {
   "cell_type": "markdown",
   "metadata": {},
   "source": [
    "# Colombia Covid19 Time Line\n",
    "Dataset obtained from [Instituto Nacional de Salud](https://www.ins.gov.co/Noticias/Paginas/Coronavirus.aspx) daily report Covid19 from Colombia.\n",
    "\n",
    "You can get the official dataset here: \n",
    "[INS - Official Report](https://www.datos.gov.co/Salud-y-Protecci-n-Social/Casos-positivos-de-COVID-19-en-Colombia/gt2j-8ykr)\n",
    "\n",
    "The number of new cases are increasing day by day around the world.\n",
    "This dataset has information about reported cases from 32 Colombia departments.\n",
    "\n",
    "Also you can get the dataset Google COVID-19 Community Mobility Reports - Colombia.\n",
    "\n",
    "You can view and collaborate to the analysis here:\n",
    "[colombia_covid_19_analysis](https://www.kaggle.com/sebaxtian/colombia-covid-19-analysis) Kaggle Notebook Kernel."
   ]
  },
  {
   "cell_type": "markdown",
   "metadata": {},
   "source": [
    "---"
   ]
  },
  {
   "cell_type": "markdown",
   "metadata": {},
   "source": [
    "## Data Sources"
   ]
  },
  {
   "cell_type": "code",
   "execution_count": 2,
   "metadata": {},
   "outputs": [],
   "source": [
    "# Input data files are available in the \"../input/\" directory.\n",
    "INPUT_DIR = './'\n",
    "if os.path.split(os.path.abspath('.'))[-1] == 'src':\n",
    "    INPUT_DIR = '../input'\n",
    "# Output data files are available in the \"../output/\" directory.\n",
    "OUTPUT_DIR = './'\n",
    "if os.path.split(os.path.abspath('.'))[-1] == 'src':\n",
    "    OUTPUT_DIR = '../output'"
   ]
  },
  {
   "cell_type": "code",
   "execution_count": 3,
   "metadata": {},
   "outputs": [
    {
     "output_type": "execute_result",
     "data": {
      "text/plain": "(4356, 46)"
     },
     "metadata": {},
     "execution_count": 3
    }
   ],
   "source": [
    "# Covid19 Colombia Dataset\n",
    "covid19co = pd.read_csv(os.path.join(OUTPUT_DIR, 'covid19co.csv'))\n",
    "# Total Covid19 Colombia\n",
    "covid19co.shape"
   ]
  },
  {
   "cell_type": "code",
   "execution_count": 4,
   "metadata": {},
   "outputs": [
    {
     "output_type": "execute_result",
     "data": {
      "text/plain": "(51, 2)"
     },
     "metadata": {},
     "execution_count": 4
    }
   ],
   "source": [
    "# Covid19 Colombia Samples Processed Dataset\n",
    "covid19co_samples_processed = pd.read_csv(os.path.join(OUTPUT_DIR, 'covid19co_samples_processed.csv'))\n",
    "# Total Covid19 Colombia Samples Processed\n",
    "covid19co_samples_processed.shape"
   ]
  },
  {
   "cell_type": "markdown",
   "metadata": {},
   "source": [
    "---"
   ]
  },
  {
   "cell_type": "markdown",
   "metadata": {},
   "source": [
    "## Time Line Reported, Recupered and Deceased"
   ]
  },
  {
   "cell_type": "code",
   "execution_count": 5,
   "metadata": {},
   "outputs": [
    {
     "output_type": "execute_result",
     "data": {
      "text/plain": "   ID DE CASO FECHA DE NOTIFICACION  CODIGO DIVIPOLA  CIUDAD DE UBICACION  \\\n0           1            02/03/2020            11001          Bogotá D.C.   \n1           2            06/03/2020            76111  Guadalajara De Buga   \n2           3            07/03/2020             5001             Medellín   \n3           4            09/03/2020             5001             Medellín   \n4           5            09/03/2020             5001             Medellín   \n\n  DEPARTAMENTO O DISTRITO     ATENCION  EDAD SEXO         TIPO ESTADO  ...  \\\n0              Bogotá D.C.  Recuperado    19    F    Importado   Leve  ...   \n1          Valle Del Cauca  Recuperado    34    M    Importado   Leve  ...   \n2                Antioquia  Recuperado    50    F    Importado   Leve  ...   \n3                Antioquia  Recuperado    55    M  Relacionado   Leve  ...   \n4                Antioquia  Recuperado    25    M  Relacionado   Leve  ...   \n\n  FECHA RECUPERADO DIA FECHA RECUPERADO MES FECHA RECUPERADO ANIO  \\\n0                   13                   03                  2020   \n1                   19                   03                  2020   \n2                   15                   03                  2020   \n3                   26                   03                  2020   \n4                   23                   03                  2020   \n\n  FECHA RECUPERADO NOMBRE MES FECHA RECUPERADO DIA SEMANA  \\\n0                       Marzo                     Viernes   \n1                       Marzo                      Jueves   \n2                       Marzo                     Domingo   \n3                       Marzo                      Jueves   \n4                       Marzo                       Lunes   \n\n  FECHA REPORTE WEB DIA  FECHA REPORTE WEB MES  FECHA REPORTE WEB ANIO  \\\n0                     6                      3                    2020   \n1                     9                      3                    2020   \n2                     9                      3                    2020   \n3                    11                      3                    2020   \n4                    11                      3                    2020   \n\n   FECHA REPORTE WEB NOMBRE MES FECHA REPORTE WEB DIA SEMANA  \n0                         Marzo                      Viernes  \n1                         Marzo                        Lunes  \n2                         Marzo                        Lunes  \n3                         Marzo                    Miércoles  \n4                         Marzo                    Miércoles  \n\n[5 rows x 46 columns]",
      "text/html": "<div>\n<style scoped>\n    .dataframe tbody tr th:only-of-type {\n        vertical-align: middle;\n    }\n\n    .dataframe tbody tr th {\n        vertical-align: top;\n    }\n\n    .dataframe thead th {\n        text-align: right;\n    }\n</style>\n<table border=\"1\" class=\"dataframe\">\n  <thead>\n    <tr style=\"text-align: right;\">\n      <th></th>\n      <th>ID DE CASO</th>\n      <th>FECHA DE NOTIFICACION</th>\n      <th>CODIGO DIVIPOLA</th>\n      <th>CIUDAD DE UBICACION</th>\n      <th>DEPARTAMENTO O DISTRITO</th>\n      <th>ATENCION</th>\n      <th>EDAD</th>\n      <th>SEXO</th>\n      <th>TIPO</th>\n      <th>ESTADO</th>\n      <th>...</th>\n      <th>FECHA RECUPERADO DIA</th>\n      <th>FECHA RECUPERADO MES</th>\n      <th>FECHA RECUPERADO ANIO</th>\n      <th>FECHA RECUPERADO NOMBRE MES</th>\n      <th>FECHA RECUPERADO DIA SEMANA</th>\n      <th>FECHA REPORTE WEB DIA</th>\n      <th>FECHA REPORTE WEB MES</th>\n      <th>FECHA REPORTE WEB ANIO</th>\n      <th>FECHA REPORTE WEB NOMBRE MES</th>\n      <th>FECHA REPORTE WEB DIA SEMANA</th>\n    </tr>\n  </thead>\n  <tbody>\n    <tr>\n      <th>0</th>\n      <td>1</td>\n      <td>02/03/2020</td>\n      <td>11001</td>\n      <td>Bogotá D.C.</td>\n      <td>Bogotá D.C.</td>\n      <td>Recuperado</td>\n      <td>19</td>\n      <td>F</td>\n      <td>Importado</td>\n      <td>Leve</td>\n      <td>...</td>\n      <td>13</td>\n      <td>03</td>\n      <td>2020</td>\n      <td>Marzo</td>\n      <td>Viernes</td>\n      <td>6</td>\n      <td>3</td>\n      <td>2020</td>\n      <td>Marzo</td>\n      <td>Viernes</td>\n    </tr>\n    <tr>\n      <th>1</th>\n      <td>2</td>\n      <td>06/03/2020</td>\n      <td>76111</td>\n      <td>Guadalajara De Buga</td>\n      <td>Valle Del Cauca</td>\n      <td>Recuperado</td>\n      <td>34</td>\n      <td>M</td>\n      <td>Importado</td>\n      <td>Leve</td>\n      <td>...</td>\n      <td>19</td>\n      <td>03</td>\n      <td>2020</td>\n      <td>Marzo</td>\n      <td>Jueves</td>\n      <td>9</td>\n      <td>3</td>\n      <td>2020</td>\n      <td>Marzo</td>\n      <td>Lunes</td>\n    </tr>\n    <tr>\n      <th>2</th>\n      <td>3</td>\n      <td>07/03/2020</td>\n      <td>5001</td>\n      <td>Medellín</td>\n      <td>Antioquia</td>\n      <td>Recuperado</td>\n      <td>50</td>\n      <td>F</td>\n      <td>Importado</td>\n      <td>Leve</td>\n      <td>...</td>\n      <td>15</td>\n      <td>03</td>\n      <td>2020</td>\n      <td>Marzo</td>\n      <td>Domingo</td>\n      <td>9</td>\n      <td>3</td>\n      <td>2020</td>\n      <td>Marzo</td>\n      <td>Lunes</td>\n    </tr>\n    <tr>\n      <th>3</th>\n      <td>4</td>\n      <td>09/03/2020</td>\n      <td>5001</td>\n      <td>Medellín</td>\n      <td>Antioquia</td>\n      <td>Recuperado</td>\n      <td>55</td>\n      <td>M</td>\n      <td>Relacionado</td>\n      <td>Leve</td>\n      <td>...</td>\n      <td>26</td>\n      <td>03</td>\n      <td>2020</td>\n      <td>Marzo</td>\n      <td>Jueves</td>\n      <td>11</td>\n      <td>3</td>\n      <td>2020</td>\n      <td>Marzo</td>\n      <td>Miércoles</td>\n    </tr>\n    <tr>\n      <th>4</th>\n      <td>5</td>\n      <td>09/03/2020</td>\n      <td>5001</td>\n      <td>Medellín</td>\n      <td>Antioquia</td>\n      <td>Recuperado</td>\n      <td>25</td>\n      <td>M</td>\n      <td>Relacionado</td>\n      <td>Leve</td>\n      <td>...</td>\n      <td>23</td>\n      <td>03</td>\n      <td>2020</td>\n      <td>Marzo</td>\n      <td>Lunes</td>\n      <td>11</td>\n      <td>3</td>\n      <td>2020</td>\n      <td>Marzo</td>\n      <td>Miércoles</td>\n    </tr>\n  </tbody>\n</table>\n<p>5 rows × 46 columns</p>\n</div>"
     },
     "metadata": {},
     "execution_count": 5
    }
   ],
   "source": [
    "# Show dataframe\n",
    "covid19co.head()"
   ]
  },
  {
   "cell_type": "code",
   "execution_count": 6,
   "metadata": {},
   "outputs": [],
   "source": [
    "# Get Time Line\n",
    "def get_time_line(dfreport):\n",
    "    # Time Line [date, total, accum]\n",
    "    dfreport_time_line = pd.DataFrame(columns=['date', 'total', 'accum'])\n",
    "    dfreport_time_line['date'] = [dti.strftime('%d/%m/%Y') for dti in pd.date_range(start='2020-03-01', end=datetime.date.today().isoformat(), freq='D')]\n",
    "    # Total by Date\n",
    "    total_by_date = {}\n",
    "    # Group by 'FECHA REPORTE WEB'\n",
    "    group_by_date = dfreport.groupby(['FECHA REPORTE WEB'], sort=False)\n",
    "    # For each date\n",
    "    for date_report in group_by_date.groups.keys():\n",
    "        total_by_date[date_report] = group_by_date.get_group(date_report)['ID DE CASO'].count()\n",
    "    # Update Total by Date\n",
    "    dfreport_time_line['total'] = dfreport_time_line['date'].transform(lambda date: total_by_date[date] if date in total_by_date else 0)\n",
    "    # Update Accumulative Sum Cases Reported by Date\n",
    "    dfreport_time_line['accum'] = dfreport_time_line['total'].cumsum()\n",
    "    # Drop the last one if doesn't have total\n",
    "    #index_empty = dfreport_time_line[dfreport_time_line['date'] == datetime.date.today().strftime('%d/%m/%Y')]\n",
    "    #index_empty = index_empty[index_empty['total'] == 0].index\n",
    "    #dfreport_time_line.drop(index_empty, inplace=True)\n",
    "    # Return\n",
    "    return dfreport_time_line"
   ]
  },
  {
   "cell_type": "code",
   "execution_count": 7,
   "metadata": {},
   "outputs": [
    {
     "output_type": "execute_result",
     "data": {
      "text/plain": "          date  total_reported  accum_reported\n49  19/04/2020             174            3794\n50  20/04/2020             183            3977\n51  21/04/2020             172            4149\n52  22/04/2020             207            4356\n53  23/04/2020               0            4356",
      "text/html": "<div>\n<style scoped>\n    .dataframe tbody tr th:only-of-type {\n        vertical-align: middle;\n    }\n\n    .dataframe tbody tr th {\n        vertical-align: top;\n    }\n\n    .dataframe thead th {\n        text-align: right;\n    }\n</style>\n<table border=\"1\" class=\"dataframe\">\n  <thead>\n    <tr style=\"text-align: right;\">\n      <th></th>\n      <th>date</th>\n      <th>total_reported</th>\n      <th>accum_reported</th>\n    </tr>\n  </thead>\n  <tbody>\n    <tr>\n      <th>49</th>\n      <td>19/04/2020</td>\n      <td>174</td>\n      <td>3794</td>\n    </tr>\n    <tr>\n      <th>50</th>\n      <td>20/04/2020</td>\n      <td>183</td>\n      <td>3977</td>\n    </tr>\n    <tr>\n      <th>51</th>\n      <td>21/04/2020</td>\n      <td>172</td>\n      <td>4149</td>\n    </tr>\n    <tr>\n      <th>52</th>\n      <td>22/04/2020</td>\n      <td>207</td>\n      <td>4356</td>\n    </tr>\n    <tr>\n      <th>53</th>\n      <td>23/04/2020</td>\n      <td>0</td>\n      <td>4356</td>\n    </tr>\n  </tbody>\n</table>\n</div>"
     },
     "metadata": {},
     "execution_count": 7
    }
   ],
   "source": [
    "# Get Reported Time Line\n",
    "reported_time_line = get_time_line(covid19co)\n",
    "# Rename columns\n",
    "reported_time_line.columns = ['date', 'total_reported', 'accum_reported']\n",
    "# Show dataframe\n",
    "reported_time_line.tail()"
   ]
  },
  {
   "cell_type": "code",
   "execution_count": 8,
   "metadata": {},
   "outputs": [
    {
     "output_type": "execute_result",
     "data": {
      "text/plain": "   date_recupered  total_recupered  accum_recupered\n49     19/04/2020                0              870\n50     20/04/2020                0              870\n51     21/04/2020                0              870\n52     22/04/2020                0              870\n53     23/04/2020                0              870",
      "text/html": "<div>\n<style scoped>\n    .dataframe tbody tr th:only-of-type {\n        vertical-align: middle;\n    }\n\n    .dataframe tbody tr th {\n        vertical-align: top;\n    }\n\n    .dataframe thead th {\n        text-align: right;\n    }\n</style>\n<table border=\"1\" class=\"dataframe\">\n  <thead>\n    <tr style=\"text-align: right;\">\n      <th></th>\n      <th>date_recupered</th>\n      <th>total_recupered</th>\n      <th>accum_recupered</th>\n    </tr>\n  </thead>\n  <tbody>\n    <tr>\n      <th>49</th>\n      <td>19/04/2020</td>\n      <td>0</td>\n      <td>870</td>\n    </tr>\n    <tr>\n      <th>50</th>\n      <td>20/04/2020</td>\n      <td>0</td>\n      <td>870</td>\n    </tr>\n    <tr>\n      <th>51</th>\n      <td>21/04/2020</td>\n      <td>0</td>\n      <td>870</td>\n    </tr>\n    <tr>\n      <th>52</th>\n      <td>22/04/2020</td>\n      <td>0</td>\n      <td>870</td>\n    </tr>\n    <tr>\n      <th>53</th>\n      <td>23/04/2020</td>\n      <td>0</td>\n      <td>870</td>\n    </tr>\n  </tbody>\n</table>\n</div>"
     },
     "metadata": {},
     "execution_count": 8
    }
   ],
   "source": [
    "# Get Recupered Time Line\n",
    "dfrecupered = covid19co[covid19co['ATENCION'] == 'Recuperado']\n",
    "# Get Recupered Time Line\n",
    "recupered_time_line = get_time_line(dfrecupered)\n",
    "# Rename columns\n",
    "recupered_time_line.columns = ['date_recupered', 'total_recupered', 'accum_recupered']\n",
    "# Show dataframe\n",
    "recupered_time_line.tail()"
   ]
  },
  {
   "cell_type": "code",
   "execution_count": 9,
   "metadata": {},
   "outputs": [
    {
     "output_type": "execute_result",
     "data": {
      "text/plain": "   date_deceased  total_deceased  accum_deceased\n49    19/04/2020               1             200\n50    20/04/2020               4             204\n51    21/04/2020               1             205\n52    22/04/2020               1             206\n53    23/04/2020               0             206",
      "text/html": "<div>\n<style scoped>\n    .dataframe tbody tr th:only-of-type {\n        vertical-align: middle;\n    }\n\n    .dataframe tbody tr th {\n        vertical-align: top;\n    }\n\n    .dataframe thead th {\n        text-align: right;\n    }\n</style>\n<table border=\"1\" class=\"dataframe\">\n  <thead>\n    <tr style=\"text-align: right;\">\n      <th></th>\n      <th>date_deceased</th>\n      <th>total_deceased</th>\n      <th>accum_deceased</th>\n    </tr>\n  </thead>\n  <tbody>\n    <tr>\n      <th>49</th>\n      <td>19/04/2020</td>\n      <td>1</td>\n      <td>200</td>\n    </tr>\n    <tr>\n      <th>50</th>\n      <td>20/04/2020</td>\n      <td>4</td>\n      <td>204</td>\n    </tr>\n    <tr>\n      <th>51</th>\n      <td>21/04/2020</td>\n      <td>1</td>\n      <td>205</td>\n    </tr>\n    <tr>\n      <th>52</th>\n      <td>22/04/2020</td>\n      <td>1</td>\n      <td>206</td>\n    </tr>\n    <tr>\n      <th>53</th>\n      <td>23/04/2020</td>\n      <td>0</td>\n      <td>206</td>\n    </tr>\n  </tbody>\n</table>\n</div>"
     },
     "metadata": {},
     "execution_count": 9
    }
   ],
   "source": [
    "# Get Deceased Time Line\n",
    "dfdeceased = covid19co[covid19co['ATENCION'] == 'Fallecido']\n",
    "# Get Deceased Time Line\n",
    "deceased_time_line = get_time_line(dfdeceased)\n",
    "# Rename columns\n",
    "deceased_time_line.columns = ['date_deceased', 'total_deceased', 'accum_deceased']\n",
    "# Show dataframe\n",
    "deceased_time_line.tail()"
   ]
  },
  {
   "cell_type": "code",
   "execution_count": 10,
   "metadata": {},
   "outputs": [
    {
     "output_type": "execute_result",
     "data": {
      "text/plain": "          date  total_reported  accum_reported  total_recupered  \\\n49  19/04/2020             174            3794                0   \n50  20/04/2020             183            3977                0   \n51  21/04/2020             172            4149                0   \n52  22/04/2020             207            4356                0   \n53  23/04/2020               0            4356                0   \n\n    accum_recupered  total_deceased  accum_deceased  \n49              870               1             200  \n50              870               4             204  \n51              870               1             205  \n52              870               1             206  \n53              870               0             206  ",
      "text/html": "<div>\n<style scoped>\n    .dataframe tbody tr th:only-of-type {\n        vertical-align: middle;\n    }\n\n    .dataframe tbody tr th {\n        vertical-align: top;\n    }\n\n    .dataframe thead th {\n        text-align: right;\n    }\n</style>\n<table border=\"1\" class=\"dataframe\">\n  <thead>\n    <tr style=\"text-align: right;\">\n      <th></th>\n      <th>date</th>\n      <th>total_reported</th>\n      <th>accum_reported</th>\n      <th>total_recupered</th>\n      <th>accum_recupered</th>\n      <th>total_deceased</th>\n      <th>accum_deceased</th>\n    </tr>\n  </thead>\n  <tbody>\n    <tr>\n      <th>49</th>\n      <td>19/04/2020</td>\n      <td>174</td>\n      <td>3794</td>\n      <td>0</td>\n      <td>870</td>\n      <td>1</td>\n      <td>200</td>\n    </tr>\n    <tr>\n      <th>50</th>\n      <td>20/04/2020</td>\n      <td>183</td>\n      <td>3977</td>\n      <td>0</td>\n      <td>870</td>\n      <td>4</td>\n      <td>204</td>\n    </tr>\n    <tr>\n      <th>51</th>\n      <td>21/04/2020</td>\n      <td>172</td>\n      <td>4149</td>\n      <td>0</td>\n      <td>870</td>\n      <td>1</td>\n      <td>205</td>\n    </tr>\n    <tr>\n      <th>52</th>\n      <td>22/04/2020</td>\n      <td>207</td>\n      <td>4356</td>\n      <td>0</td>\n      <td>870</td>\n      <td>1</td>\n      <td>206</td>\n    </tr>\n    <tr>\n      <th>53</th>\n      <td>23/04/2020</td>\n      <td>0</td>\n      <td>4356</td>\n      <td>0</td>\n      <td>870</td>\n      <td>0</td>\n      <td>206</td>\n    </tr>\n  </tbody>\n</table>\n</div>"
     },
     "metadata": {},
     "execution_count": 10
    }
   ],
   "source": [
    "# Merge Time Lines\n",
    "covid19co_time_line = pd.concat([reported_time_line, recupered_time_line, deceased_time_line], axis=1, sort=False)\n",
    "# Delete Columns\n",
    "covid19co_time_line.drop(columns=['date_recupered', 'date_deceased'], inplace=True)\n",
    "# Show dataframe\n",
    "covid19co_time_line.tail()"
   ]
  },
  {
   "cell_type": "markdown",
   "metadata": {},
   "source": [
    "## Time Line Reported, Recupered and Deceased\n",
    "> ***Output file***: covid19co_time_line.csv"
   ]
  },
  {
   "cell_type": "code",
   "execution_count": 11,
   "metadata": {},
   "outputs": [],
   "source": [
    "# Save dataframe\n",
    "covid19co_time_line.to_csv(os.path.join(OUTPUT_DIR, 'covid19co_time_line.csv'), index=False)"
   ]
  },
  {
   "cell_type": "markdown",
   "metadata": {},
   "source": [
    "---"
   ]
  },
  {
   "cell_type": "markdown",
   "metadata": {},
   "source": [
    "## Time Line Reported, Recupered and Deceased by City"
   ]
  },
  {
   "cell_type": "code",
   "execution_count": 12,
   "metadata": {},
   "outputs": [
    {
     "output_type": "execute_result",
     "data": {
      "text/plain": "180"
     },
     "metadata": {},
     "execution_count": 12
    }
   ],
   "source": [
    "# List of Cities\n",
    "cities = list(set(covid19co['CIUDAD DE UBICACION'].values))\n",
    "# Show total cities\n",
    "len(cities)"
   ]
  },
  {
   "cell_type": "code",
   "execution_count": 13,
   "metadata": {},
   "outputs": [],
   "source": [
    "# Time Line by City\n",
    "time_line_by_city = {}\n",
    "# For each city\n",
    "for city in cities:\n",
    "    # Filter by City\n",
    "    covid19co_city = covid19co[covid19co['CIUDAD DE UBICACION'] == city]\n",
    "    # Get Reported Time Line\n",
    "    reported_time_line = get_time_line(covid19co_city)\n",
    "    # Rename columns\n",
    "    reported_time_line.columns = ['date', 'total_reported', 'accum_reported']\n",
    "    # Get Recupered Time Line\n",
    "    dfrecupered = covid19co_city[covid19co_city['ATENCION'] == 'Recuperado']\n",
    "    # Get Recupered Time Line\n",
    "    recupered_time_line = get_time_line(dfrecupered)\n",
    "    # Rename columns\n",
    "    recupered_time_line.columns = ['date_recupered', 'total_recupered', 'accum_recupered']\n",
    "    # Get Deceased Time Line\n",
    "    dfdeceased = covid19co_city[covid19co_city['ATENCION'] == 'Fallecido']\n",
    "    # Get Deceased Time Line\n",
    "    deceased_time_line = get_time_line(dfdeceased)\n",
    "    # Rename columns\n",
    "    deceased_time_line.columns = ['date_deceased', 'total_deceased', 'accum_deceased']\n",
    "    # Merge Time Lines\n",
    "    covid19co_time_line = pd.concat([reported_time_line, recupered_time_line, deceased_time_line], axis=1, sort=False)\n",
    "    # Delete Columns\n",
    "    covid19co_time_line.drop(columns=['date_recupered', 'date_deceased'], inplace=True)\n",
    "    # Create key city\n",
    "    key_city = ''.join(x for x in re.sub('[^A-Za-z0-9 ]+', '', unidecode.unidecode(city)).title() if not x.isspace())\n",
    "    # Add to dict\n",
    "    time_line_by_city[key_city] = covid19co_time_line"
   ]
  },
  {
   "cell_type": "code",
   "execution_count": 14,
   "metadata": {},
   "outputs": [],
   "source": [
    "# Show time line by city keys\n",
    "#list(time_line_by_city.keys())"
   ]
  },
  {
   "cell_type": "code",
   "execution_count": 15,
   "metadata": {},
   "outputs": [
    {
     "output_type": "execute_result",
     "data": {
      "text/plain": "          date  total_reported  accum_reported  total_recupered  \\\n49  19/04/2020               9             490                0   \n50  20/04/2020              38             528                0   \n51  21/04/2020              24             552                0   \n52  22/04/2020              23             575                0   \n53  23/04/2020               0             575                0   \n\n    accum_recupered  total_deceased  accum_deceased  \n49               71               0              34  \n50               71               1              35  \n51               71               0              35  \n52               71               0              35  \n53               71               0              35  ",
      "text/html": "<div>\n<style scoped>\n    .dataframe tbody tr th:only-of-type {\n        vertical-align: middle;\n    }\n\n    .dataframe tbody tr th {\n        vertical-align: top;\n    }\n\n    .dataframe thead th {\n        text-align: right;\n    }\n</style>\n<table border=\"1\" class=\"dataframe\">\n  <thead>\n    <tr style=\"text-align: right;\">\n      <th></th>\n      <th>date</th>\n      <th>total_reported</th>\n      <th>accum_reported</th>\n      <th>total_recupered</th>\n      <th>accum_recupered</th>\n      <th>total_deceased</th>\n      <th>accum_deceased</th>\n    </tr>\n  </thead>\n  <tbody>\n    <tr>\n      <th>49</th>\n      <td>19/04/2020</td>\n      <td>9</td>\n      <td>490</td>\n      <td>0</td>\n      <td>71</td>\n      <td>0</td>\n      <td>34</td>\n    </tr>\n    <tr>\n      <th>50</th>\n      <td>20/04/2020</td>\n      <td>38</td>\n      <td>528</td>\n      <td>0</td>\n      <td>71</td>\n      <td>1</td>\n      <td>35</td>\n    </tr>\n    <tr>\n      <th>51</th>\n      <td>21/04/2020</td>\n      <td>24</td>\n      <td>552</td>\n      <td>0</td>\n      <td>71</td>\n      <td>0</td>\n      <td>35</td>\n    </tr>\n    <tr>\n      <th>52</th>\n      <td>22/04/2020</td>\n      <td>23</td>\n      <td>575</td>\n      <td>0</td>\n      <td>71</td>\n      <td>0</td>\n      <td>35</td>\n    </tr>\n    <tr>\n      <th>53</th>\n      <td>23/04/2020</td>\n      <td>0</td>\n      <td>575</td>\n      <td>0</td>\n      <td>71</td>\n      <td>0</td>\n      <td>35</td>\n    </tr>\n  </tbody>\n</table>\n</div>"
     },
     "metadata": {},
     "execution_count": 15
    }
   ],
   "source": [
    "# Show dataframe\n",
    "time_line_by_city['Cali'].tail()"
   ]
  },
  {
   "cell_type": "markdown",
   "metadata": {},
   "source": [
    "## Time Line Reported, Recupered and Deceased by City\n",
    "> ***Output file***: covid19co_time_line_{key_city}.csv"
   ]
  },
  {
   "cell_type": "code",
   "execution_count": 16,
   "metadata": {},
   "outputs": [],
   "source": [
    "for key_city in time_line_by_city:\n",
    "    # Save dataframe\n",
    "    time_line_by_city[key_city].to_csv(os.path.join(OUTPUT_DIR, 'covid19co_time_line_' + key_city + '.csv'), index=False)"
   ]
  },
  {
   "cell_type": "markdown",
   "metadata": {},
   "source": [
    "---"
   ]
  },
  {
   "cell_type": "markdown",
   "metadata": {},
   "source": [
    "## Time Line Reported, Recupered and Deceased by Department"
   ]
  },
  {
   "cell_type": "code",
   "execution_count": 17,
   "metadata": {},
   "outputs": [
    {
     "output_type": "execute_result",
     "data": {
      "text/plain": "31"
     },
     "metadata": {},
     "execution_count": 17
    }
   ],
   "source": [
    "# List of Departments\n",
    "departs = list(set(covid19co['DEPARTAMENTO O DISTRITO '].values))\n",
    "# Show total departments\n",
    "len(departs)"
   ]
  },
  {
   "cell_type": "code",
   "execution_count": 18,
   "metadata": {},
   "outputs": [],
   "source": [
    "# Time Line by Department\n",
    "time_line_by_depto = {}\n",
    "# For each deparment\n",
    "for deparment in departs:\n",
    "    # Filter by Department\n",
    "    covid19co_depto = covid19co[covid19co['DEPARTAMENTO O DISTRITO '] == deparment]\n",
    "    # Get Reported Time Line\n",
    "    reported_time_line = get_time_line(covid19co_depto)\n",
    "    # Rename columns\n",
    "    reported_time_line.columns = ['date', 'total_reported', 'accum_reported']\n",
    "    # Get Recupered Time Line\n",
    "    dfrecupered = covid19co_depto[covid19co_depto['ATENCION'] == 'Recuperado']\n",
    "    # Get Recupered Time Line\n",
    "    recupered_time_line = get_time_line(dfrecupered)\n",
    "    # Rename columns\n",
    "    recupered_time_line.columns = ['date_recupered', 'total_recupered', 'accum_recupered']\n",
    "    # Get Deceased Time Line\n",
    "    dfdeceased = covid19co_depto[covid19co_depto['ATENCION'] == 'Fallecido']\n",
    "    # Get Deceased Time Line\n",
    "    deceased_time_line = get_time_line(dfdeceased)\n",
    "    # Rename columns\n",
    "    deceased_time_line.columns = ['date_deceased', 'total_deceased', 'accum_deceased']\n",
    "    # Merge Time Lines\n",
    "    covid19co_time_line = pd.concat([reported_time_line, recupered_time_line, deceased_time_line], axis=1, sort=False)\n",
    "    # Delete Columns\n",
    "    covid19co_time_line.drop(columns=['date_recupered', 'date_deceased'], inplace=True)\n",
    "    # Create key depto\n",
    "    key_depto = ''.join(x for x in re.sub('[^A-Za-z0-9 ]+', '', unidecode.unidecode(deparment)).title() if not x.isspace())\n",
    "    # Add to dict\n",
    "    time_line_by_depto[key_depto] = covid19co_time_line"
   ]
  },
  {
   "cell_type": "code",
   "execution_count": 19,
   "metadata": {},
   "outputs": [],
   "source": [
    "# Show time line by deparment keys\n",
    "#list(time_line_by_depto.keys())"
   ]
  },
  {
   "cell_type": "code",
   "execution_count": 20,
   "metadata": {},
   "outputs": [
    {
     "output_type": "execute_result",
     "data": {
      "text/plain": "          date  total_reported  accum_reported  total_recupered  \\\n49  19/04/2020              10             619                0   \n50  20/04/2020              49             668                0   \n51  21/04/2020              29             697                0   \n52  22/04/2020              27             724                0   \n53  23/04/2020               0             724                0   \n\n    accum_recupered  total_deceased  accum_deceased  \n49              108               0              42  \n50              108               1              43  \n51              108               0              43  \n52              108               0              43  \n53              108               0              43  ",
      "text/html": "<div>\n<style scoped>\n    .dataframe tbody tr th:only-of-type {\n        vertical-align: middle;\n    }\n\n    .dataframe tbody tr th {\n        vertical-align: top;\n    }\n\n    .dataframe thead th {\n        text-align: right;\n    }\n</style>\n<table border=\"1\" class=\"dataframe\">\n  <thead>\n    <tr style=\"text-align: right;\">\n      <th></th>\n      <th>date</th>\n      <th>total_reported</th>\n      <th>accum_reported</th>\n      <th>total_recupered</th>\n      <th>accum_recupered</th>\n      <th>total_deceased</th>\n      <th>accum_deceased</th>\n    </tr>\n  </thead>\n  <tbody>\n    <tr>\n      <th>49</th>\n      <td>19/04/2020</td>\n      <td>10</td>\n      <td>619</td>\n      <td>0</td>\n      <td>108</td>\n      <td>0</td>\n      <td>42</td>\n    </tr>\n    <tr>\n      <th>50</th>\n      <td>20/04/2020</td>\n      <td>49</td>\n      <td>668</td>\n      <td>0</td>\n      <td>108</td>\n      <td>1</td>\n      <td>43</td>\n    </tr>\n    <tr>\n      <th>51</th>\n      <td>21/04/2020</td>\n      <td>29</td>\n      <td>697</td>\n      <td>0</td>\n      <td>108</td>\n      <td>0</td>\n      <td>43</td>\n    </tr>\n    <tr>\n      <th>52</th>\n      <td>22/04/2020</td>\n      <td>27</td>\n      <td>724</td>\n      <td>0</td>\n      <td>108</td>\n      <td>0</td>\n      <td>43</td>\n    </tr>\n    <tr>\n      <th>53</th>\n      <td>23/04/2020</td>\n      <td>0</td>\n      <td>724</td>\n      <td>0</td>\n      <td>108</td>\n      <td>0</td>\n      <td>43</td>\n    </tr>\n  </tbody>\n</table>\n</div>"
     },
     "metadata": {},
     "execution_count": 20
    }
   ],
   "source": [
    "# Show dataframe\n",
    "time_line_by_depto['ValleDelCauca'].tail()"
   ]
  },
  {
   "cell_type": "markdown",
   "metadata": {},
   "source": [
    "## Time Line Reported, Recupered and Deceased by Department\n",
    "> ***Output file***: covid19co_time_line_{key_depto}.csv"
   ]
  },
  {
   "cell_type": "code",
   "execution_count": 21,
   "metadata": {},
   "outputs": [],
   "source": [
    "for key_depto in time_line_by_depto:\n",
    "    # Save dataframe\n",
    "    time_line_by_depto[key_depto].to_csv(os.path.join(OUTPUT_DIR, 'covid19co_time_line_' + key_depto + '.csv'), index=False)"
   ]
  },
  {
   "cell_type": "markdown",
   "metadata": {},
   "source": [
    "---"
   ]
  },
  {
   "cell_type": "markdown",
   "metadata": {},
   "source": [
    "## Time Line Samples Processed"
   ]
  },
  {
   "cell_type": "code",
   "execution_count": 22,
   "metadata": {},
   "outputs": [
    {
     "output_type": "execute_result",
     "data": {
      "text/plain": "        FECHA  MUESTRAS PROCESADAS SEGUN FECHA DE RESULTADO ACUMULADAS\n0           -                                                 36      \n1  04/03/2020                                                 26      \n2  05/03/2020                                                 27      \n3  06/03/2020                                                 72      \n4  07/03/2020                                                140      ",
      "text/html": "<div>\n<style scoped>\n    .dataframe tbody tr th:only-of-type {\n        vertical-align: middle;\n    }\n\n    .dataframe tbody tr th {\n        vertical-align: top;\n    }\n\n    .dataframe thead th {\n        text-align: right;\n    }\n</style>\n<table border=\"1\" class=\"dataframe\">\n  <thead>\n    <tr style=\"text-align: right;\">\n      <th></th>\n      <th>FECHA</th>\n      <th>MUESTRAS PROCESADAS SEGUN FECHA DE RESULTADO ACUMULADAS</th>\n    </tr>\n  </thead>\n  <tbody>\n    <tr>\n      <th>0</th>\n      <td>-</td>\n      <td>36</td>\n    </tr>\n    <tr>\n      <th>1</th>\n      <td>04/03/2020</td>\n      <td>26</td>\n    </tr>\n    <tr>\n      <th>2</th>\n      <td>05/03/2020</td>\n      <td>27</td>\n    </tr>\n    <tr>\n      <th>3</th>\n      <td>06/03/2020</td>\n      <td>72</td>\n    </tr>\n    <tr>\n      <th>4</th>\n      <td>07/03/2020</td>\n      <td>140</td>\n    </tr>\n  </tbody>\n</table>\n</div>"
     },
     "metadata": {},
     "execution_count": 22
    }
   ],
   "source": [
    "# Show dataframe\n",
    "covid19co_samples_processed.head()"
   ]
  },
  {
   "cell_type": "code",
   "execution_count": 23,
   "metadata": {},
   "outputs": [
    {
     "output_type": "execute_result",
     "data": {
      "text/plain": "         date  accum_samples\n0           -             36\n1  04/03/2020             26\n2  05/03/2020             27\n3  06/03/2020             72\n4  07/03/2020            140",
      "text/html": "<div>\n<style scoped>\n    .dataframe tbody tr th:only-of-type {\n        vertical-align: middle;\n    }\n\n    .dataframe tbody tr th {\n        vertical-align: top;\n    }\n\n    .dataframe thead th {\n        text-align: right;\n    }\n</style>\n<table border=\"1\" class=\"dataframe\">\n  <thead>\n    <tr style=\"text-align: right;\">\n      <th></th>\n      <th>date</th>\n      <th>accum_samples</th>\n    </tr>\n  </thead>\n  <tbody>\n    <tr>\n      <th>0</th>\n      <td>-</td>\n      <td>36</td>\n    </tr>\n    <tr>\n      <th>1</th>\n      <td>04/03/2020</td>\n      <td>26</td>\n    </tr>\n    <tr>\n      <th>2</th>\n      <td>05/03/2020</td>\n      <td>27</td>\n    </tr>\n    <tr>\n      <th>3</th>\n      <td>06/03/2020</td>\n      <td>72</td>\n    </tr>\n    <tr>\n      <th>4</th>\n      <td>07/03/2020</td>\n      <td>140</td>\n    </tr>\n  </tbody>\n</table>\n</div>"
     },
     "metadata": {},
     "execution_count": 23
    }
   ],
   "source": [
    "# Rename columns\n",
    "covid19co_samples_processed.columns = ['date', 'accum_samples']\n",
    "# Show dataframe\n",
    "covid19co_samples_processed.head()"
   ]
  },
  {
   "cell_type": "code",
   "execution_count": 24,
   "metadata": {},
   "outputs": [
    {
     "output_type": "execute_result",
     "data": {
      "text/plain": "         date  accum\n0  01/03/2020      0\n1  02/03/2020      0\n2           -     36\n3  04/03/2020     26\n4  05/03/2020     27",
      "text/html": "<div>\n<style scoped>\n    .dataframe tbody tr th:only-of-type {\n        vertical-align: middle;\n    }\n\n    .dataframe tbody tr th {\n        vertical-align: top;\n    }\n\n    .dataframe thead th {\n        text-align: right;\n    }\n</style>\n<table border=\"1\" class=\"dataframe\">\n  <thead>\n    <tr style=\"text-align: right;\">\n      <th></th>\n      <th>date</th>\n      <th>accum</th>\n    </tr>\n  </thead>\n  <tbody>\n    <tr>\n      <th>0</th>\n      <td>01/03/2020</td>\n      <td>0</td>\n    </tr>\n    <tr>\n      <th>1</th>\n      <td>02/03/2020</td>\n      <td>0</td>\n    </tr>\n    <tr>\n      <th>2</th>\n      <td>-</td>\n      <td>36</td>\n    </tr>\n    <tr>\n      <th>3</th>\n      <td>04/03/2020</td>\n      <td>26</td>\n    </tr>\n    <tr>\n      <th>4</th>\n      <td>05/03/2020</td>\n      <td>27</td>\n    </tr>\n  </tbody>\n</table>\n</div>"
     },
     "metadata": {},
     "execution_count": 24
    }
   ],
   "source": [
    "# Time Line [date, accum]\n",
    "covid19co_samples_time_line = pd.DataFrame(columns=['date', 'accum'])\n",
    "covid19co_samples_time_line['date'] = [dti.strftime('%d/%m/%Y') for dti in pd.date_range(start='2020-03-01', end=datetime.date.today().isoformat(), freq='D')]\n",
    "# Get Accumulative Samples\n",
    "def get_accum(date_sample):\n",
    "    accum = covid19co_samples_processed[covid19co_samples_processed['date'] == date_sample]['accum_samples'].values\n",
    "    return accum[0] if len(accum) > 0 else 0\n",
    "# Update accum\n",
    "covid19co_samples_time_line['accum'] = covid19co_samples_time_line['date'].transform(lambda value: get_accum(value))\n",
    "# Add samples without date\n",
    "covid19co_samples_time_line.iloc[2] = list(covid19co_samples_processed.iloc[0])\n",
    "# Show dataframe\n",
    "covid19co_samples_time_line.head()"
   ]
  },
  {
   "cell_type": "markdown",
   "metadata": {},
   "source": [
    "## Time Line Samples Processed\n",
    "> ***Output file***: covid19co_samples_time_line.csv"
   ]
  },
  {
   "cell_type": "code",
   "execution_count": 25,
   "metadata": {},
   "outputs": [],
   "source": [
    "# Save dataframe\n",
    "covid19co_samples_time_line.to_csv(os.path.join(OUTPUT_DIR, 'covid19co_samples_time_line.csv'), index=False)"
   ]
  },
  {
   "cell_type": "markdown",
   "metadata": {},
   "source": [
    "---"
   ]
  },
  {
   "cell_type": "code",
   "execution_count": null,
   "metadata": {},
   "outputs": [],
   "source": []
  }
 ],
 "metadata": {
  "language_info": {
   "codemirror_mode": {
    "name": "ipython",
    "version": 3
   },
   "file_extension": ".py",
   "mimetype": "text/x-python",
   "name": "python",
   "nbconvert_exporter": "python",
   "pygments_lexer": "ipython3",
   "version": "3.6.9-final"
  },
  "orig_nbformat": 2,
  "kernelspec": {
   "name": "python36964bitvenvvenv83dfe23e093e47f3b91ee1d0340b51b2",
   "display_name": "Python 3.6.9 64-bit ('.venv': venv)"
  }
 },
 "nbformat": 4,
 "nbformat_minor": 2
}