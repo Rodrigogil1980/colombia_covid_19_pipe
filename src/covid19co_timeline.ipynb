{
 "cells": [
  {
   "cell_type": "code",
   "execution_count": 140,
   "metadata": {},
   "outputs": [],
   "source": [
    "# This Python 3 environment comes with many helpful analytics libraries installed\n",
    "# It is defined by the kaggle/python docker image: https://github.com/kaggle/docker-python\n",
    "# For example, here's several helpful packages to load in \n",
    "\n",
    "# Dependencies\n",
    "import numpy as np\n",
    "import pandas as pd\n",
    "import requests\n",
    "import unidecode\n",
    "import datetime\n",
    "import dateutil\n",
    "import subprocess\n",
    "import sys\n",
    "import json\n",
    "import tempfile\n",
    "import os\n",
    "import re\n",
    "\n",
    "# Install missing dependencies\n",
    "def install(package):\n",
    "    subprocess.check_call([sys.executable, \"-m\", \"pip\", \"install\", package])\n",
    "\n",
    "# Input data files are available in the \"../input/\" directory.\n",
    "# For example, running this (by clicking run or pressing Shift+Enter) will list all files under the input directory\n",
    "\n",
    "#for dirname, _, filenames in os.walk('/kaggle/input'):\n",
    "#    for filename in filenames:\n",
    "#        print(os.path.join(dirname, filename))\n",
    "\n",
    "# Any results you write to the current directory are saved as output."
   ]
  },
  {
   "cell_type": "markdown",
   "metadata": {},
   "source": [
    "---"
   ]
  },
  {
   "cell_type": "markdown",
   "metadata": {},
   "source": [
    "# Colombia Covid19 Time Line\n",
    "Dataset obtained from [Instituto Nacional de Salud](https://www.ins.gov.co/Noticias/Paginas/Coronavirus.aspx) daily report Covid19 from Colombia.\n",
    "\n",
    "You can get the official dataset here: \n",
    "[INS - Official Report](https://www.datos.gov.co/Salud-y-Protecci-n-Social/Casos-positivos-de-COVID-19-en-Colombia/gt2j-8ykr)\n",
    "\n",
    "The number of new cases are increasing day by day around the world.\n",
    "This dataset has information about reported cases from 32 Colombia departments.\n",
    "\n",
    "Also you can get the dataset Google COVID-19 Community Mobility Reports - Colombia.\n",
    "\n",
    "You can view and collaborate to the analysis here:\n",
    "[colombia_covid_19_analysis](https://www.kaggle.com/sebaxtian/colombia-covid-19-analysis) Kaggle Notebook Kernel."
   ]
  },
  {
   "cell_type": "markdown",
   "metadata": {},
   "source": [
    "---"
   ]
  },
  {
   "cell_type": "markdown",
   "metadata": {},
   "source": [
    "## Data Sources"
   ]
  },
  {
   "cell_type": "code",
   "execution_count": 141,
   "metadata": {},
   "outputs": [],
   "source": [
    "# Input data files are available in the \"../input/\" directory.\n",
    "INPUT_DIR = './'\n",
    "if os.path.split(os.path.abspath('.'))[-1] == 'src':\n",
    "    INPUT_DIR = '../input'\n",
    "# Output data files are available in the \"../output/\" directory.\n",
    "OUTPUT_DIR = './'\n",
    "if os.path.split(os.path.abspath('.'))[-1] == 'src':\n",
    "    OUTPUT_DIR = '../output'"
   ]
  },
  {
   "cell_type": "code",
   "execution_count": 142,
   "metadata": {},
   "outputs": [
    {
     "output_type": "execute_result",
     "data": {
      "text/plain": "(7973, 46)"
     },
     "metadata": {},
     "execution_count": 142
    }
   ],
   "source": [
    "# Covid19 Colombia Dataset\n",
    "covid19co = pd.read_csv(os.path.join(OUTPUT_DIR, 'covid19co.csv'))\n",
    "# Total Covid19 Colombia\n",
    "covid19co.shape"
   ]
  },
  {
   "cell_type": "code",
   "execution_count": 143,
   "metadata": {},
   "outputs": [
    {
     "output_type": "execute_result",
     "data": {
      "text/plain": "(62, 2)"
     },
     "metadata": {},
     "execution_count": 143
    }
   ],
   "source": [
    "# Covid19 Colombia Samples Processed Dataset\n",
    "covid19co_samples_processed = pd.read_csv(os.path.join(OUTPUT_DIR, 'covid19co_samples_processed.csv'))\n",
    "# Total Covid19 Colombia Samples Processed\n",
    "covid19co_samples_processed.shape"
   ]
  },
  {
   "cell_type": "markdown",
   "metadata": {},
   "source": [
    "---"
   ]
  },
  {
   "cell_type": "markdown",
   "metadata": {},
   "source": [
    "## Official Date Report"
   ]
  },
  {
   "cell_type": "code",
   "execution_count": 144,
   "metadata": {},
   "outputs": [
    {
     "output_type": "stream",
     "name": "stdout",
     "text": "Bogota Date: 2020-05-05\nOfficial Date Report: 2020-05-04\n"
    }
   ],
   "source": [
    "# URL Bogota Date\n",
    "URL_BOGOTA_TIME = 'http://worldtimeapi.org/api/timezone/America/Bogota'\n",
    "# Get Bogota Date\n",
    "with requests.get(URL_BOGOTA_TIME) as bogota_time:\n",
    "    bogota_time = bogota_time.json()\n",
    "# Bogota Date\n",
    "#print(bogota_time)\n",
    "bogota_date = datetime.date.fromtimestamp(bogota_time['unixtime']).isoformat()\n",
    "print('Bogota Date:', bogota_date)\n",
    "\n",
    "try:\n",
    "    # URL Date Report\n",
    "    URL_DATE_REPORT = 'https://e.infogram.com/api/live/flex/efcb7f88-4bd0-4e26-a497-14ae28f6d199/a90dbc02-108d-44be-8178-b1eb6ea1fdd9?'\n",
    "    # Get Official Date Report\n",
    "    with requests.get(URL_DATE_REPORT) as official_date_report:\n",
    "        official_date_report = official_date_report.json()\n",
    "    # Official Date Report\n",
    "    #print(official_date_report['data'][0][1][0])\n",
    "    official_date_report = official_date_report['data'][0][1][0]\n",
    "    #print(official_date_report)\n",
    "    # Date Format\n",
    "    date_format = official_date_report.split(' ')[4].split('-')\n",
    "    # YEAR-MONTH-DAY\n",
    "    official_date_report = datetime.date(int(date_format[2]), int(date_format[1]), int(date_format[0]))\n",
    "except:\n",
    "    official_date_report = bogota_date\n",
    "# Print\n",
    "print('Official Date Report:', official_date_report)"
   ]
  },
  {
   "cell_type": "markdown",
   "metadata": {},
   "source": [
    "---"
   ]
  },
  {
   "cell_type": "markdown",
   "metadata": {},
   "source": [
    "## Time Line Reported, Recupered and Deceased"
   ]
  },
  {
   "cell_type": "code",
   "execution_count": 145,
   "metadata": {},
   "outputs": [
    {
     "output_type": "execute_result",
     "data": {
      "text/plain": "      ID DE CASO FECHA DE NOTIFICACION  CODIGO DIVIPOLA CIUDAD DE UBICACION  \\\n7968        8009            01/05/2020            15835            Turmequé   \n7969        8010            01/05/2020            15001               Tunja   \n7970        8011            30/04/2020            76001                Cali   \n7971        8012            01/05/2020            25754              Soacha   \n7972        8013            02/05/2020            25286               Funza   \n\n     DEPARTAMENTO O DISTRITO  ATENCION  EDAD SEXO         TIPO ESTADO  ...  \\\n7968                   Boyacá     Casa    42    M   En Estudio   Leve  ...   \n7969                   Boyacá     Casa    44    M  Relacionado   Leve  ...   \n7970          Valle Del Cauca     Casa    28    F   En Estudio   Leve  ...   \n7971             Cundinamarca     Casa    49    F   En Estudio   Leve  ...   \n7972             Cundinamarca     Casa    38    M   En Estudio   Leve  ...   \n\n     FECHA RECUPERADO DIA FECHA RECUPERADO MES FECHA RECUPERADO ANIO  \\\n7968                    -                    -                     -   \n7969                    -                    -                     -   \n7970                    -                    -                     -   \n7971                    -                    -                     -   \n7972                    -                    -                     -   \n\n     FECHA RECUPERADO NOMBRE MES FECHA RECUPERADO DIA SEMANA  \\\n7968                           -                           -   \n7969                           -                           -   \n7970                           -                           -   \n7971                           -                           -   \n7972                           -                           -   \n\n     FECHA REPORTE WEB DIA  FECHA REPORTE WEB MES  FECHA REPORTE WEB ANIO  \\\n7968                     4                      5                    2020   \n7969                     4                      5                    2020   \n7970                     4                      5                    2020   \n7971                     4                      5                    2020   \n7972                     4                      5                    2020   \n\n      FECHA REPORTE WEB NOMBRE MES FECHA REPORTE WEB DIA SEMANA  \n7968                          Mayo                        Lunes  \n7969                          Mayo                        Lunes  \n7970                          Mayo                        Lunes  \n7971                          Mayo                        Lunes  \n7972                          Mayo                        Lunes  \n\n[5 rows x 46 columns]",
      "text/html": "<div>\n<style scoped>\n    .dataframe tbody tr th:only-of-type {\n        vertical-align: middle;\n    }\n\n    .dataframe tbody tr th {\n        vertical-align: top;\n    }\n\n    .dataframe thead th {\n        text-align: right;\n    }\n</style>\n<table border=\"1\" class=\"dataframe\">\n  <thead>\n    <tr style=\"text-align: right;\">\n      <th></th>\n      <th>ID DE CASO</th>\n      <th>FECHA DE NOTIFICACION</th>\n      <th>CODIGO DIVIPOLA</th>\n      <th>CIUDAD DE UBICACION</th>\n      <th>DEPARTAMENTO O DISTRITO</th>\n      <th>ATENCION</th>\n      <th>EDAD</th>\n      <th>SEXO</th>\n      <th>TIPO</th>\n      <th>ESTADO</th>\n      <th>...</th>\n      <th>FECHA RECUPERADO DIA</th>\n      <th>FECHA RECUPERADO MES</th>\n      <th>FECHA RECUPERADO ANIO</th>\n      <th>FECHA RECUPERADO NOMBRE MES</th>\n      <th>FECHA RECUPERADO DIA SEMANA</th>\n      <th>FECHA REPORTE WEB DIA</th>\n      <th>FECHA REPORTE WEB MES</th>\n      <th>FECHA REPORTE WEB ANIO</th>\n      <th>FECHA REPORTE WEB NOMBRE MES</th>\n      <th>FECHA REPORTE WEB DIA SEMANA</th>\n    </tr>\n  </thead>\n  <tbody>\n    <tr>\n      <th>7968</th>\n      <td>8009</td>\n      <td>01/05/2020</td>\n      <td>15835</td>\n      <td>Turmequé</td>\n      <td>Boyacá</td>\n      <td>Casa</td>\n      <td>42</td>\n      <td>M</td>\n      <td>En Estudio</td>\n      <td>Leve</td>\n      <td>...</td>\n      <td>-</td>\n      <td>-</td>\n      <td>-</td>\n      <td>-</td>\n      <td>-</td>\n      <td>4</td>\n      <td>5</td>\n      <td>2020</td>\n      <td>Mayo</td>\n      <td>Lunes</td>\n    </tr>\n    <tr>\n      <th>7969</th>\n      <td>8010</td>\n      <td>01/05/2020</td>\n      <td>15001</td>\n      <td>Tunja</td>\n      <td>Boyacá</td>\n      <td>Casa</td>\n      <td>44</td>\n      <td>M</td>\n      <td>Relacionado</td>\n      <td>Leve</td>\n      <td>...</td>\n      <td>-</td>\n      <td>-</td>\n      <td>-</td>\n      <td>-</td>\n      <td>-</td>\n      <td>4</td>\n      <td>5</td>\n      <td>2020</td>\n      <td>Mayo</td>\n      <td>Lunes</td>\n    </tr>\n    <tr>\n      <th>7970</th>\n      <td>8011</td>\n      <td>30/04/2020</td>\n      <td>76001</td>\n      <td>Cali</td>\n      <td>Valle Del Cauca</td>\n      <td>Casa</td>\n      <td>28</td>\n      <td>F</td>\n      <td>En Estudio</td>\n      <td>Leve</td>\n      <td>...</td>\n      <td>-</td>\n      <td>-</td>\n      <td>-</td>\n      <td>-</td>\n      <td>-</td>\n      <td>4</td>\n      <td>5</td>\n      <td>2020</td>\n      <td>Mayo</td>\n      <td>Lunes</td>\n    </tr>\n    <tr>\n      <th>7971</th>\n      <td>8012</td>\n      <td>01/05/2020</td>\n      <td>25754</td>\n      <td>Soacha</td>\n      <td>Cundinamarca</td>\n      <td>Casa</td>\n      <td>49</td>\n      <td>F</td>\n      <td>En Estudio</td>\n      <td>Leve</td>\n      <td>...</td>\n      <td>-</td>\n      <td>-</td>\n      <td>-</td>\n      <td>-</td>\n      <td>-</td>\n      <td>4</td>\n      <td>5</td>\n      <td>2020</td>\n      <td>Mayo</td>\n      <td>Lunes</td>\n    </tr>\n    <tr>\n      <th>7972</th>\n      <td>8013</td>\n      <td>02/05/2020</td>\n      <td>25286</td>\n      <td>Funza</td>\n      <td>Cundinamarca</td>\n      <td>Casa</td>\n      <td>38</td>\n      <td>M</td>\n      <td>En Estudio</td>\n      <td>Leve</td>\n      <td>...</td>\n      <td>-</td>\n      <td>-</td>\n      <td>-</td>\n      <td>-</td>\n      <td>-</td>\n      <td>4</td>\n      <td>5</td>\n      <td>2020</td>\n      <td>Mayo</td>\n      <td>Lunes</td>\n    </tr>\n  </tbody>\n</table>\n<p>5 rows × 46 columns</p>\n</div>"
     },
     "metadata": {},
     "execution_count": 145
    }
   ],
   "source": [
    "# Show dataframe\n",
    "covid19co.tail()"
   ]
  },
  {
   "cell_type": "code",
   "execution_count": 146,
   "metadata": {},
   "outputs": [],
   "source": [
    "# Get Time Line\n",
    "def get_time_line(dfreport):\n",
    "    # Time Line [date, total, accum]\n",
    "    dfreport_time_line = pd.DataFrame(columns=['date', 'total', 'accum'])\n",
    "    dfreport_time_line['date'] = [dti.strftime('%d/%m/%Y') for dti in pd.date_range(start='2020-03-01', end=official_date_report, freq='D')]\n",
    "    # Total by Date\n",
    "    total_by_date = {}\n",
    "    # Group by 'FECHA REPORTE WEB'\n",
    "    group_by_date = dfreport.groupby(['FECHA REPORTE WEB'], sort=False)\n",
    "    # For each date\n",
    "    for date_report in group_by_date.groups.keys():\n",
    "        total_by_date[date_report] = group_by_date.get_group(date_report)['ID DE CASO'].count()\n",
    "    # Update Total by Date\n",
    "    dfreport_time_line['total'] = dfreport_time_line['date'].transform(lambda date: total_by_date[date] if date in total_by_date else 0)\n",
    "    # Update Accumulative Sum Cases Reported by Date\n",
    "    dfreport_time_line['accum'] = dfreport_time_line['total'].cumsum()\n",
    "    # Drop the last one if doesn't have total\n",
    "    #index_empty = dfreport_time_line[dfreport_time_line['date'] == datetime.date.today().strftime('%d/%m/%Y')]\n",
    "    #index_empty = index_empty[index_empty['total'] == 0].index\n",
    "    #dfreport_time_line.drop(index_empty, inplace=True)\n",
    "    # Return\n",
    "    return dfreport_time_line"
   ]
  },
  {
   "cell_type": "code",
   "execution_count": 147,
   "metadata": {},
   "outputs": [
    {
     "output_type": "execute_result",
     "data": {
      "text/plain": "          date  total_reported  accum_reported\n60  30/04/2020             296            6466\n61  01/05/2020             500            6966\n62  02/05/2020             279            7245\n63  03/05/2020             423            7668\n64  04/05/2020             305            7973",
      "text/html": "<div>\n<style scoped>\n    .dataframe tbody tr th:only-of-type {\n        vertical-align: middle;\n    }\n\n    .dataframe tbody tr th {\n        vertical-align: top;\n    }\n\n    .dataframe thead th {\n        text-align: right;\n    }\n</style>\n<table border=\"1\" class=\"dataframe\">\n  <thead>\n    <tr style=\"text-align: right;\">\n      <th></th>\n      <th>date</th>\n      <th>total_reported</th>\n      <th>accum_reported</th>\n    </tr>\n  </thead>\n  <tbody>\n    <tr>\n      <th>60</th>\n      <td>30/04/2020</td>\n      <td>296</td>\n      <td>6466</td>\n    </tr>\n    <tr>\n      <th>61</th>\n      <td>01/05/2020</td>\n      <td>500</td>\n      <td>6966</td>\n    </tr>\n    <tr>\n      <th>62</th>\n      <td>02/05/2020</td>\n      <td>279</td>\n      <td>7245</td>\n    </tr>\n    <tr>\n      <th>63</th>\n      <td>03/05/2020</td>\n      <td>423</td>\n      <td>7668</td>\n    </tr>\n    <tr>\n      <th>64</th>\n      <td>04/05/2020</td>\n      <td>305</td>\n      <td>7973</td>\n    </tr>\n  </tbody>\n</table>\n</div>"
     },
     "metadata": {},
     "execution_count": 147
    }
   ],
   "source": [
    "# Get Reported Time Line\n",
    "reported_time_line = get_time_line(covid19co)\n",
    "# Rename columns\n",
    "reported_time_line.columns = ['date', 'total_reported', 'accum_reported']\n",
    "# Show dataframe\n",
    "reported_time_line.tail()"
   ]
  },
  {
   "cell_type": "code",
   "execution_count": 148,
   "metadata": {},
   "outputs": [
    {
     "output_type": "execute_result",
     "data": {
      "text/plain": "   date_recupered  total_recupered  accum_recupered\n60     30/04/2020                0             1807\n61     01/05/2020                0             1807\n62     02/05/2020                0             1807\n63     03/05/2020                0             1807\n64     04/05/2020                0             1807",
      "text/html": "<div>\n<style scoped>\n    .dataframe tbody tr th:only-of-type {\n        vertical-align: middle;\n    }\n\n    .dataframe tbody tr th {\n        vertical-align: top;\n    }\n\n    .dataframe thead th {\n        text-align: right;\n    }\n</style>\n<table border=\"1\" class=\"dataframe\">\n  <thead>\n    <tr style=\"text-align: right;\">\n      <th></th>\n      <th>date_recupered</th>\n      <th>total_recupered</th>\n      <th>accum_recupered</th>\n    </tr>\n  </thead>\n  <tbody>\n    <tr>\n      <th>60</th>\n      <td>30/04/2020</td>\n      <td>0</td>\n      <td>1807</td>\n    </tr>\n    <tr>\n      <th>61</th>\n      <td>01/05/2020</td>\n      <td>0</td>\n      <td>1807</td>\n    </tr>\n    <tr>\n      <th>62</th>\n      <td>02/05/2020</td>\n      <td>0</td>\n      <td>1807</td>\n    </tr>\n    <tr>\n      <th>63</th>\n      <td>03/05/2020</td>\n      <td>0</td>\n      <td>1807</td>\n    </tr>\n    <tr>\n      <th>64</th>\n      <td>04/05/2020</td>\n      <td>0</td>\n      <td>1807</td>\n    </tr>\n  </tbody>\n</table>\n</div>"
     },
     "metadata": {},
     "execution_count": 148
    }
   ],
   "source": [
    "# Get Recupered Time Line\n",
    "dfrecupered = covid19co[covid19co['ATENCION'] == 'Recuperado']\n",
    "# Get Recupered Time Line\n",
    "recupered_time_line = get_time_line(dfrecupered)\n",
    "# Rename columns\n",
    "recupered_time_line.columns = ['date_recupered', 'total_recupered', 'accum_recupered']\n",
    "# Show dataframe\n",
    "recupered_time_line.tail()"
   ]
  },
  {
   "cell_type": "code",
   "execution_count": 149,
   "metadata": {},
   "outputs": [
    {
     "output_type": "execute_result",
     "data": {
      "text/plain": "   date_deceased  total_deceased  accum_deceased\n60    30/04/2020              15             326\n61    01/05/2020              10             336\n62    02/05/2020              10             346\n63    03/05/2020               8             354\n64    04/05/2020               4             358",
      "text/html": "<div>\n<style scoped>\n    .dataframe tbody tr th:only-of-type {\n        vertical-align: middle;\n    }\n\n    .dataframe tbody tr th {\n        vertical-align: top;\n    }\n\n    .dataframe thead th {\n        text-align: right;\n    }\n</style>\n<table border=\"1\" class=\"dataframe\">\n  <thead>\n    <tr style=\"text-align: right;\">\n      <th></th>\n      <th>date_deceased</th>\n      <th>total_deceased</th>\n      <th>accum_deceased</th>\n    </tr>\n  </thead>\n  <tbody>\n    <tr>\n      <th>60</th>\n      <td>30/04/2020</td>\n      <td>15</td>\n      <td>326</td>\n    </tr>\n    <tr>\n      <th>61</th>\n      <td>01/05/2020</td>\n      <td>10</td>\n      <td>336</td>\n    </tr>\n    <tr>\n      <th>62</th>\n      <td>02/05/2020</td>\n      <td>10</td>\n      <td>346</td>\n    </tr>\n    <tr>\n      <th>63</th>\n      <td>03/05/2020</td>\n      <td>8</td>\n      <td>354</td>\n    </tr>\n    <tr>\n      <th>64</th>\n      <td>04/05/2020</td>\n      <td>4</td>\n      <td>358</td>\n    </tr>\n  </tbody>\n</table>\n</div>"
     },
     "metadata": {},
     "execution_count": 149
    }
   ],
   "source": [
    "# Get Deceased Time Line\n",
    "dfdeceased = covid19co[covid19co['ATENCION'] == 'Fallecido']\n",
    "# Get Deceased Time Line\n",
    "deceased_time_line = get_time_line(dfdeceased)\n",
    "# Rename columns\n",
    "deceased_time_line.columns = ['date_deceased', 'total_deceased', 'accum_deceased']\n",
    "# Show dataframe\n",
    "deceased_time_line.tail()"
   ]
  },
  {
   "cell_type": "code",
   "execution_count": 150,
   "metadata": {},
   "outputs": [
    {
     "output_type": "execute_result",
     "data": {
      "text/plain": "          date  total_reported  accum_reported  total_recupered  \\\n60  30/04/2020             296            6466                0   \n61  01/05/2020             500            6966                0   \n62  02/05/2020             279            7245                0   \n63  03/05/2020             423            7668                0   \n64  04/05/2020             305            7973                0   \n\n    accum_recupered  total_deceased  accum_deceased  \n60             1807              15             326  \n61             1807              10             336  \n62             1807              10             346  \n63             1807               8             354  \n64             1807               4             358  ",
      "text/html": "<div>\n<style scoped>\n    .dataframe tbody tr th:only-of-type {\n        vertical-align: middle;\n    }\n\n    .dataframe tbody tr th {\n        vertical-align: top;\n    }\n\n    .dataframe thead th {\n        text-align: right;\n    }\n</style>\n<table border=\"1\" class=\"dataframe\">\n  <thead>\n    <tr style=\"text-align: right;\">\n      <th></th>\n      <th>date</th>\n      <th>total_reported</th>\n      <th>accum_reported</th>\n      <th>total_recupered</th>\n      <th>accum_recupered</th>\n      <th>total_deceased</th>\n      <th>accum_deceased</th>\n    </tr>\n  </thead>\n  <tbody>\n    <tr>\n      <th>60</th>\n      <td>30/04/2020</td>\n      <td>296</td>\n      <td>6466</td>\n      <td>0</td>\n      <td>1807</td>\n      <td>15</td>\n      <td>326</td>\n    </tr>\n    <tr>\n      <th>61</th>\n      <td>01/05/2020</td>\n      <td>500</td>\n      <td>6966</td>\n      <td>0</td>\n      <td>1807</td>\n      <td>10</td>\n      <td>336</td>\n    </tr>\n    <tr>\n      <th>62</th>\n      <td>02/05/2020</td>\n      <td>279</td>\n      <td>7245</td>\n      <td>0</td>\n      <td>1807</td>\n      <td>10</td>\n      <td>346</td>\n    </tr>\n    <tr>\n      <th>63</th>\n      <td>03/05/2020</td>\n      <td>423</td>\n      <td>7668</td>\n      <td>0</td>\n      <td>1807</td>\n      <td>8</td>\n      <td>354</td>\n    </tr>\n    <tr>\n      <th>64</th>\n      <td>04/05/2020</td>\n      <td>305</td>\n      <td>7973</td>\n      <td>0</td>\n      <td>1807</td>\n      <td>4</td>\n      <td>358</td>\n    </tr>\n  </tbody>\n</table>\n</div>"
     },
     "metadata": {},
     "execution_count": 150
    }
   ],
   "source": [
    "# Merge Time Lines\n",
    "covid19co_time_line = pd.concat([reported_time_line, recupered_time_line, deceased_time_line], axis=1, sort=False)\n",
    "# Delete Columns\n",
    "covid19co_time_line.drop(columns=['date_recupered', 'date_deceased'], inplace=True)\n",
    "# Show dataframe\n",
    "covid19co_time_line.tail()"
   ]
  },
  {
   "cell_type": "markdown",
   "metadata": {},
   "source": [
    "## Time Line Reported, Recupered and Deceased\n",
    "> ***Output file***: covid19co_time_line.csv"
   ]
  },
  {
   "cell_type": "code",
   "execution_count": 151,
   "metadata": {},
   "outputs": [],
   "source": [
    "# Save dataframe\n",
    "covid19co_time_line.to_csv(os.path.join(OUTPUT_DIR, 'covid19co_time_line.csv'), index=False)"
   ]
  },
  {
   "cell_type": "markdown",
   "metadata": {},
   "source": [
    "---"
   ]
  },
  {
   "cell_type": "markdown",
   "metadata": {},
   "source": [
    "## Time Line Reported, Recupered and Deceased by City"
   ]
  },
  {
   "cell_type": "code",
   "execution_count": 152,
   "metadata": {},
   "outputs": [
    {
     "output_type": "execute_result",
     "data": {
      "text/plain": "233"
     },
     "metadata": {},
     "execution_count": 152
    }
   ],
   "source": [
    "# List of Cities\n",
    "cities = list(set(covid19co['CIUDAD DE UBICACION'].values))\n",
    "# Show total cities\n",
    "len(cities)"
   ]
  },
  {
   "cell_type": "code",
   "execution_count": 153,
   "metadata": {},
   "outputs": [],
   "source": [
    "# Time Line by City\n",
    "time_line_by_city = {}\n",
    "# For each city\n",
    "for city in cities:\n",
    "    # Filter by City\n",
    "    covid19co_city = covid19co[covid19co['CIUDAD DE UBICACION'] == city]\n",
    "    # Get Reported Time Line\n",
    "    reported_time_line = get_time_line(covid19co_city)\n",
    "    # Rename columns\n",
    "    reported_time_line.columns = ['date', 'total_reported', 'accum_reported']\n",
    "    # Get Recupered Time Line\n",
    "    dfrecupered = covid19co_city[covid19co_city['ATENCION'] == 'Recuperado']\n",
    "    # Get Recupered Time Line\n",
    "    recupered_time_line = get_time_line(dfrecupered)\n",
    "    # Rename columns\n",
    "    recupered_time_line.columns = ['date_recupered', 'total_recupered', 'accum_recupered']\n",
    "    # Get Deceased Time Line\n",
    "    dfdeceased = covid19co_city[covid19co_city['ATENCION'] == 'Fallecido']\n",
    "    # Get Deceased Time Line\n",
    "    deceased_time_line = get_time_line(dfdeceased)\n",
    "    # Rename columns\n",
    "    deceased_time_line.columns = ['date_deceased', 'total_deceased', 'accum_deceased']\n",
    "    # Merge Time Lines\n",
    "    covid19co_time_line = pd.concat([reported_time_line, recupered_time_line, deceased_time_line], axis=1, sort=False)\n",
    "    # Delete Columns\n",
    "    covid19co_time_line.drop(columns=['date_recupered', 'date_deceased'], inplace=True)\n",
    "    # Create key city\n",
    "    key_city = ''.join(x for x in re.sub('[^A-Za-z0-9 ]+', '', unidecode.unidecode(city)).title() if not x.isspace())\n",
    "    # Add to dict\n",
    "    time_line_by_city[key_city] = covid19co_time_line"
   ]
  },
  {
   "cell_type": "code",
   "execution_count": 154,
   "metadata": {},
   "outputs": [],
   "source": [
    "# Show time line by city keys\n",
    "#list(time_line_by_city.keys())"
   ]
  },
  {
   "cell_type": "code",
   "execution_count": 155,
   "metadata": {},
   "outputs": [
    {
     "output_type": "execute_result",
     "data": {
      "text/plain": "          date  total_reported  accum_reported  total_recupered  \\\n60  30/04/2020              37             750                0   \n61  01/05/2020              48             798                0   \n62  02/05/2020              41             839                0   \n63  03/05/2020               2             841                0   \n64  04/05/2020              26             867                0   \n\n    accum_recupered  total_deceased  accum_deceased  \n60              194               1              49  \n61              194               1              50  \n62              194               0              50  \n63              194               0              50  \n64              194               0              50  ",
      "text/html": "<div>\n<style scoped>\n    .dataframe tbody tr th:only-of-type {\n        vertical-align: middle;\n    }\n\n    .dataframe tbody tr th {\n        vertical-align: top;\n    }\n\n    .dataframe thead th {\n        text-align: right;\n    }\n</style>\n<table border=\"1\" class=\"dataframe\">\n  <thead>\n    <tr style=\"text-align: right;\">\n      <th></th>\n      <th>date</th>\n      <th>total_reported</th>\n      <th>accum_reported</th>\n      <th>total_recupered</th>\n      <th>accum_recupered</th>\n      <th>total_deceased</th>\n      <th>accum_deceased</th>\n    </tr>\n  </thead>\n  <tbody>\n    <tr>\n      <th>60</th>\n      <td>30/04/2020</td>\n      <td>37</td>\n      <td>750</td>\n      <td>0</td>\n      <td>194</td>\n      <td>1</td>\n      <td>49</td>\n    </tr>\n    <tr>\n      <th>61</th>\n      <td>01/05/2020</td>\n      <td>48</td>\n      <td>798</td>\n      <td>0</td>\n      <td>194</td>\n      <td>1</td>\n      <td>50</td>\n    </tr>\n    <tr>\n      <th>62</th>\n      <td>02/05/2020</td>\n      <td>41</td>\n      <td>839</td>\n      <td>0</td>\n      <td>194</td>\n      <td>0</td>\n      <td>50</td>\n    </tr>\n    <tr>\n      <th>63</th>\n      <td>03/05/2020</td>\n      <td>2</td>\n      <td>841</td>\n      <td>0</td>\n      <td>194</td>\n      <td>0</td>\n      <td>50</td>\n    </tr>\n    <tr>\n      <th>64</th>\n      <td>04/05/2020</td>\n      <td>26</td>\n      <td>867</td>\n      <td>0</td>\n      <td>194</td>\n      <td>0</td>\n      <td>50</td>\n    </tr>\n  </tbody>\n</table>\n</div>"
     },
     "metadata": {},
     "execution_count": 155
    }
   ],
   "source": [
    "# Show dataframe\n",
    "time_line_by_city['Cali'].tail()"
   ]
  },
  {
   "cell_type": "markdown",
   "metadata": {},
   "source": [
    "## Time Line Reported, Recupered and Deceased by City\n",
    "> ***Output file***: covid19co_time_line_{key_city}.csv"
   ]
  },
  {
   "cell_type": "code",
   "execution_count": 156,
   "metadata": {},
   "outputs": [],
   "source": [
    "for key_city in time_line_by_city:\n",
    "    # Save dataframe\n",
    "    time_line_by_city[key_city].to_csv(os.path.join(OUTPUT_DIR, 'covid19co_time_line_' + key_city + '.csv'), index=False)"
   ]
  },
  {
   "cell_type": "markdown",
   "metadata": {},
   "source": [
    "---"
   ]
  },
  {
   "cell_type": "markdown",
   "metadata": {},
   "source": [
    "## Time Line Reported, Recupered and Deceased by Department"
   ]
  },
  {
   "cell_type": "code",
   "execution_count": 157,
   "metadata": {},
   "outputs": [
    {
     "output_type": "execute_result",
     "data": {
      "text/plain": "31"
     },
     "metadata": {},
     "execution_count": 157
    }
   ],
   "source": [
    "# List of Departments\n",
    "departs = list(set(covid19co['DEPARTAMENTO O DISTRITO '].values))\n",
    "# Show total departments\n",
    "len(departs)"
   ]
  },
  {
   "cell_type": "code",
   "execution_count": 158,
   "metadata": {},
   "outputs": [],
   "source": [
    "# Time Line by Department\n",
    "time_line_by_depto = {}\n",
    "# For each deparment\n",
    "for deparment in departs:\n",
    "    # Filter by Department\n",
    "    covid19co_depto = covid19co[covid19co['DEPARTAMENTO O DISTRITO '] == deparment]\n",
    "    # Get Reported Time Line\n",
    "    reported_time_line = get_time_line(covid19co_depto)\n",
    "    # Rename columns\n",
    "    reported_time_line.columns = ['date', 'total_reported', 'accum_reported']\n",
    "    # Get Recupered Time Line\n",
    "    dfrecupered = covid19co_depto[covid19co_depto['ATENCION'] == 'Recuperado']\n",
    "    # Get Recupered Time Line\n",
    "    recupered_time_line = get_time_line(dfrecupered)\n",
    "    # Rename columns\n",
    "    recupered_time_line.columns = ['date_recupered', 'total_recupered', 'accum_recupered']\n",
    "    # Get Deceased Time Line\n",
    "    dfdeceased = covid19co_depto[covid19co_depto['ATENCION'] == 'Fallecido']\n",
    "    # Get Deceased Time Line\n",
    "    deceased_time_line = get_time_line(dfdeceased)\n",
    "    # Rename columns\n",
    "    deceased_time_line.columns = ['date_deceased', 'total_deceased', 'accum_deceased']\n",
    "    # Merge Time Lines\n",
    "    covid19co_time_line = pd.concat([reported_time_line, recupered_time_line, deceased_time_line], axis=1, sort=False)\n",
    "    # Delete Columns\n",
    "    covid19co_time_line.drop(columns=['date_recupered', 'date_deceased'], inplace=True)\n",
    "    # Create key depto\n",
    "    key_depto = ''.join(x for x in re.sub('[^A-Za-z0-9 ]+', '', unidecode.unidecode(deparment)).title() if not x.isspace())\n",
    "    # Add to dict\n",
    "    time_line_by_depto[key_depto] = covid19co_time_line"
   ]
  },
  {
   "cell_type": "code",
   "execution_count": 159,
   "metadata": {},
   "outputs": [],
   "source": [
    "# Show time line by deparment keys\n",
    "#list(time_line_by_depto.keys())"
   ]
  },
  {
   "cell_type": "code",
   "execution_count": 160,
   "metadata": {},
   "outputs": [
    {
     "output_type": "execute_result",
     "data": {
      "text/plain": "          date  total_reported  accum_reported  total_recupered  \\\n60  30/04/2020              39             917                0   \n61  01/05/2020              63             980                0   \n62  02/05/2020              42            1022                0   \n63  03/05/2020               2            1024                0   \n64  04/05/2020              34            1058                0   \n\n    accum_recupered  total_deceased  accum_deceased  \n60              250               2              61  \n61              250               2              63  \n62              250               0              63  \n63              250               0              63  \n64              250               0              63  ",
      "text/html": "<div>\n<style scoped>\n    .dataframe tbody tr th:only-of-type {\n        vertical-align: middle;\n    }\n\n    .dataframe tbody tr th {\n        vertical-align: top;\n    }\n\n    .dataframe thead th {\n        text-align: right;\n    }\n</style>\n<table border=\"1\" class=\"dataframe\">\n  <thead>\n    <tr style=\"text-align: right;\">\n      <th></th>\n      <th>date</th>\n      <th>total_reported</th>\n      <th>accum_reported</th>\n      <th>total_recupered</th>\n      <th>accum_recupered</th>\n      <th>total_deceased</th>\n      <th>accum_deceased</th>\n    </tr>\n  </thead>\n  <tbody>\n    <tr>\n      <th>60</th>\n      <td>30/04/2020</td>\n      <td>39</td>\n      <td>917</td>\n      <td>0</td>\n      <td>250</td>\n      <td>2</td>\n      <td>61</td>\n    </tr>\n    <tr>\n      <th>61</th>\n      <td>01/05/2020</td>\n      <td>63</td>\n      <td>980</td>\n      <td>0</td>\n      <td>250</td>\n      <td>2</td>\n      <td>63</td>\n    </tr>\n    <tr>\n      <th>62</th>\n      <td>02/05/2020</td>\n      <td>42</td>\n      <td>1022</td>\n      <td>0</td>\n      <td>250</td>\n      <td>0</td>\n      <td>63</td>\n    </tr>\n    <tr>\n      <th>63</th>\n      <td>03/05/2020</td>\n      <td>2</td>\n      <td>1024</td>\n      <td>0</td>\n      <td>250</td>\n      <td>0</td>\n      <td>63</td>\n    </tr>\n    <tr>\n      <th>64</th>\n      <td>04/05/2020</td>\n      <td>34</td>\n      <td>1058</td>\n      <td>0</td>\n      <td>250</td>\n      <td>0</td>\n      <td>63</td>\n    </tr>\n  </tbody>\n</table>\n</div>"
     },
     "metadata": {},
     "execution_count": 160
    }
   ],
   "source": [
    "# Show dataframe\n",
    "time_line_by_depto['ValleDelCauca'].tail()"
   ]
  },
  {
   "cell_type": "markdown",
   "metadata": {},
   "source": [
    "## Time Line Reported, Recupered and Deceased by Department\n",
    "> ***Output file***: covid19co_time_line_{key_depto}.csv"
   ]
  },
  {
   "cell_type": "code",
   "execution_count": 161,
   "metadata": {},
   "outputs": [],
   "source": [
    "for key_depto in time_line_by_depto:\n",
    "    # Save dataframe\n",
    "    time_line_by_depto[key_depto].to_csv(os.path.join(OUTPUT_DIR, 'covid19co_time_line_' + key_depto + '.csv'), index=False)"
   ]
  },
  {
   "cell_type": "markdown",
   "metadata": {},
   "source": [
    "---"
   ]
  },
  {
   "cell_type": "markdown",
   "metadata": {},
   "source": [
    "## Time Line Samples Processed"
   ]
  },
  {
   "cell_type": "code",
   "execution_count": 162,
   "metadata": {},
   "outputs": [
    {
     "output_type": "execute_result",
     "data": {
      "text/plain": "        FECHA  MUESTRAS PROCESADAS POR CORTE\n0           -                            601\n1  05/03/2020                            636\n2  06/03/2020                            739\n3  07/03/2020                            810\n4  08/03/2020                            813",
      "text/html": "<div>\n<style scoped>\n    .dataframe tbody tr th:only-of-type {\n        vertical-align: middle;\n    }\n\n    .dataframe tbody tr th {\n        vertical-align: top;\n    }\n\n    .dataframe thead th {\n        text-align: right;\n    }\n</style>\n<table border=\"1\" class=\"dataframe\">\n  <thead>\n    <tr style=\"text-align: right;\">\n      <th></th>\n      <th>FECHA</th>\n      <th>MUESTRAS PROCESADAS POR CORTE</th>\n    </tr>\n  </thead>\n  <tbody>\n    <tr>\n      <th>0</th>\n      <td>-</td>\n      <td>601</td>\n    </tr>\n    <tr>\n      <th>1</th>\n      <td>05/03/2020</td>\n      <td>636</td>\n    </tr>\n    <tr>\n      <th>2</th>\n      <td>06/03/2020</td>\n      <td>739</td>\n    </tr>\n    <tr>\n      <th>3</th>\n      <td>07/03/2020</td>\n      <td>810</td>\n    </tr>\n    <tr>\n      <th>4</th>\n      <td>08/03/2020</td>\n      <td>813</td>\n    </tr>\n  </tbody>\n</table>\n</div>"
     },
     "metadata": {},
     "execution_count": 162
    }
   ],
   "source": [
    "# Show dataframe\n",
    "covid19co_samples_processed.head()"
   ]
  },
  {
   "cell_type": "code",
   "execution_count": 163,
   "metadata": {},
   "outputs": [
    {
     "output_type": "execute_result",
     "data": {
      "text/plain": "         date  accum_samples\n0           -            601\n1  05/03/2020            636\n2  06/03/2020            739\n3  07/03/2020            810\n4  08/03/2020            813",
      "text/html": "<div>\n<style scoped>\n    .dataframe tbody tr th:only-of-type {\n        vertical-align: middle;\n    }\n\n    .dataframe tbody tr th {\n        vertical-align: top;\n    }\n\n    .dataframe thead th {\n        text-align: right;\n    }\n</style>\n<table border=\"1\" class=\"dataframe\">\n  <thead>\n    <tr style=\"text-align: right;\">\n      <th></th>\n      <th>date</th>\n      <th>accum_samples</th>\n    </tr>\n  </thead>\n  <tbody>\n    <tr>\n      <th>0</th>\n      <td>-</td>\n      <td>601</td>\n    </tr>\n    <tr>\n      <th>1</th>\n      <td>05/03/2020</td>\n      <td>636</td>\n    </tr>\n    <tr>\n      <th>2</th>\n      <td>06/03/2020</td>\n      <td>739</td>\n    </tr>\n    <tr>\n      <th>3</th>\n      <td>07/03/2020</td>\n      <td>810</td>\n    </tr>\n    <tr>\n      <th>4</th>\n      <td>08/03/2020</td>\n      <td>813</td>\n    </tr>\n  </tbody>\n</table>\n</div>"
     },
     "metadata": {},
     "execution_count": 163
    }
   ],
   "source": [
    "# Rename columns\n",
    "covid19co_samples_processed.columns = ['date', 'accum_samples']\n",
    "# Fill NaN\n",
    "covid19co_samples_processed['accum_samples'].fillna(0, inplace=True)\n",
    "# Update column type\n",
    "covid19co_samples_processed['accum_samples'] = covid19co_samples_processed['accum_samples'].astype('int64')\n",
    "# Show dataframe\n",
    "covid19co_samples_processed.head()"
   ]
  },
  {
   "cell_type": "code",
   "execution_count": 164,
   "metadata": {},
   "outputs": [
    {
     "output_type": "execute_result",
     "data": {
      "text/plain": "          date   accum\n60  30/04/2020  104657\n61  01/05/2020  108950\n62  02/05/2020  114602\n63  03/05/2020  118801\n64  04/05/2020  123029",
      "text/html": "<div>\n<style scoped>\n    .dataframe tbody tr th:only-of-type {\n        vertical-align: middle;\n    }\n\n    .dataframe tbody tr th {\n        vertical-align: top;\n    }\n\n    .dataframe thead th {\n        text-align: right;\n    }\n</style>\n<table border=\"1\" class=\"dataframe\">\n  <thead>\n    <tr style=\"text-align: right;\">\n      <th></th>\n      <th>date</th>\n      <th>accum</th>\n    </tr>\n  </thead>\n  <tbody>\n    <tr>\n      <th>60</th>\n      <td>30/04/2020</td>\n      <td>104657</td>\n    </tr>\n    <tr>\n      <th>61</th>\n      <td>01/05/2020</td>\n      <td>108950</td>\n    </tr>\n    <tr>\n      <th>62</th>\n      <td>02/05/2020</td>\n      <td>114602</td>\n    </tr>\n    <tr>\n      <th>63</th>\n      <td>03/05/2020</td>\n      <td>118801</td>\n    </tr>\n    <tr>\n      <th>64</th>\n      <td>04/05/2020</td>\n      <td>123029</td>\n    </tr>\n  </tbody>\n</table>\n</div>"
     },
     "metadata": {},
     "execution_count": 164
    }
   ],
   "source": [
    "# Time Line [date, accum]\n",
    "covid19co_samples_time_line = pd.DataFrame(columns=['date', 'accum'])\n",
    "covid19co_samples_time_line['date'] = [dti.strftime('%d/%m/%Y') for dti in pd.date_range(start='2020-03-01', end=official_date_report, freq='D')]\n",
    "# Get Accumulative Samples\n",
    "def get_accum(date_sample):\n",
    "    accum = covid19co_samples_processed[covid19co_samples_processed['date'] == date_sample]['accum_samples'].values\n",
    "    return accum[0] if len(accum) > 0 else 0\n",
    "# Update accum\n",
    "covid19co_samples_time_line['accum'] = covid19co_samples_time_line['date'].transform(lambda value: get_accum(value))\n",
    "# Add samples without date\n",
    "#covid19co_samples_time_line.iloc[2] = list(covid19co_samples_processed.iloc[0])\n",
    "# Show dataframe\n",
    "covid19co_samples_time_line.tail()"
   ]
  },
  {
   "cell_type": "markdown",
   "metadata": {},
   "source": [
    "## Time Line Samples Processed\n",
    "> ***Output file***: covid19co_samples_time_line.csv"
   ]
  },
  {
   "cell_type": "code",
   "execution_count": 165,
   "metadata": {},
   "outputs": [],
   "source": [
    "# Save dataframe\n",
    "covid19co_samples_time_line.to_csv(os.path.join(OUTPUT_DIR, 'covid19co_samples_time_line.csv'), index=False)"
   ]
  },
  {
   "cell_type": "markdown",
   "metadata": {},
   "source": [
    "---"
   ]
  },
  {
   "cell_type": "code",
   "execution_count": null,
   "metadata": {},
   "outputs": [],
   "source": []
  }
 ],
 "metadata": {
  "language_info": {
   "codemirror_mode": {
    "name": "ipython",
    "version": 3
   },
   "file_extension": ".py",
   "mimetype": "text/x-python",
   "name": "python",
   "nbconvert_exporter": "python",
   "pygments_lexer": "ipython3",
   "version": "3.6.9-final"
  },
  "orig_nbformat": 2,
  "kernelspec": {
   "name": "python36964bitvenvvenv83dfe23e093e47f3b91ee1d0340b51b2",
   "display_name": "Python 3.6.9 64-bit ('.venv': venv)"
  }
 },
 "nbformat": 4,
 "nbformat_minor": 2
}